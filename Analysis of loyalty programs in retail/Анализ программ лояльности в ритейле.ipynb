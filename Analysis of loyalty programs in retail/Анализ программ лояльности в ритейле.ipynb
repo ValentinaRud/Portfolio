{
 "cells": [
  {
   "cell_type": "markdown",
   "id": "217cd0b4",
   "metadata": {
    "toc": true
   },
   "source": [
    "<h1>Table of Contents<span class=\"tocSkip\"></span></h1>\n",
    "<div class=\"toc\"><ul class=\"toc-item\"><li><span><a href=\"#Описание-данных-и-проекта\" data-toc-modified-id=\"Описание-данных-и-проекта-1\"><span class=\"toc-item-num\">1&nbsp;&nbsp;</span>Описание данных и проекта</a></span><ul class=\"toc-item\"><li><span><a href=\"#Описание-проекта\" data-toc-modified-id=\"Описание-проекта-1.1\"><span class=\"toc-item-num\">1.1&nbsp;&nbsp;</span>Описание проекта</a></span></li></ul></li><li><span><a href=\"#Откроем-файлы-с-данными-и-изучим-общую-информацию.\" data-toc-modified-id=\"Откроем-файлы-с-данными-и-изучим-общую-информацию.-2\"><span class=\"toc-item-num\">2&nbsp;&nbsp;</span>Откроем файлы с данными и изучим общую информацию.</a></span></li><li><span><a href=\"#Предобработка-данных\" data-toc-modified-id=\"Предобработка-данных-3\"><span class=\"toc-item-num\">3&nbsp;&nbsp;</span>Предобработка данных</a></span><ul class=\"toc-item\"><li><span><a href=\"#Переименование-столбцов\" data-toc-modified-id=\"Переименование-столбцов-3.1\"><span class=\"toc-item-num\">3.1&nbsp;&nbsp;</span>Переименование столбцов</a></span></li><li><span><a href=\"#Удаление-дубликатов\" data-toc-modified-id=\"Удаление-дубликатов-3.2\"><span class=\"toc-item-num\">3.2&nbsp;&nbsp;</span>Удаление дубликатов</a></span></li><li><span><a href=\"#Обработка-пропущенных-значений\" data-toc-modified-id=\"Обработка-пропущенных-значений-3.3\"><span class=\"toc-item-num\">3.3&nbsp;&nbsp;</span>Обработка пропущенных значений</a></span></li><li><span><a href=\"#Преобразование-типов-данных\" data-toc-modified-id=\"Преобразование-типов-данных-3.4\"><span class=\"toc-item-num\">3.4&nbsp;&nbsp;</span>Преобразование типов данных</a></span></li><li><span><a href=\"#Обработка-аномальных-значений\" data-toc-modified-id=\"Обработка-аномальных-значений-3.5\"><span class=\"toc-item-num\">3.5&nbsp;&nbsp;</span>Обработка аномальных значений</a></span></li></ul></li><li><span><a href=\"#Исследовательский-анализ-данных\" data-toc-modified-id=\"Исследовательский-анализ-данных-4\"><span class=\"toc-item-num\">4&nbsp;&nbsp;</span>Исследовательский анализ данных</a></span><ul class=\"toc-item\"><li><span><a href=\"#Определение-анализируемого-периода\" data-toc-modified-id=\"Определение-анализируемого-периода-4.1\"><span class=\"toc-item-num\">4.1&nbsp;&nbsp;</span>Определение анализируемого периода</a></span></li><li><span><a href=\"#Определение-стоимости-единицы-товара\" data-toc-modified-id=\"Определение-стоимости-единицы-товара-4.2\"><span class=\"toc-item-num\">4.2&nbsp;&nbsp;</span>Определение стоимости единицы товара</a></span></li><li><span><a href=\"#Объединение-таблиц-по-id-товара\" data-toc-modified-id=\"Объединение-таблиц-по-id-товара-4.3\"><span class=\"toc-item-num\">4.3&nbsp;&nbsp;</span>Объединение таблиц по id товара</a></span></li><li><span><a href=\"#Средний-чек\" data-toc-modified-id=\"Средний-чек-4.4\"><span class=\"toc-item-num\">4.4&nbsp;&nbsp;</span>Средний чек</a></span></li><li><span><a href=\"#Количество-покупок-по-дням\" data-toc-modified-id=\"Количество-покупок-по-дням-4.5\"><span class=\"toc-item-num\">4.5&nbsp;&nbsp;</span>Количество покупок по дням</a></span></li><li><span><a href=\"#Среднее-количество-товаров-на-1-покупку\" data-toc-modified-id=\"Среднее-количество-товаров-на-1-покупку-4.6\"><span class=\"toc-item-num\">4.6&nbsp;&nbsp;</span>Среднее количество товаров на 1 покупку</a></span></li><li><span><a href=\"#Распределение-покупок-по-дням-недели\" data-toc-modified-id=\"Распределение-покупок-по-дням-недели-4.7\"><span class=\"toc-item-num\">4.7&nbsp;&nbsp;</span>Распределение покупок по дням недели</a></span></li><li><span><a href=\"#Распределение-покупок-по-магазинам\" data-toc-modified-id=\"Распределение-покупок-по-магазинам-4.8\"><span class=\"toc-item-num\">4.8&nbsp;&nbsp;</span>Распределение покупок по магазинам</a></span></li></ul></li><li><span><a href=\"#Анализ-программы-лояльности\" data-toc-modified-id=\"Анализ-программы-лояльности-5\"><span class=\"toc-item-num\">5&nbsp;&nbsp;</span>Анализ программы лояльности</a></span><ul class=\"toc-item\"><li><span><a href=\"#Выбор-основной-ритейл-метрики.\" data-toc-modified-id=\"Выбор-основной-ритейл-метрики.-5.1\"><span class=\"toc-item-num\">5.1&nbsp;&nbsp;</span>Выбор основной ритейл-метрики.</a></span></li><li><span><a href=\"#Расчет-ACV-(Average-Client-Value)-средней-потребительской-ценности-клиента.\" data-toc-modified-id=\"Расчет-ACV-(Average-Client-Value)-средней-потребительской-ценности-клиента.-5.2\"><span class=\"toc-item-num\">5.2&nbsp;&nbsp;</span>Расчет ACV (Average Client Value) средней потребительской ценности клиента.</a></span></li><li><span><a href=\"#Cколько-всего-покупателей-участвуют-в-программе-лояльности\" data-toc-modified-id=\"Cколько-всего-покупателей-участвуют-в-программе-лояльности-5.3\"><span class=\"toc-item-num\">5.3&nbsp;&nbsp;</span>Cколько всего покупателей участвуют в программе лояльности</a></span></li><li><span><a href=\"#Расчет-коэффициентов-удержания-клиентов\" data-toc-modified-id=\"Расчет-коэффициентов-удержания-клиентов-5.4\"><span class=\"toc-item-num\">5.4&nbsp;&nbsp;</span>Расчет коэффициентов удержания клиентов</a></span></li><li><span><a href=\"#Упущенная-выгода-при-применении-программы-лояльности\" data-toc-modified-id=\"Упущенная-выгода-при-применении-программы-лояльности-5.5\"><span class=\"toc-item-num\">5.5&nbsp;&nbsp;</span>Упущенная выгода при применении программы лояльности</a></span></li><li><span><a href=\"#Найдем-топ-10-покупателей,-которые-сделали-покупки-на-наибольшую-общую-сумму-за-все-анализируемое-время\" data-toc-modified-id=\"Найдем-топ-10-покупателей,-которые-сделали-покупки-на-наибольшую-общую-сумму-за-все-анализируемое-время-5.6\"><span class=\"toc-item-num\">5.6&nbsp;&nbsp;</span>Найдем топ 10 покупателей, которые сделали покупки на наибольшую общую сумму за все анализируемое время</a></span></li><li><span><a href=\"#Найдем-топ-10-покупателей,с-наибольшим-количеством-покупок-за-все-анализируемое-время\" data-toc-modified-id=\"Найдем-топ-10-покупателей,с-наибольшим-количеством-покупок-за-все-анализируемое-время-5.7\"><span class=\"toc-item-num\">5.7&nbsp;&nbsp;</span>Найдем топ 10 покупателей,с наибольшим количеством покупок за все анализируемое время</a></span></li><li><span><a href=\"#Средний-чек-в-зависимости-от-участия-в-программе-лояльности\" data-toc-modified-id=\"Средний-чек-в-зависимости-от-участия-в-программе-лояльности-5.8\"><span class=\"toc-item-num\">5.8&nbsp;&nbsp;</span>Средний чек в зависимости от участия в программе лояльности</a></span></li><li><span><a href=\"#Среднее-количество-покупок-в-месяц,--в-зависимости-от-участия-в-программе-лояльности\" data-toc-modified-id=\"Среднее-количество-покупок-в-месяц,--в-зависимости-от-участия-в-программе-лояльности-5.9\"><span class=\"toc-item-num\">5.9&nbsp;&nbsp;</span>Среднее количество покупок в месяц,  в зависимости от участия в программе лояльности</a></span></li><li><span><a href=\"#Среднее-количество-товаров-в-чеке,-в-зависимости-от-участия-в-программе-лояльности\" data-toc-modified-id=\"Среднее-количество-товаров-в-чеке,-в-зависимости-от-участия-в-программе-лояльности-5.10\"><span class=\"toc-item-num\">5.10&nbsp;&nbsp;</span>Среднее количество товаров в чеке, в зависимости от участия в программе лояльности</a></span></li></ul></li><li><span><a href=\"#Проверка-статистических-гипотез\" data-toc-modified-id=\"Проверка-статистических-гипотез-6\"><span class=\"toc-item-num\">6&nbsp;&nbsp;</span>Проверка статистических гипотез</a></span><ul class=\"toc-item\"><li><span><a href=\"#Проверить-гипотезу:-средний-чек-участников-программы-лояльности-выше,-чем-у-остальных-покупателей.\" data-toc-modified-id=\"Проверить-гипотезу:-средний-чек-участников-программы-лояльности-выше,-чем-у-остальных-покупателей.-6.1\"><span class=\"toc-item-num\">6.1&nbsp;&nbsp;</span>Проверить гипотезу: средний чек участников программы лояльности выше, чем у остальных покупателей.</a></span></li><li><span><a href=\"#Проверить-гипотезу:-ACV-за-месяц-участников-программы-лояльности-равен-ACV-остальных-покупателей.\" data-toc-modified-id=\"Проверить-гипотезу:-ACV-за-месяц-участников-программы-лояльности-равен-ACV-остальных-покупателей.-6.2\"><span class=\"toc-item-num\">6.2&nbsp;&nbsp;</span>Проверить гипотезу: ACV за месяц участников программы лояльности равен ACV остальных покупателей.</a></span></li></ul></li><li><span><a href=\"#Выводы-и-рекомендации-для-заказчика-по-результатам-проведенного-исследования\" data-toc-modified-id=\"Выводы-и-рекомендации-для-заказчика-по-результатам-проведенного-исследования-7\"><span class=\"toc-item-num\">7&nbsp;&nbsp;</span>Выводы и рекомендации для заказчика по результатам проведенного исследования</a></span></li></ul></div>"
   ]
  },
  {
   "cell_type": "markdown",
   "id": "be04b472",
   "metadata": {},
   "source": [
    "## Описание данных и проекта "
   ]
  },
  {
   "cell_type": "markdown",
   "id": "050fcb67",
   "metadata": {},
   "source": [
    "### Описание проекта\n",
    "**Ритейл — Анализ программы лояльности**\n",
    "\n",
    "**Краткое описания проекта:**   \n",
    "Предстоит исследовать программу лояльности магазина строительных материалов. Все покупатели могут получить доступ в магазин с использованием персональных карт. За 200 рублей в месяц они могут стать участниками программы лояльности. В программу включены скидки, специальные предложения, подарки.\n",
    "\n",
    "**Цели и задачи:**  \n",
    "\n",
    "Проанализировать программу лояльности магазина. На основании проведенного анализа будет принято решение о целесообразности дальнейшего применения программы лояльности. \n",
    "\n",
    "\n",
    "**Описание исходных данных:**  \n",
    "В ходе выполнения проекта мы будем анализировать 2 датасета. Первый датасет содержит данные о покупках в магазине строительных материалов, включая дату покупки, количество товара, id покупателя и магазина, а также информацию о том, участвует ли покупатель в программе лояльности. Второй датасет содержит информацию о стоимости каждой единице товара.   \n",
    "\n",
    "**План анализа данных:**   \n",
    "\n",
    "[**Шаг 1 Загрузить данные и изучить общую информацию**](#step1)    \n",
    "[**Шаг 2 Выполнить предобработку данных:**](#step2)  \n",
    "  - Изменить названия столбцов на более понятные, привести все буквы к нижнему регистру, сделать запись с использованием \"змеиного регистра\"\n",
    "  - Провести проверку датафреймов на наличие явных дубликатов, удалить их\n",
    "  - Провести проверку датафреймов на наличие неявных дубликатов \n",
    "  - Обработать пропущенные значения\n",
    "  - Изменить типы данных в некоторых столбцах\n",
    "  - Обработать аномальные значения\n",
    "\n",
    "[**Шаг 3 Провести исследовательский анализ данных:**](#step3) \n",
    "\n",
    "- Установить анализируемый период в данных\n",
    "- Определить стоимость единицы товара\n",
    "- Объединить таблицы по id товара \n",
    "- Найти средний чек по всем данным\n",
    "- Посчитать количество покупок по дням\n",
    "- Найти среднее количество товаров на 1 покупку\n",
    "- Проанализировать распределение покупок по дням недели и по магазинам\n",
    "\n",
    "[**Шаг 4 Провести анализ программы лояльности.**](#step4)\n",
    "- Выбрать основную ритейл-метрику\n",
    "- Произвести расчет ACV (Average Client Value) средней потребительской ценности клиента\n",
    "- Рассчитать коэффициенты удержания клиентов\n",
    "- Посчитать упущенную выгоду при применении программы лояльности\n",
    "- Найти топ 10 покупателей, которые сделали покупки на наибольшую общую сумму за все анализируемое время\n",
    "- Найти топ 10 покупателей, с наибольшим количеством покупок за все анализируемое время\n",
    "- Определить средний чек в зависимости от участия в программе лояльности\n",
    "- Определить среднее количество покупок в месяц и товаров в чеке, в зависимости от участия в программе лояльности\n",
    "\n",
    "\n",
    "[**Шаг 5 Сформулировать и проверить статистические гипотезы.**](#step5) \n",
    "- Проверить гипотезу: средний чек участников программы лояльности выше, чем у остальных покупателей.\n",
    "- Проверить гипотезу: ACV за месяц участников программы лояльности равен ACV остальных покупателей.\n",
    "\n",
    "[**Шаг 6 Подготовить выводы и рекомендации для заказчика по результатам проведенного исследования**](#step6) \n"
   ]
  },
  {
   "cell_type": "markdown",
   "id": "4277a5cb",
   "metadata": {},
   "source": [
    "<a id=\"step1\"></a> \n",
    "## Откроем файлы с данными и изучим общую информацию."
   ]
  },
  {
   "cell_type": "code",
   "execution_count": 278,
   "id": "6067894b",
   "metadata": {},
   "outputs": [],
   "source": [
    "import pandas as pd #импортируем библиотеки\n",
    "import numpy as np\n",
    "import matplotlib\n",
    "import matplotlib.pyplot as plt\n",
    "import seaborn as sns\n",
    "from scipy import stats as st\n",
    "from datetime import datetime, timedelta\n",
    "import scipy.stats as stats\n",
    "import math as mth\n",
    "import plotly.express as px\n",
    "from plotly import graph_objects as go\n",
    "from statsmodels.stats.multitest import multipletests\n",
    "import folium \n",
    "from folium import Map, Choropleth\n",
    "from folium import Marker, Map\n",
    "from folium.plugins import MarkerCluster\n",
    "import json\n",
    "from scipy.stats import ttest_ind\n",
    "from scipy.stats import shapiro\n",
    "from statsmodels.stats.diagnostic import het_breuschpagan\n",
    "from scipy.stats import shapiro, bartlett\n",
    "from scipy.stats import mannwhitneyu"
   ]
  },
  {
   "cell_type": "code",
   "execution_count": 279,
   "id": "d57fd8c0",
   "metadata": {},
   "outputs": [],
   "source": [
    "#загрузим данные\n",
    "try:\n",
    "    retail = pd.read_csv('retail_dataset.csv')\n",
    "    product = pd.read_csv('product_codes.csv')  \n",
    "except:\n",
    "    retail = pd.read_csv('/datasets/retail_dataset.csv')\n",
    "    product = pd.read_csv('/datasets/product_codes.csv') "
   ]
  },
  {
   "cell_type": "code",
   "execution_count": 280,
   "id": "60df255e",
   "metadata": {},
   "outputs": [
    {
     "data": {
      "text/html": [
       "<div>\n",
       "<style scoped>\n",
       "    .dataframe tbody tr th:only-of-type {\n",
       "        vertical-align: middle;\n",
       "    }\n",
       "\n",
       "    .dataframe tbody tr th {\n",
       "        vertical-align: top;\n",
       "    }\n",
       "\n",
       "    .dataframe thead th {\n",
       "        text-align: right;\n",
       "    }\n",
       "</style>\n",
       "<table border=\"1\" class=\"dataframe\">\n",
       "  <thead>\n",
       "    <tr style=\"text-align: right;\">\n",
       "      <th></th>\n",
       "      <th>purchaseid</th>\n",
       "      <th>item_ID</th>\n",
       "      <th>Quantity</th>\n",
       "      <th>purchasedate</th>\n",
       "      <th>CustomerID</th>\n",
       "      <th>ShopID</th>\n",
       "      <th>loyalty_program</th>\n",
       "    </tr>\n",
       "  </thead>\n",
       "  <tbody>\n",
       "    <tr>\n",
       "      <th>0</th>\n",
       "      <td>538280</td>\n",
       "      <td>21873</td>\n",
       "      <td>11</td>\n",
       "      <td>2016-12-10 12:50:00</td>\n",
       "      <td>18427.0</td>\n",
       "      <td>Shop 0</td>\n",
       "      <td>0.0</td>\n",
       "    </tr>\n",
       "    <tr>\n",
       "      <th>1</th>\n",
       "      <td>538862</td>\n",
       "      <td>22195</td>\n",
       "      <td>0</td>\n",
       "      <td>2016-12-14 14:11:00</td>\n",
       "      <td>22389.0</td>\n",
       "      <td>Shop 0</td>\n",
       "      <td>1.0</td>\n",
       "    </tr>\n",
       "    <tr>\n",
       "      <th>2</th>\n",
       "      <td>538855</td>\n",
       "      <td>21239</td>\n",
       "      <td>7</td>\n",
       "      <td>2016-12-14 13:50:00</td>\n",
       "      <td>22182.0</td>\n",
       "      <td>Shop 0</td>\n",
       "      <td>1.0</td>\n",
       "    </tr>\n",
       "    <tr>\n",
       "      <th>3</th>\n",
       "      <td>543543</td>\n",
       "      <td>22271</td>\n",
       "      <td>0</td>\n",
       "      <td>2017-02-09 15:33:00</td>\n",
       "      <td>23522.0</td>\n",
       "      <td>Shop 0</td>\n",
       "      <td>1.0</td>\n",
       "    </tr>\n",
       "    <tr>\n",
       "      <th>4</th>\n",
       "      <td>543812</td>\n",
       "      <td>79321</td>\n",
       "      <td>0</td>\n",
       "      <td>2017-02-13 14:40:00</td>\n",
       "      <td>23151.0</td>\n",
       "      <td>Shop 0</td>\n",
       "      <td>1.0</td>\n",
       "    </tr>\n",
       "    <tr>\n",
       "      <th>...</th>\n",
       "      <td>...</td>\n",
       "      <td>...</td>\n",
       "      <td>...</td>\n",
       "      <td>...</td>\n",
       "      <td>...</td>\n",
       "      <td>...</td>\n",
       "      <td>...</td>\n",
       "    </tr>\n",
       "    <tr>\n",
       "      <th>105330</th>\n",
       "      <td>538566</td>\n",
       "      <td>21826</td>\n",
       "      <td>1</td>\n",
       "      <td>2016-12-13 11:21:00</td>\n",
       "      <td>NaN</td>\n",
       "      <td>Shop 0</td>\n",
       "      <td>0.0</td>\n",
       "    </tr>\n",
       "    <tr>\n",
       "      <th>105331</th>\n",
       "      <td>540247</td>\n",
       "      <td>21742</td>\n",
       "      <td>0</td>\n",
       "      <td>2017-01-05 15:56:00</td>\n",
       "      <td>21143.0</td>\n",
       "      <td>Shop 0</td>\n",
       "      <td>0.0</td>\n",
       "    </tr>\n",
       "    <tr>\n",
       "      <th>105332</th>\n",
       "      <td>538068</td>\n",
       "      <td>85048</td>\n",
       "      <td>1</td>\n",
       "      <td>2016-12-09 14:05:00</td>\n",
       "      <td>23657.0</td>\n",
       "      <td>Shop 0</td>\n",
       "      <td>1.0</td>\n",
       "    </tr>\n",
       "    <tr>\n",
       "      <th>105333</th>\n",
       "      <td>538207</td>\n",
       "      <td>22818</td>\n",
       "      <td>11</td>\n",
       "      <td>2016-12-10 11:33:00</td>\n",
       "      <td>18427.0</td>\n",
       "      <td>Shop 0</td>\n",
       "      <td>0.0</td>\n",
       "    </tr>\n",
       "    <tr>\n",
       "      <th>105334</th>\n",
       "      <td>543977</td>\n",
       "      <td>22384</td>\n",
       "      <td>9</td>\n",
       "      <td>2017-02-14 15:35:00</td>\n",
       "      <td>21294.0</td>\n",
       "      <td>Shop 0</td>\n",
       "      <td>0.0</td>\n",
       "    </tr>\n",
       "  </tbody>\n",
       "</table>\n",
       "<p>105335 rows × 7 columns</p>\n",
       "</div>"
      ],
      "text/plain": [
       "       purchaseid item_ID  Quantity         purchasedate  CustomerID  ShopID  \\\n",
       "0          538280   21873        11  2016-12-10 12:50:00     18427.0  Shop 0   \n",
       "1          538862   22195         0  2016-12-14 14:11:00     22389.0  Shop 0   \n",
       "2          538855   21239         7  2016-12-14 13:50:00     22182.0  Shop 0   \n",
       "3          543543   22271         0  2017-02-09 15:33:00     23522.0  Shop 0   \n",
       "4          543812   79321         0  2017-02-13 14:40:00     23151.0  Shop 0   \n",
       "...           ...     ...       ...                  ...         ...     ...   \n",
       "105330     538566   21826         1  2016-12-13 11:21:00         NaN  Shop 0   \n",
       "105331     540247   21742         0  2017-01-05 15:56:00     21143.0  Shop 0   \n",
       "105332     538068   85048         1  2016-12-09 14:05:00     23657.0  Shop 0   \n",
       "105333     538207   22818        11  2016-12-10 11:33:00     18427.0  Shop 0   \n",
       "105334     543977   22384         9  2017-02-14 15:35:00     21294.0  Shop 0   \n",
       "\n",
       "        loyalty_program  \n",
       "0                   0.0  \n",
       "1                   1.0  \n",
       "2                   1.0  \n",
       "3                   1.0  \n",
       "4                   1.0  \n",
       "...                 ...  \n",
       "105330              0.0  \n",
       "105331              0.0  \n",
       "105332              1.0  \n",
       "105333              0.0  \n",
       "105334              0.0  \n",
       "\n",
       "[105335 rows x 7 columns]"
      ]
     },
     "metadata": {},
     "output_type": "display_data"
    }
   ],
   "source": [
    "display(retail) # изучим первый датафрейм \n",
    "pd.set_option('display.max_colwidth', None) "
   ]
  },
  {
   "cell_type": "code",
   "execution_count": 281,
   "id": "c73d492d",
   "metadata": {},
   "outputs": [
    {
     "data": {
      "text/html": [
       "<div>\n",
       "<style scoped>\n",
       "    .dataframe tbody tr th:only-of-type {\n",
       "        vertical-align: middle;\n",
       "    }\n",
       "\n",
       "    .dataframe tbody tr th {\n",
       "        vertical-align: top;\n",
       "    }\n",
       "\n",
       "    .dataframe thead th {\n",
       "        text-align: right;\n",
       "    }\n",
       "</style>\n",
       "<table border=\"1\" class=\"dataframe\">\n",
       "  <thead>\n",
       "    <tr style=\"text-align: right;\">\n",
       "      <th></th>\n",
       "      <th>Quantity</th>\n",
       "      <th>CustomerID</th>\n",
       "      <th>loyalty_program</th>\n",
       "    </tr>\n",
       "  </thead>\n",
       "  <tbody>\n",
       "    <tr>\n",
       "      <th>count</th>\n",
       "      <td>105335.000000</td>\n",
       "      <td>69125.000000</td>\n",
       "      <td>105335.000000</td>\n",
       "    </tr>\n",
       "    <tr>\n",
       "      <th>mean</th>\n",
       "      <td>7.821218</td>\n",
       "      <td>21019.302047</td>\n",
       "      <td>0.226345</td>\n",
       "    </tr>\n",
       "    <tr>\n",
       "      <th>std</th>\n",
       "      <td>327.946695</td>\n",
       "      <td>1765.444679</td>\n",
       "      <td>0.418467</td>\n",
       "    </tr>\n",
       "    <tr>\n",
       "      <th>min</th>\n",
       "      <td>-74216.000000</td>\n",
       "      <td>18025.000000</td>\n",
       "      <td>0.000000</td>\n",
       "    </tr>\n",
       "    <tr>\n",
       "      <th>25%</th>\n",
       "      <td>0.000000</td>\n",
       "      <td>19544.000000</td>\n",
       "      <td>0.000000</td>\n",
       "    </tr>\n",
       "    <tr>\n",
       "      <th>50%</th>\n",
       "      <td>2.000000</td>\n",
       "      <td>20990.000000</td>\n",
       "      <td>0.000000</td>\n",
       "    </tr>\n",
       "    <tr>\n",
       "      <th>75%</th>\n",
       "      <td>7.000000</td>\n",
       "      <td>22659.000000</td>\n",
       "      <td>0.000000</td>\n",
       "    </tr>\n",
       "    <tr>\n",
       "      <th>max</th>\n",
       "      <td>74214.000000</td>\n",
       "      <td>23962.000000</td>\n",
       "      <td>1.000000</td>\n",
       "    </tr>\n",
       "  </tbody>\n",
       "</table>\n",
       "</div>"
      ],
      "text/plain": [
       "            Quantity    CustomerID  loyalty_program\n",
       "count  105335.000000  69125.000000    105335.000000\n",
       "mean        7.821218  21019.302047         0.226345\n",
       "std       327.946695   1765.444679         0.418467\n",
       "min    -74216.000000  18025.000000         0.000000\n",
       "25%         0.000000  19544.000000         0.000000\n",
       "50%         2.000000  20990.000000         0.000000\n",
       "75%         7.000000  22659.000000         0.000000\n",
       "max     74214.000000  23962.000000         1.000000"
      ]
     },
     "execution_count": 281,
     "metadata": {},
     "output_type": "execute_result"
    }
   ],
   "source": [
    "retail.describe()#посмотрим описание первого датафрейма"
   ]
  },
  {
   "cell_type": "code",
   "execution_count": 282,
   "id": "9ba9398f",
   "metadata": {},
   "outputs": [
    {
     "name": "stdout",
     "output_type": "stream",
     "text": [
      "<class 'pandas.core.frame.DataFrame'>\n",
      "RangeIndex: 105335 entries, 0 to 105334\n",
      "Data columns (total 7 columns):\n",
      " #   Column           Non-Null Count   Dtype  \n",
      "---  ------           --------------   -----  \n",
      " 0   purchaseid       105335 non-null  object \n",
      " 1   item_ID          105335 non-null  object \n",
      " 2   Quantity         105335 non-null  int64  \n",
      " 3   purchasedate     105335 non-null  object \n",
      " 4   CustomerID       69125 non-null   float64\n",
      " 5   ShopID           105335 non-null  object \n",
      " 6   loyalty_program  105335 non-null  float64\n",
      "dtypes: float64(2), int64(1), object(4)\n",
      "memory usage: 5.6+ MB\n",
      "Число дубликатов 1033\n"
     ]
    }
   ],
   "source": [
    "retail.info()# выведем основную информацию о первом датафрейме с помощью метода info()\n",
    "print('Число дубликатов', retail.duplicated().sum()) # Проверим количество дубликатов"
   ]
  },
  {
   "cell_type": "code",
   "execution_count": 283,
   "id": "9c26db02",
   "metadata": {},
   "outputs": [
    {
     "data": {
      "image/png": "[encoded data removed]",
      "text/plain": [
       "<Figure size 1500x1500 with 4 Axes>"
      ]
     },
     "metadata": {},
     "output_type": "display_data"
    }
   ],
   "source": [
    "#Построим гистограммы для всех столбцов\n",
    "retail.hist(figsize=(15, 15));"
   ]
  },
  {
   "cell_type": "code",
   "execution_count": 284,
   "id": "a3e0cf94",
   "metadata": {},
   "outputs": [
    {
     "data": {
      "text/html": [
       "<div>\n",
       "<style scoped>\n",
       "    .dataframe tbody tr th:only-of-type {\n",
       "        vertical-align: middle;\n",
       "    }\n",
       "\n",
       "    .dataframe tbody tr th {\n",
       "        vertical-align: top;\n",
       "    }\n",
       "\n",
       "    .dataframe thead th {\n",
       "        text-align: right;\n",
       "    }\n",
       "</style>\n",
       "<table border=\"1\" class=\"dataframe\">\n",
       "  <thead>\n",
       "    <tr style=\"text-align: right;\">\n",
       "      <th></th>\n",
       "      <th>productID</th>\n",
       "      <th>price_per_one</th>\n",
       "    </tr>\n",
       "  </thead>\n",
       "  <tbody>\n",
       "    <tr>\n",
       "      <th>0</th>\n",
       "      <td>85123A</td>\n",
       "      <td>2.55</td>\n",
       "    </tr>\n",
       "    <tr>\n",
       "      <th>1</th>\n",
       "      <td>71053</td>\n",
       "      <td>3.39</td>\n",
       "    </tr>\n",
       "    <tr>\n",
       "      <th>2</th>\n",
       "      <td>84406B</td>\n",
       "      <td>2.75</td>\n",
       "    </tr>\n",
       "    <tr>\n",
       "      <th>3</th>\n",
       "      <td>84029G</td>\n",
       "      <td>3.39</td>\n",
       "    </tr>\n",
       "    <tr>\n",
       "      <th>4</th>\n",
       "      <td>84029E</td>\n",
       "      <td>3.39</td>\n",
       "    </tr>\n",
       "    <tr>\n",
       "      <th>...</th>\n",
       "      <td>...</td>\n",
       "      <td>...</td>\n",
       "    </tr>\n",
       "    <tr>\n",
       "      <th>9964</th>\n",
       "      <td>84306</td>\n",
       "      <td>8.29</td>\n",
       "    </tr>\n",
       "    <tr>\n",
       "      <th>9965</th>\n",
       "      <td>90001A</td>\n",
       "      <td>4.15</td>\n",
       "    </tr>\n",
       "    <tr>\n",
       "      <th>9966</th>\n",
       "      <td>90118</td>\n",
       "      <td>2.46</td>\n",
       "    </tr>\n",
       "    <tr>\n",
       "      <th>9967</th>\n",
       "      <td>DOT</td>\n",
       "      <td>172.62</td>\n",
       "    </tr>\n",
       "    <tr>\n",
       "      <th>9968</th>\n",
       "      <td>20738</td>\n",
       "      <td>0.00</td>\n",
       "    </tr>\n",
       "  </tbody>\n",
       "</table>\n",
       "<p>9969 rows × 2 columns</p>\n",
       "</div>"
      ],
      "text/plain": [
       "     productID  price_per_one\n",
       "0       85123A           2.55\n",
       "1        71053           3.39\n",
       "2       84406B           2.75\n",
       "3       84029G           3.39\n",
       "4       84029E           3.39\n",
       "...        ...            ...\n",
       "9964     84306           8.29\n",
       "9965    90001A           4.15\n",
       "9966     90118           2.46\n",
       "9967       DOT         172.62\n",
       "9968     20738           0.00\n",
       "\n",
       "[9969 rows x 2 columns]"
      ]
     },
     "metadata": {},
     "output_type": "display_data"
    }
   ],
   "source": [
    "display(product) # изучим второй датафрейм \n",
    "pd.set_option('display.max_colwidth', None) "
   ]
  },
  {
   "cell_type": "code",
   "execution_count": 285,
   "id": "faba96c2",
   "metadata": {},
   "outputs": [
    {
     "data": {
      "text/html": [
       "<div>\n",
       "<style scoped>\n",
       "    .dataframe tbody tr th:only-of-type {\n",
       "        vertical-align: middle;\n",
       "    }\n",
       "\n",
       "    .dataframe tbody tr th {\n",
       "        vertical-align: top;\n",
       "    }\n",
       "\n",
       "    .dataframe thead th {\n",
       "        text-align: right;\n",
       "    }\n",
       "</style>\n",
       "<table border=\"1\" class=\"dataframe\">\n",
       "  <thead>\n",
       "    <tr style=\"text-align: right;\">\n",
       "      <th></th>\n",
       "      <th>price_per_one</th>\n",
       "    </tr>\n",
       "  </thead>\n",
       "  <tbody>\n",
       "    <tr>\n",
       "      <th>count</th>\n",
       "      <td>9969.000000</td>\n",
       "    </tr>\n",
       "    <tr>\n",
       "      <th>mean</th>\n",
       "      <td>19.503697</td>\n",
       "    </tr>\n",
       "    <tr>\n",
       "      <th>std</th>\n",
       "      <td>330.880754</td>\n",
       "    </tr>\n",
       "    <tr>\n",
       "      <th>min</th>\n",
       "      <td>0.000000</td>\n",
       "    </tr>\n",
       "    <tr>\n",
       "      <th>25%</th>\n",
       "      <td>1.250000</td>\n",
       "    </tr>\n",
       "    <tr>\n",
       "      <th>50%</th>\n",
       "      <td>2.550000</td>\n",
       "    </tr>\n",
       "    <tr>\n",
       "      <th>75%</th>\n",
       "      <td>5.510000</td>\n",
       "    </tr>\n",
       "    <tr>\n",
       "      <th>max</th>\n",
       "      <td>16888.020000</td>\n",
       "    </tr>\n",
       "  </tbody>\n",
       "</table>\n",
       "</div>"
      ],
      "text/plain": [
       "       price_per_one\n",
       "count    9969.000000\n",
       "mean       19.503697\n",
       "std       330.880754\n",
       "min         0.000000\n",
       "25%         1.250000\n",
       "50%         2.550000\n",
       "75%         5.510000\n",
       "max     16888.020000"
      ]
     },
     "execution_count": 285,
     "metadata": {},
     "output_type": "execute_result"
    }
   ],
   "source": [
    "product.describe()#посмотрим описание второго датафрейма"
   ]
  },
  {
   "cell_type": "code",
   "execution_count": 286,
   "id": "89fb0a80",
   "metadata": {},
   "outputs": [
    {
     "name": "stdout",
     "output_type": "stream",
     "text": [
      "<class 'pandas.core.frame.DataFrame'>\n",
      "RangeIndex: 9969 entries, 0 to 9968\n",
      "Data columns (total 2 columns):\n",
      " #   Column         Non-Null Count  Dtype  \n",
      "---  ------         --------------  -----  \n",
      " 0   productID      9969 non-null   object \n",
      " 1   price_per_one  9969 non-null   float64\n",
      "dtypes: float64(1), object(1)\n",
      "memory usage: 155.9+ KB\n",
      "Число дубликатов 0\n"
     ]
    }
   ],
   "source": [
    "product.info()# выведем основную информацию о втором датафрейме с помощью метода info()\n",
    "print('Число дубликатов', product.duplicated().sum()) # Проверим количество дубликатов"
   ]
  },
  {
   "cell_type": "markdown",
   "id": "3e172965",
   "metadata": {},
   "source": [
    "**Вывод:** В ходе первичного знакомства с данными, отметим, что в датасете retail, который содержит данные о покупках в магазине  105 335 строк, пропущенные значения присутствуют только в столбце CustomerID (id покупателя), в столбце Quantity (количество товара) минимальное значение в данных -74 216, что явно является ошибкой. Обнаружено 1033 явных дубликатов. В таблице product, который содержит информацию о стоимости каждой единицы товара 9 969 строк, пропущенные значения отсутствуют, явных дубликатов не обнаружено. "
   ]
  },
  {
   "cell_type": "markdown",
   "id": "dcbd9591",
   "metadata": {},
   "source": [
    "<a id=\"step2\"></a> \n",
    "## Предобработка данных"
   ]
  },
  {
   "cell_type": "markdown",
   "id": "c7972798",
   "metadata": {},
   "source": [
    "###  Переименование столбцов"
   ]
  },
  {
   "cell_type": "code",
   "execution_count": 287,
   "id": "74ac8ac5",
   "metadata": {},
   "outputs": [],
   "source": [
    "#приведем к нижнему регистру названия столбцов\n",
    "retail.columns = retail.columns.str.lower()\n",
    "product.columns = product.columns.str.lower()"
   ]
  },
  {
   "cell_type": "code",
   "execution_count": 288,
   "id": "cd95546b",
   "metadata": {},
   "outputs": [],
   "source": [
    "#переименуем некоторые столбцы\n",
    "retail = retail.rename(columns={'purchaseid': 'purchase_id','customerid': 'customer_id', 'shopid':'shop_id', 'purchasedate':'purchase_date'}) \n",
    "product = product.rename(columns={'productid': 'item_id'}) "
   ]
  },
  {
   "cell_type": "markdown",
   "id": "5041efbd",
   "metadata": {},
   "source": [
    "###  Удаление дубликатов"
   ]
  },
  {
   "cell_type": "code",
   "execution_count": 289,
   "id": "daf1c4a4",
   "metadata": {},
   "outputs": [
    {
     "name": "stdout",
     "output_type": "stream",
     "text": [
      "Число дубликатов 0\n"
     ]
    }
   ],
   "source": [
    "retail=retail.drop_duplicates() #Удалим явные дубликаты\n",
    "print('Число дубликатов', retail.duplicated().sum()) # Вновь проверим количество дубликатов"
   ]
  },
  {
   "cell_type": "markdown",
   "id": "030f5045",
   "metadata": {},
   "source": [
    "###  Обработка пропущенных значений "
   ]
  },
  {
   "cell_type": "code",
   "execution_count": 290,
   "id": "775fa848",
   "metadata": {},
   "outputs": [],
   "source": [
    "#Для дальнейшего анализа нам необходимо заменить некоторые пропущенные значения\n",
    "retail['customer_id'] =retail['customer_id'].fillna(0)"
   ]
  },
  {
   "cell_type": "markdown",
   "id": "5cbce53b",
   "metadata": {},
   "source": [
    "### Преобразование типов данных "
   ]
  },
  {
   "cell_type": "code",
   "execution_count": 291,
   "id": "9a90531a",
   "metadata": {},
   "outputs": [],
   "source": [
    "#Столбец purchasedate переведем в формат datetime\n",
    "retail['purchase_date'] = pd.to_datetime(retail['purchase_date'])\n",
    "# Столбец customer_id может принимать только целое число, изменим тип на целочисленный\n",
    "retail['customer_id'] = retail['customer_id'].astype(int)\n",
    "# Значения в столбце loyalty_program приведем к булевому типу\n",
    "retail['loyalty_program'] = retail['loyalty_program'].astype(bool)"
   ]
  },
  {
   "cell_type": "code",
   "execution_count": 292,
   "id": "b626ac09",
   "metadata": {},
   "outputs": [
    {
     "data": {
      "text/html": [
       "<div>\n",
       "<style scoped>\n",
       "    .dataframe tbody tr th:only-of-type {\n",
       "        vertical-align: middle;\n",
       "    }\n",
       "\n",
       "    .dataframe tbody tr th {\n",
       "        vertical-align: top;\n",
       "    }\n",
       "\n",
       "    .dataframe thead th {\n",
       "        text-align: right;\n",
       "    }\n",
       "</style>\n",
       "<table border=\"1\" class=\"dataframe\">\n",
       "  <thead>\n",
       "    <tr style=\"text-align: right;\">\n",
       "      <th></th>\n",
       "      <th>purchase_id</th>\n",
       "      <th>item_id</th>\n",
       "      <th>quantity</th>\n",
       "      <th>purchase_date</th>\n",
       "      <th>customer_id</th>\n",
       "      <th>shop_id</th>\n",
       "      <th>loyalty_program</th>\n",
       "    </tr>\n",
       "  </thead>\n",
       "  <tbody>\n",
       "    <tr>\n",
       "      <th>0</th>\n",
       "      <td>538280</td>\n",
       "      <td>21873</td>\n",
       "      <td>11</td>\n",
       "      <td>2016-12-10 12:50:00</td>\n",
       "      <td>18427</td>\n",
       "      <td>Shop 0</td>\n",
       "      <td>False</td>\n",
       "    </tr>\n",
       "    <tr>\n",
       "      <th>1</th>\n",
       "      <td>538862</td>\n",
       "      <td>22195</td>\n",
       "      <td>0</td>\n",
       "      <td>2016-12-14 14:11:00</td>\n",
       "      <td>22389</td>\n",
       "      <td>Shop 0</td>\n",
       "      <td>True</td>\n",
       "    </tr>\n",
       "    <tr>\n",
       "      <th>2</th>\n",
       "      <td>538855</td>\n",
       "      <td>21239</td>\n",
       "      <td>7</td>\n",
       "      <td>2016-12-14 13:50:00</td>\n",
       "      <td>22182</td>\n",
       "      <td>Shop 0</td>\n",
       "      <td>True</td>\n",
       "    </tr>\n",
       "    <tr>\n",
       "      <th>3</th>\n",
       "      <td>543543</td>\n",
       "      <td>22271</td>\n",
       "      <td>0</td>\n",
       "      <td>2017-02-09 15:33:00</td>\n",
       "      <td>23522</td>\n",
       "      <td>Shop 0</td>\n",
       "      <td>True</td>\n",
       "    </tr>\n",
       "    <tr>\n",
       "      <th>4</th>\n",
       "      <td>543812</td>\n",
       "      <td>79321</td>\n",
       "      <td>0</td>\n",
       "      <td>2017-02-13 14:40:00</td>\n",
       "      <td>23151</td>\n",
       "      <td>Shop 0</td>\n",
       "      <td>True</td>\n",
       "    </tr>\n",
       "    <tr>\n",
       "      <th>...</th>\n",
       "      <td>...</td>\n",
       "      <td>...</td>\n",
       "      <td>...</td>\n",
       "      <td>...</td>\n",
       "      <td>...</td>\n",
       "      <td>...</td>\n",
       "      <td>...</td>\n",
       "    </tr>\n",
       "    <tr>\n",
       "      <th>105330</th>\n",
       "      <td>538566</td>\n",
       "      <td>21826</td>\n",
       "      <td>1</td>\n",
       "      <td>2016-12-13 11:21:00</td>\n",
       "      <td>0</td>\n",
       "      <td>Shop 0</td>\n",
       "      <td>False</td>\n",
       "    </tr>\n",
       "    <tr>\n",
       "      <th>105331</th>\n",
       "      <td>540247</td>\n",
       "      <td>21742</td>\n",
       "      <td>0</td>\n",
       "      <td>2017-01-05 15:56:00</td>\n",
       "      <td>21143</td>\n",
       "      <td>Shop 0</td>\n",
       "      <td>False</td>\n",
       "    </tr>\n",
       "    <tr>\n",
       "      <th>105332</th>\n",
       "      <td>538068</td>\n",
       "      <td>85048</td>\n",
       "      <td>1</td>\n",
       "      <td>2016-12-09 14:05:00</td>\n",
       "      <td>23657</td>\n",
       "      <td>Shop 0</td>\n",
       "      <td>True</td>\n",
       "    </tr>\n",
       "    <tr>\n",
       "      <th>105333</th>\n",
       "      <td>538207</td>\n",
       "      <td>22818</td>\n",
       "      <td>11</td>\n",
       "      <td>2016-12-10 11:33:00</td>\n",
       "      <td>18427</td>\n",
       "      <td>Shop 0</td>\n",
       "      <td>False</td>\n",
       "    </tr>\n",
       "    <tr>\n",
       "      <th>105334</th>\n",
       "      <td>543977</td>\n",
       "      <td>22384</td>\n",
       "      <td>9</td>\n",
       "      <td>2017-02-14 15:35:00</td>\n",
       "      <td>21294</td>\n",
       "      <td>Shop 0</td>\n",
       "      <td>False</td>\n",
       "    </tr>\n",
       "  </tbody>\n",
       "</table>\n",
       "<p>104302 rows × 7 columns</p>\n",
       "</div>"
      ],
      "text/plain": [
       "       purchase_id item_id  quantity       purchase_date  customer_id shop_id  \\\n",
       "0           538280   21873        11 2016-12-10 12:50:00        18427  Shop 0   \n",
       "1           538862   22195         0 2016-12-14 14:11:00        22389  Shop 0   \n",
       "2           538855   21239         7 2016-12-14 13:50:00        22182  Shop 0   \n",
       "3           543543   22271         0 2017-02-09 15:33:00        23522  Shop 0   \n",
       "4           543812   79321         0 2017-02-13 14:40:00        23151  Shop 0   \n",
       "...            ...     ...       ...                 ...          ...     ...   \n",
       "105330      538566   21826         1 2016-12-13 11:21:00            0  Shop 0   \n",
       "105331      540247   21742         0 2017-01-05 15:56:00        21143  Shop 0   \n",
       "105332      538068   85048         1 2016-12-09 14:05:00        23657  Shop 0   \n",
       "105333      538207   22818        11 2016-12-10 11:33:00        18427  Shop 0   \n",
       "105334      543977   22384         9 2017-02-14 15:35:00        21294  Shop 0   \n",
       "\n",
       "        loyalty_program  \n",
       "0                 False  \n",
       "1                  True  \n",
       "2                  True  \n",
       "3                  True  \n",
       "4                  True  \n",
       "...                 ...  \n",
       "105330            False  \n",
       "105331            False  \n",
       "105332             True  \n",
       "105333            False  \n",
       "105334            False  \n",
       "\n",
       "[104302 rows x 7 columns]"
      ]
     },
     "metadata": {},
     "output_type": "display_data"
    }
   ],
   "source": [
    "display(retail) "
   ]
  },
  {
   "cell_type": "markdown",
   "id": "28945eaf",
   "metadata": {},
   "source": [
    "### Обработка аномальных значений"
   ]
  },
  {
   "cell_type": "markdown",
   "id": "7c20c7cf",
   "metadata": {},
   "source": [
    "В датасете product, есть **стоимость одной единицы товара,  равная нулю**, мы можем предположить либо это ошибка в данных, либо это акционных товары, которые дают в подарок и проводят по кассе по стоимости 0. Предлагается **удалить их из анализируемого массива данных, не брать в расчет эти строки таблицы**. "
   ]
  },
  {
   "cell_type": "code",
   "execution_count": 293,
   "id": "9fdad8cc",
   "metadata": {},
   "outputs": [],
   "source": [
    "#Исключим из анализа товары со стоимостью 0\n",
    "product = product.query(' price_per_one != 0')"
   ]
  },
  {
   "cell_type": "markdown",
   "id": "fab838ad",
   "metadata": {},
   "source": [
    "Количество товаров в датасете retail не может быть отрицательным, предположим, что это ошибка и умножим все отрицательные значения на -1. Также количество товаров не может быть равным 0, уберем эти строки из данных для анализа."
   ]
  },
  {
   "cell_type": "code",
   "execution_count": 294,
   "id": "47a7a896",
   "metadata": {},
   "outputs": [
    {
     "data": {
      "text/html": [
       "<div>\n",
       "<style scoped>\n",
       "    .dataframe tbody tr th:only-of-type {\n",
       "        vertical-align: middle;\n",
       "    }\n",
       "\n",
       "    .dataframe tbody tr th {\n",
       "        vertical-align: top;\n",
       "    }\n",
       "\n",
       "    .dataframe thead th {\n",
       "        text-align: right;\n",
       "    }\n",
       "</style>\n",
       "<table border=\"1\" class=\"dataframe\">\n",
       "  <thead>\n",
       "    <tr style=\"text-align: right;\">\n",
       "      <th></th>\n",
       "      <th>purchase_id</th>\n",
       "      <th>item_id</th>\n",
       "      <th>quantity</th>\n",
       "      <th>purchase_date</th>\n",
       "      <th>customer_id</th>\n",
       "      <th>shop_id</th>\n",
       "      <th>loyalty_program</th>\n",
       "    </tr>\n",
       "  </thead>\n",
       "  <tbody>\n",
       "    <tr>\n",
       "      <th>0</th>\n",
       "      <td>538280</td>\n",
       "      <td>21873</td>\n",
       "      <td>11</td>\n",
       "      <td>2016-12-10 12:50:00</td>\n",
       "      <td>18427</td>\n",
       "      <td>Shop 0</td>\n",
       "      <td>False</td>\n",
       "    </tr>\n",
       "    <tr>\n",
       "      <th>1</th>\n",
       "      <td>538862</td>\n",
       "      <td>22195</td>\n",
       "      <td>0</td>\n",
       "      <td>2016-12-14 14:11:00</td>\n",
       "      <td>22389</td>\n",
       "      <td>Shop 0</td>\n",
       "      <td>True</td>\n",
       "    </tr>\n",
       "    <tr>\n",
       "      <th>2</th>\n",
       "      <td>538855</td>\n",
       "      <td>21239</td>\n",
       "      <td>7</td>\n",
       "      <td>2016-12-14 13:50:00</td>\n",
       "      <td>22182</td>\n",
       "      <td>Shop 0</td>\n",
       "      <td>True</td>\n",
       "    </tr>\n",
       "    <tr>\n",
       "      <th>3</th>\n",
       "      <td>543543</td>\n",
       "      <td>22271</td>\n",
       "      <td>0</td>\n",
       "      <td>2017-02-09 15:33:00</td>\n",
       "      <td>23522</td>\n",
       "      <td>Shop 0</td>\n",
       "      <td>True</td>\n",
       "    </tr>\n",
       "    <tr>\n",
       "      <th>4</th>\n",
       "      <td>543812</td>\n",
       "      <td>79321</td>\n",
       "      <td>0</td>\n",
       "      <td>2017-02-13 14:40:00</td>\n",
       "      <td>23151</td>\n",
       "      <td>Shop 0</td>\n",
       "      <td>True</td>\n",
       "    </tr>\n",
       "    <tr>\n",
       "      <th>...</th>\n",
       "      <td>...</td>\n",
       "      <td>...</td>\n",
       "      <td>...</td>\n",
       "      <td>...</td>\n",
       "      <td>...</td>\n",
       "      <td>...</td>\n",
       "      <td>...</td>\n",
       "    </tr>\n",
       "    <tr>\n",
       "      <th>105330</th>\n",
       "      <td>538566</td>\n",
       "      <td>21826</td>\n",
       "      <td>1</td>\n",
       "      <td>2016-12-13 11:21:00</td>\n",
       "      <td>0</td>\n",
       "      <td>Shop 0</td>\n",
       "      <td>False</td>\n",
       "    </tr>\n",
       "    <tr>\n",
       "      <th>105331</th>\n",
       "      <td>540247</td>\n",
       "      <td>21742</td>\n",
       "      <td>0</td>\n",
       "      <td>2017-01-05 15:56:00</td>\n",
       "      <td>21143</td>\n",
       "      <td>Shop 0</td>\n",
       "      <td>False</td>\n",
       "    </tr>\n",
       "    <tr>\n",
       "      <th>105332</th>\n",
       "      <td>538068</td>\n",
       "      <td>85048</td>\n",
       "      <td>1</td>\n",
       "      <td>2016-12-09 14:05:00</td>\n",
       "      <td>23657</td>\n",
       "      <td>Shop 0</td>\n",
       "      <td>True</td>\n",
       "    </tr>\n",
       "    <tr>\n",
       "      <th>105333</th>\n",
       "      <td>538207</td>\n",
       "      <td>22818</td>\n",
       "      <td>11</td>\n",
       "      <td>2016-12-10 11:33:00</td>\n",
       "      <td>18427</td>\n",
       "      <td>Shop 0</td>\n",
       "      <td>False</td>\n",
       "    </tr>\n",
       "    <tr>\n",
       "      <th>105334</th>\n",
       "      <td>543977</td>\n",
       "      <td>22384</td>\n",
       "      <td>9</td>\n",
       "      <td>2017-02-14 15:35:00</td>\n",
       "      <td>21294</td>\n",
       "      <td>Shop 0</td>\n",
       "      <td>False</td>\n",
       "    </tr>\n",
       "  </tbody>\n",
       "</table>\n",
       "<p>104302 rows × 7 columns</p>\n",
       "</div>"
      ],
      "text/plain": [
       "       purchase_id item_id  quantity       purchase_date  customer_id shop_id  \\\n",
       "0           538280   21873        11 2016-12-10 12:50:00        18427  Shop 0   \n",
       "1           538862   22195         0 2016-12-14 14:11:00        22389  Shop 0   \n",
       "2           538855   21239         7 2016-12-14 13:50:00        22182  Shop 0   \n",
       "3           543543   22271         0 2017-02-09 15:33:00        23522  Shop 0   \n",
       "4           543812   79321         0 2017-02-13 14:40:00        23151  Shop 0   \n",
       "...            ...     ...       ...                 ...          ...     ...   \n",
       "105330      538566   21826         1 2016-12-13 11:21:00            0  Shop 0   \n",
       "105331      540247   21742         0 2017-01-05 15:56:00        21143  Shop 0   \n",
       "105332      538068   85048         1 2016-12-09 14:05:00        23657  Shop 0   \n",
       "105333      538207   22818        11 2016-12-10 11:33:00        18427  Shop 0   \n",
       "105334      543977   22384         9 2017-02-14 15:35:00        21294  Shop 0   \n",
       "\n",
       "        loyalty_program  \n",
       "0                 False  \n",
       "1                  True  \n",
       "2                  True  \n",
       "3                  True  \n",
       "4                  True  \n",
       "...                 ...  \n",
       "105330            False  \n",
       "105331            False  \n",
       "105332             True  \n",
       "105333            False  \n",
       "105334            False  \n",
       "\n",
       "[104302 rows x 7 columns]"
      ]
     },
     "metadata": {},
     "output_type": "display_data"
    }
   ],
   "source": [
    "retail['quantity'] = retail['quantity'].abs()\n",
    "display (retail)"
   ]
  },
  {
   "cell_type": "code",
   "execution_count": 295,
   "id": "ee7b4069",
   "metadata": {},
   "outputs": [
    {
     "data": {
      "text/html": [
       "<div>\n",
       "<style scoped>\n",
       "    .dataframe tbody tr th:only-of-type {\n",
       "        vertical-align: middle;\n",
       "    }\n",
       "\n",
       "    .dataframe tbody tr th {\n",
       "        vertical-align: top;\n",
       "    }\n",
       "\n",
       "    .dataframe thead th {\n",
       "        text-align: right;\n",
       "    }\n",
       "</style>\n",
       "<table border=\"1\" class=\"dataframe\">\n",
       "  <thead>\n",
       "    <tr style=\"text-align: right;\">\n",
       "      <th></th>\n",
       "      <th>purchase_id</th>\n",
       "      <th>item_id</th>\n",
       "      <th>quantity</th>\n",
       "      <th>purchase_date</th>\n",
       "      <th>customer_id</th>\n",
       "      <th>shop_id</th>\n",
       "      <th>loyalty_program</th>\n",
       "    </tr>\n",
       "  </thead>\n",
       "  <tbody>\n",
       "    <tr>\n",
       "      <th>0</th>\n",
       "      <td>538280</td>\n",
       "      <td>21873</td>\n",
       "      <td>11</td>\n",
       "      <td>2016-12-10 12:50:00</td>\n",
       "      <td>18427</td>\n",
       "      <td>Shop 0</td>\n",
       "      <td>False</td>\n",
       "    </tr>\n",
       "    <tr>\n",
       "      <th>2</th>\n",
       "      <td>538855</td>\n",
       "      <td>21239</td>\n",
       "      <td>7</td>\n",
       "      <td>2016-12-14 13:50:00</td>\n",
       "      <td>22182</td>\n",
       "      <td>Shop 0</td>\n",
       "      <td>True</td>\n",
       "    </tr>\n",
       "    <tr>\n",
       "      <th>7</th>\n",
       "      <td>541424</td>\n",
       "      <td>79321</td>\n",
       "      <td>1</td>\n",
       "      <td>2017-01-17 17:57:00</td>\n",
       "      <td>0</td>\n",
       "      <td>Shop 0</td>\n",
       "      <td>False</td>\n",
       "    </tr>\n",
       "    <tr>\n",
       "      <th>10</th>\n",
       "      <td>537795</td>\n",
       "      <td>82494L</td>\n",
       "      <td>5</td>\n",
       "      <td>2016-12-08 13:03:00</td>\n",
       "      <td>22892</td>\n",
       "      <td>Shop 0</td>\n",
       "      <td>True</td>\n",
       "    </tr>\n",
       "    <tr>\n",
       "      <th>11</th>\n",
       "      <td>541696</td>\n",
       "      <td>22197</td>\n",
       "      <td>4</td>\n",
       "      <td>2017-01-20 18:08:00</td>\n",
       "      <td>0</td>\n",
       "      <td>Shop 0</td>\n",
       "      <td>False</td>\n",
       "    </tr>\n",
       "    <tr>\n",
       "      <th>...</th>\n",
       "      <td>...</td>\n",
       "      <td>...</td>\n",
       "      <td>...</td>\n",
       "      <td>...</td>\n",
       "      <td>...</td>\n",
       "      <td>...</td>\n",
       "      <td>...</td>\n",
       "    </tr>\n",
       "    <tr>\n",
       "      <th>105329</th>\n",
       "      <td>540154</td>\n",
       "      <td>22134</td>\n",
       "      <td>3</td>\n",
       "      <td>2017-01-05 11:30:00</td>\n",
       "      <td>0</td>\n",
       "      <td>Shop 0</td>\n",
       "      <td>False</td>\n",
       "    </tr>\n",
       "    <tr>\n",
       "      <th>105330</th>\n",
       "      <td>538566</td>\n",
       "      <td>21826</td>\n",
       "      <td>1</td>\n",
       "      <td>2016-12-13 11:21:00</td>\n",
       "      <td>0</td>\n",
       "      <td>Shop 0</td>\n",
       "      <td>False</td>\n",
       "    </tr>\n",
       "    <tr>\n",
       "      <th>105332</th>\n",
       "      <td>538068</td>\n",
       "      <td>85048</td>\n",
       "      <td>1</td>\n",
       "      <td>2016-12-09 14:05:00</td>\n",
       "      <td>23657</td>\n",
       "      <td>Shop 0</td>\n",
       "      <td>True</td>\n",
       "    </tr>\n",
       "    <tr>\n",
       "      <th>105333</th>\n",
       "      <td>538207</td>\n",
       "      <td>22818</td>\n",
       "      <td>11</td>\n",
       "      <td>2016-12-10 11:33:00</td>\n",
       "      <td>18427</td>\n",
       "      <td>Shop 0</td>\n",
       "      <td>False</td>\n",
       "    </tr>\n",
       "    <tr>\n",
       "      <th>105334</th>\n",
       "      <td>543977</td>\n",
       "      <td>22384</td>\n",
       "      <td>9</td>\n",
       "      <td>2017-02-14 15:35:00</td>\n",
       "      <td>21294</td>\n",
       "      <td>Shop 0</td>\n",
       "      <td>False</td>\n",
       "    </tr>\n",
       "  </tbody>\n",
       "</table>\n",
       "<p>71940 rows × 7 columns</p>\n",
       "</div>"
      ],
      "text/plain": [
       "       purchase_id item_id  quantity       purchase_date  customer_id shop_id  \\\n",
       "0           538280   21873        11 2016-12-10 12:50:00        18427  Shop 0   \n",
       "2           538855   21239         7 2016-12-14 13:50:00        22182  Shop 0   \n",
       "7           541424   79321         1 2017-01-17 17:57:00            0  Shop 0   \n",
       "10          537795  82494L         5 2016-12-08 13:03:00        22892  Shop 0   \n",
       "11          541696   22197         4 2017-01-20 18:08:00            0  Shop 0   \n",
       "...            ...     ...       ...                 ...          ...     ...   \n",
       "105329      540154   22134         3 2017-01-05 11:30:00            0  Shop 0   \n",
       "105330      538566   21826         1 2016-12-13 11:21:00            0  Shop 0   \n",
       "105332      538068   85048         1 2016-12-09 14:05:00        23657  Shop 0   \n",
       "105333      538207   22818        11 2016-12-10 11:33:00        18427  Shop 0   \n",
       "105334      543977   22384         9 2017-02-14 15:35:00        21294  Shop 0   \n",
       "\n",
       "        loyalty_program  \n",
       "0                 False  \n",
       "2                  True  \n",
       "7                 False  \n",
       "10                 True  \n",
       "11                False  \n",
       "...                 ...  \n",
       "105329            False  \n",
       "105330            False  \n",
       "105332             True  \n",
       "105333            False  \n",
       "105334            False  \n",
       "\n",
       "[71940 rows x 7 columns]"
      ]
     },
     "metadata": {},
     "output_type": "display_data"
    }
   ],
   "source": [
    "retail['quantity'] = retail['quantity'].abs()\n",
    "retail = retail.query('quantity != 0')\n",
    "display(retail)"
   ]
  },
  {
   "cell_type": "code",
   "execution_count": 296,
   "id": "967f7361",
   "metadata": {},
   "outputs": [
    {
     "data": {
      "image/png": "[encoded data removed]",
      "text/plain": [
       "<Figure size 640x480 with 1 Axes>"
      ]
     },
     "metadata": {},
     "output_type": "display_data"
    }
   ],
   "source": [
    "#Построим boxplot для столбца \n",
    "sns.boxplot(data=retail, x='quantity')\n",
    "plt.xlabel('Кол-во, шт')\n",
    "plt.show()"
   ]
  },
  {
   "cell_type": "code",
   "execution_count": 297,
   "id": "20de60d0",
   "metadata": {},
   "outputs": [
    {
     "name": "stdout",
     "output_type": "stream",
     "text": [
      "[  39.    2599.061]\n"
     ]
    }
   ],
   "source": [
    "#Посчитаем 95-й и 99.99-й перцентили количества товаров \n",
    "print(np.percentile(retail['quantity'], [ 95, 99.99])) "
   ]
  },
  {
   "cell_type": "markdown",
   "id": "75f37e2a",
   "metadata": {},
   "source": [
    "Не более 5% товаров приобретается в количестве более 39,  не более чем 0.01% товаров приобретается в количестве более 2599. Разумно сделать срез и не рассмтривать товары, приобретаемые в количестве более 2560. Следует также исключить из анализа строки с незаполненным customer_id, поскольку в дальнейшем нам необходимо оценивать метрики с учетом числа покупателей."
   ]
  },
  {
   "cell_type": "code",
   "execution_count": 298,
   "id": "10e9f0d7",
   "metadata": {},
   "outputs": [
    {
     "data": {
      "text/html": [
       "<div>\n",
       "<style scoped>\n",
       "    .dataframe tbody tr th:only-of-type {\n",
       "        vertical-align: middle;\n",
       "    }\n",
       "\n",
       "    .dataframe tbody tr th {\n",
       "        vertical-align: top;\n",
       "    }\n",
       "\n",
       "    .dataframe thead th {\n",
       "        text-align: right;\n",
       "    }\n",
       "</style>\n",
       "<table border=\"1\" class=\"dataframe\">\n",
       "  <thead>\n",
       "    <tr style=\"text-align: right;\">\n",
       "      <th></th>\n",
       "      <th>quantity</th>\n",
       "      <th>customer_id</th>\n",
       "    </tr>\n",
       "  </thead>\n",
       "  <tbody>\n",
       "    <tr>\n",
       "      <th>count</th>\n",
       "      <td>71931.000000</td>\n",
       "      <td>71931.000000</td>\n",
       "    </tr>\n",
       "    <tr>\n",
       "      <th>mean</th>\n",
       "      <td>12.273901</td>\n",
       "      <td>16166.339478</td>\n",
       "    </tr>\n",
       "    <tr>\n",
       "      <th>std</th>\n",
       "      <td>44.599483</td>\n",
       "      <td>8876.384062</td>\n",
       "    </tr>\n",
       "    <tr>\n",
       "      <th>min</th>\n",
       "      <td>1.000000</td>\n",
       "      <td>0.000000</td>\n",
       "    </tr>\n",
       "    <tr>\n",
       "      <th>25%</th>\n",
       "      <td>2.000000</td>\n",
       "      <td>18151.000000</td>\n",
       "    </tr>\n",
       "    <tr>\n",
       "      <th>50%</th>\n",
       "      <td>5.000000</td>\n",
       "      <td>19986.000000</td>\n",
       "    </tr>\n",
       "    <tr>\n",
       "      <th>75%</th>\n",
       "      <td>11.000000</td>\n",
       "      <td>21972.000000</td>\n",
       "    </tr>\n",
       "    <tr>\n",
       "      <th>max</th>\n",
       "      <td>2559.000000</td>\n",
       "      <td>23962.000000</td>\n",
       "    </tr>\n",
       "  </tbody>\n",
       "</table>\n",
       "</div>"
      ],
      "text/plain": [
       "           quantity   customer_id\n",
       "count  71931.000000  71931.000000\n",
       "mean      12.273901  16166.339478\n",
       "std       44.599483   8876.384062\n",
       "min        1.000000      0.000000\n",
       "25%        2.000000  18151.000000\n",
       "50%        5.000000  19986.000000\n",
       "75%       11.000000  21972.000000\n",
       "max     2559.000000  23962.000000"
      ]
     },
     "execution_count": 298,
     "metadata": {},
     "output_type": "execute_result"
    }
   ],
   "source": [
    "#Предлагается убрать флуктуации, и урезать кол-во товаров до 2560\n",
    "retail_new = retail.query('quantity < 2560')\n",
    "retail_new.describe()#посмотрим описание датафрейма"
   ]
  },
  {
   "cell_type": "code",
   "execution_count": 299,
   "id": "f091d97a",
   "metadata": {},
   "outputs": [
    {
     "data": {
      "image/png": "[encoded data removed]",
      "text/plain": [
       "<Figure size 640x480 with 1 Axes>"
      ]
     },
     "metadata": {},
     "output_type": "display_data"
    }
   ],
   "source": [
    "#Вновь построим boxplot для столбца quantity\n",
    "sns.boxplot(data=retail_new, x='quantity')\n",
    "plt.xlabel('Кол-во, шт')\n",
    "plt.show()"
   ]
  },
  {
   "cell_type": "markdown",
   "id": "bd099c10",
   "metadata": {},
   "source": [
    "**Вывод:** В ходе предобработки данных, мы изменили названия столбцов - буквы в названиях столбцов привели к строчным и сделали запись в \"змеином\" формате. Значения в столбцах с датами привели в формат datetime. Привели к целочисленному формату значения в столбце с id покупателя (customer_id), значения в столбце loyalty_program привели к булевому типу. Мы удалили явные дубликаты, обработали пропущенные и аномальные значения.  "
   ]
  },
  {
   "cell_type": "markdown",
   "id": "52d906f2",
   "metadata": {},
   "source": [
    "<a id=\"step3\"></a> \n",
    "## Исследовательский анализ данных"
   ]
  },
  {
   "cell_type": "markdown",
   "id": "5217df29",
   "metadata": {},
   "source": [
    "### Определение анализируемого периода"
   ]
  },
  {
   "cell_type": "code",
   "execution_count": 300,
   "id": "3120f9dc",
   "metadata": {},
   "outputs": [
    {
     "name": "stdout",
     "output_type": "stream",
     "text": [
      "Самая ранняя дата в данных 2016-12-01\n",
      "Самая поздняя дата в данных 2017-02-28\n"
     ]
    }
   ],
   "source": [
    "#Определим минимальную и максимальную дату в данных\n",
    "min_date_data = min(retail['purchase_date']).strftime(\"%Y-%m-%d\")\n",
    "max_date_data = max(retail['purchase_date']).strftime(\"%Y-%m-%d\")\n",
    "print ('Самая ранняя дата в данных', min_date_data)\n",
    "print ('Самая поздняя дата в данных', max_date_data)"
   ]
  },
  {
   "cell_type": "markdown",
   "id": "854eaaac",
   "metadata": {},
   "source": [
    "**Вывод:** Самая ранняя дата в данных 2016-12-01, самая поздняя дата в данных 2017-02-28. Таким образом, в данных представленно 3 полных месяца"
   ]
  },
  {
   "cell_type": "markdown",
   "id": "a01c2a67",
   "metadata": {},
   "source": [
    "### Определение стоимости единицы товара"
   ]
  },
  {
   "cell_type": "markdown",
   "id": "084ac9ac",
   "metadata": {},
   "source": [
    "Обратим свое внимание на то, что в таблице product для одной и той же единицы товара указаны разные цены. Предположим, что в исходных данных не хватает информации о том, какая **стоимость единицы товара применяется для участников программы лояльности**. Предположим, что она ниже обычной стоимости. Предлагается считать, что если стоимость единицы товара ниже медианы - то эта стоимость товара для участника программы лояльности. Если стоимость выше медианы - то эта стоимость единицы товара для покупателей, не являющихся участниками программы лояльности. Исходя из нашего предположения разделим стоимости единицы товара на 2 группы (**для участника/не участника программы лояльности**) и посчитаем **среднее значение в каждой группе**, эта будет **средняя стоимость единицы товара для участника/не участника программы лояльности.**"
   ]
  },
  {
   "cell_type": "code",
   "execution_count": 301,
   "id": "90c34292",
   "metadata": {},
   "outputs": [
    {
     "data": {
      "text/html": [
       "<div>\n",
       "<style scoped>\n",
       "    .dataframe tbody tr th:only-of-type {\n",
       "        vertical-align: middle;\n",
       "    }\n",
       "\n",
       "    .dataframe tbody tr th {\n",
       "        vertical-align: top;\n",
       "    }\n",
       "\n",
       "    .dataframe thead th {\n",
       "        text-align: right;\n",
       "    }\n",
       "</style>\n",
       "<table border=\"1\" class=\"dataframe\">\n",
       "  <thead>\n",
       "    <tr style=\"text-align: right;\">\n",
       "      <th></th>\n",
       "      <th>item_id</th>\n",
       "      <th>price_per_one</th>\n",
       "    </tr>\n",
       "  </thead>\n",
       "  <tbody>\n",
       "    <tr>\n",
       "      <th>2</th>\n",
       "      <td>84406B</td>\n",
       "      <td>2.75</td>\n",
       "    </tr>\n",
       "    <tr>\n",
       "      <th>2018</th>\n",
       "      <td>84406B</td>\n",
       "      <td>3.25</td>\n",
       "    </tr>\n",
       "    <tr>\n",
       "      <th>3734</th>\n",
       "      <td>84406B</td>\n",
       "      <td>6.77</td>\n",
       "    </tr>\n",
       "    <tr>\n",
       "      <th>6476</th>\n",
       "      <td>84406B</td>\n",
       "      <td>3.44</td>\n",
       "    </tr>\n",
       "    <tr>\n",
       "      <th>6864</th>\n",
       "      <td>84406B</td>\n",
       "      <td>6.63</td>\n",
       "    </tr>\n",
       "    <tr>\n",
       "      <th>9081</th>\n",
       "      <td>84406B</td>\n",
       "      <td>4.15</td>\n",
       "    </tr>\n",
       "    <tr>\n",
       "      <th>9431</th>\n",
       "      <td>84406B</td>\n",
       "      <td>3.50</td>\n",
       "    </tr>\n",
       "    <tr>\n",
       "      <th>9445</th>\n",
       "      <td>84406B</td>\n",
       "      <td>8.29</td>\n",
       "    </tr>\n",
       "    <tr>\n",
       "      <th>9572</th>\n",
       "      <td>84406B</td>\n",
       "      <td>3.75</td>\n",
       "    </tr>\n",
       "  </tbody>\n",
       "</table>\n",
       "</div>"
      ],
      "text/plain": [
       "     item_id  price_per_one\n",
       "2     84406B           2.75\n",
       "2018  84406B           3.25\n",
       "3734  84406B           6.77\n",
       "6476  84406B           3.44\n",
       "6864  84406B           6.63\n",
       "9081  84406B           4.15\n",
       "9431  84406B           3.50\n",
       "9445  84406B           8.29\n",
       "9572  84406B           3.75"
      ]
     },
     "metadata": {},
     "output_type": "display_data"
    },
    {
     "name": "stdout",
     "output_type": "stream",
     "text": [
      "Медиана 3.75\n"
     ]
    }
   ],
   "source": [
    "#Посмотрим как колеблется стоимость единицы товара на примере одного из товаров\n",
    "data_84406B= product.query('item_id == \"84406B\"')\n",
    "display(data_84406B)\n",
    "print ('Медиана', data_84406B['price_per_one'].median().round(2))"
   ]
  },
  {
   "cell_type": "code",
   "execution_count": 302,
   "id": "b49225ee",
   "metadata": {},
   "outputs": [
    {
     "data": {
      "text/html": [
       "<div>\n",
       "<style scoped>\n",
       "    .dataframe tbody tr th:only-of-type {\n",
       "        vertical-align: middle;\n",
       "    }\n",
       "\n",
       "    .dataframe tbody tr th {\n",
       "        vertical-align: top;\n",
       "    }\n",
       "\n",
       "    .dataframe thead th {\n",
       "        text-align: right;\n",
       "    }\n",
       "</style>\n",
       "<table border=\"1\" class=\"dataframe\">\n",
       "  <thead>\n",
       "    <tr style=\"text-align: right;\">\n",
       "      <th></th>\n",
       "      <th>item_id</th>\n",
       "      <th>median</th>\n",
       "    </tr>\n",
       "  </thead>\n",
       "  <tbody>\n",
       "    <tr>\n",
       "      <th>0</th>\n",
       "      <td>10002</td>\n",
       "      <td>1.630</td>\n",
       "    </tr>\n",
       "    <tr>\n",
       "      <th>1</th>\n",
       "      <td>10080</td>\n",
       "      <td>0.850</td>\n",
       "    </tr>\n",
       "    <tr>\n",
       "      <th>2</th>\n",
       "      <td>10120</td>\n",
       "      <td>0.210</td>\n",
       "    </tr>\n",
       "    <tr>\n",
       "      <th>3</th>\n",
       "      <td>10123C</td>\n",
       "      <td>0.650</td>\n",
       "    </tr>\n",
       "    <tr>\n",
       "      <th>4</th>\n",
       "      <td>10124A</td>\n",
       "      <td>0.420</td>\n",
       "    </tr>\n",
       "    <tr>\n",
       "      <th>...</th>\n",
       "      <td>...</td>\n",
       "      <td>...</td>\n",
       "    </tr>\n",
       "    <tr>\n",
       "      <th>3097</th>\n",
       "      <td>gift_0001_20</td>\n",
       "      <td>16.845</td>\n",
       "    </tr>\n",
       "    <tr>\n",
       "      <th>3098</th>\n",
       "      <td>gift_0001_30</td>\n",
       "      <td>25.265</td>\n",
       "    </tr>\n",
       "    <tr>\n",
       "      <th>3099</th>\n",
       "      <td>gift_0001_40</td>\n",
       "      <td>34.040</td>\n",
       "    </tr>\n",
       "    <tr>\n",
       "      <th>3100</th>\n",
       "      <td>gift_0001_50</td>\n",
       "      <td>42.550</td>\n",
       "    </tr>\n",
       "    <tr>\n",
       "      <th>3101</th>\n",
       "      <td>m</td>\n",
       "      <td>2.550</td>\n",
       "    </tr>\n",
       "  </tbody>\n",
       "</table>\n",
       "<p>3102 rows × 2 columns</p>\n",
       "</div>"
      ],
      "text/plain": [
       "           item_id  median\n",
       "0            10002   1.630\n",
       "1            10080   0.850\n",
       "2            10120   0.210\n",
       "3           10123C   0.650\n",
       "4           10124A   0.420\n",
       "...            ...     ...\n",
       "3097  gift_0001_20  16.845\n",
       "3098  gift_0001_30  25.265\n",
       "3099  gift_0001_40  34.040\n",
       "3100  gift_0001_50  42.550\n",
       "3101             m   2.550\n",
       "\n",
       "[3102 rows x 2 columns]"
      ]
     },
     "metadata": {},
     "output_type": "display_data"
    }
   ],
   "source": [
    "#Рассчитаем медианное значение стоимости для каждой едининицы товара\n",
    "price_per_one_median =  pd.pivot_table(product, values='price_per_one', index=['item_id'], aggfunc=np.median)\n",
    "price_per_one_median = price_per_one_median.reset_index()[['item_id','price_per_one']]\n",
    "price_per_one_median.columns=['item_id','median']\n",
    "display(price_per_one_median)"
   ]
  },
  {
   "cell_type": "code",
   "execution_count": 303,
   "id": "4512749f",
   "metadata": {},
   "outputs": [
    {
     "data": {
      "text/html": [
       "<div>\n",
       "<style scoped>\n",
       "    .dataframe tbody tr th:only-of-type {\n",
       "        vertical-align: middle;\n",
       "    }\n",
       "\n",
       "    .dataframe tbody tr th {\n",
       "        vertical-align: top;\n",
       "    }\n",
       "\n",
       "    .dataframe thead th {\n",
       "        text-align: right;\n",
       "    }\n",
       "</style>\n",
       "<table border=\"1\" class=\"dataframe\">\n",
       "  <thead>\n",
       "    <tr style=\"text-align: right;\">\n",
       "      <th></th>\n",
       "      <th>item_id</th>\n",
       "      <th>price_per_one</th>\n",
       "      <th>median</th>\n",
       "    </tr>\n",
       "  </thead>\n",
       "  <tbody>\n",
       "    <tr>\n",
       "      <th>0</th>\n",
       "      <td>85123A</td>\n",
       "      <td>2.55</td>\n",
       "      <td>3.24</td>\n",
       "    </tr>\n",
       "    <tr>\n",
       "      <th>1</th>\n",
       "      <td>85123A</td>\n",
       "      <td>2.95</td>\n",
       "      <td>3.24</td>\n",
       "    </tr>\n",
       "    <tr>\n",
       "      <th>2</th>\n",
       "      <td>85123A</td>\n",
       "      <td>5.91</td>\n",
       "      <td>3.24</td>\n",
       "    </tr>\n",
       "    <tr>\n",
       "      <th>3</th>\n",
       "      <td>85123A</td>\n",
       "      <td>3.24</td>\n",
       "      <td>3.24</td>\n",
       "    </tr>\n",
       "    <tr>\n",
       "      <th>4</th>\n",
       "      <td>85123A</td>\n",
       "      <td>5.79</td>\n",
       "      <td>3.24</td>\n",
       "    </tr>\n",
       "    <tr>\n",
       "      <th>...</th>\n",
       "      <td>...</td>\n",
       "      <td>...</td>\n",
       "      <td>...</td>\n",
       "    </tr>\n",
       "    <tr>\n",
       "      <th>9582</th>\n",
       "      <td>90176A</td>\n",
       "      <td>7.48</td>\n",
       "      <td>7.48</td>\n",
       "    </tr>\n",
       "    <tr>\n",
       "      <th>9583</th>\n",
       "      <td>90176C</td>\n",
       "      <td>8.32</td>\n",
       "      <td>8.32</td>\n",
       "    </tr>\n",
       "    <tr>\n",
       "      <th>9584</th>\n",
       "      <td>90177A</td>\n",
       "      <td>2.90</td>\n",
       "      <td>2.90</td>\n",
       "    </tr>\n",
       "    <tr>\n",
       "      <th>9585</th>\n",
       "      <td>90187A</td>\n",
       "      <td>3.32</td>\n",
       "      <td>3.32</td>\n",
       "    </tr>\n",
       "    <tr>\n",
       "      <th>9586</th>\n",
       "      <td>90001A</td>\n",
       "      <td>4.15</td>\n",
       "      <td>4.15</td>\n",
       "    </tr>\n",
       "  </tbody>\n",
       "</table>\n",
       "<p>9587 rows × 3 columns</p>\n",
       "</div>"
      ],
      "text/plain": [
       "     item_id  price_per_one  median\n",
       "0     85123A           2.55    3.24\n",
       "1     85123A           2.95    3.24\n",
       "2     85123A           5.91    3.24\n",
       "3     85123A           3.24    3.24\n",
       "4     85123A           5.79    3.24\n",
       "...      ...            ...     ...\n",
       "9582  90176A           7.48    7.48\n",
       "9583  90176C           8.32    8.32\n",
       "9584  90177A           2.90    2.90\n",
       "9585  90187A           3.32    3.32\n",
       "9586  90001A           4.15    4.15\n",
       "\n",
       "[9587 rows x 3 columns]"
      ]
     },
     "metadata": {},
     "output_type": "display_data"
    }
   ],
   "source": [
    "#Добавим к таблице product медианные значения стоимости для кажой единицы товара\n",
    "data_price_per_one = pd.merge(product, price_per_one_median, on='item_id')\n",
    "display(data_price_per_one)"
   ]
  },
  {
   "cell_type": "markdown",
   "id": "4f23c0df",
   "metadata": {},
   "source": [
    "Добавим столбец, строки в нем будут принимать значения True или False. Значение True будет в том случае, если значение в столбце price_per_one меньше или равно значению в столбце median"
   ]
  },
  {
   "cell_type": "code",
   "execution_count": 304,
   "id": "4e5d2a86",
   "metadata": {},
   "outputs": [
    {
     "data": {
      "text/html": [
       "<div>\n",
       "<style scoped>\n",
       "    .dataframe tbody tr th:only-of-type {\n",
       "        vertical-align: middle;\n",
       "    }\n",
       "\n",
       "    .dataframe tbody tr th {\n",
       "        vertical-align: top;\n",
       "    }\n",
       "\n",
       "    .dataframe thead th {\n",
       "        text-align: right;\n",
       "    }\n",
       "</style>\n",
       "<table border=\"1\" class=\"dataframe\">\n",
       "  <thead>\n",
       "    <tr style=\"text-align: right;\">\n",
       "      <th></th>\n",
       "      <th>item_id</th>\n",
       "      <th>price_per_one</th>\n",
       "      <th>median</th>\n",
       "      <th>loyalty_program</th>\n",
       "    </tr>\n",
       "  </thead>\n",
       "  <tbody>\n",
       "    <tr>\n",
       "      <th>0</th>\n",
       "      <td>85123A</td>\n",
       "      <td>2.55</td>\n",
       "      <td>3.24</td>\n",
       "      <td>True</td>\n",
       "    </tr>\n",
       "    <tr>\n",
       "      <th>1</th>\n",
       "      <td>85123A</td>\n",
       "      <td>2.95</td>\n",
       "      <td>3.24</td>\n",
       "      <td>True</td>\n",
       "    </tr>\n",
       "    <tr>\n",
       "      <th>2</th>\n",
       "      <td>85123A</td>\n",
       "      <td>5.91</td>\n",
       "      <td>3.24</td>\n",
       "      <td>False</td>\n",
       "    </tr>\n",
       "    <tr>\n",
       "      <th>3</th>\n",
       "      <td>85123A</td>\n",
       "      <td>3.24</td>\n",
       "      <td>3.24</td>\n",
       "      <td>True</td>\n",
       "    </tr>\n",
       "    <tr>\n",
       "      <th>4</th>\n",
       "      <td>85123A</td>\n",
       "      <td>5.79</td>\n",
       "      <td>3.24</td>\n",
       "      <td>False</td>\n",
       "    </tr>\n",
       "    <tr>\n",
       "      <th>...</th>\n",
       "      <td>...</td>\n",
       "      <td>...</td>\n",
       "      <td>...</td>\n",
       "      <td>...</td>\n",
       "    </tr>\n",
       "    <tr>\n",
       "      <th>9582</th>\n",
       "      <td>90176A</td>\n",
       "      <td>7.48</td>\n",
       "      <td>7.48</td>\n",
       "      <td>True</td>\n",
       "    </tr>\n",
       "    <tr>\n",
       "      <th>9583</th>\n",
       "      <td>90176C</td>\n",
       "      <td>8.32</td>\n",
       "      <td>8.32</td>\n",
       "      <td>True</td>\n",
       "    </tr>\n",
       "    <tr>\n",
       "      <th>9584</th>\n",
       "      <td>90177A</td>\n",
       "      <td>2.90</td>\n",
       "      <td>2.90</td>\n",
       "      <td>True</td>\n",
       "    </tr>\n",
       "    <tr>\n",
       "      <th>9585</th>\n",
       "      <td>90187A</td>\n",
       "      <td>3.32</td>\n",
       "      <td>3.32</td>\n",
       "      <td>True</td>\n",
       "    </tr>\n",
       "    <tr>\n",
       "      <th>9586</th>\n",
       "      <td>90001A</td>\n",
       "      <td>4.15</td>\n",
       "      <td>4.15</td>\n",
       "      <td>True</td>\n",
       "    </tr>\n",
       "  </tbody>\n",
       "</table>\n",
       "<p>9587 rows × 4 columns</p>\n",
       "</div>"
      ],
      "text/plain": [
       "     item_id  price_per_one  median  loyalty_program\n",
       "0     85123A           2.55    3.24             True\n",
       "1     85123A           2.95    3.24             True\n",
       "2     85123A           5.91    3.24            False\n",
       "3     85123A           3.24    3.24             True\n",
       "4     85123A           5.79    3.24            False\n",
       "...      ...            ...     ...              ...\n",
       "9582  90176A           7.48    7.48             True\n",
       "9583  90176C           8.32    8.32             True\n",
       "9584  90177A           2.90    2.90             True\n",
       "9585  90187A           3.32    3.32             True\n",
       "9586  90001A           4.15    4.15             True\n",
       "\n",
       "[9587 rows x 4 columns]"
      ]
     },
     "metadata": {},
     "output_type": "display_data"
    }
   ],
   "source": [
    "data_price_per_one ['loyalty_program'] = data_price_per_one.apply(\n",
    "    lambda x: True if x['price_per_one'] <= x['median'] else False, axis = 1)\n",
    "display(data_price_per_one)"
   ]
  },
  {
   "cell_type": "markdown",
   "id": "0d01b149",
   "metadata": {},
   "source": [
    "Разделим стоимости единицы товара на 2 группы (для участника/для остальных покупателей) и посчитаем среднее значение в каждой группе, эта будет средняя стоимость единицы товара для участника/не участника программы лояльности."
   ]
  },
  {
   "cell_type": "code",
   "execution_count": 305,
   "id": "6e7a52a7",
   "metadata": {},
   "outputs": [
    {
     "data": {
      "text/html": [
       "<div>\n",
       "<style scoped>\n",
       "    .dataframe tbody tr th:only-of-type {\n",
       "        vertical-align: middle;\n",
       "    }\n",
       "\n",
       "    .dataframe tbody tr th {\n",
       "        vertical-align: top;\n",
       "    }\n",
       "\n",
       "    .dataframe thead th {\n",
       "        text-align: right;\n",
       "    }\n",
       "</style>\n",
       "<table border=\"1\" class=\"dataframe\">\n",
       "  <thead>\n",
       "    <tr style=\"text-align: right;\">\n",
       "      <th></th>\n",
       "      <th>item_id</th>\n",
       "      <th>loyalty_program</th>\n",
       "      <th>price_per_one</th>\n",
       "    </tr>\n",
       "  </thead>\n",
       "  <tbody>\n",
       "    <tr>\n",
       "      <th>0</th>\n",
       "      <td>10002</td>\n",
       "      <td>False</td>\n",
       "      <td>1.66</td>\n",
       "    </tr>\n",
       "    <tr>\n",
       "      <th>1</th>\n",
       "      <td>10002</td>\n",
       "      <td>True</td>\n",
       "      <td>1.24</td>\n",
       "    </tr>\n",
       "    <tr>\n",
       "      <th>2</th>\n",
       "      <td>10080</td>\n",
       "      <td>True</td>\n",
       "      <td>0.85</td>\n",
       "    </tr>\n",
       "    <tr>\n",
       "      <th>3</th>\n",
       "      <td>10120</td>\n",
       "      <td>True</td>\n",
       "      <td>0.21</td>\n",
       "    </tr>\n",
       "    <tr>\n",
       "      <th>4</th>\n",
       "      <td>10123C</td>\n",
       "      <td>True</td>\n",
       "      <td>0.65</td>\n",
       "    </tr>\n",
       "    <tr>\n",
       "      <th>...</th>\n",
       "      <td>...</td>\n",
       "      <td>...</td>\n",
       "      <td>...</td>\n",
       "    </tr>\n",
       "    <tr>\n",
       "      <th>5516</th>\n",
       "      <td>gift_0001_30</td>\n",
       "      <td>False</td>\n",
       "      <td>25.53</td>\n",
       "    </tr>\n",
       "    <tr>\n",
       "      <th>5517</th>\n",
       "      <td>gift_0001_30</td>\n",
       "      <td>True</td>\n",
       "      <td>25.00</td>\n",
       "    </tr>\n",
       "    <tr>\n",
       "      <th>5518</th>\n",
       "      <td>gift_0001_40</td>\n",
       "      <td>True</td>\n",
       "      <td>34.04</td>\n",
       "    </tr>\n",
       "    <tr>\n",
       "      <th>5519</th>\n",
       "      <td>gift_0001_50</td>\n",
       "      <td>True</td>\n",
       "      <td>42.55</td>\n",
       "    </tr>\n",
       "    <tr>\n",
       "      <th>5520</th>\n",
       "      <td>m</td>\n",
       "      <td>True</td>\n",
       "      <td>2.55</td>\n",
       "    </tr>\n",
       "  </tbody>\n",
       "</table>\n",
       "<p>5521 rows × 3 columns</p>\n",
       "</div>"
      ],
      "text/plain": [
       "           item_id  loyalty_program  price_per_one\n",
       "0            10002            False           1.66\n",
       "1            10002             True           1.24\n",
       "2            10080             True           0.85\n",
       "3            10120             True           0.21\n",
       "4           10123C             True           0.65\n",
       "...            ...              ...            ...\n",
       "5516  gift_0001_30            False          25.53\n",
       "5517  gift_0001_30             True          25.00\n",
       "5518  gift_0001_40             True          34.04\n",
       "5519  gift_0001_50             True          42.55\n",
       "5520             m             True           2.55\n",
       "\n",
       "[5521 rows x 3 columns]"
      ]
     },
     "metadata": {},
     "output_type": "display_data"
    }
   ],
   "source": [
    "price_per_one_new =  pd.pivot_table(\n",
    "    data_price_per_one , values='price_per_one', index=['item_id', 'loyalty_program'], aggfunc=np.mean)\n",
    "price_per_one_new = price_per_one_new.reset_index()[['item_id','loyalty_program','price_per_one']]\n",
    "price_per_one_new['price_per_one']=price_per_one_new['price_per_one'].round(2)\n",
    "display(price_per_one_new)"
   ]
  },
  {
   "cell_type": "markdown",
   "id": "df5e134e",
   "metadata": {},
   "source": [
    "**Вывод:** Мы обратили внимание на то, что в таблице product для одной и той же единицы товара указаны разные цены. И предположили, что в таблице со стоимостью единицы товара не хватает информации о том, является ли данная цена  **стоимостью единицы товара для участников программы лояльности** или нет. Мы раздели стоимости единицы товара на 2 группы : **для участника (ниже медианы) и для остальных покупателей (выше медианы)**,  для каждого товара посчитали **среднее значение в каждой группе**, эти стоимости мы будем применять далее в расчетах."
   ]
  },
  {
   "cell_type": "markdown",
   "id": "8d179a7a",
   "metadata": {},
   "source": [
    "### Объединение таблиц по id товара"
   ]
  },
  {
   "cell_type": "markdown",
   "id": "f42304d8",
   "metadata": {},
   "source": [
    "Сделаем объединение таблиц по id товара, а именно добавим в первую таблицу данные о стоимости каждой единицы товара, при этом  учтем, кто совершает покупку - участник программы лояльности или обычный покупатель."
   ]
  },
  {
   "cell_type": "code",
   "execution_count": 306,
   "id": "e68d794c",
   "metadata": {},
   "outputs": [
    {
     "data": {
      "text/html": [
       "<div>\n",
       "<style scoped>\n",
       "    .dataframe tbody tr th:only-of-type {\n",
       "        vertical-align: middle;\n",
       "    }\n",
       "\n",
       "    .dataframe tbody tr th {\n",
       "        vertical-align: top;\n",
       "    }\n",
       "\n",
       "    .dataframe thead th {\n",
       "        text-align: right;\n",
       "    }\n",
       "</style>\n",
       "<table border=\"1\" class=\"dataframe\">\n",
       "  <thead>\n",
       "    <tr style=\"text-align: right;\">\n",
       "      <th></th>\n",
       "      <th>purchase_id</th>\n",
       "      <th>item_id</th>\n",
       "      <th>quantity</th>\n",
       "      <th>purchase_date</th>\n",
       "      <th>customer_id</th>\n",
       "      <th>shop_id</th>\n",
       "      <th>loyalty_program</th>\n",
       "      <th>price_per_one</th>\n",
       "    </tr>\n",
       "  </thead>\n",
       "  <tbody>\n",
       "    <tr>\n",
       "      <th>0</th>\n",
       "      <td>538280</td>\n",
       "      <td>21873</td>\n",
       "      <td>11</td>\n",
       "      <td>2016-12-10 12:50:00</td>\n",
       "      <td>18427</td>\n",
       "      <td>Shop 0</td>\n",
       "      <td>False</td>\n",
       "      <td>2.77</td>\n",
       "    </tr>\n",
       "    <tr>\n",
       "      <th>1</th>\n",
       "      <td>540418</td>\n",
       "      <td>21873</td>\n",
       "      <td>1</td>\n",
       "      <td>2017-01-07 11:04:00</td>\n",
       "      <td>0</td>\n",
       "      <td>Shop 0</td>\n",
       "      <td>False</td>\n",
       "      <td>2.77</td>\n",
       "    </tr>\n",
       "    <tr>\n",
       "      <th>2</th>\n",
       "      <td>541516</td>\n",
       "      <td>21873</td>\n",
       "      <td>2</td>\n",
       "      <td>2017-01-18 17:34:00</td>\n",
       "      <td>0</td>\n",
       "      <td>Shop 0</td>\n",
       "      <td>False</td>\n",
       "      <td>2.77</td>\n",
       "    </tr>\n",
       "    <tr>\n",
       "      <th>3</th>\n",
       "      <td>538843</td>\n",
       "      <td>21873</td>\n",
       "      <td>1</td>\n",
       "      <td>2016-12-14 13:18:00</td>\n",
       "      <td>21712</td>\n",
       "      <td>Shop 0</td>\n",
       "      <td>False</td>\n",
       "      <td>2.77</td>\n",
       "    </tr>\n",
       "    <tr>\n",
       "      <th>4</th>\n",
       "      <td>540838</td>\n",
       "      <td>21873</td>\n",
       "      <td>11</td>\n",
       "      <td>2017-01-11 15:13:00</td>\n",
       "      <td>19541</td>\n",
       "      <td>Shop 0</td>\n",
       "      <td>False</td>\n",
       "      <td>2.77</td>\n",
       "    </tr>\n",
       "    <tr>\n",
       "      <th>...</th>\n",
       "      <td>...</td>\n",
       "      <td>...</td>\n",
       "      <td>...</td>\n",
       "      <td>...</td>\n",
       "      <td>...</td>\n",
       "      <td>...</td>\n",
       "      <td>...</td>\n",
       "      <td>...</td>\n",
       "    </tr>\n",
       "    <tr>\n",
       "      <th>70461</th>\n",
       "      <td>543374</td>\n",
       "      <td>20702</td>\n",
       "      <td>2</td>\n",
       "      <td>2017-02-07 15:05:00</td>\n",
       "      <td>22624</td>\n",
       "      <td>Shop 0</td>\n",
       "      <td>True</td>\n",
       "      <td>4.25</td>\n",
       "    </tr>\n",
       "    <tr>\n",
       "      <th>70462</th>\n",
       "      <td>542617</td>\n",
       "      <td>20731</td>\n",
       "      <td>2</td>\n",
       "      <td>2017-01-30 15:48:00</td>\n",
       "      <td>23142</td>\n",
       "      <td>Shop 0</td>\n",
       "      <td>True</td>\n",
       "      <td>1.25</td>\n",
       "    </tr>\n",
       "    <tr>\n",
       "      <th>70463</th>\n",
       "      <td>544677</td>\n",
       "      <td>22102</td>\n",
       "      <td>2</td>\n",
       "      <td>2017-02-22 16:13:00</td>\n",
       "      <td>23875</td>\n",
       "      <td>Shop 0</td>\n",
       "      <td>True</td>\n",
       "      <td>1.65</td>\n",
       "    </tr>\n",
       "    <tr>\n",
       "      <th>70464</th>\n",
       "      <td>541104</td>\n",
       "      <td>90125E</td>\n",
       "      <td>1</td>\n",
       "      <td>2017-01-13 14:29:00</td>\n",
       "      <td>0</td>\n",
       "      <td>Shop 0</td>\n",
       "      <td>False</td>\n",
       "      <td>4.13</td>\n",
       "    </tr>\n",
       "    <tr>\n",
       "      <th>70465</th>\n",
       "      <td>538510</td>\n",
       "      <td>90094</td>\n",
       "      <td>1</td>\n",
       "      <td>2016-12-12 13:47:00</td>\n",
       "      <td>23683</td>\n",
       "      <td>Shop 0</td>\n",
       "      <td>True</td>\n",
       "      <td>2.55</td>\n",
       "    </tr>\n",
       "  </tbody>\n",
       "</table>\n",
       "<p>70466 rows × 8 columns</p>\n",
       "</div>"
      ],
      "text/plain": [
       "      purchase_id item_id  quantity       purchase_date  customer_id shop_id  \\\n",
       "0          538280   21873        11 2016-12-10 12:50:00        18427  Shop 0   \n",
       "1          540418   21873         1 2017-01-07 11:04:00            0  Shop 0   \n",
       "2          541516   21873         2 2017-01-18 17:34:00            0  Shop 0   \n",
       "3          538843   21873         1 2016-12-14 13:18:00        21712  Shop 0   \n",
       "4          540838   21873        11 2017-01-11 15:13:00        19541  Shop 0   \n",
       "...           ...     ...       ...                 ...          ...     ...   \n",
       "70461      543374   20702         2 2017-02-07 15:05:00        22624  Shop 0   \n",
       "70462      542617   20731         2 2017-01-30 15:48:00        23142  Shop 0   \n",
       "70463      544677   22102         2 2017-02-22 16:13:00        23875  Shop 0   \n",
       "70464      541104  90125E         1 2017-01-13 14:29:00            0  Shop 0   \n",
       "70465      538510   90094         1 2016-12-12 13:47:00        23683  Shop 0   \n",
       "\n",
       "       loyalty_program  price_per_one  \n",
       "0                False           2.77  \n",
       "1                False           2.77  \n",
       "2                False           2.77  \n",
       "3                False           2.77  \n",
       "4                False           2.77  \n",
       "...                ...            ...  \n",
       "70461             True           4.25  \n",
       "70462             True           1.25  \n",
       "70463             True           1.65  \n",
       "70464            False           4.13  \n",
       "70465             True           2.55  \n",
       "\n",
       "[70466 rows x 8 columns]"
      ]
     },
     "metadata": {},
     "output_type": "display_data"
    }
   ],
   "source": [
    "#Сделаем объединение таблиц по id товара\n",
    "total_retail = pd.merge(retail_new, price_per_one_new, on=['item_id','loyalty_program'] )\n",
    "display(total_retail)"
   ]
  },
  {
   "cell_type": "markdown",
   "id": "d0eee755",
   "metadata": {},
   "source": [
    "### Средний чек"
   ]
  },
  {
   "cell_type": "code",
   "execution_count": 307,
   "id": "886b689a",
   "metadata": {},
   "outputs": [
    {
     "data": {
      "text/html": [
       "<div>\n",
       "<style scoped>\n",
       "    .dataframe tbody tr th:only-of-type {\n",
       "        vertical-align: middle;\n",
       "    }\n",
       "\n",
       "    .dataframe tbody tr th {\n",
       "        vertical-align: top;\n",
       "    }\n",
       "\n",
       "    .dataframe thead th {\n",
       "        text-align: right;\n",
       "    }\n",
       "</style>\n",
       "<table border=\"1\" class=\"dataframe\">\n",
       "  <thead>\n",
       "    <tr style=\"text-align: right;\">\n",
       "      <th></th>\n",
       "      <th>purchase_id</th>\n",
       "      <th>item_id</th>\n",
       "      <th>quantity</th>\n",
       "      <th>purchase_date</th>\n",
       "      <th>customer_id</th>\n",
       "      <th>shop_id</th>\n",
       "      <th>loyalty_program</th>\n",
       "      <th>price_per_one</th>\n",
       "      <th>total</th>\n",
       "    </tr>\n",
       "  </thead>\n",
       "  <tbody>\n",
       "    <tr>\n",
       "      <th>35527</th>\n",
       "      <td>C543624</td>\n",
       "      <td>M</td>\n",
       "      <td>201</td>\n",
       "      <td>2017-02-10 15:33:00</td>\n",
       "      <td>18610</td>\n",
       "      <td>Shop 0</td>\n",
       "      <td>False</td>\n",
       "      <td>513.36</td>\n",
       "      <td>103185.36</td>\n",
       "    </tr>\n",
       "    <tr>\n",
       "      <th>26359</th>\n",
       "      <td>C537651</td>\n",
       "      <td>AMAZONFEE</td>\n",
       "      <td>2</td>\n",
       "      <td>2016-12-07 15:49:00</td>\n",
       "      <td>0</td>\n",
       "      <td>Shop 0</td>\n",
       "      <td>False</td>\n",
       "      <td>15089.46</td>\n",
       "      <td>30178.92</td>\n",
       "    </tr>\n",
       "    <tr>\n",
       "      <th>26364</th>\n",
       "      <td>C537600</td>\n",
       "      <td>AMAZONFEE</td>\n",
       "      <td>2</td>\n",
       "      <td>2016-12-07 12:41:00</td>\n",
       "      <td>0</td>\n",
       "      <td>Shop 0</td>\n",
       "      <td>False</td>\n",
       "      <td>15089.46</td>\n",
       "      <td>30178.92</td>\n",
       "    </tr>\n",
       "    <tr>\n",
       "      <th>26355</th>\n",
       "      <td>C537652</td>\n",
       "      <td>AMAZONFEE</td>\n",
       "      <td>2</td>\n",
       "      <td>2016-12-07 15:51:00</td>\n",
       "      <td>0</td>\n",
       "      <td>Shop 0</td>\n",
       "      <td>False</td>\n",
       "      <td>15089.46</td>\n",
       "      <td>30178.92</td>\n",
       "    </tr>\n",
       "    <tr>\n",
       "      <th>26363</th>\n",
       "      <td>C544587</td>\n",
       "      <td>AMAZONFEE</td>\n",
       "      <td>2</td>\n",
       "      <td>2017-02-21 15:07:00</td>\n",
       "      <td>0</td>\n",
       "      <td>Shop 0</td>\n",
       "      <td>False</td>\n",
       "      <td>15089.46</td>\n",
       "      <td>30178.92</td>\n",
       "    </tr>\n",
       "    <tr>\n",
       "      <th>...</th>\n",
       "      <td>...</td>\n",
       "      <td>...</td>\n",
       "      <td>...</td>\n",
       "      <td>...</td>\n",
       "      <td>...</td>\n",
       "      <td>...</td>\n",
       "      <td>...</td>\n",
       "      <td>...</td>\n",
       "      <td>...</td>\n",
       "    </tr>\n",
       "    <tr>\n",
       "      <th>67145</th>\n",
       "      <td>536987</td>\n",
       "      <td>10120</td>\n",
       "      <td>1</td>\n",
       "      <td>2016-12-03 14:54:00</td>\n",
       "      <td>22877</td>\n",
       "      <td>Shop 0</td>\n",
       "      <td>True</td>\n",
       "      <td>0.21</td>\n",
       "      <td>0.21</td>\n",
       "    </tr>\n",
       "    <tr>\n",
       "      <th>61065</th>\n",
       "      <td>543273</td>\n",
       "      <td>47420</td>\n",
       "      <td>1</td>\n",
       "      <td>2017-02-06 11:29:00</td>\n",
       "      <td>22135</td>\n",
       "      <td>Shop 0</td>\n",
       "      <td>True</td>\n",
       "      <td>0.19</td>\n",
       "      <td>0.19</td>\n",
       "    </tr>\n",
       "    <tr>\n",
       "      <th>68895</th>\n",
       "      <td>537844</td>\n",
       "      <td>72232</td>\n",
       "      <td>1</td>\n",
       "      <td>2016-12-08 15:17:00</td>\n",
       "      <td>23678</td>\n",
       "      <td>Shop 0</td>\n",
       "      <td>True</td>\n",
       "      <td>0.19</td>\n",
       "      <td>0.19</td>\n",
       "    </tr>\n",
       "    <tr>\n",
       "      <th>61064</th>\n",
       "      <td>537792</td>\n",
       "      <td>47420</td>\n",
       "      <td>1</td>\n",
       "      <td>2016-12-08 12:56:00</td>\n",
       "      <td>22064</td>\n",
       "      <td>Shop 0</td>\n",
       "      <td>True</td>\n",
       "      <td>0.19</td>\n",
       "      <td>0.19</td>\n",
       "    </tr>\n",
       "    <tr>\n",
       "      <th>59223</th>\n",
       "      <td>538707</td>\n",
       "      <td>16237</td>\n",
       "      <td>1</td>\n",
       "      <td>2016-12-14 10:38:00</td>\n",
       "      <td>23573</td>\n",
       "      <td>Shop 0</td>\n",
       "      <td>True</td>\n",
       "      <td>0.18</td>\n",
       "      <td>0.18</td>\n",
       "    </tr>\n",
       "  </tbody>\n",
       "</table>\n",
       "<p>70466 rows × 9 columns</p>\n",
       "</div>"
      ],
      "text/plain": [
       "      purchase_id    item_id  quantity       purchase_date  customer_id  \\\n",
       "35527     C543624          M       201 2017-02-10 15:33:00        18610   \n",
       "26359     C537651  AMAZONFEE         2 2016-12-07 15:49:00            0   \n",
       "26364     C537600  AMAZONFEE         2 2016-12-07 12:41:00            0   \n",
       "26355     C537652  AMAZONFEE         2 2016-12-07 15:51:00            0   \n",
       "26363     C544587  AMAZONFEE         2 2017-02-21 15:07:00            0   \n",
       "...           ...        ...       ...                 ...          ...   \n",
       "67145      536987      10120         1 2016-12-03 14:54:00        22877   \n",
       "61065      543273      47420         1 2017-02-06 11:29:00        22135   \n",
       "68895      537844      72232         1 2016-12-08 15:17:00        23678   \n",
       "61064      537792      47420         1 2016-12-08 12:56:00        22064   \n",
       "59223      538707      16237         1 2016-12-14 10:38:00        23573   \n",
       "\n",
       "      shop_id  loyalty_program  price_per_one      total  \n",
       "35527  Shop 0            False         513.36  103185.36  \n",
       "26359  Shop 0            False       15089.46   30178.92  \n",
       "26364  Shop 0            False       15089.46   30178.92  \n",
       "26355  Shop 0            False       15089.46   30178.92  \n",
       "26363  Shop 0            False       15089.46   30178.92  \n",
       "...       ...              ...            ...        ...  \n",
       "67145  Shop 0             True           0.21       0.21  \n",
       "61065  Shop 0             True           0.19       0.19  \n",
       "68895  Shop 0             True           0.19       0.19  \n",
       "61064  Shop 0             True           0.19       0.19  \n",
       "59223  Shop 0             True           0.18       0.18  \n",
       "\n",
       "[70466 rows x 9 columns]"
      ]
     },
     "metadata": {},
     "output_type": "display_data"
    }
   ],
   "source": [
    "#Создадим расчетный столбец со стоимостью покупки (умножим стоимость единицы товара на количество\n",
    "total_retail ['total']= total_retail ['quantity']*total_retail ['price_per_one'].round(2)\n",
    "total_retail  = total_retail.sort_values('total', ascending = False)\n",
    "display(total_retail )"
   ]
  },
  {
   "cell_type": "code",
   "execution_count": 308,
   "id": "e4c9c79d",
   "metadata": {},
   "outputs": [
    {
     "data": {
      "text/html": [
       "<div>\n",
       "<style scoped>\n",
       "    .dataframe tbody tr th:only-of-type {\n",
       "        vertical-align: middle;\n",
       "    }\n",
       "\n",
       "    .dataframe tbody tr th {\n",
       "        vertical-align: top;\n",
       "    }\n",
       "\n",
       "    .dataframe thead th {\n",
       "        text-align: right;\n",
       "    }\n",
       "</style>\n",
       "<table border=\"1\" class=\"dataframe\">\n",
       "  <thead>\n",
       "    <tr style=\"text-align: right;\">\n",
       "      <th></th>\n",
       "      <th>purchase_id</th>\n",
       "      <th>loyalty_program</th>\n",
       "      <th>purchase_date</th>\n",
       "      <th>shop_id</th>\n",
       "      <th>quantity</th>\n",
       "      <th>total</th>\n",
       "    </tr>\n",
       "  </thead>\n",
       "  <tbody>\n",
       "    <tr>\n",
       "      <th>0</th>\n",
       "      <td>536365</td>\n",
       "      <td>True</td>\n",
       "      <td>2016-12-01 08:26:00</td>\n",
       "      <td>Shop 0</td>\n",
       "      <td>33</td>\n",
       "      <td>133.15</td>\n",
       "    </tr>\n",
       "    <tr>\n",
       "      <th>1</th>\n",
       "      <td>536366</td>\n",
       "      <td>True</td>\n",
       "      <td>2016-12-01 08:28:00</td>\n",
       "      <td>Shop 0</td>\n",
       "      <td>10</td>\n",
       "      <td>19.80</td>\n",
       "    </tr>\n",
       "    <tr>\n",
       "      <th>2</th>\n",
       "      <td>536367</td>\n",
       "      <td>False</td>\n",
       "      <td>2016-12-01 08:34:00</td>\n",
       "      <td>Shop 0</td>\n",
       "      <td>68</td>\n",
       "      <td>387.35</td>\n",
       "    </tr>\n",
       "    <tr>\n",
       "      <th>3</th>\n",
       "      <td>536368</td>\n",
       "      <td>False</td>\n",
       "      <td>2016-12-01 08:34:00</td>\n",
       "      <td>Shop 0</td>\n",
       "      <td>11</td>\n",
       "      <td>108.02</td>\n",
       "    </tr>\n",
       "    <tr>\n",
       "      <th>4</th>\n",
       "      <td>536369</td>\n",
       "      <td>False</td>\n",
       "      <td>2016-12-01 08:35:00</td>\n",
       "      <td>Shop 0</td>\n",
       "      <td>2</td>\n",
       "      <td>23.50</td>\n",
       "    </tr>\n",
       "    <tr>\n",
       "      <th>...</th>\n",
       "      <td>...</td>\n",
       "      <td>...</td>\n",
       "      <td>...</td>\n",
       "      <td>...</td>\n",
       "      <td>...</td>\n",
       "      <td>...</td>\n",
       "    </tr>\n",
       "    <tr>\n",
       "      <th>4567</th>\n",
       "      <td>C544902</td>\n",
       "      <td>False</td>\n",
       "      <td>2017-02-24 13:05:00</td>\n",
       "      <td>Shop 12</td>\n",
       "      <td>4</td>\n",
       "      <td>18.94</td>\n",
       "    </tr>\n",
       "    <tr>\n",
       "      <th>4568</th>\n",
       "      <td>C545003</td>\n",
       "      <td>True</td>\n",
       "      <td>2017-02-25 12:46:00</td>\n",
       "      <td>Shop 0</td>\n",
       "      <td>15</td>\n",
       "      <td>20.46</td>\n",
       "    </tr>\n",
       "    <tr>\n",
       "      <th>4569</th>\n",
       "      <td>C545033</td>\n",
       "      <td>False</td>\n",
       "      <td>2017-02-25 16:26:00</td>\n",
       "      <td>Shop 6</td>\n",
       "      <td>678</td>\n",
       "      <td>5979.73</td>\n",
       "    </tr>\n",
       "    <tr>\n",
       "      <th>4570</th>\n",
       "      <td>C545040</td>\n",
       "      <td>False</td>\n",
       "      <td>2017-02-27 10:25:00</td>\n",
       "      <td>Shop 0</td>\n",
       "      <td>2</td>\n",
       "      <td>12.70</td>\n",
       "    </tr>\n",
       "    <tr>\n",
       "      <th>4571</th>\n",
       "      <td>C545189</td>\n",
       "      <td>True</td>\n",
       "      <td>2017-02-28 15:19:00</td>\n",
       "      <td>Shop 0</td>\n",
       "      <td>2</td>\n",
       "      <td>3.28</td>\n",
       "    </tr>\n",
       "  </tbody>\n",
       "</table>\n",
       "<p>4572 rows × 6 columns</p>\n",
       "</div>"
      ],
      "text/plain": [
       "     purchase_id  loyalty_program       purchase_date  shop_id  quantity  \\\n",
       "0         536365             True 2016-12-01 08:26:00   Shop 0        33   \n",
       "1         536366             True 2016-12-01 08:28:00   Shop 0        10   \n",
       "2         536367            False 2016-12-01 08:34:00   Shop 0        68   \n",
       "3         536368            False 2016-12-01 08:34:00   Shop 0        11   \n",
       "4         536369            False 2016-12-01 08:35:00   Shop 0         2   \n",
       "...          ...              ...                 ...      ...       ...   \n",
       "4567     C544902            False 2017-02-24 13:05:00  Shop 12         4   \n",
       "4568     C545003             True 2017-02-25 12:46:00   Shop 0        15   \n",
       "4569     C545033            False 2017-02-25 16:26:00   Shop 6       678   \n",
       "4570     C545040            False 2017-02-27 10:25:00   Shop 0         2   \n",
       "4571     C545189             True 2017-02-28 15:19:00   Shop 0         2   \n",
       "\n",
       "        total  \n",
       "0      133.15  \n",
       "1       19.80  \n",
       "2      387.35  \n",
       "3      108.02  \n",
       "4       23.50  \n",
       "...       ...  \n",
       "4567    18.94  \n",
       "4568    20.46  \n",
       "4569  5979.73  \n",
       "4570    12.70  \n",
       "4571     3.28  \n",
       "\n",
       "[4572 rows x 6 columns]"
      ]
     },
     "metadata": {},
     "output_type": "display_data"
    }
   ],
   "source": [
    "#Найдем сумму покупок по каждому чеку. Для этого объединим данные по  id чека\n",
    "data_purchase_id = pd.pivot_table(total_retail, values=['total', 'quantity'], index=['purchase_id','loyalty_program','purchase_date','shop_id'], aggfunc=np.sum)\n",
    "data_purchase_id = data_purchase_id.reset_index()[['purchase_id','loyalty_program','purchase_date','shop_id','quantity','total']]\n",
    "data_purchase_id['total']=data_purchase_id['total'].round(2) # округлим значения\n",
    "display(data_purchase_id)"
   ]
  },
  {
   "cell_type": "code",
   "execution_count": 309,
   "id": "ba4553c4",
   "metadata": {},
   "outputs": [
    {
     "name": "stdout",
     "output_type": "stream",
     "text": [
      "Средний чек по всем покупкам равен 774.0\n",
      "Медианный чек по всем покупкам равен 285.0\n"
     ]
    }
   ],
   "source": [
    "mean_bill = data_purchase_id['total'].mean().round()\n",
    "print ('Средний чек по всем покупкам равен', mean_bill)\n",
    "median_bill = data_purchase_id['total'].median().round()\n",
    "print ('Медианный чек по всем покупкам равен', median_bill)"
   ]
  },
  {
   "cell_type": "markdown",
   "id": "af2facb6",
   "metadata": {},
   "source": [
    "**Вывод:** Средний чек по всем покупкам равен 774 рублей, медианный чек равен 285 рублей."
   ]
  },
  {
   "cell_type": "markdown",
   "id": "9c1bee6b",
   "metadata": {},
   "source": [
    "### Количество покупок по дням"
   ]
  },
  {
   "cell_type": "code",
   "execution_count": 310,
   "id": "cd938a6a",
   "metadata": {},
   "outputs": [
    {
     "data": {
      "text/html": [
       "<div>\n",
       "<style scoped>\n",
       "    .dataframe tbody tr th:only-of-type {\n",
       "        vertical-align: middle;\n",
       "    }\n",
       "\n",
       "    .dataframe tbody tr th {\n",
       "        vertical-align: top;\n",
       "    }\n",
       "\n",
       "    .dataframe thead th {\n",
       "        text-align: right;\n",
       "    }\n",
       "</style>\n",
       "<table border=\"1\" class=\"dataframe\">\n",
       "  <thead>\n",
       "    <tr style=\"text-align: right;\">\n",
       "      <th></th>\n",
       "      <th>date</th>\n",
       "      <th>total</th>\n",
       "    </tr>\n",
       "  </thead>\n",
       "  <tbody>\n",
       "    <tr>\n",
       "      <th>0</th>\n",
       "      <td>2016-12-01</td>\n",
       "      <td>132</td>\n",
       "    </tr>\n",
       "    <tr>\n",
       "      <th>1</th>\n",
       "      <td>2016-12-02</td>\n",
       "      <td>158</td>\n",
       "    </tr>\n",
       "    <tr>\n",
       "      <th>2</th>\n",
       "      <td>2016-12-03</td>\n",
       "      <td>96</td>\n",
       "    </tr>\n",
       "    <tr>\n",
       "      <th>3</th>\n",
       "      <td>2016-12-05</td>\n",
       "      <td>93</td>\n",
       "    </tr>\n",
       "    <tr>\n",
       "      <th>4</th>\n",
       "      <td>2016-12-06</td>\n",
       "      <td>124</td>\n",
       "    </tr>\n",
       "    <tr>\n",
       "      <th>...</th>\n",
       "      <td>...</td>\n",
       "      <td>...</td>\n",
       "    </tr>\n",
       "    <tr>\n",
       "      <th>63</th>\n",
       "      <td>2017-02-23</td>\n",
       "      <td>64</td>\n",
       "    </tr>\n",
       "    <tr>\n",
       "      <th>64</th>\n",
       "      <td>2017-02-24</td>\n",
       "      <td>64</td>\n",
       "    </tr>\n",
       "    <tr>\n",
       "      <th>65</th>\n",
       "      <td>2017-02-25</td>\n",
       "      <td>51</td>\n",
       "    </tr>\n",
       "    <tr>\n",
       "      <th>66</th>\n",
       "      <td>2017-02-27</td>\n",
       "      <td>33</td>\n",
       "    </tr>\n",
       "    <tr>\n",
       "      <th>67</th>\n",
       "      <td>2017-02-28</td>\n",
       "      <td>59</td>\n",
       "    </tr>\n",
       "  </tbody>\n",
       "</table>\n",
       "<p>68 rows × 2 columns</p>\n",
       "</div>"
      ],
      "text/plain": [
       "          date  total\n",
       "0   2016-12-01    132\n",
       "1   2016-12-02    158\n",
       "2   2016-12-03     96\n",
       "3   2016-12-05     93\n",
       "4   2016-12-06    124\n",
       "..         ...    ...\n",
       "63  2017-02-23     64\n",
       "64  2017-02-24     64\n",
       "65  2017-02-25     51\n",
       "66  2017-02-27     33\n",
       "67  2017-02-28     59\n",
       "\n",
       "[68 rows x 2 columns]"
      ]
     },
     "metadata": {},
     "output_type": "display_data"
    }
   ],
   "source": [
    "#Мы посчитаем количество чеков по дням и для наглядности построим диаграмму.\n",
    "#Сделаем столбец, в котором будет только дата\n",
    "data_purchase_id['date'] = data_purchase_id['purchase_date'].dt.date\n",
    "# Сгруппируем покупки по дате, найдем количество попупок по датам\n",
    "purchase_date = data_purchase_id.groupby('date').size().reset_index(name='total')\n",
    "display(purchase_date )"
   ]
  },
  {
   "cell_type": "code",
   "execution_count": 311,
   "id": "6874c9de",
   "metadata": {},
   "outputs": [
    {
     "data": {
      "application/vnd.plotly.v1+json": {
       "config": {
        "plotlyServerURL": "https://plot.ly"
       },
       "data": [
        {
         "alignmentgroup": "True",
         "hovertemplate": "date=%{x}<br>total=%{y}<extra></extra>",
         "legendgroup": "",
         "marker": {
          "color": "#636efa",
          "pattern": {
           "shape": ""
          }
         },
         "name": "",
         "offsetgroup": "",
         "orientation": "v",
         "showlegend": false,
         "textposition": "auto",
         "type": "bar",
         "x": [
          "2016-12-01",
          "2016-12-02",
          "2016-12-03",
          "2016-12-05",
          "2016-12-06",
          "2016-12-07",
          "2016-12-08",
          "2016-12-09",
          "2016-12-10",
          "2016-12-12",
          "2016-12-13",
          "2016-12-14",
          "2016-12-15",
          "2016-12-16",
          "2016-12-17",
          "2016-12-19",
          "2016-12-20",
          "2016-12-21",
          "2016-12-22",
          "2016-12-23",
          "2017-01-04",
          "2017-01-05",
          "2017-01-06",
          "2017-01-07",
          "2017-01-09",
          "2017-01-10",
          "2017-01-11",
          "2017-01-12",
          "2017-01-13",
          "2017-01-14",
          "2017-01-16",
          "2017-01-17",
          "2017-01-18",
          "2017-01-19",
          "2017-01-20",
          "2017-01-21",
          "2017-01-23",
          "2017-01-24",
          "2017-01-25",
          "2017-01-26",
          "2017-01-27",
          "2017-01-28",
          "2017-01-30",
          "2017-01-31",
          "2017-02-01",
          "2017-02-02",
          "2017-02-03",
          "2017-02-04",
          "2017-02-06",
          "2017-02-07",
          "2017-02-08",
          "2017-02-09",
          "2017-02-10",
          "2017-02-11",
          "2017-02-13",
          "2017-02-14",
          "2017-02-15",
          "2017-02-16",
          "2017-02-17",
          "2017-02-18",
          "2017-02-20",
          "2017-02-21",
          "2017-02-22",
          "2017-02-23",
          "2017-02-24",
          "2017-02-25",
          "2017-02-27",
          "2017-02-28"
         ],
         "xaxis": "x",
         "y": [
          132,
          158,
          96,
          93,
          124,
          108,
          136,
          157,
          82,
          49,
          80,
          140,
          96,
          144,
          68,
          22,
          87,
          56,
          20,
          33,
          53,
          74,
          76,
          56,
          51,
          52,
          76,
          57,
          48,
          55,
          27,
          53,
          47,
          43,
          51,
          62,
          29,
          58,
          83,
          70,
          77,
          61,
          24,
          82,
          83,
          70,
          50,
          63,
          11,
          50,
          53,
          31,
          66,
          88,
          24,
          53,
          67,
          70,
          68,
          62,
          28,
          57,
          61,
          64,
          64,
          51,
          33,
          59
         ],
         "yaxis": "y"
        }
       ],
       "layout": {
        "barmode": "relative",
        "height": 500,
        "legend": {
         "tracegroupgap": 0
        },
        "margin": {
         "t": 60
        },
        "plot_bgcolor": "white",
        "template": {
         "data": {
          "bar": [
           {
            "error_x": {
             "color": "#2a3f5f"
            },
            "error_y": {
             "color": "#2a3f5f"
            },
            "marker": {
             "line": {
              "color": "#E5ECF6",
              "width": 0.5
             },
             "pattern": {
              "fillmode": "overlay",
              "size": 10,
              "solidity": 0.2
             }
            },
            "type": "bar"
           }
          ],
          "barpolar": [
           {
            "marker": {
             "line": {
              "color": "#E5ECF6",
              "width": 0.5
             },
             "pattern": {
              "fillmode": "overlay",
              "size": 10,
              "solidity": 0.2
             }
            },
            "type": "barpolar"
           }
          ],
          "carpet": [
           {
            "aaxis": {
             "endlinecolor": "#2a3f5f",
             "gridcolor": "white",
             "linecolor": "white",
             "minorgridcolor": "white",
             "startlinecolor": "#2a3f5f"
            },
            "baxis": {
             "endlinecolor": "#2a3f5f",
             "gridcolor": "white",
             "linecolor": "white",
             "minorgridcolor": "white",
             "startlinecolor": "#2a3f5f"
            },
            "type": "carpet"
           }
          ],
          "choropleth": [
           {
            "colorbar": {
             "outlinewidth": 0,
             "ticks": ""
            },
            "type": "choropleth"
           }
          ],
          "contour": [
           {
            "colorbar": {
             "outlinewidth": 0,
             "ticks": ""
            },
            "colorscale": [
             [
              0,
              "#0d0887"
             ],
             [
              0.1111111111111111,
              "#46039f"
             ],
             [
              0.2222222222222222,
              "#7201a8"
             ],
             [
              0.3333333333333333,
              "#9c179e"
             ],
             [
              0.4444444444444444,
              "#bd3786"
             ],
             [
              0.5555555555555556,
              "#d8576b"
             ],
             [
              0.6666666666666666,
              "#ed7953"
             ],
             [
              0.7777777777777778,
              "#fb9f3a"
             ],
             [
              0.8888888888888888,
              "#fdca26"
             ],
             [
              1,
              "#f0f921"
             ]
            ],
            "type": "contour"
           }
          ],
          "contourcarpet": [
           {
            "colorbar": {
             "outlinewidth": 0,
             "ticks": ""
            },
            "type": "contourcarpet"
           }
          ],
          "heatmap": [
           {
            "colorbar": {
             "outlinewidth": 0,
             "ticks": ""
            },
            "colorscale": [
             [
              0,
              "#0d0887"
             ],
             [
              0.1111111111111111,
              "#46039f"
             ],
             [
              0.2222222222222222,
              "#7201a8"
             ],
             [
              0.3333333333333333,
              "#9c179e"
             ],
             [
              0.4444444444444444,
              "#bd3786"
             ],
             [
              0.5555555555555556,
              "#d8576b"
             ],
             [
              0.6666666666666666,
              "#ed7953"
             ],
             [
              0.7777777777777778,
              "#fb9f3a"
             ],
             [
              0.8888888888888888,
              "#fdca26"
             ],
             [
              1,
              "#f0f921"
             ]
            ],
            "type": "heatmap"
           }
          ],
          "heatmapgl": [
           {
            "colorbar": {
             "outlinewidth": 0,
             "ticks": ""
            },
            "colorscale": [
             [
              0,
              "#0d0887"
             ],
             [
              0.1111111111111111,
              "#46039f"
             ],
             [
              0.2222222222222222,
              "#7201a8"
             ],
             [
              0.3333333333333333,
              "#9c179e"
             ],
             [
              0.4444444444444444,
              "#bd3786"
             ],
             [
              0.5555555555555556,
              "#d8576b"
             ],
             [
              0.6666666666666666,
              "#ed7953"
             ],
             [
              0.7777777777777778,
              "#fb9f3a"
             ],
             [
              0.8888888888888888,
              "#fdca26"
             ],
             [
              1,
              "#f0f921"
             ]
            ],
            "type": "heatmapgl"
           }
          ],
          "histogram": [
           {
            "marker": {
             "pattern": {
              "fillmode": "overlay",
              "size": 10,
              "solidity": 0.2
             }
            },
            "type": "histogram"
           }
          ],
          "histogram2d": [
           {
            "colorbar": {
             "outlinewidth": 0,
             "ticks": ""
            },
            "colorscale": [
             [
              0,
              "#0d0887"
             ],
             [
              0.1111111111111111,
              "#46039f"
             ],
             [
              0.2222222222222222,
              "#7201a8"
             ],
             [
              0.3333333333333333,
              "#9c179e"
             ],
             [
              0.4444444444444444,
              "#bd3786"
             ],
             [
              0.5555555555555556,
              "#d8576b"
             ],
             [
              0.6666666666666666,
              "#ed7953"
             ],
             [
              0.7777777777777778,
              "#fb9f3a"
             ],
             [
              0.8888888888888888,
              "#fdca26"
             ],
             [
              1,
              "#f0f921"
             ]
            ],
            "type": "histogram2d"
           }
          ],
          "histogram2dcontour": [
           {
            "colorbar": {
             "outlinewidth": 0,
             "ticks": ""
            },
            "colorscale": [
             [
              0,
              "#0d0887"
             ],
             [
              0.1111111111111111,
              "#46039f"
             ],
             [
              0.2222222222222222,
              "#7201a8"
             ],
             [
              0.3333333333333333,
              "#9c179e"
             ],
             [
              0.4444444444444444,
              "#bd3786"
             ],
             [
              0.5555555555555556,
              "#d8576b"
             ],
             [
              0.6666666666666666,
              "#ed7953"
             ],
             [
              0.7777777777777778,
              "#fb9f3a"
             ],
             [
              0.8888888888888888,
              "#fdca26"
             ],
             [
              1,
              "#f0f921"
             ]
            ],
            "type": "histogram2dcontour"
           }
          ],
          "mesh3d": [
           {
            "colorbar": {
             "outlinewidth": 0,
             "ticks": ""
            },
            "type": "mesh3d"
           }
          ],
          "parcoords": [
           {
            "line": {
             "colorbar": {
              "outlinewidth": 0,
              "ticks": ""
             }
            },
            "type": "parcoords"
           }
          ],
          "pie": [
           {
            "automargin": true,
            "type": "pie"
           }
          ],
          "scatter": [
           {
            "marker": {
             "colorbar": {
              "outlinewidth": 0,
              "ticks": ""
             }
            },
            "type": "scatter"
           }
          ],
          "scatter3d": [
           {
            "line": {
             "colorbar": {
              "outlinewidth": 0,
              "ticks": ""
             }
            },
            "marker": {
             "colorbar": {
              "outlinewidth": 0,
              "ticks": ""
             }
            },
            "type": "scatter3d"
           }
          ],
          "scattercarpet": [
           {
            "marker": {
             "colorbar": {
              "outlinewidth": 0,
              "ticks": ""
             }
            },
            "type": "scattercarpet"
           }
          ],
          "scattergeo": [
           {
            "marker": {
             "colorbar": {
              "outlinewidth": 0,
              "ticks": ""
             }
            },
            "type": "scattergeo"
           }
          ],
          "scattergl": [
           {
            "marker": {
             "colorbar": {
              "outlinewidth": 0,
              "ticks": ""
             }
            },
            "type": "scattergl"
           }
          ],
          "scattermapbox": [
           {
            "marker": {
             "colorbar": {
              "outlinewidth": 0,
              "ticks": ""
             }
            },
            "type": "scattermapbox"
           }
          ],
          "scatterpolar": [
           {
            "marker": {
             "colorbar": {
              "outlinewidth": 0,
              "ticks": ""
             }
            },
            "type": "scatterpolar"
           }
          ],
          "scatterpolargl": [
           {
            "marker": {
             "colorbar": {
              "outlinewidth": 0,
              "ticks": ""
             }
            },
            "type": "scatterpolargl"
           }
          ],
          "scatterternary": [
           {
            "marker": {
             "colorbar": {
              "outlinewidth": 0,
              "ticks": ""
             }
            },
            "type": "scatterternary"
           }
          ],
          "surface": [
           {
            "colorbar": {
             "outlinewidth": 0,
             "ticks": ""
            },
            "colorscale": [
             [
              0,
              "#0d0887"
             ],
             [
              0.1111111111111111,
              "#46039f"
             ],
             [
              0.2222222222222222,
              "#7201a8"
             ],
             [
              0.3333333333333333,
              "#9c179e"
             ],
             [
              0.4444444444444444,
              "#bd3786"
             ],
             [
              0.5555555555555556,
              "#d8576b"
             ],
             [
              0.6666666666666666,
              "#ed7953"
             ],
             [
              0.7777777777777778,
              "#fb9f3a"
             ],
             [
              0.8888888888888888,
              "#fdca26"
             ],
             [
              1,
              "#f0f921"
             ]
            ],
            "type": "surface"
           }
          ],
          "table": [
           {
            "cells": {
             "fill": {
              "color": "#EBF0F8"
             },
             "line": {
              "color": "white"
             }
            },
            "header": {
             "fill": {
              "color": "#C8D4E3"
             },
             "line": {
              "color": "white"
             }
            },
            "type": "table"
           }
          ]
         },
         "layout": {
          "annotationdefaults": {
           "arrowcolor": "#2a3f5f",
           "arrowhead": 0,
           "arrowwidth": 1
          },
          "autotypenumbers": "strict",
          "coloraxis": {
           "colorbar": {
            "outlinewidth": 0,
            "ticks": ""
           }
          },
          "colorscale": {
           "diverging": [
            [
             0,
             "#8e0152"
            ],
            [
             0.1,
             "#c51b7d"
            ],
            [
             0.2,
             "#de77ae"
            ],
            [
             0.3,
             "#f1b6da"
            ],
            [
             0.4,
             "#fde0ef"
            ],
            [
             0.5,
             "#f7f7f7"
            ],
            [
             0.6,
             "#e6f5d0"
            ],
            [
             0.7,
             "#b8e186"
            ],
            [
             0.8,
             "#7fbc41"
            ],
            [
             0.9,
             "#4d9221"
            ],
            [
             1,
             "#276419"
            ]
           ],
           "sequential": [
            [
             0,
             "#0d0887"
            ],
            [
             0.1111111111111111,
             "#46039f"
            ],
            [
             0.2222222222222222,
             "#7201a8"
            ],
            [
             0.3333333333333333,
             "#9c179e"
            ],
            [
             0.4444444444444444,
             "#bd3786"
            ],
            [
             0.5555555555555556,
             "#d8576b"
            ],
            [
             0.6666666666666666,
             "#ed7953"
            ],
            [
             0.7777777777777778,
             "#fb9f3a"
            ],
            [
             0.8888888888888888,
             "#fdca26"
            ],
            [
             1,
             "#f0f921"
            ]
           ],
           "sequentialminus": [
            [
             0,
             "#0d0887"
            ],
            [
             0.1111111111111111,
             "#46039f"
            ],
            [
             0.2222222222222222,
             "#7201a8"
            ],
            [
             0.3333333333333333,
             "#9c179e"
            ],
            [
             0.4444444444444444,
             "#bd3786"
            ],
            [
             0.5555555555555556,
             "#d8576b"
            ],
            [
             0.6666666666666666,
             "#ed7953"
            ],
            [
             0.7777777777777778,
             "#fb9f3a"
            ],
            [
             0.8888888888888888,
             "#fdca26"
            ],
            [
             1,
             "#f0f921"
            ]
           ]
          },
          "colorway": [
           "#636efa",
           "#EF553B",
           "#00cc96",
           "#ab63fa",
           "#FFA15A",
           "#19d3f3",
           "#FF6692",
           "#B6E880",
           "#FF97FF",
           "#FECB52"
          ],
          "font": {
           "color": "#2a3f5f"
          },
          "geo": {
           "bgcolor": "white",
           "lakecolor": "white",
           "landcolor": "#E5ECF6",
           "showlakes": true,
           "showland": true,
           "subunitcolor": "white"
          },
          "hoverlabel": {
           "align": "left"
          },
          "hovermode": "closest",
          "mapbox": {
           "style": "light"
          },
          "paper_bgcolor": "white",
          "plot_bgcolor": "#E5ECF6",
          "polar": {
           "angularaxis": {
            "gridcolor": "white",
            "linecolor": "white",
            "ticks": ""
           },
           "bgcolor": "#E5ECF6",
           "radialaxis": {
            "gridcolor": "white",
            "linecolor": "white",
            "ticks": ""
           }
          },
          "scene": {
           "xaxis": {
            "backgroundcolor": "#E5ECF6",
            "gridcolor": "white",
            "gridwidth": 2,
            "linecolor": "white",
            "showbackground": true,
            "ticks": "",
            "zerolinecolor": "white"
           },
           "yaxis": {
            "backgroundcolor": "#E5ECF6",
            "gridcolor": "white",
            "gridwidth": 2,
            "linecolor": "white",
            "showbackground": true,
            "ticks": "",
            "zerolinecolor": "white"
           },
           "zaxis": {
            "backgroundcolor": "#E5ECF6",
            "gridcolor": "white",
            "gridwidth": 2,
            "linecolor": "white",
            "showbackground": true,
            "ticks": "",
            "zerolinecolor": "white"
           }
          },
          "shapedefaults": {
           "line": {
            "color": "#2a3f5f"
           }
          },
          "ternary": {
           "aaxis": {
            "gridcolor": "white",
            "linecolor": "white",
            "ticks": ""
           },
           "baxis": {
            "gridcolor": "white",
            "linecolor": "white",
            "ticks": ""
           },
           "bgcolor": "#E5ECF6",
           "caxis": {
            "gridcolor": "white",
            "linecolor": "white",
            "ticks": ""
           }
          },
          "title": {
           "x": 0.05
          },
          "xaxis": {
           "automargin": true,
           "gridcolor": "white",
           "linecolor": "white",
           "ticks": "",
           "title": {
            "standoff": 15
           },
           "zerolinecolor": "white",
           "zerolinewidth": 2
          },
          "yaxis": {
           "automargin": true,
           "gridcolor": "white",
           "linecolor": "white",
           "ticks": "",
           "title": {
            "standoff": 15
           },
           "zerolinecolor": "white",
           "zerolinewidth": 2
          }
         }
        },
        "title": {
         "text": "Распределение количества чеков по дням",
         "x": 0.5
        },
        "width": 700,
        "xaxis": {
         "anchor": "y",
         "domain": [
          0,
          1
         ],
         "title": {
          "text": "День"
         }
        },
        "yaxis": {
         "anchor": "x",
         "domain": [
          0,
          1
         ],
         "title": {
          "text": "Количество чеков"
         }
        }
       }
      },
      "text/html": [
       "<div>                            <div id=\"76d210f5-c158-477f-aa2b-d60550a3ca94\" class=\"plotly-graph-div\" style=\"height:500px; width:700px;\"></div>            <script type=\"text/javascript\">                require([\"plotly\"], function(Plotly) {                    window.PLOTLYENV=window.PLOTLYENV || {};                                    if (document.getElementById(\"76d210f5-c158-477f-aa2b-d60550a3ca94\")) {                    Plotly.newPlot(                        \"76d210f5-c158-477f-aa2b-d60550a3ca94\",                        [{\"alignmentgroup\":\"True\",\"hovertemplate\":\"date=%{x}<br>total=%{y}<extra></extra>\",\"legendgroup\":\"\",\"marker\":{\"color\":\"#636efa\",\"pattern\":{\"shape\":\"\"}},\"name\":\"\",\"offsetgroup\":\"\",\"orientation\":\"v\",\"showlegend\":false,\"textposition\":\"auto\",\"x\":[\"2016-12-01\",\"2016-12-02\",\"2016-12-03\",\"2016-12-05\",\"2016-12-06\",\"2016-12-07\",\"2016-12-08\",\"2016-12-09\",\"2016-12-10\",\"2016-12-12\",\"2016-12-13\",\"2016-12-14\",\"2016-12-15\",\"2016-12-16\",\"2016-12-17\",\"2016-12-19\",\"2016-12-20\",\"2016-12-21\",\"2016-12-22\",\"2016-12-23\",\"2017-01-04\",\"2017-01-05\",\"2017-01-06\",\"2017-01-07\",\"2017-01-09\",\"2017-01-10\",\"2017-01-11\",\"2017-01-12\",\"2017-01-13\",\"2017-01-14\",\"2017-01-16\",\"2017-01-17\",\"2017-01-18\",\"2017-01-19\",\"2017-01-20\",\"2017-01-21\",\"2017-01-23\",\"2017-01-24\",\"2017-01-25\",\"2017-01-26\",\"2017-01-27\",\"2017-01-28\",\"2017-01-30\",\"2017-01-31\",\"2017-02-01\",\"2017-02-02\",\"2017-02-03\",\"2017-02-04\",\"2017-02-06\",\"2017-02-07\",\"2017-02-08\",\"2017-02-09\",\"2017-02-10\",\"2017-02-11\",\"2017-02-13\",\"2017-02-14\",\"2017-02-15\",\"2017-02-16\",\"2017-02-17\",\"2017-02-18\",\"2017-02-20\",\"2017-02-21\",\"2017-02-22\",\"2017-02-23\",\"2017-02-24\",\"2017-02-25\",\"2017-02-27\",\"2017-02-28\"],\"xaxis\":\"x\",\"y\":[132,158,96,93,124,108,136,157,82,49,80,140,96,144,68,22,87,56,20,33,53,74,76,56,51,52,76,57,48,55,27,53,47,43,51,62,29,58,83,70,77,61,24,82,83,70,50,63,11,50,53,31,66,88,24,53,67,70,68,62,28,57,61,64,64,51,33,59],\"yaxis\":\"y\",\"type\":\"bar\"}],                        {\"template\":{\"data\":{\"bar\":[{\"error_x\":{\"color\":\"#2a3f5f\"},\"error_y\":{\"color\":\"#2a3f5f\"},\"marker\":{\"line\":{\"color\":\"#E5ECF6\",\"width\":0.5},\"pattern\":{\"fillmode\":\"overlay\",\"size\":10,\"solidity\":0.2}},\"type\":\"bar\"}],\"barpolar\":[{\"marker\":{\"line\":{\"color\":\"#E5ECF6\",\"width\":0.5},\"pattern\":{\"fillmode\":\"overlay\",\"size\":10,\"solidity\":0.2}},\"type\":\"barpolar\"}],\"carpet\":[{\"aaxis\":{\"endlinecolor\":\"#2a3f5f\",\"gridcolor\":\"white\",\"linecolor\":\"white\",\"minorgridcolor\":\"white\",\"startlinecolor\":\"#2a3f5f\"},\"baxis\":{\"endlinecolor\":\"#2a3f5f\",\"gridcolor\":\"white\",\"linecolor\":\"white\",\"minorgridcolor\":\"white\",\"startlinecolor\":\"#2a3f5f\"},\"type\":\"carpet\"}],\"choropleth\":[{\"colorbar\":{\"outlinewidth\":0,\"ticks\":\"\"},\"type\":\"choropleth\"}],\"contour\":[{\"colorbar\":{\"outlinewidth\":0,\"ticks\":\"\"},\"colorscale\":[[0.0,\"#0d0887\"],[0.1111111111111111,\"#46039f\"],[0.2222222222222222,\"#7201a8\"],[0.3333333333333333,\"#9c179e\"],[0.4444444444444444,\"#bd3786\"],[0.5555555555555556,\"#d8576b\"],[0.6666666666666666,\"#ed7953\"],[0.7777777777777778,\"#fb9f3a\"],[0.8888888888888888,\"#fdca26\"],[1.0,\"#f0f921\"]],\"type\":\"contour\"}],\"contourcarpet\":[{\"colorbar\":{\"outlinewidth\":0,\"ticks\":\"\"},\"type\":\"contourcarpet\"}],\"heatmap\":[{\"colorbar\":{\"outlinewidth\":0,\"ticks\":\"\"},\"colorscale\":[[0.0,\"#0d0887\"],[0.1111111111111111,\"#46039f\"],[0.2222222222222222,\"#7201a8\"],[0.3333333333333333,\"#9c179e\"],[0.4444444444444444,\"#bd3786\"],[0.5555555555555556,\"#d8576b\"],[0.6666666666666666,\"#ed7953\"],[0.7777777777777778,\"#fb9f3a\"],[0.8888888888888888,\"#fdca26\"],[1.0,\"#f0f921\"]],\"type\":\"heatmap\"}],\"heatmapgl\":[{\"colorbar\":{\"outlinewidth\":0,\"ticks\":\"\"},\"colorscale\":[[0.0,\"#0d0887\"],[0.1111111111111111,\"#46039f\"],[0.2222222222222222,\"#7201a8\"],[0.3333333333333333,\"#9c179e\"],[0.4444444444444444,\"#bd3786\"],[0.5555555555555556,\"#d8576b\"],[0.6666666666666666,\"#ed7953\"],[0.7777777777777778,\"#fb9f3a\"],[0.8888888888888888,\"#fdca26\"],[1.0,\"#f0f921\"]],\"type\":\"heatmapgl\"}],\"histogram\":[{\"marker\":{\"pattern\":{\"fillmode\":\"overlay\",\"size\":10,\"solidity\":0.2}},\"type\":\"histogram\"}],\"histogram2d\":[{\"colorbar\":{\"outlinewidth\":0,\"ticks\":\"\"},\"colorscale\":[[0.0,\"#0d0887\"],[0.1111111111111111,\"#46039f\"],[0.2222222222222222,\"#7201a8\"],[0.3333333333333333,\"#9c179e\"],[0.4444444444444444,\"#bd3786\"],[0.5555555555555556,\"#d8576b\"],[0.6666666666666666,\"#ed7953\"],[0.7777777777777778,\"#fb9f3a\"],[0.8888888888888888,\"#fdca26\"],[1.0,\"#f0f921\"]],\"type\":\"histogram2d\"}],\"histogram2dcontour\":[{\"colorbar\":{\"outlinewidth\":0,\"ticks\":\"\"},\"colorscale\":[[0.0,\"#0d0887\"],[0.1111111111111111,\"#46039f\"],[0.2222222222222222,\"#7201a8\"],[0.3333333333333333,\"#9c179e\"],[0.4444444444444444,\"#bd3786\"],[0.5555555555555556,\"#d8576b\"],[0.6666666666666666,\"#ed7953\"],[0.7777777777777778,\"#fb9f3a\"],[0.8888888888888888,\"#fdca26\"],[1.0,\"#f0f921\"]],\"type\":\"histogram2dcontour\"}],\"mesh3d\":[{\"colorbar\":{\"outlinewidth\":0,\"ticks\":\"\"},\"type\":\"mesh3d\"}],\"parcoords\":[{\"line\":{\"colorbar\":{\"outlinewidth\":0,\"ticks\":\"\"}},\"type\":\"parcoords\"}],\"pie\":[{\"automargin\":true,\"type\":\"pie\"}],\"scatter\":[{\"marker\":{\"colorbar\":{\"outlinewidth\":0,\"ticks\":\"\"}},\"type\":\"scatter\"}],\"scatter3d\":[{\"line\":{\"colorbar\":{\"outlinewidth\":0,\"ticks\":\"\"}},\"marker\":{\"colorbar\":{\"outlinewidth\":0,\"ticks\":\"\"}},\"type\":\"scatter3d\"}],\"scattercarpet\":[{\"marker\":{\"colorbar\":{\"outlinewidth\":0,\"ticks\":\"\"}},\"type\":\"scattercarpet\"}],\"scattergeo\":[{\"marker\":{\"colorbar\":{\"outlinewidth\":0,\"ticks\":\"\"}},\"type\":\"scattergeo\"}],\"scattergl\":[{\"marker\":{\"colorbar\":{\"outlinewidth\":0,\"ticks\":\"\"}},\"type\":\"scattergl\"}],\"scattermapbox\":[{\"marker\":{\"colorbar\":{\"outlinewidth\":0,\"ticks\":\"\"}},\"type\":\"scattermapbox\"}],\"scatterpolar\":[{\"marker\":{\"colorbar\":{\"outlinewidth\":0,\"ticks\":\"\"}},\"type\":\"scatterpolar\"}],\"scatterpolargl\":[{\"marker\":{\"colorbar\":{\"outlinewidth\":0,\"ticks\":\"\"}},\"type\":\"scatterpolargl\"}],\"scatterternary\":[{\"marker\":{\"colorbar\":{\"outlinewidth\":0,\"ticks\":\"\"}},\"type\":\"scatterternary\"}],\"surface\":[{\"colorbar\":{\"outlinewidth\":0,\"ticks\":\"\"},\"colorscale\":[[0.0,\"#0d0887\"],[0.1111111111111111,\"#46039f\"],[0.2222222222222222,\"#7201a8\"],[0.3333333333333333,\"#9c179e\"],[0.4444444444444444,\"#bd3786\"],[0.5555555555555556,\"#d8576b\"],[0.6666666666666666,\"#ed7953\"],[0.7777777777777778,\"#fb9f3a\"],[0.8888888888888888,\"#fdca26\"],[1.0,\"#f0f921\"]],\"type\":\"surface\"}],\"table\":[{\"cells\":{\"fill\":{\"color\":\"#EBF0F8\"},\"line\":{\"color\":\"white\"}},\"header\":{\"fill\":{\"color\":\"#C8D4E3\"},\"line\":{\"color\":\"white\"}},\"type\":\"table\"}]},\"layout\":{\"annotationdefaults\":{\"arrowcolor\":\"#2a3f5f\",\"arrowhead\":0,\"arrowwidth\":1},\"autotypenumbers\":\"strict\",\"coloraxis\":{\"colorbar\":{\"outlinewidth\":0,\"ticks\":\"\"}},\"colorscale\":{\"diverging\":[[0,\"#8e0152\"],[0.1,\"#c51b7d\"],[0.2,\"#de77ae\"],[0.3,\"#f1b6da\"],[0.4,\"#fde0ef\"],[0.5,\"#f7f7f7\"],[0.6,\"#e6f5d0\"],[0.7,\"#b8e186\"],[0.8,\"#7fbc41\"],[0.9,\"#4d9221\"],[1,\"#276419\"]],\"sequential\":[[0.0,\"#0d0887\"],[0.1111111111111111,\"#46039f\"],[0.2222222222222222,\"#7201a8\"],[0.3333333333333333,\"#9c179e\"],[0.4444444444444444,\"#bd3786\"],[0.5555555555555556,\"#d8576b\"],[0.6666666666666666,\"#ed7953\"],[0.7777777777777778,\"#fb9f3a\"],[0.8888888888888888,\"#fdca26\"],[1.0,\"#f0f921\"]],\"sequentialminus\":[[0.0,\"#0d0887\"],[0.1111111111111111,\"#46039f\"],[0.2222222222222222,\"#7201a8\"],[0.3333333333333333,\"#9c179e\"],[0.4444444444444444,\"#bd3786\"],[0.5555555555555556,\"#d8576b\"],[0.6666666666666666,\"#ed7953\"],[0.7777777777777778,\"#fb9f3a\"],[0.8888888888888888,\"#fdca26\"],[1.0,\"#f0f921\"]]},\"colorway\":[\"#636efa\",\"#EF553B\",\"#00cc96\",\"#ab63fa\",\"#FFA15A\",\"#19d3f3\",\"#FF6692\",\"#B6E880\",\"#FF97FF\",\"#FECB52\"],\"font\":{\"color\":\"#2a3f5f\"},\"geo\":{\"bgcolor\":\"white\",\"lakecolor\":\"white\",\"landcolor\":\"#E5ECF6\",\"showlakes\":true,\"showland\":true,\"subunitcolor\":\"white\"},\"hoverlabel\":{\"align\":\"left\"},\"hovermode\":\"closest\",\"mapbox\":{\"style\":\"light\"},\"paper_bgcolor\":\"white\",\"plot_bgcolor\":\"#E5ECF6\",\"polar\":{\"angularaxis\":{\"gridcolor\":\"white\",\"linecolor\":\"white\",\"ticks\":\"\"},\"bgcolor\":\"#E5ECF6\",\"radialaxis\":{\"gridcolor\":\"white\",\"linecolor\":\"white\",\"ticks\":\"\"}},\"scene\":{\"xaxis\":{\"backgroundcolor\":\"#E5ECF6\",\"gridcolor\":\"white\",\"gridwidth\":2,\"linecolor\":\"white\",\"showbackground\":true,\"ticks\":\"\",\"zerolinecolor\":\"white\"},\"yaxis\":{\"backgroundcolor\":\"#E5ECF6\",\"gridcolor\":\"white\",\"gridwidth\":2,\"linecolor\":\"white\",\"showbackground\":true,\"ticks\":\"\",\"zerolinecolor\":\"white\"},\"zaxis\":{\"backgroundcolor\":\"#E5ECF6\",\"gridcolor\":\"white\",\"gridwidth\":2,\"linecolor\":\"white\",\"showbackground\":true,\"ticks\":\"\",\"zerolinecolor\":\"white\"}},\"shapedefaults\":{\"line\":{\"color\":\"#2a3f5f\"}},\"ternary\":{\"aaxis\":{\"gridcolor\":\"white\",\"linecolor\":\"white\",\"ticks\":\"\"},\"baxis\":{\"gridcolor\":\"white\",\"linecolor\":\"white\",\"ticks\":\"\"},\"bgcolor\":\"#E5ECF6\",\"caxis\":{\"gridcolor\":\"white\",\"linecolor\":\"white\",\"ticks\":\"\"}},\"title\":{\"x\":0.05},\"xaxis\":{\"automargin\":true,\"gridcolor\":\"white\",\"linecolor\":\"white\",\"ticks\":\"\",\"title\":{\"standoff\":15},\"zerolinecolor\":\"white\",\"zerolinewidth\":2},\"yaxis\":{\"automargin\":true,\"gridcolor\":\"white\",\"linecolor\":\"white\",\"ticks\":\"\",\"title\":{\"standoff\":15},\"zerolinecolor\":\"white\",\"zerolinewidth\":2}}},\"xaxis\":{\"anchor\":\"y\",\"domain\":[0.0,1.0],\"title\":{\"text\":\"\\u0414\\u0435\\u043d\\u044c\"}},\"yaxis\":{\"anchor\":\"x\",\"domain\":[0.0,1.0],\"title\":{\"text\":\"\\u041a\\u043e\\u043b\\u0438\\u0447\\u0435\\u0441\\u0442\\u0432\\u043e \\u0447\\u0435\\u043a\\u043e\\u0432\"}},\"legend\":{\"tracegroupgap\":0},\"margin\":{\"t\":60},\"barmode\":\"relative\",\"title\":{\"text\":\"\\u0420\\u0430\\u0441\\u043f\\u0440\\u0435\\u0434\\u0435\\u043b\\u0435\\u043d\\u0438\\u0435 \\u043a\\u043e\\u043b\\u0438\\u0447\\u0435\\u0441\\u0442\\u0432\\u0430 \\u0447\\u0435\\u043a\\u043e\\u0432 \\u043f\\u043e \\u0434\\u043d\\u044f\\u043c\",\"x\":0.5},\"width\":700,\"height\":500,\"plot_bgcolor\":\"white\"},                        {\"responsive\": true}                    ).then(function(){\n",
       "                            \n",
       "var gd = document.getElementById('76d210f5-c158-477f-aa2b-d60550a3ca94');\n",
       "var x = new MutationObserver(function (mutations, observer) {{\n",
       "        var display = window.getComputedStyle(gd).display;\n",
       "        if (!display || display === 'none') {{\n",
       "            console.log([gd, 'removed!']);\n",
       "            Plotly.purge(gd);\n",
       "            observer.disconnect();\n",
       "        }}\n",
       "}});\n",
       "\n",
       "// Listen for the removal of the full notebook cells\n",
       "var notebookContainer = gd.closest('#notebook-container');\n",
       "if (notebookContainer) {{\n",
       "    x.observe(notebookContainer, {childList: true});\n",
       "}}\n",
       "\n",
       "// Listen for the clearing of the current output cell\n",
       "var outputEl = gd.closest('.output');\n",
       "if (outputEl) {{\n",
       "    x.observe(outputEl, {childList: true});\n",
       "}}\n",
       "\n",
       "                        })                };                });            </script>        </div>"
      ]
     },
     "metadata": {},
     "output_type": "display_data"
    }
   ],
   "source": [
    "# строим столбчатую диаграмму \n",
    "fig_0 = px.bar(purchase_date, # загружаем данные и заново их сортируем\n",
    "             y='total', # указываем столбец с данными для оси X\n",
    "             x='date') # указываем столбец с данными для оси Y\n",
    "             #text='total')\n",
    "    \n",
    "# оформляем график\n",
    "fig_0.update_layout(title='Распределение количества чеков по дням',\n",
    "                    title_x=0.5, #поместим название по центру\n",
    "                    xaxis_title='День',\n",
    "                    yaxis_title='Количество чеков',\n",
    "                    width=700, # указываем размеры графика\n",
    "                    height=500,\n",
    "                    plot_bgcolor='white')"
   ]
  },
  {
   "cell_type": "markdown",
   "id": "ac0bd850",
   "metadata": {},
   "source": [
    "**Вывод:** Мы проанализировали количество чеков по дням, за весь период. Больше всего покупок приходится на месяц декабрь, а именно до 23 декабря. С 23 декабря по 4 января покупок нет вообще, далее покупательская активность ниже, чем в первых 2-х декадах декабря."
   ]
  },
  {
   "cell_type": "markdown",
   "id": "0186eb91",
   "metadata": {},
   "source": [
    "### Среднее количество товаров на 1 покупку"
   ]
  },
  {
   "cell_type": "code",
   "execution_count": 312,
   "id": "cb8a2330",
   "metadata": {},
   "outputs": [
    {
     "name": "stdout",
     "output_type": "stream",
     "text": [
      "Среднее количество товаров за 1 покупку 187.0\n"
     ]
    }
   ],
   "source": [
    "#Расчитаем среднее количество покупок в чеке\n",
    "mean_quantity = data_purchase_id['quantity'].mean().round()\n",
    "print ('Среднее количество товаров за 1 покупку', mean_quantity)"
   ]
  },
  {
   "cell_type": "markdown",
   "id": "f07a8873",
   "metadata": {},
   "source": [
    "**Вывод:** В среднем покупатели приобретают 187 товаров за одну покупку"
   ]
  },
  {
   "cell_type": "markdown",
   "id": "0e339c36",
   "metadata": {},
   "source": [
    "### Распределение покупок по дням недели"
   ]
  },
  {
   "cell_type": "markdown",
   "id": "f3132d7e",
   "metadata": {},
   "source": [
    "Посмотрим, как распределены покупки по дням недели. Добавим в таблицу data_purchase_id столбец, в котором будем определять день недели. Далее сгруппируем сумму покупок по дням недели. "
   ]
  },
  {
   "cell_type": "code",
   "execution_count": 313,
   "id": "632b09de",
   "metadata": {},
   "outputs": [
    {
     "data": {
      "text/html": [
       "<div>\n",
       "<style scoped>\n",
       "    .dataframe tbody tr th:only-of-type {\n",
       "        vertical-align: middle;\n",
       "    }\n",
       "\n",
       "    .dataframe tbody tr th {\n",
       "        vertical-align: top;\n",
       "    }\n",
       "\n",
       "    .dataframe thead th {\n",
       "        text-align: right;\n",
       "    }\n",
       "</style>\n",
       "<table border=\"1\" class=\"dataframe\">\n",
       "  <thead>\n",
       "    <tr style=\"text-align: right;\">\n",
       "      <th></th>\n",
       "      <th>weekday</th>\n",
       "      <th>total</th>\n",
       "    </tr>\n",
       "  </thead>\n",
       "  <tbody>\n",
       "    <tr>\n",
       "      <th>0</th>\n",
       "      <td>Friday</td>\n",
       "      <td>992</td>\n",
       "    </tr>\n",
       "    <tr>\n",
       "      <th>3</th>\n",
       "      <td>Thursday</td>\n",
       "      <td>863</td>\n",
       "    </tr>\n",
       "    <tr>\n",
       "      <th>5</th>\n",
       "      <td>Wednesday</td>\n",
       "      <td>827</td>\n",
       "    </tr>\n",
       "    <tr>\n",
       "      <th>4</th>\n",
       "      <td>Tuesday</td>\n",
       "      <td>755</td>\n",
       "    </tr>\n",
       "    <tr>\n",
       "      <th>2</th>\n",
       "      <td>Saturday</td>\n",
       "      <td>744</td>\n",
       "    </tr>\n",
       "    <tr>\n",
       "      <th>1</th>\n",
       "      <td>Monday</td>\n",
       "      <td>391</td>\n",
       "    </tr>\n",
       "  </tbody>\n",
       "</table>\n",
       "</div>"
      ],
      "text/plain": [
       "     weekday  total\n",
       "0     Friday    992\n",
       "3   Thursday    863\n",
       "5  Wednesday    827\n",
       "4    Tuesday    755\n",
       "2   Saturday    744\n",
       "1     Monday    391"
      ]
     },
     "metadata": {},
     "output_type": "display_data"
    }
   ],
   "source": [
    "#Добавим в таблицу столбец, в котором будем определять день недели\n",
    "data_purchase_id['weekday'] = data_purchase_id['purchase_date'].dt.strftime('%A')\n",
    "#сгруппируем сумму покупок по дням недели и посчитаем количества вхождений каждого значения дня недели в столбце с днями недели \n",
    "purchase_weekday = data_purchase_id.groupby('weekday').size().reset_index(name='total')\n",
    "purchase_weekday = purchase_weekday.sort_values('total', ascending = False)\n",
    "display(purchase_weekday)"
   ]
  },
  {
   "cell_type": "code",
   "execution_count": 314,
   "id": "60a69f98",
   "metadata": {},
   "outputs": [
    {
     "data": {
      "application/vnd.plotly.v1+json": {
       "config": {
        "plotlyServerURL": "https://plot.ly"
       },
       "data": [
        {
         "alignmentgroup": "True",
         "hovertemplate": "weekday=%{x}<br>total=%{text}<extra></extra>",
         "legendgroup": "",
         "marker": {
          "color": "#636efa",
          "pattern": {
           "shape": ""
          }
         },
         "name": "",
         "offsetgroup": "",
         "orientation": "v",
         "showlegend": false,
         "text": [
          992,
          863,
          827,
          755,
          744,
          391
         ],
         "textposition": "auto",
         "type": "bar",
         "x": [
          "Friday",
          "Thursday",
          "Wednesday",
          "Tuesday",
          "Saturday",
          "Monday"
         ],
         "xaxis": "x",
         "y": [
          992,
          863,
          827,
          755,
          744,
          391
         ],
         "yaxis": "y"
        }
       ],
       "layout": {
        "barmode": "relative",
        "height": 400,
        "legend": {
         "tracegroupgap": 0
        },
        "margin": {
         "t": 60
        },
        "plot_bgcolor": "white",
        "template": {
         "data": {
          "bar": [
           {
            "error_x": {
             "color": "#2a3f5f"
            },
            "error_y": {
             "color": "#2a3f5f"
            },
            "marker": {
             "line": {
              "color": "#E5ECF6",
              "width": 0.5
             },
             "pattern": {
              "fillmode": "overlay",
              "size": 10,
              "solidity": 0.2
             }
            },
            "type": "bar"
           }
          ],
          "barpolar": [
           {
            "marker": {
             "line": {
              "color": "#E5ECF6",
              "width": 0.5
             },
             "pattern": {
              "fillmode": "overlay",
              "size": 10,
              "solidity": 0.2
             }
            },
            "type": "barpolar"
           }
          ],
          "carpet": [
           {
            "aaxis": {
             "endlinecolor": "#2a3f5f",
             "gridcolor": "white",
             "linecolor": "white",
             "minorgridcolor": "white",
             "startlinecolor": "#2a3f5f"
            },
            "baxis": {
             "endlinecolor": "#2a3f5f",
             "gridcolor": "white",
             "linecolor": "white",
             "minorgridcolor": "white",
             "startlinecolor": "#2a3f5f"
            },
            "type": "carpet"
           }
          ],
          "choropleth": [
           {
            "colorbar": {
             "outlinewidth": 0,
             "ticks": ""
            },
            "type": "choropleth"
           }
          ],
          "contour": [
           {
            "colorbar": {
             "outlinewidth": 0,
             "ticks": ""
            },
            "colorscale": [
             [
              0,
              "#0d0887"
             ],
             [
              0.1111111111111111,
              "#46039f"
             ],
             [
              0.2222222222222222,
              "#7201a8"
             ],
             [
              0.3333333333333333,
              "#9c179e"
             ],
             [
              0.4444444444444444,
              "#bd3786"
             ],
             [
              0.5555555555555556,
              "#d8576b"
             ],
             [
              0.6666666666666666,
              "#ed7953"
             ],
             [
              0.7777777777777778,
              "#fb9f3a"
             ],
             [
              0.8888888888888888,
              "#fdca26"
             ],
             [
              1,
              "#f0f921"
             ]
            ],
            "type": "contour"
           }
          ],
          "contourcarpet": [
           {
            "colorbar": {
             "outlinewidth": 0,
             "ticks": ""
            },
            "type": "contourcarpet"
           }
          ],
          "heatmap": [
           {
            "colorbar": {
             "outlinewidth": 0,
             "ticks": ""
            },
            "colorscale": [
             [
              0,
              "#0d0887"
             ],
             [
              0.1111111111111111,
              "#46039f"
             ],
             [
              0.2222222222222222,
              "#7201a8"
             ],
             [
              0.3333333333333333,
              "#9c179e"
             ],
             [
              0.4444444444444444,
              "#bd3786"
             ],
             [
              0.5555555555555556,
              "#d8576b"
             ],
             [
              0.6666666666666666,
              "#ed7953"
             ],
             [
              0.7777777777777778,
              "#fb9f3a"
             ],
             [
              0.8888888888888888,
              "#fdca26"
             ],
             [
              1,
              "#f0f921"
             ]
            ],
            "type": "heatmap"
           }
          ],
          "heatmapgl": [
           {
            "colorbar": {
             "outlinewidth": 0,
             "ticks": ""
            },
            "colorscale": [
             [
              0,
              "#0d0887"
             ],
             [
              0.1111111111111111,
              "#46039f"
             ],
             [
              0.2222222222222222,
              "#7201a8"
             ],
             [
              0.3333333333333333,
              "#9c179e"
             ],
             [
              0.4444444444444444,
              "#bd3786"
             ],
             [
              0.5555555555555556,
              "#d8576b"
             ],
             [
              0.6666666666666666,
              "#ed7953"
             ],
             [
              0.7777777777777778,
              "#fb9f3a"
             ],
             [
              0.8888888888888888,
              "#fdca26"
             ],
             [
              1,
              "#f0f921"
             ]
            ],
            "type": "heatmapgl"
           }
          ],
          "histogram": [
           {
            "marker": {
             "pattern": {
              "fillmode": "overlay",
              "size": 10,
              "solidity": 0.2
             }
            },
            "type": "histogram"
           }
          ],
          "histogram2d": [
           {
            "colorbar": {
             "outlinewidth": 0,
             "ticks": ""
            },
            "colorscale": [
             [
              0,
              "#0d0887"
             ],
             [
              0.1111111111111111,
              "#46039f"
             ],
             [
              0.2222222222222222,
              "#7201a8"
             ],
             [
              0.3333333333333333,
              "#9c179e"
             ],
             [
              0.4444444444444444,
              "#bd3786"
             ],
             [
              0.5555555555555556,
              "#d8576b"
             ],
             [
              0.6666666666666666,
              "#ed7953"
             ],
             [
              0.7777777777777778,
              "#fb9f3a"
             ],
             [
              0.8888888888888888,
              "#fdca26"
             ],
             [
              1,
              "#f0f921"
             ]
            ],
            "type": "histogram2d"
           }
          ],
          "histogram2dcontour": [
           {
            "colorbar": {
             "outlinewidth": 0,
             "ticks": ""
            },
            "colorscale": [
             [
              0,
              "#0d0887"
             ],
             [
              0.1111111111111111,
              "#46039f"
             ],
             [
              0.2222222222222222,
              "#7201a8"
             ],
             [
              0.3333333333333333,
              "#9c179e"
             ],
             [
              0.4444444444444444,
              "#bd3786"
             ],
             [
              0.5555555555555556,
              "#d8576b"
             ],
             [
              0.6666666666666666,
              "#ed7953"
             ],
             [
              0.7777777777777778,
              "#fb9f3a"
             ],
             [
              0.8888888888888888,
              "#fdca26"
             ],
             [
              1,
              "#f0f921"
             ]
            ],
            "type": "histogram2dcontour"
           }
          ],
          "mesh3d": [
           {
            "colorbar": {
             "outlinewidth": 0,
             "ticks": ""
            },
            "type": "mesh3d"
           }
          ],
          "parcoords": [
           {
            "line": {
             "colorbar": {
              "outlinewidth": 0,
              "ticks": ""
             }
            },
            "type": "parcoords"
           }
          ],
          "pie": [
           {
            "automargin": true,
            "type": "pie"
           }
          ],
          "scatter": [
           {
            "marker": {
             "colorbar": {
              "outlinewidth": 0,
              "ticks": ""
             }
            },
            "type": "scatter"
           }
          ],
          "scatter3d": [
           {
            "line": {
             "colorbar": {
              "outlinewidth": 0,
              "ticks": ""
             }
            },
            "marker": {
             "colorbar": {
              "outlinewidth": 0,
              "ticks": ""
             }
            },
            "type": "scatter3d"
           }
          ],
          "scattercarpet": [
           {
            "marker": {
             "colorbar": {
              "outlinewidth": 0,
              "ticks": ""
             }
            },
            "type": "scattercarpet"
           }
          ],
          "scattergeo": [
           {
            "marker": {
             "colorbar": {
              "outlinewidth": 0,
              "ticks": ""
             }
            },
            "type": "scattergeo"
           }
          ],
          "scattergl": [
           {
            "marker": {
             "colorbar": {
              "outlinewidth": 0,
              "ticks": ""
             }
            },
            "type": "scattergl"
           }
          ],
          "scattermapbox": [
           {
            "marker": {
             "colorbar": {
              "outlinewidth": 0,
              "ticks": ""
             }
            },
            "type": "scattermapbox"
           }
          ],
          "scatterpolar": [
           {
            "marker": {
             "colorbar": {
              "outlinewidth": 0,
              "ticks": ""
             }
            },
            "type": "scatterpolar"
           }
          ],
          "scatterpolargl": [
           {
            "marker": {
             "colorbar": {
              "outlinewidth": 0,
              "ticks": ""
             }
            },
            "type": "scatterpolargl"
           }
          ],
          "scatterternary": [
           {
            "marker": {
             "colorbar": {
              "outlinewidth": 0,
              "ticks": ""
             }
            },
            "type": "scatterternary"
           }
          ],
          "surface": [
           {
            "colorbar": {
             "outlinewidth": 0,
             "ticks": ""
            },
            "colorscale": [
             [
              0,
              "#0d0887"
             ],
             [
              0.1111111111111111,
              "#46039f"
             ],
             [
              0.2222222222222222,
              "#7201a8"
             ],
             [
              0.3333333333333333,
              "#9c179e"
             ],
             [
              0.4444444444444444,
              "#bd3786"
             ],
             [
              0.5555555555555556,
              "#d8576b"
             ],
             [
              0.6666666666666666,
              "#ed7953"
             ],
             [
              0.7777777777777778,
              "#fb9f3a"
             ],
             [
              0.8888888888888888,
              "#fdca26"
             ],
             [
              1,
              "#f0f921"
             ]
            ],
            "type": "surface"
           }
          ],
          "table": [
           {
            "cells": {
             "fill": {
              "color": "#EBF0F8"
             },
             "line": {
              "color": "white"
             }
            },
            "header": {
             "fill": {
              "color": "#C8D4E3"
             },
             "line": {
              "color": "white"
             }
            },
            "type": "table"
           }
          ]
         },
         "layout": {
          "annotationdefaults": {
           "arrowcolor": "#2a3f5f",
           "arrowhead": 0,
           "arrowwidth": 1
          },
          "autotypenumbers": "strict",
          "coloraxis": {
           "colorbar": {
            "outlinewidth": 0,
            "ticks": ""
           }
          },
          "colorscale": {
           "diverging": [
            [
             0,
             "#8e0152"
            ],
            [
             0.1,
             "#c51b7d"
            ],
            [
             0.2,
             "#de77ae"
            ],
            [
             0.3,
             "#f1b6da"
            ],
            [
             0.4,
             "#fde0ef"
            ],
            [
             0.5,
             "#f7f7f7"
            ],
            [
             0.6,
             "#e6f5d0"
            ],
            [
             0.7,
             "#b8e186"
            ],
            [
             0.8,
             "#7fbc41"
            ],
            [
             0.9,
             "#4d9221"
            ],
            [
             1,
             "#276419"
            ]
           ],
           "sequential": [
            [
             0,
             "#0d0887"
            ],
            [
             0.1111111111111111,
             "#46039f"
            ],
            [
             0.2222222222222222,
             "#7201a8"
            ],
            [
             0.3333333333333333,
             "#9c179e"
            ],
            [
             0.4444444444444444,
             "#bd3786"
            ],
            [
             0.5555555555555556,
             "#d8576b"
            ],
            [
             0.6666666666666666,
             "#ed7953"
            ],
            [
             0.7777777777777778,
             "#fb9f3a"
            ],
            [
             0.8888888888888888,
             "#fdca26"
            ],
            [
             1,
             "#f0f921"
            ]
           ],
           "sequentialminus": [
            [
             0,
             "#0d0887"
            ],
            [
             0.1111111111111111,
             "#46039f"
            ],
            [
             0.2222222222222222,
             "#7201a8"
            ],
            [
             0.3333333333333333,
             "#9c179e"
            ],
            [
             0.4444444444444444,
             "#bd3786"
            ],
            [
             0.5555555555555556,
             "#d8576b"
            ],
            [
             0.6666666666666666,
             "#ed7953"
            ],
            [
             0.7777777777777778,
             "#fb9f3a"
            ],
            [
             0.8888888888888888,
             "#fdca26"
            ],
            [
             1,
             "#f0f921"
            ]
           ]
          },
          "colorway": [
           "#636efa",
           "#EF553B",
           "#00cc96",
           "#ab63fa",
           "#FFA15A",
           "#19d3f3",
           "#FF6692",
           "#B6E880",
           "#FF97FF",
           "#FECB52"
          ],
          "font": {
           "color": "#2a3f5f"
          },
          "geo": {
           "bgcolor": "white",
           "lakecolor": "white",
           "landcolor": "#E5ECF6",
           "showlakes": true,
           "showland": true,
           "subunitcolor": "white"
          },
          "hoverlabel": {
           "align": "left"
          },
          "hovermode": "closest",
          "mapbox": {
           "style": "light"
          },
          "paper_bgcolor": "white",
          "plot_bgcolor": "#E5ECF6",
          "polar": {
           "angularaxis": {
            "gridcolor": "white",
            "linecolor": "white",
            "ticks": ""
           },
           "bgcolor": "#E5ECF6",
           "radialaxis": {
            "gridcolor": "white",
            "linecolor": "white",
            "ticks": ""
           }
          },
          "scene": {
           "xaxis": {
            "backgroundcolor": "#E5ECF6",
            "gridcolor": "white",
            "gridwidth": 2,
            "linecolor": "white",
            "showbackground": true,
            "ticks": "",
            "zerolinecolor": "white"
           },
           "yaxis": {
            "backgroundcolor": "#E5ECF6",
            "gridcolor": "white",
            "gridwidth": 2,
            "linecolor": "white",
            "showbackground": true,
            "ticks": "",
            "zerolinecolor": "white"
           },
           "zaxis": {
            "backgroundcolor": "#E5ECF6",
            "gridcolor": "white",
            "gridwidth": 2,
            "linecolor": "white",
            "showbackground": true,
            "ticks": "",
            "zerolinecolor": "white"
           }
          },
          "shapedefaults": {
           "line": {
            "color": "#2a3f5f"
           }
          },
          "ternary": {
           "aaxis": {
            "gridcolor": "white",
            "linecolor": "white",
            "ticks": ""
           },
           "baxis": {
            "gridcolor": "white",
            "linecolor": "white",
            "ticks": ""
           },
           "bgcolor": "#E5ECF6",
           "caxis": {
            "gridcolor": "white",
            "linecolor": "white",
            "ticks": ""
           }
          },
          "title": {
           "x": 0.05
          },
          "xaxis": {
           "automargin": true,
           "gridcolor": "white",
           "linecolor": "white",
           "ticks": "",
           "title": {
            "standoff": 15
           },
           "zerolinecolor": "white",
           "zerolinewidth": 2
          },
          "yaxis": {
           "automargin": true,
           "gridcolor": "white",
           "linecolor": "white",
           "ticks": "",
           "title": {
            "standoff": 15
           },
           "zerolinecolor": "white",
           "zerolinewidth": 2
          }
         }
        },
        "title": {
         "text": "Распределение кол-ва покупок по дням недели"
        },
        "width": 600,
        "xaxis": {
         "anchor": "y",
         "domain": [
          0,
          1
         ],
         "title": {
          "text": "День недели"
         }
        },
        "yaxis": {
         "anchor": "x",
         "domain": [
          0,
          1
         ],
         "title": {
          "text": "Количество во чеков"
         }
        }
       }
      },
      "text/html": [
       "<div>                            <div id=\"e9f1cc20-a806-4fae-86fd-b558f78a11ee\" class=\"plotly-graph-div\" style=\"height:400px; width:600px;\"></div>            <script type=\"text/javascript\">                require([\"plotly\"], function(Plotly) {                    window.PLOTLYENV=window.PLOTLYENV || {};                                    if (document.getElementById(\"e9f1cc20-a806-4fae-86fd-b558f78a11ee\")) {                    Plotly.newPlot(                        \"e9f1cc20-a806-4fae-86fd-b558f78a11ee\",                        [{\"alignmentgroup\":\"True\",\"hovertemplate\":\"weekday=%{x}<br>total=%{text}<extra></extra>\",\"legendgroup\":\"\",\"marker\":{\"color\":\"#636efa\",\"pattern\":{\"shape\":\"\"}},\"name\":\"\",\"offsetgroup\":\"\",\"orientation\":\"v\",\"showlegend\":false,\"text\":[992.0,863.0,827.0,755.0,744.0,391.0],\"textposition\":\"auto\",\"x\":[\"Friday\",\"Thursday\",\"Wednesday\",\"Tuesday\",\"Saturday\",\"Monday\"],\"xaxis\":\"x\",\"y\":[992,863,827,755,744,391],\"yaxis\":\"y\",\"type\":\"bar\"}],                        {\"template\":{\"data\":{\"bar\":[{\"error_x\":{\"color\":\"#2a3f5f\"},\"error_y\":{\"color\":\"#2a3f5f\"},\"marker\":{\"line\":{\"color\":\"#E5ECF6\",\"width\":0.5},\"pattern\":{\"fillmode\":\"overlay\",\"size\":10,\"solidity\":0.2}},\"type\":\"bar\"}],\"barpolar\":[{\"marker\":{\"line\":{\"color\":\"#E5ECF6\",\"width\":0.5},\"pattern\":{\"fillmode\":\"overlay\",\"size\":10,\"solidity\":0.2}},\"type\":\"barpolar\"}],\"carpet\":[{\"aaxis\":{\"endlinecolor\":\"#2a3f5f\",\"gridcolor\":\"white\",\"linecolor\":\"white\",\"minorgridcolor\":\"white\",\"startlinecolor\":\"#2a3f5f\"},\"baxis\":{\"endlinecolor\":\"#2a3f5f\",\"gridcolor\":\"white\",\"linecolor\":\"white\",\"minorgridcolor\":\"white\",\"startlinecolor\":\"#2a3f5f\"},\"type\":\"carpet\"}],\"choropleth\":[{\"colorbar\":{\"outlinewidth\":0,\"ticks\":\"\"},\"type\":\"choropleth\"}],\"contour\":[{\"colorbar\":{\"outlinewidth\":0,\"ticks\":\"\"},\"colorscale\":[[0.0,\"#0d0887\"],[0.1111111111111111,\"#46039f\"],[0.2222222222222222,\"#7201a8\"],[0.3333333333333333,\"#9c179e\"],[0.4444444444444444,\"#bd3786\"],[0.5555555555555556,\"#d8576b\"],[0.6666666666666666,\"#ed7953\"],[0.7777777777777778,\"#fb9f3a\"],[0.8888888888888888,\"#fdca26\"],[1.0,\"#f0f921\"]],\"type\":\"contour\"}],\"contourcarpet\":[{\"colorbar\":{\"outlinewidth\":0,\"ticks\":\"\"},\"type\":\"contourcarpet\"}],\"heatmap\":[{\"colorbar\":{\"outlinewidth\":0,\"ticks\":\"\"},\"colorscale\":[[0.0,\"#0d0887\"],[0.1111111111111111,\"#46039f\"],[0.2222222222222222,\"#7201a8\"],[0.3333333333333333,\"#9c179e\"],[0.4444444444444444,\"#bd3786\"],[0.5555555555555556,\"#d8576b\"],[0.6666666666666666,\"#ed7953\"],[0.7777777777777778,\"#fb9f3a\"],[0.8888888888888888,\"#fdca26\"],[1.0,\"#f0f921\"]],\"type\":\"heatmap\"}],\"heatmapgl\":[{\"colorbar\":{\"outlinewidth\":0,\"ticks\":\"\"},\"colorscale\":[[0.0,\"#0d0887\"],[0.1111111111111111,\"#46039f\"],[0.2222222222222222,\"#7201a8\"],[0.3333333333333333,\"#9c179e\"],[0.4444444444444444,\"#bd3786\"],[0.5555555555555556,\"#d8576b\"],[0.6666666666666666,\"#ed7953\"],[0.7777777777777778,\"#fb9f3a\"],[0.8888888888888888,\"#fdca26\"],[1.0,\"#f0f921\"]],\"type\":\"heatmapgl\"}],\"histogram\":[{\"marker\":{\"pattern\":{\"fillmode\":\"overlay\",\"size\":10,\"solidity\":0.2}},\"type\":\"histogram\"}],\"histogram2d\":[{\"colorbar\":{\"outlinewidth\":0,\"ticks\":\"\"},\"colorscale\":[[0.0,\"#0d0887\"],[0.1111111111111111,\"#46039f\"],[0.2222222222222222,\"#7201a8\"],[0.3333333333333333,\"#9c179e\"],[0.4444444444444444,\"#bd3786\"],[0.5555555555555556,\"#d8576b\"],[0.6666666666666666,\"#ed7953\"],[0.7777777777777778,\"#fb9f3a\"],[0.8888888888888888,\"#fdca26\"],[1.0,\"#f0f921\"]],\"type\":\"histogram2d\"}],\"histogram2dcontour\":[{\"colorbar\":{\"outlinewidth\":0,\"ticks\":\"\"},\"colorscale\":[[0.0,\"#0d0887\"],[0.1111111111111111,\"#46039f\"],[0.2222222222222222,\"#7201a8\"],[0.3333333333333333,\"#9c179e\"],[0.4444444444444444,\"#bd3786\"],[0.5555555555555556,\"#d8576b\"],[0.6666666666666666,\"#ed7953\"],[0.7777777777777778,\"#fb9f3a\"],[0.8888888888888888,\"#fdca26\"],[1.0,\"#f0f921\"]],\"type\":\"histogram2dcontour\"}],\"mesh3d\":[{\"colorbar\":{\"outlinewidth\":0,\"ticks\":\"\"},\"type\":\"mesh3d\"}],\"parcoords\":[{\"line\":{\"colorbar\":{\"outlinewidth\":0,\"ticks\":\"\"}},\"type\":\"parcoords\"}],\"pie\":[{\"automargin\":true,\"type\":\"pie\"}],\"scatter\":[{\"marker\":{\"colorbar\":{\"outlinewidth\":0,\"ticks\":\"\"}},\"type\":\"scatter\"}],\"scatter3d\":[{\"line\":{\"colorbar\":{\"outlinewidth\":0,\"ticks\":\"\"}},\"marker\":{\"colorbar\":{\"outlinewidth\":0,\"ticks\":\"\"}},\"type\":\"scatter3d\"}],\"scattercarpet\":[{\"marker\":{\"colorbar\":{\"outlinewidth\":0,\"ticks\":\"\"}},\"type\":\"scattercarpet\"}],\"scattergeo\":[{\"marker\":{\"colorbar\":{\"outlinewidth\":0,\"ticks\":\"\"}},\"type\":\"scattergeo\"}],\"scattergl\":[{\"marker\":{\"colorbar\":{\"outlinewidth\":0,\"ticks\":\"\"}},\"type\":\"scattergl\"}],\"scattermapbox\":[{\"marker\":{\"colorbar\":{\"outlinewidth\":0,\"ticks\":\"\"}},\"type\":\"scattermapbox\"}],\"scatterpolar\":[{\"marker\":{\"colorbar\":{\"outlinewidth\":0,\"ticks\":\"\"}},\"type\":\"scatterpolar\"}],\"scatterpolargl\":[{\"marker\":{\"colorbar\":{\"outlinewidth\":0,\"ticks\":\"\"}},\"type\":\"scatterpolargl\"}],\"scatterternary\":[{\"marker\":{\"colorbar\":{\"outlinewidth\":0,\"ticks\":\"\"}},\"type\":\"scatterternary\"}],\"surface\":[{\"colorbar\":{\"outlinewidth\":0,\"ticks\":\"\"},\"colorscale\":[[0.0,\"#0d0887\"],[0.1111111111111111,\"#46039f\"],[0.2222222222222222,\"#7201a8\"],[0.3333333333333333,\"#9c179e\"],[0.4444444444444444,\"#bd3786\"],[0.5555555555555556,\"#d8576b\"],[0.6666666666666666,\"#ed7953\"],[0.7777777777777778,\"#fb9f3a\"],[0.8888888888888888,\"#fdca26\"],[1.0,\"#f0f921\"]],\"type\":\"surface\"}],\"table\":[{\"cells\":{\"fill\":{\"color\":\"#EBF0F8\"},\"line\":{\"color\":\"white\"}},\"header\":{\"fill\":{\"color\":\"#C8D4E3\"},\"line\":{\"color\":\"white\"}},\"type\":\"table\"}]},\"layout\":{\"annotationdefaults\":{\"arrowcolor\":\"#2a3f5f\",\"arrowhead\":0,\"arrowwidth\":1},\"autotypenumbers\":\"strict\",\"coloraxis\":{\"colorbar\":{\"outlinewidth\":0,\"ticks\":\"\"}},\"colorscale\":{\"diverging\":[[0,\"#8e0152\"],[0.1,\"#c51b7d\"],[0.2,\"#de77ae\"],[0.3,\"#f1b6da\"],[0.4,\"#fde0ef\"],[0.5,\"#f7f7f7\"],[0.6,\"#e6f5d0\"],[0.7,\"#b8e186\"],[0.8,\"#7fbc41\"],[0.9,\"#4d9221\"],[1,\"#276419\"]],\"sequential\":[[0.0,\"#0d0887\"],[0.1111111111111111,\"#46039f\"],[0.2222222222222222,\"#7201a8\"],[0.3333333333333333,\"#9c179e\"],[0.4444444444444444,\"#bd3786\"],[0.5555555555555556,\"#d8576b\"],[0.6666666666666666,\"#ed7953\"],[0.7777777777777778,\"#fb9f3a\"],[0.8888888888888888,\"#fdca26\"],[1.0,\"#f0f921\"]],\"sequentialminus\":[[0.0,\"#0d0887\"],[0.1111111111111111,\"#46039f\"],[0.2222222222222222,\"#7201a8\"],[0.3333333333333333,\"#9c179e\"],[0.4444444444444444,\"#bd3786\"],[0.5555555555555556,\"#d8576b\"],[0.6666666666666666,\"#ed7953\"],[0.7777777777777778,\"#fb9f3a\"],[0.8888888888888888,\"#fdca26\"],[1.0,\"#f0f921\"]]},\"colorway\":[\"#636efa\",\"#EF553B\",\"#00cc96\",\"#ab63fa\",\"#FFA15A\",\"#19d3f3\",\"#FF6692\",\"#B6E880\",\"#FF97FF\",\"#FECB52\"],\"font\":{\"color\":\"#2a3f5f\"},\"geo\":{\"bgcolor\":\"white\",\"lakecolor\":\"white\",\"landcolor\":\"#E5ECF6\",\"showlakes\":true,\"showland\":true,\"subunitcolor\":\"white\"},\"hoverlabel\":{\"align\":\"left\"},\"hovermode\":\"closest\",\"mapbox\":{\"style\":\"light\"},\"paper_bgcolor\":\"white\",\"plot_bgcolor\":\"#E5ECF6\",\"polar\":{\"angularaxis\":{\"gridcolor\":\"white\",\"linecolor\":\"white\",\"ticks\":\"\"},\"bgcolor\":\"#E5ECF6\",\"radialaxis\":{\"gridcolor\":\"white\",\"linecolor\":\"white\",\"ticks\":\"\"}},\"scene\":{\"xaxis\":{\"backgroundcolor\":\"#E5ECF6\",\"gridcolor\":\"white\",\"gridwidth\":2,\"linecolor\":\"white\",\"showbackground\":true,\"ticks\":\"\",\"zerolinecolor\":\"white\"},\"yaxis\":{\"backgroundcolor\":\"#E5ECF6\",\"gridcolor\":\"white\",\"gridwidth\":2,\"linecolor\":\"white\",\"showbackground\":true,\"ticks\":\"\",\"zerolinecolor\":\"white\"},\"zaxis\":{\"backgroundcolor\":\"#E5ECF6\",\"gridcolor\":\"white\",\"gridwidth\":2,\"linecolor\":\"white\",\"showbackground\":true,\"ticks\":\"\",\"zerolinecolor\":\"white\"}},\"shapedefaults\":{\"line\":{\"color\":\"#2a3f5f\"}},\"ternary\":{\"aaxis\":{\"gridcolor\":\"white\",\"linecolor\":\"white\",\"ticks\":\"\"},\"baxis\":{\"gridcolor\":\"white\",\"linecolor\":\"white\",\"ticks\":\"\"},\"bgcolor\":\"#E5ECF6\",\"caxis\":{\"gridcolor\":\"white\",\"linecolor\":\"white\",\"ticks\":\"\"}},\"title\":{\"x\":0.05},\"xaxis\":{\"automargin\":true,\"gridcolor\":\"white\",\"linecolor\":\"white\",\"ticks\":\"\",\"title\":{\"standoff\":15},\"zerolinecolor\":\"white\",\"zerolinewidth\":2},\"yaxis\":{\"automargin\":true,\"gridcolor\":\"white\",\"linecolor\":\"white\",\"ticks\":\"\",\"title\":{\"standoff\":15},\"zerolinecolor\":\"white\",\"zerolinewidth\":2}}},\"xaxis\":{\"anchor\":\"y\",\"domain\":[0.0,1.0],\"title\":{\"text\":\"\\u0414\\u0435\\u043d\\u044c \\u043d\\u0435\\u0434\\u0435\\u043b\\u0438\"}},\"yaxis\":{\"anchor\":\"x\",\"domain\":[0.0,1.0],\"title\":{\"text\":\"\\u041a\\u043e\\u043b\\u0438\\u0447\\u0435\\u0441\\u0442\\u0432\\u043e \\u0432\\u043e \\u0447\\u0435\\u043a\\u043e\\u0432\"}},\"legend\":{\"tracegroupgap\":0},\"margin\":{\"t\":60},\"barmode\":\"relative\",\"title\":{\"text\":\"\\u0420\\u0430\\u0441\\u043f\\u0440\\u0435\\u0434\\u0435\\u043b\\u0435\\u043d\\u0438\\u0435 \\u043a\\u043e\\u043b-\\u0432\\u0430 \\u043f\\u043e\\u043a\\u0443\\u043f\\u043e\\u043a \\u043f\\u043e \\u0434\\u043d\\u044f\\u043c \\u043d\\u0435\\u0434\\u0435\\u043b\\u0438\"},\"width\":600,\"height\":400,\"plot_bgcolor\":\"white\"},                        {\"responsive\": true}                    ).then(function(){\n",
       "                            \n",
       "var gd = document.getElementById('e9f1cc20-a806-4fae-86fd-b558f78a11ee');\n",
       "var x = new MutationObserver(function (mutations, observer) {{\n",
       "        var display = window.getComputedStyle(gd).display;\n",
       "        if (!display || display === 'none') {{\n",
       "            console.log([gd, 'removed!']);\n",
       "            Plotly.purge(gd);\n",
       "            observer.disconnect();\n",
       "        }}\n",
       "}});\n",
       "\n",
       "// Listen for the removal of the full notebook cells\n",
       "var notebookContainer = gd.closest('#notebook-container');\n",
       "if (notebookContainer) {{\n",
       "    x.observe(notebookContainer, {childList: true});\n",
       "}}\n",
       "\n",
       "// Listen for the clearing of the current output cell\n",
       "var outputEl = gd.closest('.output');\n",
       "if (outputEl) {{\n",
       "    x.observe(outputEl, {childList: true});\n",
       "}}\n",
       "\n",
       "                        })                };                });            </script>        </div>"
      ]
     },
     "metadata": {},
     "output_type": "display_data"
    }
   ],
   "source": [
    "# строим столбчатую диаграмму \n",
    "fig_1 = px.bar(purchase_weekday, # загружаем данные и заново их сортируем\n",
    "             y='total', # указываем столбец с данными для оси X\n",
    "             x='weekday', # указываем столбец с данными для оси Y\n",
    "             text='total')\n",
    "    \n",
    "# оформляем график\n",
    "fig_1.update_layout(title='Распределение кол-ва покупок по дням недели',\n",
    "                   xaxis_title='День недели',\n",
    "                   yaxis_title='Количество во чеков',\n",
    "                   width=600, # указываем размеры графика\n",
    "                   height=400,\n",
    "                   plot_bgcolor='white')"
   ]
  },
  {
   "cell_type": "markdown",
   "id": "568e8be0",
   "metadata": {},
   "source": [
    "**Вывод:** Реже всего в данной сети магазинов покупки совершают в понедельник, чаще всего в пятницу. В воскресенье нет покупок, видимо в этот день магазин закрыт."
   ]
  },
  {
   "cell_type": "markdown",
   "id": "8266231f",
   "metadata": {},
   "source": [
    "###  Распределение покупок по магазинам"
   ]
  },
  {
   "cell_type": "code",
   "execution_count": 315,
   "id": "4a45f490",
   "metadata": {},
   "outputs": [
    {
     "data": {
      "text/plain": [
       "array(['Shop 0', 'Shop 1', 'Shop 4', 'Shop 6', 'Shop 2', 'Shop 11',\n",
       "       'Shop 3', 'Shop 5', 'Shop 7', 'Shop 12', 'Shop 8', 'Shop 27',\n",
       "       'Shop 10', 'Shop 20', 'Shop 19', 'Shop 25', 'Shop 14', 'Shop 21',\n",
       "       'Shop 18', 'Shop 9', 'Shop 16', 'Shop 28', 'Shop 29', 'Shop 17',\n",
       "       'Shop 22', 'Shop 13', 'Shop 26', 'Shop 24', 'Shop 15', 'Shop 23',\n",
       "       'Shop 30'], dtype=object)"
      ]
     },
     "execution_count": 315,
     "metadata": {},
     "output_type": "execute_result"
    }
   ],
   "source": [
    "#Посмотрим сколько всего магизинов представлено в данных\n",
    "retail_new['shop_id'].unique()"
   ]
  },
  {
   "cell_type": "code",
   "execution_count": 316,
   "id": "ec98054d",
   "metadata": {},
   "outputs": [
    {
     "data": {
      "text/html": [
       "<style  type=\"text/css\" >\n",
       "#T_8ac58_row0_col1{\n",
       "            background-color:  #023858;\n",
       "            color:  #f1f1f1;\n",
       "        }#T_8ac58_row1_col1{\n",
       "            background-color:  #fbf4f9;\n",
       "            color:  #000000;\n",
       "        }#T_8ac58_row2_col1{\n",
       "            background-color:  #fcf4fa;\n",
       "            color:  #000000;\n",
       "        }#T_8ac58_row3_col1{\n",
       "            background-color:  #fef6fa;\n",
       "            color:  #000000;\n",
       "        }#T_8ac58_row4_col1,#T_8ac58_row5_col1,#T_8ac58_row6_col1{\n",
       "            background-color:  #fef6fb;\n",
       "            color:  #000000;\n",
       "        }#T_8ac58_row7_col1,#T_8ac58_row8_col1,#T_8ac58_row9_col1,#T_8ac58_row10_col1,#T_8ac58_row11_col1,#T_8ac58_row12_col1,#T_8ac58_row13_col1,#T_8ac58_row14_col1,#T_8ac58_row15_col1,#T_8ac58_row16_col1,#T_8ac58_row17_col1,#T_8ac58_row18_col1,#T_8ac58_row19_col1,#T_8ac58_row20_col1,#T_8ac58_row21_col1,#T_8ac58_row22_col1,#T_8ac58_row23_col1,#T_8ac58_row24_col1,#T_8ac58_row25_col1,#T_8ac58_row26_col1,#T_8ac58_row27_col1,#T_8ac58_row28_col1,#T_8ac58_row29_col1,#T_8ac58_row30_col1{\n",
       "            background-color:  #fff7fb;\n",
       "            color:  #000000;\n",
       "        }</style><table id=\"T_8ac58_\" ><thead>    <tr>        <th class=\"blank level0\" ></th>        <th class=\"col_heading level0 col0\" >shop_id</th>        <th class=\"col_heading level0 col1\" >total</th>    </tr></thead><tbody>\n",
       "                <tr>\n",
       "                        <th id=\"T_8ac58_level0_row0\" class=\"row_heading level0 row0\" >0</th>\n",
       "                        <td id=\"T_8ac58_row0_col0\" class=\"data row0 col0\" >Shop 0</td>\n",
       "                        <td id=\"T_8ac58_row0_col1\" class=\"data row0 col1\" >4157</td>\n",
       "            </tr>\n",
       "            <tr>\n",
       "                        <th id=\"T_8ac58_level0_row1\" class=\"row_heading level0 row1\" >1</th>\n",
       "                        <td id=\"T_8ac58_row1_col0\" class=\"data row1 col0\" >Shop 4</td>\n",
       "                        <td id=\"T_8ac58_row1_col1\" class=\"data row1 col1\" >111</td>\n",
       "            </tr>\n",
       "            <tr>\n",
       "                        <th id=\"T_8ac58_level0_row2\" class=\"row_heading level0 row2\" >2</th>\n",
       "                        <td id=\"T_8ac58_row2_col0\" class=\"data row2 col0\" >Shop 1</td>\n",
       "                        <td id=\"T_8ac58_row2_col1\" class=\"data row2 col1\" >89</td>\n",
       "            </tr>\n",
       "            <tr>\n",
       "                        <th id=\"T_8ac58_level0_row3\" class=\"row_heading level0 row3\" >3</th>\n",
       "                        <td id=\"T_8ac58_row3_col0\" class=\"data row3 col0\" >Shop 6</td>\n",
       "                        <td id=\"T_8ac58_row3_col1\" class=\"data row3 col1\" >46</td>\n",
       "            </tr>\n",
       "            <tr>\n",
       "                        <th id=\"T_8ac58_level0_row4\" class=\"row_heading level0 row4\" >4</th>\n",
       "                        <td id=\"T_8ac58_row4_col0\" class=\"data row4 col0\" >Shop 12</td>\n",
       "                        <td id=\"T_8ac58_row4_col1\" class=\"data row4 col1\" >21</td>\n",
       "            </tr>\n",
       "            <tr>\n",
       "                        <th id=\"T_8ac58_level0_row5\" class=\"row_heading level0 row5\" >5</th>\n",
       "                        <td id=\"T_8ac58_row5_col0\" class=\"data row5 col0\" >Shop 8</td>\n",
       "                        <td id=\"T_8ac58_row5_col1\" class=\"data row5 col1\" >20</td>\n",
       "            </tr>\n",
       "            <tr>\n",
       "                        <th id=\"T_8ac58_level0_row6\" class=\"row_heading level0 row6\" >6</th>\n",
       "                        <td id=\"T_8ac58_row6_col0\" class=\"data row6 col0\" >Shop 2</td>\n",
       "                        <td id=\"T_8ac58_row6_col1\" class=\"data row6 col1\" >19</td>\n",
       "            </tr>\n",
       "            <tr>\n",
       "                        <th id=\"T_8ac58_level0_row7\" class=\"row_heading level0 row7\" >7</th>\n",
       "                        <td id=\"T_8ac58_row7_col0\" class=\"data row7 col0\" >Shop 10</td>\n",
       "                        <td id=\"T_8ac58_row7_col1\" class=\"data row7 col1\" >15</td>\n",
       "            </tr>\n",
       "            <tr>\n",
       "                        <th id=\"T_8ac58_level0_row8\" class=\"row_heading level0 row8\" >8</th>\n",
       "                        <td id=\"T_8ac58_row8_col0\" class=\"data row8 col0\" >Shop 3</td>\n",
       "                        <td id=\"T_8ac58_row8_col1\" class=\"data row8 col1\" >15</td>\n",
       "            </tr>\n",
       "            <tr>\n",
       "                        <th id=\"T_8ac58_level0_row9\" class=\"row_heading level0 row9\" >9</th>\n",
       "                        <td id=\"T_8ac58_row9_col0\" class=\"data row9 col0\" >Shop 7</td>\n",
       "                        <td id=\"T_8ac58_row9_col1\" class=\"data row9 col1\" >11</td>\n",
       "            </tr>\n",
       "            <tr>\n",
       "                        <th id=\"T_8ac58_level0_row10\" class=\"row_heading level0 row10\" >10</th>\n",
       "                        <td id=\"T_8ac58_row10_col0\" class=\"data row10 col0\" >Shop 11</td>\n",
       "                        <td id=\"T_8ac58_row10_col1\" class=\"data row10 col1\" >10</td>\n",
       "            </tr>\n",
       "            <tr>\n",
       "                        <th id=\"T_8ac58_level0_row11\" class=\"row_heading level0 row11\" >11</th>\n",
       "                        <td id=\"T_8ac58_row11_col0\" class=\"data row11 col0\" >Shop 18</td>\n",
       "                        <td id=\"T_8ac58_row11_col1\" class=\"data row11 col1\" >7</td>\n",
       "            </tr>\n",
       "            <tr>\n",
       "                        <th id=\"T_8ac58_level0_row12\" class=\"row_heading level0 row12\" >12</th>\n",
       "                        <td id=\"T_8ac58_row12_col0\" class=\"data row12 col0\" >Shop 19</td>\n",
       "                        <td id=\"T_8ac58_row12_col1\" class=\"data row12 col1\" >7</td>\n",
       "            </tr>\n",
       "            <tr>\n",
       "                        <th id=\"T_8ac58_level0_row13\" class=\"row_heading level0 row13\" >13</th>\n",
       "                        <td id=\"T_8ac58_row13_col0\" class=\"data row13 col0\" >Shop 14</td>\n",
       "                        <td id=\"T_8ac58_row13_col1\" class=\"data row13 col1\" >5</td>\n",
       "            </tr>\n",
       "            <tr>\n",
       "                        <th id=\"T_8ac58_level0_row14\" class=\"row_heading level0 row14\" >14</th>\n",
       "                        <td id=\"T_8ac58_row14_col0\" class=\"data row14 col0\" >Shop 5</td>\n",
       "                        <td id=\"T_8ac58_row14_col1\" class=\"data row14 col1\" >4</td>\n",
       "            </tr>\n",
       "            <tr>\n",
       "                        <th id=\"T_8ac58_level0_row15\" class=\"row_heading level0 row15\" >15</th>\n",
       "                        <td id=\"T_8ac58_row15_col0\" class=\"data row15 col0\" >Shop 22</td>\n",
       "                        <td id=\"T_8ac58_row15_col1\" class=\"data row15 col1\" >4</td>\n",
       "            </tr>\n",
       "            <tr>\n",
       "                        <th id=\"T_8ac58_level0_row16\" class=\"row_heading level0 row16\" >16</th>\n",
       "                        <td id=\"T_8ac58_row16_col0\" class=\"data row16 col0\" >Shop 20</td>\n",
       "                        <td id=\"T_8ac58_row16_col1\" class=\"data row16 col1\" >4</td>\n",
       "            </tr>\n",
       "            <tr>\n",
       "                        <th id=\"T_8ac58_level0_row17\" class=\"row_heading level0 row17\" >17</th>\n",
       "                        <td id=\"T_8ac58_row17_col0\" class=\"data row17 col0\" >Shop 16</td>\n",
       "                        <td id=\"T_8ac58_row17_col1\" class=\"data row17 col1\" >4</td>\n",
       "            </tr>\n",
       "            <tr>\n",
       "                        <th id=\"T_8ac58_level0_row18\" class=\"row_heading level0 row18\" >18</th>\n",
       "                        <td id=\"T_8ac58_row18_col0\" class=\"data row18 col0\" >Shop 9</td>\n",
       "                        <td id=\"T_8ac58_row18_col1\" class=\"data row18 col1\" >4</td>\n",
       "            </tr>\n",
       "            <tr>\n",
       "                        <th id=\"T_8ac58_level0_row19\" class=\"row_heading level0 row19\" >19</th>\n",
       "                        <td id=\"T_8ac58_row19_col0\" class=\"data row19 col0\" >Shop 21</td>\n",
       "                        <td id=\"T_8ac58_row19_col1\" class=\"data row19 col1\" >3</td>\n",
       "            </tr>\n",
       "            <tr>\n",
       "                        <th id=\"T_8ac58_level0_row20\" class=\"row_heading level0 row20\" >20</th>\n",
       "                        <td id=\"T_8ac58_row20_col0\" class=\"data row20 col0\" >Shop 13</td>\n",
       "                        <td id=\"T_8ac58_row20_col1\" class=\"data row20 col1\" >3</td>\n",
       "            </tr>\n",
       "            <tr>\n",
       "                        <th id=\"T_8ac58_level0_row21\" class=\"row_heading level0 row21\" >21</th>\n",
       "                        <td id=\"T_8ac58_row21_col0\" class=\"data row21 col0\" >Shop 23</td>\n",
       "                        <td id=\"T_8ac58_row21_col1\" class=\"data row21 col1\" >2</td>\n",
       "            </tr>\n",
       "            <tr>\n",
       "                        <th id=\"T_8ac58_level0_row22\" class=\"row_heading level0 row22\" >22</th>\n",
       "                        <td id=\"T_8ac58_row22_col0\" class=\"data row22 col0\" >Shop 17</td>\n",
       "                        <td id=\"T_8ac58_row22_col1\" class=\"data row22 col1\" >2</td>\n",
       "            </tr>\n",
       "            <tr>\n",
       "                        <th id=\"T_8ac58_level0_row23\" class=\"row_heading level0 row23\" >23</th>\n",
       "                        <td id=\"T_8ac58_row23_col0\" class=\"data row23 col0\" >Shop 15</td>\n",
       "                        <td id=\"T_8ac58_row23_col1\" class=\"data row23 col1\" >2</td>\n",
       "            </tr>\n",
       "            <tr>\n",
       "                        <th id=\"T_8ac58_level0_row24\" class=\"row_heading level0 row24\" >24</th>\n",
       "                        <td id=\"T_8ac58_row24_col0\" class=\"data row24 col0\" >Shop 24</td>\n",
       "                        <td id=\"T_8ac58_row24_col1\" class=\"data row24 col1\" >1</td>\n",
       "            </tr>\n",
       "            <tr>\n",
       "                        <th id=\"T_8ac58_level0_row25\" class=\"row_heading level0 row25\" >25</th>\n",
       "                        <td id=\"T_8ac58_row25_col0\" class=\"data row25 col0\" >Shop 25</td>\n",
       "                        <td id=\"T_8ac58_row25_col1\" class=\"data row25 col1\" >1</td>\n",
       "            </tr>\n",
       "            <tr>\n",
       "                        <th id=\"T_8ac58_level0_row26\" class=\"row_heading level0 row26\" >26</th>\n",
       "                        <td id=\"T_8ac58_row26_col0\" class=\"data row26 col0\" >Shop 26</td>\n",
       "                        <td id=\"T_8ac58_row26_col1\" class=\"data row26 col1\" >1</td>\n",
       "            </tr>\n",
       "            <tr>\n",
       "                        <th id=\"T_8ac58_level0_row27\" class=\"row_heading level0 row27\" >27</th>\n",
       "                        <td id=\"T_8ac58_row27_col0\" class=\"data row27 col0\" >Shop 27</td>\n",
       "                        <td id=\"T_8ac58_row27_col1\" class=\"data row27 col1\" >1</td>\n",
       "            </tr>\n",
       "            <tr>\n",
       "                        <th id=\"T_8ac58_level0_row28\" class=\"row_heading level0 row28\" >28</th>\n",
       "                        <td id=\"T_8ac58_row28_col0\" class=\"data row28 col0\" >Shop 28</td>\n",
       "                        <td id=\"T_8ac58_row28_col1\" class=\"data row28 col1\" >1</td>\n",
       "            </tr>\n",
       "            <tr>\n",
       "                        <th id=\"T_8ac58_level0_row29\" class=\"row_heading level0 row29\" >29</th>\n",
       "                        <td id=\"T_8ac58_row29_col0\" class=\"data row29 col0\" >Shop 29</td>\n",
       "                        <td id=\"T_8ac58_row29_col1\" class=\"data row29 col1\" >1</td>\n",
       "            </tr>\n",
       "            <tr>\n",
       "                        <th id=\"T_8ac58_level0_row30\" class=\"row_heading level0 row30\" >30</th>\n",
       "                        <td id=\"T_8ac58_row30_col0\" class=\"data row30 col0\" >Shop 30</td>\n",
       "                        <td id=\"T_8ac58_row30_col1\" class=\"data row30 col1\" >1</td>\n",
       "            </tr>\n",
       "    </tbody></table>"
      ],
      "text/plain": [
       "<pandas.io.formats.style.Styler at 0x295b5363160>"
      ]
     },
     "metadata": {},
     "output_type": "display_data"
    }
   ],
   "source": [
    "#сгруппируем сумму покупок по магазинам и посчитаем количество покупок в каждом магазине\n",
    "\n",
    "purchase_shop = data_purchase_id.pivot_table(\n",
    "    values='total', index='shop_id', aggfunc='count').sort_values('total', ascending = False).reset_index().style.background_gradient()\n",
    "\n",
    "display(purchase_shop)\n"
   ]
  },
  {
   "cell_type": "markdown",
   "id": "cfec19f5",
   "metadata": {},
   "source": [
    "**Вывод:** В ходе проведения исследовательского анализа данных, мы определили, самая ранняя дата в данных **2016-12-01**, самая поздняя дата в данных **2017-02-28**. Таким образом, в данных представлено **3 полных месяца**. Мы обратили внимание на то, что в таблице product для одной и той же единицы товара указаны разные цены. И предположили, что в таблице со стоимостью единицы товара не хватает информации о том, является ли данная цена стоимостью единицы товара для участников программы лояльности или нет. Мы раздели стоимости единицы товара на 2 группы : для участника (ниже медианы) и для остальных покупателей (выше медианы), для каждого товара посчитали среднее значение в каждой группе. Мы нашли, что **средний чек по всем покупкам равен 774 рублей, а медианный чек равен 285 рублей**. Мы обратили внимание на то, что больше всего покупок приходится на месяц декабрь, а именно до 23 декабря. **С 23 декабря по 4 января покупок нет** вообще, далее покупательская активность ниже, чем в первых 2-х декадах декабря. Далее мы нашли, что в **среднем покупатели приобретают 187 товаров за одну покупку**. Мы обнаружили, что реже всего в данной сети магазинов покупки совершают в понедельник, чаще всего в пятницу. **В воскресенье нет покупок**, видимо в этот день магазин закрыт, также мы нашли, что большинство покупок совершено в магазине, который в анализируемой базе носит название Shop 0."
   ]
  },
  {
   "cell_type": "markdown",
   "id": "19fd61c9",
   "metadata": {},
   "source": [
    "<a id=\"step4\"></a> \n",
    "## Анализ программы лояльности\n",
    "Сформулируем какие цели и задачи ставятся перед программой лояльности:\n",
    "- Во-первых это повышение среднего дохода от покупателя в месяц или увеличение средней суммы чека. Клиент приобретает больше товаров по более привлекательным ценам.\n",
    "- Увеличение частоты посещения магазина. Если акции грамотно спланированы, то покупатель возвращается.\n",
    "- Удержание клиентов. Покупатели более охотно совершают покупки там, где им предлагают бонусы, скидки и подарки"
   ]
  },
  {
   "cell_type": "markdown",
   "id": "b8c1ddab",
   "metadata": {},
   "source": [
    "### Выбор основной ритейл-метрики."
   ]
  },
  {
   "cell_type": "markdown",
   "id": "b8ea2864",
   "metadata": {},
   "source": [
    "В качестве основной метрики будем использовать **LTV (Lifetime Value)**, — пожизненная ценность клиента. Метрика показывает, сколько денег клиент принёс компании за всё время взаимодействия с ней. \n",
    "\n",
    "Самая ранняя дата в данных 2016-12-01, самая поздняя дата в данных 2017-02-28, это 3 полных месяца.\n",
    "\n",
    "Сделаем рассчет LTV по каждому клиенту за период **60 дней** с момента первой покупки.\n"
   ]
  },
  {
   "cell_type": "code",
   "execution_count": 317,
   "id": "2278a773",
   "metadata": {},
   "outputs": [],
   "source": [
    "#Сделаем столбец, в котором будет только дата\n",
    "total_retail['date'] = total_retail['purchase_date'].dt.date\n",
    "#Добавим колонку с месяцем в таблицу\n",
    "total_retail['month'] = total_retail['purchase_date'].dt.strftime('%B')\n",
    "#Сделаем расчет LTV  с использованием числа уникальных полупателей, поэтому для анализа\n",
    "#нам необходимо исключить customer_id = 0 сделаем срез\n",
    "total_retail_LTV = total_retail.query('customer_id !=0')"
   ]
  },
  {
   "cell_type": "code",
   "execution_count": 318,
   "id": "947a62e6",
   "metadata": {},
   "outputs": [],
   "source": [
    "#Найдем даты первых  покупок для каждого покупателя\n",
    "first_date = total_retail_LTV.groupby('customer_id').agg({'date': 'min'}).reset_index()\n",
    "first_date = first_date.rename(columns={\"date\": \"first_purchase\"})\n",
    "#Найдем даты последних  покупок для каждого покупателя\n",
    "last_date = total_retail_LTV.groupby('customer_id').agg({'date': 'max'}).reset_index()\n",
    "last_date = last_date.rename(columns={\"date\": \"last_purchase\"})\n",
    "#Добавим к таблице total_retail дату первой и последней покупки\n",
    "total_retail_1 = pd.merge(total_retail_LTV, first_date, on='customer_id')\n",
    "total_retail_1['first_purchase'] = pd.to_datetime(total_retail_1['first_purchase'])\n",
    "total_retail_new= pd.merge(total_retail_1, last_date, on='customer_id')\n",
    "total_retail_new['last_purchase'] = pd.to_datetime(total_retail_new['last_purchase'])\n"
   ]
  },
  {
   "cell_type": "code",
   "execution_count": 319,
   "id": "e7ff8538",
   "metadata": {},
   "outputs": [
    {
     "data": {
      "text/html": [
       "<div>\n",
       "<style scoped>\n",
       "    .dataframe tbody tr th:only-of-type {\n",
       "        vertical-align: middle;\n",
       "    }\n",
       "\n",
       "    .dataframe tbody tr th {\n",
       "        vertical-align: top;\n",
       "    }\n",
       "\n",
       "    .dataframe thead th {\n",
       "        text-align: right;\n",
       "    }\n",
       "</style>\n",
       "<table border=\"1\" class=\"dataframe\">\n",
       "  <thead>\n",
       "    <tr style=\"text-align: right;\">\n",
       "      <th></th>\n",
       "      <th>customer_id</th>\n",
       "      <th>loyalty_program</th>\n",
       "      <th>total</th>\n",
       "      <th>LTV</th>\n",
       "    </tr>\n",
       "  </thead>\n",
       "  <tbody>\n",
       "    <tr>\n",
       "      <th>0</th>\n",
       "      <td>18026</td>\n",
       "      <td>False</td>\n",
       "      <td>2485.23</td>\n",
       "      <td>2485.0</td>\n",
       "    </tr>\n",
       "    <tr>\n",
       "      <th>1</th>\n",
       "      <td>18027</td>\n",
       "      <td>False</td>\n",
       "      <td>2652.93</td>\n",
       "      <td>2653.0</td>\n",
       "    </tr>\n",
       "    <tr>\n",
       "      <th>2</th>\n",
       "      <td>18029</td>\n",
       "      <td>False</td>\n",
       "      <td>530.23</td>\n",
       "      <td>530.0</td>\n",
       "    </tr>\n",
       "    <tr>\n",
       "      <th>3</th>\n",
       "      <td>18031</td>\n",
       "      <td>False</td>\n",
       "      <td>520.49</td>\n",
       "      <td>520.0</td>\n",
       "    </tr>\n",
       "    <tr>\n",
       "      <th>4</th>\n",
       "      <td>18035</td>\n",
       "      <td>False</td>\n",
       "      <td>5357.04</td>\n",
       "      <td>5357.0</td>\n",
       "    </tr>\n",
       "    <tr>\n",
       "      <th>...</th>\n",
       "      <td>...</td>\n",
       "      <td>...</td>\n",
       "      <td>...</td>\n",
       "      <td>...</td>\n",
       "    </tr>\n",
       "    <tr>\n",
       "      <th>1733</th>\n",
       "      <td>23938</td>\n",
       "      <td>True</td>\n",
       "      <td>387.25</td>\n",
       "      <td>787.0</td>\n",
       "    </tr>\n",
       "    <tr>\n",
       "      <th>1734</th>\n",
       "      <td>23939</td>\n",
       "      <td>True</td>\n",
       "      <td>692.23</td>\n",
       "      <td>1092.0</td>\n",
       "    </tr>\n",
       "    <tr>\n",
       "      <th>1735</th>\n",
       "      <td>23948</td>\n",
       "      <td>True</td>\n",
       "      <td>177.67</td>\n",
       "      <td>578.0</td>\n",
       "    </tr>\n",
       "    <tr>\n",
       "      <th>1736</th>\n",
       "      <td>23956</td>\n",
       "      <td>True</td>\n",
       "      <td>24.28</td>\n",
       "      <td>424.0</td>\n",
       "    </tr>\n",
       "    <tr>\n",
       "      <th>1737</th>\n",
       "      <td>23962</td>\n",
       "      <td>True</td>\n",
       "      <td>70.52</td>\n",
       "      <td>471.0</td>\n",
       "    </tr>\n",
       "  </tbody>\n",
       "</table>\n",
       "<p>1738 rows × 4 columns</p>\n",
       "</div>"
      ],
      "text/plain": [
       "      customer_id  loyalty_program    total     LTV\n",
       "0           18026            False  2485.23  2485.0\n",
       "1           18027            False  2652.93  2653.0\n",
       "2           18029            False   530.23   530.0\n",
       "3           18031            False   520.49   520.0\n",
       "4           18035            False  5357.04  5357.0\n",
       "...           ...              ...      ...     ...\n",
       "1733        23938             True   387.25   787.0\n",
       "1734        23939             True   692.23  1092.0\n",
       "1735        23948             True   177.67   578.0\n",
       "1736        23956             True    24.28   424.0\n",
       "1737        23962             True    70.52   471.0\n",
       "\n",
       "[1738 rows x 4 columns]"
      ]
     },
     "execution_count": 319,
     "metadata": {},
     "output_type": "execute_result"
    }
   ],
   "source": [
    "#Расчитаем LTV за 60 дней\n",
    "# отфильтруем данные о покупках каждого клиента за первые 60 дней\n",
    "retail_60_days = total_retail_new[total_retail_new['purchase_date'] <= (total_retail_new['first_purchase'] + pd.Timedelta(days=60))]\n",
    "revenue_60_days = retail_60_days.groupby(['customer_id','loyalty_program'])['total'].sum().reset_index()\n",
    "# Найдем LTV за 60 дней.Для участников программы лояльности добавим к total 200 рублей в месяц, то есть 400 рублей за 60 дней.\n",
    "revenue_60_days['LTV']=revenue_60_days['total']\n",
    "revenue_60_days.loc[revenue_60_days['loyalty_program'] == True, 'LTV'] += 400\n",
    "revenue_60_days['LTV']=revenue_60_days['LTV'].round(0)\n",
    "revenue_60_days "
   ]
  },
  {
   "cell_type": "code",
   "execution_count": 320,
   "id": "8e4f93c6",
   "metadata": {},
   "outputs": [
    {
     "data": {
      "text/html": [
       "<div>\n",
       "<style scoped>\n",
       "    .dataframe tbody tr th:only-of-type {\n",
       "        vertical-align: middle;\n",
       "    }\n",
       "\n",
       "    .dataframe tbody tr th {\n",
       "        vertical-align: top;\n",
       "    }\n",
       "\n",
       "    .dataframe thead th {\n",
       "        text-align: right;\n",
       "    }\n",
       "</style>\n",
       "<table border=\"1\" class=\"dataframe\">\n",
       "  <thead>\n",
       "    <tr style=\"text-align: right;\">\n",
       "      <th></th>\n",
       "      <th>loyalty_program</th>\n",
       "      <th>mean_LTV</th>\n",
       "      <th>median_LTV</th>\n",
       "    </tr>\n",
       "  </thead>\n",
       "  <tbody>\n",
       "    <tr>\n",
       "      <th>0</th>\n",
       "      <td>False</td>\n",
       "      <td>1821.0</td>\n",
       "      <td>676.0</td>\n",
       "    </tr>\n",
       "    <tr>\n",
       "      <th>1</th>\n",
       "      <td>True</td>\n",
       "      <td>1028.0</td>\n",
       "      <td>694.0</td>\n",
       "    </tr>\n",
       "  </tbody>\n",
       "</table>\n",
       "</div>"
      ],
      "text/plain": [
       "   loyalty_program  mean_LTV  median_LTV\n",
       "0            False    1821.0       676.0\n",
       "1             True    1028.0       694.0"
      ]
     },
     "metadata": {},
     "output_type": "display_data"
    }
   ],
   "source": [
    "#Расчитаем среднее LTV за 60 дней в зависимости от участия в программе лояльности, расчет сделаем по медиане и по среднему значению\n",
    "LTV = pd.pivot_table(revenue_60_days , values=['LTV'], index=['loyalty_program'],  aggfunc=[np.mean, np.median])\n",
    "LTV = LTV.reset_index().round()\n",
    "LTV.columns=('loyalty_program','mean_LTV','median_LTV')\n",
    "display(LTV)"
   ]
  },
  {
   "cell_type": "markdown",
   "id": "6f5d7cf6",
   "metadata": {},
   "source": [
    "**Вывод:**  Мы рассчитали LTV (Lifetime Value) — пожизненную ценность клиента, за 60 дней для каждого клиента. Далее рассчитали среднее в зависимости от участия в программе лояльности. Среднее LTV для участника программы лояльности (рассчитанное по среднему значению) 1028 рубля, для остальных покупателей - 1821 рублей, среднее LTV для участника программы лояльности (рассчитанное по медиане) 694 рубля, для остальных покупателей - 676 рублей. "
   ]
  },
  {
   "cell_type": "markdown",
   "id": "29689bf3",
   "metadata": {},
   "source": [
    "### Расчет ACV (Average Client Value) средней потребительской ценности клиента. "
   ]
  },
  {
   "cell_type": "markdown",
   "id": "9bdf63ff",
   "metadata": {},
   "source": [
    "Расчитаем еще одну метрику\n",
    "**ACV — Average Client Value**, или средняя потребительская ценность клиента. Это деньги, которые клиент приносит бизнесу за месяц, год или любой другой период. Мы будем рассчитывать **за месяц**.\n",
    "\n",
    "Чтобы посчитать ACV, нужно знать, сколько заработала компания и сколько клиентов у неё было за период.\n",
    "\n",
    "Самая ранняя дата в данных 2016-12-01, самая поздняя дата в данных 2017-02-28, это 3 полных месяца,  сделаем расчет **ACV в месяц** для всех трех месяцев."
   ]
  },
  {
   "cell_type": "code",
   "execution_count": 321,
   "id": "74188c2a",
   "metadata": {},
   "outputs": [
    {
     "data": {
      "text/html": [
       "<div>\n",
       "<style scoped>\n",
       "    .dataframe tbody tr th:only-of-type {\n",
       "        vertical-align: middle;\n",
       "    }\n",
       "\n",
       "    .dataframe tbody tr th {\n",
       "        vertical-align: top;\n",
       "    }\n",
       "\n",
       "    .dataframe thead th {\n",
       "        text-align: right;\n",
       "    }\n",
       "</style>\n",
       "<table border=\"1\" class=\"dataframe\">\n",
       "  <thead>\n",
       "    <tr style=\"text-align: right;\">\n",
       "      <th></th>\n",
       "      <th>month</th>\n",
       "      <th>loyalty_program</th>\n",
       "      <th>customer_id</th>\n",
       "      <th>total</th>\n",
       "      <th>ACV</th>\n",
       "    </tr>\n",
       "  </thead>\n",
       "  <tbody>\n",
       "    <tr>\n",
       "      <th>0</th>\n",
       "      <td>December</td>\n",
       "      <td>False</td>\n",
       "      <td>601</td>\n",
       "      <td>844833.0</td>\n",
       "      <td>1406.0</td>\n",
       "    </tr>\n",
       "    <tr>\n",
       "      <th>1</th>\n",
       "      <td>December</td>\n",
       "      <td>True</td>\n",
       "      <td>343</td>\n",
       "      <td>186593.0</td>\n",
       "      <td>744.0</td>\n",
       "    </tr>\n",
       "    <tr>\n",
       "      <th>2</th>\n",
       "      <td>February</td>\n",
       "      <td>False</td>\n",
       "      <td>523</td>\n",
       "      <td>752952.0</td>\n",
       "      <td>1440.0</td>\n",
       "    </tr>\n",
       "    <tr>\n",
       "      <th>3</th>\n",
       "      <td>February</td>\n",
       "      <td>True</td>\n",
       "      <td>268</td>\n",
       "      <td>132970.0</td>\n",
       "      <td>696.0</td>\n",
       "    </tr>\n",
       "    <tr>\n",
       "      <th>4</th>\n",
       "      <td>January</td>\n",
       "      <td>False</td>\n",
       "      <td>540</td>\n",
       "      <td>808972.0</td>\n",
       "      <td>1498.0</td>\n",
       "    </tr>\n",
       "    <tr>\n",
       "      <th>5</th>\n",
       "      <td>January</td>\n",
       "      <td>True</td>\n",
       "      <td>238</td>\n",
       "      <td>109472.0</td>\n",
       "      <td>660.0</td>\n",
       "    </tr>\n",
       "  </tbody>\n",
       "</table>\n",
       "</div>"
      ],
      "text/plain": [
       "      month  loyalty_program  customer_id     total     ACV\n",
       "0  December            False          601  844833.0  1406.0\n",
       "1  December             True          343  186593.0   744.0\n",
       "2  February            False          523  752952.0  1440.0\n",
       "3  February             True          268  132970.0   696.0\n",
       "4   January            False          540  808972.0  1498.0\n",
       "5   January             True          238  109472.0   660.0"
      ]
     },
     "metadata": {},
     "output_type": "display_data"
    },
    {
     "data": {
      "application/vnd.plotly.v1+json": {
       "config": {
        "plotlyServerURL": "https://plot.ly"
       },
       "data": [
        {
         "alignmentgroup": "True",
         "hovertemplate": "loyalty_program=False<br>month=%{x}<br>ACV=%{text}<extra></extra>",
         "legendgroup": "False",
         "marker": {
          "color": "#636efa",
          "pattern": {
           "shape": ""
          }
         },
         "name": "False",
         "offsetgroup": "False",
         "orientation": "v",
         "showlegend": true,
         "text": [
          1406,
          1440,
          1498
         ],
         "textposition": "auto",
         "type": "bar",
         "x": [
          "December",
          "February",
          "January"
         ],
         "xaxis": "x",
         "y": [
          1406,
          1440,
          1498
         ],
         "yaxis": "y"
        },
        {
         "alignmentgroup": "True",
         "hovertemplate": "loyalty_program=True<br>month=%{x}<br>ACV=%{text}<extra></extra>",
         "legendgroup": "True",
         "marker": {
          "color": "#EF553B",
          "pattern": {
           "shape": ""
          }
         },
         "name": "True",
         "offsetgroup": "True",
         "orientation": "v",
         "showlegend": true,
         "text": [
          744,
          696,
          660
         ],
         "textposition": "auto",
         "type": "bar",
         "x": [
          "December",
          "February",
          "January"
         ],
         "xaxis": "x",
         "y": [
          744,
          696,
          660
         ],
         "yaxis": "y"
        }
       ],
       "layout": {
        "barmode": "group",
        "height": 300,
        "legend": {
         "title": {
          "text": "loyalty_program"
         },
         "tracegroupgap": 0
        },
        "margin": {
         "t": 60
        },
        "plot_bgcolor": "white",
        "template": {
         "data": {
          "bar": [
           {
            "error_x": {
             "color": "#2a3f5f"
            },
            "error_y": {
             "color": "#2a3f5f"
            },
            "marker": {
             "line": {
              "color": "#E5ECF6",
              "width": 0.5
             },
             "pattern": {
              "fillmode": "overlay",
              "size": 10,
              "solidity": 0.2
             }
            },
            "type": "bar"
           }
          ],
          "barpolar": [
           {
            "marker": {
             "line": {
              "color": "#E5ECF6",
              "width": 0.5
             },
             "pattern": {
              "fillmode": "overlay",
              "size": 10,
              "solidity": 0.2
             }
            },
            "type": "barpolar"
           }
          ],
          "carpet": [
           {
            "aaxis": {
             "endlinecolor": "#2a3f5f",
             "gridcolor": "white",
             "linecolor": "white",
             "minorgridcolor": "white",
             "startlinecolor": "#2a3f5f"
            },
            "baxis": {
             "endlinecolor": "#2a3f5f",
             "gridcolor": "white",
             "linecolor": "white",
             "minorgridcolor": "white",
             "startlinecolor": "#2a3f5f"
            },
            "type": "carpet"
           }
          ],
          "choropleth": [
           {
            "colorbar": {
             "outlinewidth": 0,
             "ticks": ""
            },
            "type": "choropleth"
           }
          ],
          "contour": [
           {
            "colorbar": {
             "outlinewidth": 0,
             "ticks": ""
            },
            "colorscale": [
             [
              0,
              "#0d0887"
             ],
             [
              0.1111111111111111,
              "#46039f"
             ],
             [
              0.2222222222222222,
              "#7201a8"
             ],
             [
              0.3333333333333333,
              "#9c179e"
             ],
             [
              0.4444444444444444,
              "#bd3786"
             ],
             [
              0.5555555555555556,
              "#d8576b"
             ],
             [
              0.6666666666666666,
              "#ed7953"
             ],
             [
              0.7777777777777778,
              "#fb9f3a"
             ],
             [
              0.8888888888888888,
              "#fdca26"
             ],
             [
              1,
              "#f0f921"
             ]
            ],
            "type": "contour"
           }
          ],
          "contourcarpet": [
           {
            "colorbar": {
             "outlinewidth": 0,
             "ticks": ""
            },
            "type": "contourcarpet"
           }
          ],
          "heatmap": [
           {
            "colorbar": {
             "outlinewidth": 0,
             "ticks": ""
            },
            "colorscale": [
             [
              0,
              "#0d0887"
             ],
             [
              0.1111111111111111,
              "#46039f"
             ],
             [
              0.2222222222222222,
              "#7201a8"
             ],
             [
              0.3333333333333333,
              "#9c179e"
             ],
             [
              0.4444444444444444,
              "#bd3786"
             ],
             [
              0.5555555555555556,
              "#d8576b"
             ],
             [
              0.6666666666666666,
              "#ed7953"
             ],
             [
              0.7777777777777778,
              "#fb9f3a"
             ],
             [
              0.8888888888888888,
              "#fdca26"
             ],
             [
              1,
              "#f0f921"
             ]
            ],
            "type": "heatmap"
           }
          ],
          "heatmapgl": [
           {
            "colorbar": {
             "outlinewidth": 0,
             "ticks": ""
            },
            "colorscale": [
             [
              0,
              "#0d0887"
             ],
             [
              0.1111111111111111,
              "#46039f"
             ],
             [
              0.2222222222222222,
              "#7201a8"
             ],
             [
              0.3333333333333333,
              "#9c179e"
             ],
             [
              0.4444444444444444,
              "#bd3786"
             ],
             [
              0.5555555555555556,
              "#d8576b"
             ],
             [
              0.6666666666666666,
              "#ed7953"
             ],
             [
              0.7777777777777778,
              "#fb9f3a"
             ],
             [
              0.8888888888888888,
              "#fdca26"
             ],
             [
              1,
              "#f0f921"
             ]
            ],
            "type": "heatmapgl"
           }
          ],
          "histogram": [
           {
            "marker": {
             "pattern": {
              "fillmode": "overlay",
              "size": 10,
              "solidity": 0.2
             }
            },
            "type": "histogram"
           }
          ],
          "histogram2d": [
           {
            "colorbar": {
             "outlinewidth": 0,
             "ticks": ""
            },
            "colorscale": [
             [
              0,
              "#0d0887"
             ],
             [
              0.1111111111111111,
              "#46039f"
             ],
             [
              0.2222222222222222,
              "#7201a8"
             ],
             [
              0.3333333333333333,
              "#9c179e"
             ],
             [
              0.4444444444444444,
              "#bd3786"
             ],
             [
              0.5555555555555556,
              "#d8576b"
             ],
             [
              0.6666666666666666,
              "#ed7953"
             ],
             [
              0.7777777777777778,
              "#fb9f3a"
             ],
             [
              0.8888888888888888,
              "#fdca26"
             ],
             [
              1,
              "#f0f921"
             ]
            ],
            "type": "histogram2d"
           }
          ],
          "histogram2dcontour": [
           {
            "colorbar": {
             "outlinewidth": 0,
             "ticks": ""
            },
            "colorscale": [
             [
              0,
              "#0d0887"
             ],
             [
              0.1111111111111111,
              "#46039f"
             ],
             [
              0.2222222222222222,
              "#7201a8"
             ],
             [
              0.3333333333333333,
              "#9c179e"
             ],
             [
              0.4444444444444444,
              "#bd3786"
             ],
             [
              0.5555555555555556,
              "#d8576b"
             ],
             [
              0.6666666666666666,
              "#ed7953"
             ],
             [
              0.7777777777777778,
              "#fb9f3a"
             ],
             [
              0.8888888888888888,
              "#fdca26"
             ],
             [
              1,
              "#f0f921"
             ]
            ],
            "type": "histogram2dcontour"
           }
          ],
          "mesh3d": [
           {
            "colorbar": {
             "outlinewidth": 0,
             "ticks": ""
            },
            "type": "mesh3d"
           }
          ],
          "parcoords": [
           {
            "line": {
             "colorbar": {
              "outlinewidth": 0,
              "ticks": ""
             }
            },
            "type": "parcoords"
           }
          ],
          "pie": [
           {
            "automargin": true,
            "type": "pie"
           }
          ],
          "scatter": [
           {
            "marker": {
             "colorbar": {
              "outlinewidth": 0,
              "ticks": ""
             }
            },
            "type": "scatter"
           }
          ],
          "scatter3d": [
           {
            "line": {
             "colorbar": {
              "outlinewidth": 0,
              "ticks": ""
             }
            },
            "marker": {
             "colorbar": {
              "outlinewidth": 0,
              "ticks": ""
             }
            },
            "type": "scatter3d"
           }
          ],
          "scattercarpet": [
           {
            "marker": {
             "colorbar": {
              "outlinewidth": 0,
              "ticks": ""
             }
            },
            "type": "scattercarpet"
           }
          ],
          "scattergeo": [
           {
            "marker": {
             "colorbar": {
              "outlinewidth": 0,
              "ticks": ""
             }
            },
            "type": "scattergeo"
           }
          ],
          "scattergl": [
           {
            "marker": {
             "colorbar": {
              "outlinewidth": 0,
              "ticks": ""
             }
            },
            "type": "scattergl"
           }
          ],
          "scattermapbox": [
           {
            "marker": {
             "colorbar": {
              "outlinewidth": 0,
              "ticks": ""
             }
            },
            "type": "scattermapbox"
           }
          ],
          "scatterpolar": [
           {
            "marker": {
             "colorbar": {
              "outlinewidth": 0,
              "ticks": ""
             }
            },
            "type": "scatterpolar"
           }
          ],
          "scatterpolargl": [
           {
            "marker": {
             "colorbar": {
              "outlinewidth": 0,
              "ticks": ""
             }
            },
            "type": "scatterpolargl"
           }
          ],
          "scatterternary": [
           {
            "marker": {
             "colorbar": {
              "outlinewidth": 0,
              "ticks": ""
             }
            },
            "type": "scatterternary"
           }
          ],
          "surface": [
           {
            "colorbar": {
             "outlinewidth": 0,
             "ticks": ""
            },
            "colorscale": [
             [
              0,
              "#0d0887"
             ],
             [
              0.1111111111111111,
              "#46039f"
             ],
             [
              0.2222222222222222,
              "#7201a8"
             ],
             [
              0.3333333333333333,
              "#9c179e"
             ],
             [
              0.4444444444444444,
              "#bd3786"
             ],
             [
              0.5555555555555556,
              "#d8576b"
             ],
             [
              0.6666666666666666,
              "#ed7953"
             ],
             [
              0.7777777777777778,
              "#fb9f3a"
             ],
             [
              0.8888888888888888,
              "#fdca26"
             ],
             [
              1,
              "#f0f921"
             ]
            ],
            "type": "surface"
           }
          ],
          "table": [
           {
            "cells": {
             "fill": {
              "color": "#EBF0F8"
             },
             "line": {
              "color": "white"
             }
            },
            "header": {
             "fill": {
              "color": "#C8D4E3"
             },
             "line": {
              "color": "white"
             }
            },
            "type": "table"
           }
          ]
         },
         "layout": {
          "annotationdefaults": {
           "arrowcolor": "#2a3f5f",
           "arrowhead": 0,
           "arrowwidth": 1
          },
          "autotypenumbers": "strict",
          "coloraxis": {
           "colorbar": {
            "outlinewidth": 0,
            "ticks": ""
           }
          },
          "colorscale": {
           "diverging": [
            [
             0,
             "#8e0152"
            ],
            [
             0.1,
             "#c51b7d"
            ],
            [
             0.2,
             "#de77ae"
            ],
            [
             0.3,
             "#f1b6da"
            ],
            [
             0.4,
             "#fde0ef"
            ],
            [
             0.5,
             "#f7f7f7"
            ],
            [
             0.6,
             "#e6f5d0"
            ],
            [
             0.7,
             "#b8e186"
            ],
            [
             0.8,
             "#7fbc41"
            ],
            [
             0.9,
             "#4d9221"
            ],
            [
             1,
             "#276419"
            ]
           ],
           "sequential": [
            [
             0,
             "#0d0887"
            ],
            [
             0.1111111111111111,
             "#46039f"
            ],
            [
             0.2222222222222222,
             "#7201a8"
            ],
            [
             0.3333333333333333,
             "#9c179e"
            ],
            [
             0.4444444444444444,
             "#bd3786"
            ],
            [
             0.5555555555555556,
             "#d8576b"
            ],
            [
             0.6666666666666666,
             "#ed7953"
            ],
            [
             0.7777777777777778,
             "#fb9f3a"
            ],
            [
             0.8888888888888888,
             "#fdca26"
            ],
            [
             1,
             "#f0f921"
            ]
           ],
           "sequentialminus": [
            [
             0,
             "#0d0887"
            ],
            [
             0.1111111111111111,
             "#46039f"
            ],
            [
             0.2222222222222222,
             "#7201a8"
            ],
            [
             0.3333333333333333,
             "#9c179e"
            ],
            [
             0.4444444444444444,
             "#bd3786"
            ],
            [
             0.5555555555555556,
             "#d8576b"
            ],
            [
             0.6666666666666666,
             "#ed7953"
            ],
            [
             0.7777777777777778,
             "#fb9f3a"
            ],
            [
             0.8888888888888888,
             "#fdca26"
            ],
            [
             1,
             "#f0f921"
            ]
           ]
          },
          "colorway": [
           "#636efa",
           "#EF553B",
           "#00cc96",
           "#ab63fa",
           "#FFA15A",
           "#19d3f3",
           "#FF6692",
           "#B6E880",
           "#FF97FF",
           "#FECB52"
          ],
          "font": {
           "color": "#2a3f5f"
          },
          "geo": {
           "bgcolor": "white",
           "lakecolor": "white",
           "landcolor": "#E5ECF6",
           "showlakes": true,
           "showland": true,
           "subunitcolor": "white"
          },
          "hoverlabel": {
           "align": "left"
          },
          "hovermode": "closest",
          "mapbox": {
           "style": "light"
          },
          "paper_bgcolor": "white",
          "plot_bgcolor": "#E5ECF6",
          "polar": {
           "angularaxis": {
            "gridcolor": "white",
            "linecolor": "white",
            "ticks": ""
           },
           "bgcolor": "#E5ECF6",
           "radialaxis": {
            "gridcolor": "white",
            "linecolor": "white",
            "ticks": ""
           }
          },
          "scene": {
           "xaxis": {
            "backgroundcolor": "#E5ECF6",
            "gridcolor": "white",
            "gridwidth": 2,
            "linecolor": "white",
            "showbackground": true,
            "ticks": "",
            "zerolinecolor": "white"
           },
           "yaxis": {
            "backgroundcolor": "#E5ECF6",
            "gridcolor": "white",
            "gridwidth": 2,
            "linecolor": "white",
            "showbackground": true,
            "ticks": "",
            "zerolinecolor": "white"
           },
           "zaxis": {
            "backgroundcolor": "#E5ECF6",
            "gridcolor": "white",
            "gridwidth": 2,
            "linecolor": "white",
            "showbackground": true,
            "ticks": "",
            "zerolinecolor": "white"
           }
          },
          "shapedefaults": {
           "line": {
            "color": "#2a3f5f"
           }
          },
          "ternary": {
           "aaxis": {
            "gridcolor": "white",
            "linecolor": "white",
            "ticks": ""
           },
           "baxis": {
            "gridcolor": "white",
            "linecolor": "white",
            "ticks": ""
           },
           "bgcolor": "#E5ECF6",
           "caxis": {
            "gridcolor": "white",
            "linecolor": "white",
            "ticks": ""
           }
          },
          "title": {
           "x": 0.05
          },
          "xaxis": {
           "automargin": true,
           "gridcolor": "white",
           "linecolor": "white",
           "ticks": "",
           "title": {
            "standoff": 15
           },
           "zerolinecolor": "white",
           "zerolinewidth": 2
          },
          "yaxis": {
           "automargin": true,
           "gridcolor": "white",
           "linecolor": "white",
           "ticks": "",
           "title": {
            "standoff": 15
           },
           "zerolinecolor": "white",
           "zerolinewidth": 2
          }
         }
        },
        "title": {
         "text": "Средний доход от покупателя за месяц"
        },
        "width": 500,
        "xaxis": {
         "anchor": "y",
         "categoryarray": [
          "January",
          "February",
          "December",
          "December",
          "February",
          "January"
         ],
         "categoryorder": "array",
         "domain": [
          0,
          1
         ],
         "title": {
          "text": "Месяц"
         }
        },
        "yaxis": {
         "anchor": "x",
         "domain": [
          0,
          1
         ],
         "title": {
          "text": "ACV"
         }
        }
       }
      },
      "text/html": [
       "<div>                            <div id=\"b5aef58d-df71-4db6-9ccf-c1b12b1efb83\" class=\"plotly-graph-div\" style=\"height:300px; width:500px;\"></div>            <script type=\"text/javascript\">                require([\"plotly\"], function(Plotly) {                    window.PLOTLYENV=window.PLOTLYENV || {};                                    if (document.getElementById(\"b5aef58d-df71-4db6-9ccf-c1b12b1efb83\")) {                    Plotly.newPlot(                        \"b5aef58d-df71-4db6-9ccf-c1b12b1efb83\",                        [{\"alignmentgroup\":\"True\",\"hovertemplate\":\"loyalty_program=False<br>month=%{x}<br>ACV=%{text}<extra></extra>\",\"legendgroup\":\"False\",\"marker\":{\"color\":\"#636efa\",\"pattern\":{\"shape\":\"\"}},\"name\":\"False\",\"offsetgroup\":\"False\",\"orientation\":\"v\",\"showlegend\":true,\"text\":[1406.0,1440.0,1498.0],\"textposition\":\"auto\",\"x\":[\"December\",\"February\",\"January\"],\"xaxis\":\"x\",\"y\":[1406.0,1440.0,1498.0],\"yaxis\":\"y\",\"type\":\"bar\"},{\"alignmentgroup\":\"True\",\"hovertemplate\":\"loyalty_program=True<br>month=%{x}<br>ACV=%{text}<extra></extra>\",\"legendgroup\":\"True\",\"marker\":{\"color\":\"#EF553B\",\"pattern\":{\"shape\":\"\"}},\"name\":\"True\",\"offsetgroup\":\"True\",\"orientation\":\"v\",\"showlegend\":true,\"text\":[744.0,696.0,660.0],\"textposition\":\"auto\",\"x\":[\"December\",\"February\",\"January\"],\"xaxis\":\"x\",\"y\":[744.0,696.0,660.0],\"yaxis\":\"y\",\"type\":\"bar\"}],                        {\"template\":{\"data\":{\"bar\":[{\"error_x\":{\"color\":\"#2a3f5f\"},\"error_y\":{\"color\":\"#2a3f5f\"},\"marker\":{\"line\":{\"color\":\"#E5ECF6\",\"width\":0.5},\"pattern\":{\"fillmode\":\"overlay\",\"size\":10,\"solidity\":0.2}},\"type\":\"bar\"}],\"barpolar\":[{\"marker\":{\"line\":{\"color\":\"#E5ECF6\",\"width\":0.5},\"pattern\":{\"fillmode\":\"overlay\",\"size\":10,\"solidity\":0.2}},\"type\":\"barpolar\"}],\"carpet\":[{\"aaxis\":{\"endlinecolor\":\"#2a3f5f\",\"gridcolor\":\"white\",\"linecolor\":\"white\",\"minorgridcolor\":\"white\",\"startlinecolor\":\"#2a3f5f\"},\"baxis\":{\"endlinecolor\":\"#2a3f5f\",\"gridcolor\":\"white\",\"linecolor\":\"white\",\"minorgridcolor\":\"white\",\"startlinecolor\":\"#2a3f5f\"},\"type\":\"carpet\"}],\"choropleth\":[{\"colorbar\":{\"outlinewidth\":0,\"ticks\":\"\"},\"type\":\"choropleth\"}],\"contour\":[{\"colorbar\":{\"outlinewidth\":0,\"ticks\":\"\"},\"colorscale\":[[0.0,\"#0d0887\"],[0.1111111111111111,\"#46039f\"],[0.2222222222222222,\"#7201a8\"],[0.3333333333333333,\"#9c179e\"],[0.4444444444444444,\"#bd3786\"],[0.5555555555555556,\"#d8576b\"],[0.6666666666666666,\"#ed7953\"],[0.7777777777777778,\"#fb9f3a\"],[0.8888888888888888,\"#fdca26\"],[1.0,\"#f0f921\"]],\"type\":\"contour\"}],\"contourcarpet\":[{\"colorbar\":{\"outlinewidth\":0,\"ticks\":\"\"},\"type\":\"contourcarpet\"}],\"heatmap\":[{\"colorbar\":{\"outlinewidth\":0,\"ticks\":\"\"},\"colorscale\":[[0.0,\"#0d0887\"],[0.1111111111111111,\"#46039f\"],[0.2222222222222222,\"#7201a8\"],[0.3333333333333333,\"#9c179e\"],[0.4444444444444444,\"#bd3786\"],[0.5555555555555556,\"#d8576b\"],[0.6666666666666666,\"#ed7953\"],[0.7777777777777778,\"#fb9f3a\"],[0.8888888888888888,\"#fdca26\"],[1.0,\"#f0f921\"]],\"type\":\"heatmap\"}],\"heatmapgl\":[{\"colorbar\":{\"outlinewidth\":0,\"ticks\":\"\"},\"colorscale\":[[0.0,\"#0d0887\"],[0.1111111111111111,\"#46039f\"],[0.2222222222222222,\"#7201a8\"],[0.3333333333333333,\"#9c179e\"],[0.4444444444444444,\"#bd3786\"],[0.5555555555555556,\"#d8576b\"],[0.6666666666666666,\"#ed7953\"],[0.7777777777777778,\"#fb9f3a\"],[0.8888888888888888,\"#fdca26\"],[1.0,\"#f0f921\"]],\"type\":\"heatmapgl\"}],\"histogram\":[{\"marker\":{\"pattern\":{\"fillmode\":\"overlay\",\"size\":10,\"solidity\":0.2}},\"type\":\"histogram\"}],\"histogram2d\":[{\"colorbar\":{\"outlinewidth\":0,\"ticks\":\"\"},\"colorscale\":[[0.0,\"#0d0887\"],[0.1111111111111111,\"#46039f\"],[0.2222222222222222,\"#7201a8\"],[0.3333333333333333,\"#9c179e\"],[0.4444444444444444,\"#bd3786\"],[0.5555555555555556,\"#d8576b\"],[0.6666666666666666,\"#ed7953\"],[0.7777777777777778,\"#fb9f3a\"],[0.8888888888888888,\"#fdca26\"],[1.0,\"#f0f921\"]],\"type\":\"histogram2d\"}],\"histogram2dcontour\":[{\"colorbar\":{\"outlinewidth\":0,\"ticks\":\"\"},\"colorscale\":[[0.0,\"#0d0887\"],[0.1111111111111111,\"#46039f\"],[0.2222222222222222,\"#7201a8\"],[0.3333333333333333,\"#9c179e\"],[0.4444444444444444,\"#bd3786\"],[0.5555555555555556,\"#d8576b\"],[0.6666666666666666,\"#ed7953\"],[0.7777777777777778,\"#fb9f3a\"],[0.8888888888888888,\"#fdca26\"],[1.0,\"#f0f921\"]],\"type\":\"histogram2dcontour\"}],\"mesh3d\":[{\"colorbar\":{\"outlinewidth\":0,\"ticks\":\"\"},\"type\":\"mesh3d\"}],\"parcoords\":[{\"line\":{\"colorbar\":{\"outlinewidth\":0,\"ticks\":\"\"}},\"type\":\"parcoords\"}],\"pie\":[{\"automargin\":true,\"type\":\"pie\"}],\"scatter\":[{\"marker\":{\"colorbar\":{\"outlinewidth\":0,\"ticks\":\"\"}},\"type\":\"scatter\"}],\"scatter3d\":[{\"line\":{\"colorbar\":{\"outlinewidth\":0,\"ticks\":\"\"}},\"marker\":{\"colorbar\":{\"outlinewidth\":0,\"ticks\":\"\"}},\"type\":\"scatter3d\"}],\"scattercarpet\":[{\"marker\":{\"colorbar\":{\"outlinewidth\":0,\"ticks\":\"\"}},\"type\":\"scattercarpet\"}],\"scattergeo\":[{\"marker\":{\"colorbar\":{\"outlinewidth\":0,\"ticks\":\"\"}},\"type\":\"scattergeo\"}],\"scattergl\":[{\"marker\":{\"colorbar\":{\"outlinewidth\":0,\"ticks\":\"\"}},\"type\":\"scattergl\"}],\"scattermapbox\":[{\"marker\":{\"colorbar\":{\"outlinewidth\":0,\"ticks\":\"\"}},\"type\":\"scattermapbox\"}],\"scatterpolar\":[{\"marker\":{\"colorbar\":{\"outlinewidth\":0,\"ticks\":\"\"}},\"type\":\"scatterpolar\"}],\"scatterpolargl\":[{\"marker\":{\"colorbar\":{\"outlinewidth\":0,\"ticks\":\"\"}},\"type\":\"scatterpolargl\"}],\"scatterternary\":[{\"marker\":{\"colorbar\":{\"outlinewidth\":0,\"ticks\":\"\"}},\"type\":\"scatterternary\"}],\"surface\":[{\"colorbar\":{\"outlinewidth\":0,\"ticks\":\"\"},\"colorscale\":[[0.0,\"#0d0887\"],[0.1111111111111111,\"#46039f\"],[0.2222222222222222,\"#7201a8\"],[0.3333333333333333,\"#9c179e\"],[0.4444444444444444,\"#bd3786\"],[0.5555555555555556,\"#d8576b\"],[0.6666666666666666,\"#ed7953\"],[0.7777777777777778,\"#fb9f3a\"],[0.8888888888888888,\"#fdca26\"],[1.0,\"#f0f921\"]],\"type\":\"surface\"}],\"table\":[{\"cells\":{\"fill\":{\"color\":\"#EBF0F8\"},\"line\":{\"color\":\"white\"}},\"header\":{\"fill\":{\"color\":\"#C8D4E3\"},\"line\":{\"color\":\"white\"}},\"type\":\"table\"}]},\"layout\":{\"annotationdefaults\":{\"arrowcolor\":\"#2a3f5f\",\"arrowhead\":0,\"arrowwidth\":1},\"autotypenumbers\":\"strict\",\"coloraxis\":{\"colorbar\":{\"outlinewidth\":0,\"ticks\":\"\"}},\"colorscale\":{\"diverging\":[[0,\"#8e0152\"],[0.1,\"#c51b7d\"],[0.2,\"#de77ae\"],[0.3,\"#f1b6da\"],[0.4,\"#fde0ef\"],[0.5,\"#f7f7f7\"],[0.6,\"#e6f5d0\"],[0.7,\"#b8e186\"],[0.8,\"#7fbc41\"],[0.9,\"#4d9221\"],[1,\"#276419\"]],\"sequential\":[[0.0,\"#0d0887\"],[0.1111111111111111,\"#46039f\"],[0.2222222222222222,\"#7201a8\"],[0.3333333333333333,\"#9c179e\"],[0.4444444444444444,\"#bd3786\"],[0.5555555555555556,\"#d8576b\"],[0.6666666666666666,\"#ed7953\"],[0.7777777777777778,\"#fb9f3a\"],[0.8888888888888888,\"#fdca26\"],[1.0,\"#f0f921\"]],\"sequentialminus\":[[0.0,\"#0d0887\"],[0.1111111111111111,\"#46039f\"],[0.2222222222222222,\"#7201a8\"],[0.3333333333333333,\"#9c179e\"],[0.4444444444444444,\"#bd3786\"],[0.5555555555555556,\"#d8576b\"],[0.6666666666666666,\"#ed7953\"],[0.7777777777777778,\"#fb9f3a\"],[0.8888888888888888,\"#fdca26\"],[1.0,\"#f0f921\"]]},\"colorway\":[\"#636efa\",\"#EF553B\",\"#00cc96\",\"#ab63fa\",\"#FFA15A\",\"#19d3f3\",\"#FF6692\",\"#B6E880\",\"#FF97FF\",\"#FECB52\"],\"font\":{\"color\":\"#2a3f5f\"},\"geo\":{\"bgcolor\":\"white\",\"lakecolor\":\"white\",\"landcolor\":\"#E5ECF6\",\"showlakes\":true,\"showland\":true,\"subunitcolor\":\"white\"},\"hoverlabel\":{\"align\":\"left\"},\"hovermode\":\"closest\",\"mapbox\":{\"style\":\"light\"},\"paper_bgcolor\":\"white\",\"plot_bgcolor\":\"#E5ECF6\",\"polar\":{\"angularaxis\":{\"gridcolor\":\"white\",\"linecolor\":\"white\",\"ticks\":\"\"},\"bgcolor\":\"#E5ECF6\",\"radialaxis\":{\"gridcolor\":\"white\",\"linecolor\":\"white\",\"ticks\":\"\"}},\"scene\":{\"xaxis\":{\"backgroundcolor\":\"#E5ECF6\",\"gridcolor\":\"white\",\"gridwidth\":2,\"linecolor\":\"white\",\"showbackground\":true,\"ticks\":\"\",\"zerolinecolor\":\"white\"},\"yaxis\":{\"backgroundcolor\":\"#E5ECF6\",\"gridcolor\":\"white\",\"gridwidth\":2,\"linecolor\":\"white\",\"showbackground\":true,\"ticks\":\"\",\"zerolinecolor\":\"white\"},\"zaxis\":{\"backgroundcolor\":\"#E5ECF6\",\"gridcolor\":\"white\",\"gridwidth\":2,\"linecolor\":\"white\",\"showbackground\":true,\"ticks\":\"\",\"zerolinecolor\":\"white\"}},\"shapedefaults\":{\"line\":{\"color\":\"#2a3f5f\"}},\"ternary\":{\"aaxis\":{\"gridcolor\":\"white\",\"linecolor\":\"white\",\"ticks\":\"\"},\"baxis\":{\"gridcolor\":\"white\",\"linecolor\":\"white\",\"ticks\":\"\"},\"bgcolor\":\"#E5ECF6\",\"caxis\":{\"gridcolor\":\"white\",\"linecolor\":\"white\",\"ticks\":\"\"}},\"title\":{\"x\":0.05},\"xaxis\":{\"automargin\":true,\"gridcolor\":\"white\",\"linecolor\":\"white\",\"ticks\":\"\",\"title\":{\"standoff\":15},\"zerolinecolor\":\"white\",\"zerolinewidth\":2},\"yaxis\":{\"automargin\":true,\"gridcolor\":\"white\",\"linecolor\":\"white\",\"ticks\":\"\",\"title\":{\"standoff\":15},\"zerolinecolor\":\"white\",\"zerolinewidth\":2}}},\"xaxis\":{\"anchor\":\"y\",\"domain\":[0.0,1.0],\"title\":{\"text\":\"\\u041c\\u0435\\u0441\\u044f\\u0446\"},\"categoryorder\":\"array\",\"categoryarray\":[\"January\",\"February\",\"December\",\"December\",\"February\",\"January\"]},\"yaxis\":{\"anchor\":\"x\",\"domain\":[0.0,1.0],\"title\":{\"text\":\"ACV\"}},\"legend\":{\"title\":{\"text\":\"loyalty_program\"},\"tracegroupgap\":0},\"margin\":{\"t\":60},\"barmode\":\"group\",\"title\":{\"text\":\"\\u0421\\u0440\\u0435\\u0434\\u043d\\u0438\\u0439 \\u0434\\u043e\\u0445\\u043e\\u0434 \\u043e\\u0442 \\u043f\\u043e\\u043a\\u0443\\u043f\\u0430\\u0442\\u0435\\u043b\\u044f \\u0437\\u0430 \\u043c\\u0435\\u0441\\u044f\\u0446\"},\"width\":500,\"height\":300,\"plot_bgcolor\":\"white\"},                        {\"responsive\": true}                    ).then(function(){\n",
       "                            \n",
       "var gd = document.getElementById('b5aef58d-df71-4db6-9ccf-c1b12b1efb83');\n",
       "var x = new MutationObserver(function (mutations, observer) {{\n",
       "        var display = window.getComputedStyle(gd).display;\n",
       "        if (!display || display === 'none') {{\n",
       "            console.log([gd, 'removed!']);\n",
       "            Plotly.purge(gd);\n",
       "            observer.disconnect();\n",
       "        }}\n",
       "}});\n",
       "\n",
       "// Listen for the removal of the full notebook cells\n",
       "var notebookContainer = gd.closest('#notebook-container');\n",
       "if (notebookContainer) {{\n",
       "    x.observe(notebookContainer, {childList: true});\n",
       "}}\n",
       "\n",
       "// Listen for the clearing of the current output cell\n",
       "var outputEl = gd.closest('.output');\n",
       "if (outputEl) {{\n",
       "    x.observe(outputEl, {childList: true});\n",
       "}}\n",
       "\n",
       "                        })                };                });            </script>        </div>"
      ]
     },
     "metadata": {},
     "output_type": "display_data"
    }
   ],
   "source": [
    "#Расчитаем ACV помесячно для всех пользователей\n",
    "#Сделаем сводную таблицу, агрегированную по месяцам и по принадлежности к программе лояльности, в ней расчитаем сумму выручки и \n",
    "# и число покупателей\n",
    "data_pivot_ACV = pd.pivot_table(total_retail_LTV, values=['total','customer_id'], index=['month','loyalty_program'],  aggfunc={'total': 'sum', 'customer_id': 'nunique'})\n",
    "# и число покупателей\n",
    "data_pivot_ACV= data_pivot_ACV.reset_index()[['month', 'loyalty_program','customer_id','total']]\n",
    "data_pivot_ACV['total']  =data_pivot_ACV['total'].round(0) # округлим значения\n",
    "data_pivot_ACV['ACV'] = data_pivot_ACV['total']/data_pivot_ACV['customer_id']\n",
    "#Для участников программы лояльности добавим к ACV 200 рублей.\n",
    "data_pivot_ACV.loc[data_pivot_ACV['loyalty_program'] == True, 'ACV'] += 200\n",
    "data_pivot_ACV['ACV']=data_pivot_ACV['ACV'].round(0)\n",
    "display(data_pivot_ACV)\n",
    "# Визуализируем полученные данные, построим столбчатую диаграмму \n",
    "fig_2 = px.bar(data_pivot_ACV, y='ACV', x='month', color=\"loyalty_program\", text='ACV', barmode = 'group')\n",
    "\n",
    "# запишем датафрейм, выберем столбец, по которому будем проводитть сортировку нашего графика\n",
    "total_fig_2 = data_pivot_ACV.groupby('month')['ACV'].sum().reset_index()\n",
    "\n",
    "# отсортируем\n",
    "sorted_total_fig_2 = data_pivot_ACV.sort_values('ACV', ascending=False)['month'].values\n",
    "    \n",
    "# оформляем график\n",
    "fig_2.update_layout(\n",
    "    title='Средний доход от покупателя за месяц',xaxis_title='Месяц',yaxis_title='ACV', width=500, height=300, plot_bgcolor='white')\n",
    "\n",
    "#меняем порядок сортировки\n",
    "fig_2.update_xaxes(categoryorder='array', categoryarray=sorted_total_fig_2)\n",
    "fig_2.show() # выводим график\n"
   ]
  },
  {
   "cell_type": "markdown",
   "id": "340d01bf",
   "metadata": {},
   "source": [
    "В дальнейшем мы будем проверять статистическую гипотезу  о равенстве средних ACV для участников программы лояльности и остальных клиентов. Для этого нам надо рассчитать среднемесячную ACV по каждому покупателю, здесь нам необходимо учитывать сколько месяцев клиент является нашим покупателем. Это нам нужно также для того, чтобы корректно рассчитать доход от участия в программе лояльности"
   ]
  },
  {
   "cell_type": "code",
   "execution_count": 322,
   "id": "d5b11256",
   "metadata": {},
   "outputs": [
    {
     "data": {
      "text/html": [
       "<div>\n",
       "<style scoped>\n",
       "    .dataframe tbody tr th:only-of-type {\n",
       "        vertical-align: middle;\n",
       "    }\n",
       "\n",
       "    .dataframe tbody tr th {\n",
       "        vertical-align: top;\n",
       "    }\n",
       "\n",
       "    .dataframe thead th {\n",
       "        text-align: right;\n",
       "    }\n",
       "</style>\n",
       "<table border=\"1\" class=\"dataframe\">\n",
       "  <thead>\n",
       "    <tr style=\"text-align: right;\">\n",
       "      <th></th>\n",
       "      <th>customer_id</th>\n",
       "      <th>loyalty_program</th>\n",
       "      <th>first_purchase</th>\n",
       "      <th>last_purchase</th>\n",
       "      <th>quantity</th>\n",
       "      <th>total</th>\n",
       "      <th>count_purchase</th>\n",
       "    </tr>\n",
       "  </thead>\n",
       "  <tbody>\n",
       "    <tr>\n",
       "      <th>0</th>\n",
       "      <td>18026</td>\n",
       "      <td>False</td>\n",
       "      <td>2016-12-07</td>\n",
       "      <td>2017-01-26</td>\n",
       "      <td>574</td>\n",
       "      <td>2485.23</td>\n",
       "      <td>60</td>\n",
       "    </tr>\n",
       "    <tr>\n",
       "      <th>1</th>\n",
       "      <td>18027</td>\n",
       "      <td>False</td>\n",
       "      <td>2016-12-16</td>\n",
       "      <td>2017-01-25</td>\n",
       "      <td>1832</td>\n",
       "      <td>2652.93</td>\n",
       "      <td>22</td>\n",
       "    </tr>\n",
       "    <tr>\n",
       "      <th>2</th>\n",
       "      <td>18029</td>\n",
       "      <td>False</td>\n",
       "      <td>2017-02-02</td>\n",
       "      <td>2017-02-02</td>\n",
       "      <td>169</td>\n",
       "      <td>530.23</td>\n",
       "      <td>15</td>\n",
       "    </tr>\n",
       "    <tr>\n",
       "      <th>3</th>\n",
       "      <td>18031</td>\n",
       "      <td>False</td>\n",
       "      <td>2017-02-16</td>\n",
       "      <td>2017-02-16</td>\n",
       "      <td>83</td>\n",
       "      <td>520.49</td>\n",
       "      <td>15</td>\n",
       "    </tr>\n",
       "    <tr>\n",
       "      <th>4</th>\n",
       "      <td>18035</td>\n",
       "      <td>False</td>\n",
       "      <td>2017-01-18</td>\n",
       "      <td>2017-01-18</td>\n",
       "      <td>1180</td>\n",
       "      <td>5357.04</td>\n",
       "      <td>36</td>\n",
       "    </tr>\n",
       "    <tr>\n",
       "      <th>...</th>\n",
       "      <td>...</td>\n",
       "      <td>...</td>\n",
       "      <td>...</td>\n",
       "      <td>...</td>\n",
       "      <td>...</td>\n",
       "      <td>...</td>\n",
       "      <td>...</td>\n",
       "    </tr>\n",
       "    <tr>\n",
       "      <th>1733</th>\n",
       "      <td>23938</td>\n",
       "      <td>True</td>\n",
       "      <td>2016-12-08</td>\n",
       "      <td>2016-12-08</td>\n",
       "      <td>109</td>\n",
       "      <td>387.25</td>\n",
       "      <td>7</td>\n",
       "    </tr>\n",
       "    <tr>\n",
       "      <th>1734</th>\n",
       "      <td>23939</td>\n",
       "      <td>True</td>\n",
       "      <td>2016-12-16</td>\n",
       "      <td>2017-01-21</td>\n",
       "      <td>459</td>\n",
       "      <td>692.23</td>\n",
       "      <td>40</td>\n",
       "    </tr>\n",
       "    <tr>\n",
       "      <th>1735</th>\n",
       "      <td>23948</td>\n",
       "      <td>True</td>\n",
       "      <td>2016-12-08</td>\n",
       "      <td>2016-12-16</td>\n",
       "      <td>76</td>\n",
       "      <td>177.67</td>\n",
       "      <td>8</td>\n",
       "    </tr>\n",
       "    <tr>\n",
       "      <th>1736</th>\n",
       "      <td>23956</td>\n",
       "      <td>True</td>\n",
       "      <td>2017-01-25</td>\n",
       "      <td>2017-01-25</td>\n",
       "      <td>2</td>\n",
       "      <td>24.28</td>\n",
       "      <td>1</td>\n",
       "    </tr>\n",
       "    <tr>\n",
       "      <th>1737</th>\n",
       "      <td>23962</td>\n",
       "      <td>True</td>\n",
       "      <td>2017-01-06</td>\n",
       "      <td>2017-02-28</td>\n",
       "      <td>55</td>\n",
       "      <td>70.52</td>\n",
       "      <td>22</td>\n",
       "    </tr>\n",
       "  </tbody>\n",
       "</table>\n",
       "<p>1738 rows × 7 columns</p>\n",
       "</div>"
      ],
      "text/plain": [
       "      customer_id  loyalty_program first_purchase last_purchase  quantity  \\\n",
       "0           18026            False     2016-12-07    2017-01-26       574   \n",
       "1           18027            False     2016-12-16    2017-01-25      1832   \n",
       "2           18029            False     2017-02-02    2017-02-02       169   \n",
       "3           18031            False     2017-02-16    2017-02-16        83   \n",
       "4           18035            False     2017-01-18    2017-01-18      1180   \n",
       "...           ...              ...            ...           ...       ...   \n",
       "1733        23938             True     2016-12-08    2016-12-08       109   \n",
       "1734        23939             True     2016-12-16    2017-01-21       459   \n",
       "1735        23948             True     2016-12-08    2016-12-16        76   \n",
       "1736        23956             True     2017-01-25    2017-01-25         2   \n",
       "1737        23962             True     2017-01-06    2017-02-28        55   \n",
       "\n",
       "        total  count_purchase  \n",
       "0     2485.23              60  \n",
       "1     2652.93              22  \n",
       "2      530.23              15  \n",
       "3      520.49              15  \n",
       "4     5357.04              36  \n",
       "...       ...             ...  \n",
       "1733   387.25               7  \n",
       "1734   692.23              40  \n",
       "1735   177.67               8  \n",
       "1736    24.28               1  \n",
       "1737    70.52              22  \n",
       "\n",
       "[1738 rows x 7 columns]"
      ]
     },
     "metadata": {},
     "output_type": "display_data"
    }
   ],
   "source": [
    "#Сгруппируем данные по customer_id и посчитаем общую стоимость и количество покупок\n",
    "grouped_data = total_retail_new.groupby(\n",
    "    [ 'customer_id', 'loyalty_program', 'first_purchase','last_purchase']).agg({'quantity': 'sum','total': 'sum','purchase_id':'count' }).reset_index()\n",
    "grouped_data = grouped_data.rename(columns={'purchase_id':'count_purchase'})\n",
    "display(grouped_data)"
   ]
  },
  {
   "cell_type": "code",
   "execution_count": 323,
   "id": "c5079835",
   "metadata": {},
   "outputs": [
    {
     "data": {
      "text/html": [
       "<div>\n",
       "<style scoped>\n",
       "    .dataframe tbody tr th:only-of-type {\n",
       "        vertical-align: middle;\n",
       "    }\n",
       "\n",
       "    .dataframe tbody tr th {\n",
       "        vertical-align: top;\n",
       "    }\n",
       "\n",
       "    .dataframe thead th {\n",
       "        text-align: right;\n",
       "    }\n",
       "</style>\n",
       "<table border=\"1\" class=\"dataframe\">\n",
       "  <thead>\n",
       "    <tr style=\"text-align: right;\">\n",
       "      <th></th>\n",
       "      <th>purchase_id</th>\n",
       "      <th>item_id</th>\n",
       "      <th>quantity</th>\n",
       "      <th>purchase_date</th>\n",
       "      <th>customer_id</th>\n",
       "      <th>shop_id</th>\n",
       "      <th>loyalty_program</th>\n",
       "      <th>price_per_one</th>\n",
       "      <th>total</th>\n",
       "      <th>date</th>\n",
       "      <th>month</th>\n",
       "      <th>first_purchase</th>\n",
       "      <th>last_purchase</th>\n",
       "    </tr>\n",
       "  </thead>\n",
       "  <tbody>\n",
       "    <tr>\n",
       "      <th>0</th>\n",
       "      <td>C543624</td>\n",
       "      <td>M</td>\n",
       "      <td>201</td>\n",
       "      <td>2017-02-10 15:33:00</td>\n",
       "      <td>18610</td>\n",
       "      <td>Shop 0</td>\n",
       "      <td>False</td>\n",
       "      <td>513.36</td>\n",
       "      <td>103185.36</td>\n",
       "      <td>2017-02-10</td>\n",
       "      <td>February</td>\n",
       "      <td>2016-12-17</td>\n",
       "      <td>2017-02-15</td>\n",
       "    </tr>\n",
       "    <tr>\n",
       "      <th>1</th>\n",
       "      <td>543994</td>\n",
       "      <td>22149</td>\n",
       "      <td>279</td>\n",
       "      <td>2017-02-15 10:41:00</td>\n",
       "      <td>18610</td>\n",
       "      <td>Shop 0</td>\n",
       "      <td>False</td>\n",
       "      <td>4.74</td>\n",
       "      <td>1322.46</td>\n",
       "      <td>2017-02-15</td>\n",
       "      <td>February</td>\n",
       "      <td>2016-12-17</td>\n",
       "      <td>2017-02-15</td>\n",
       "    </tr>\n",
       "    <tr>\n",
       "      <th>2</th>\n",
       "      <td>543994</td>\n",
       "      <td>22197</td>\n",
       "      <td>599</td>\n",
       "      <td>2017-02-15 10:41:00</td>\n",
       "      <td>18610</td>\n",
       "      <td>Shop 0</td>\n",
       "      <td>False</td>\n",
       "      <td>1.64</td>\n",
       "      <td>982.36</td>\n",
       "      <td>2017-02-15</td>\n",
       "      <td>February</td>\n",
       "      <td>2016-12-17</td>\n",
       "      <td>2017-02-15</td>\n",
       "    </tr>\n",
       "    <tr>\n",
       "      <th>3</th>\n",
       "      <td>543994</td>\n",
       "      <td>22604</td>\n",
       "      <td>255</td>\n",
       "      <td>2017-02-15 10:41:00</td>\n",
       "      <td>18610</td>\n",
       "      <td>Shop 0</td>\n",
       "      <td>False</td>\n",
       "      <td>2.55</td>\n",
       "      <td>650.25</td>\n",
       "      <td>2017-02-15</td>\n",
       "      <td>February</td>\n",
       "      <td>2016-12-17</td>\n",
       "      <td>2017-02-15</td>\n",
       "    </tr>\n",
       "    <tr>\n",
       "      <th>4</th>\n",
       "      <td>543994</td>\n",
       "      <td>21731</td>\n",
       "      <td>143</td>\n",
       "      <td>2017-02-15 10:41:00</td>\n",
       "      <td>18610</td>\n",
       "      <td>Shop 0</td>\n",
       "      <td>False</td>\n",
       "      <td>3.59</td>\n",
       "      <td>513.37</td>\n",
       "      <td>2017-02-15</td>\n",
       "      <td>February</td>\n",
       "      <td>2016-12-17</td>\n",
       "      <td>2017-02-15</td>\n",
       "    </tr>\n",
       "    <tr>\n",
       "      <th>...</th>\n",
       "      <td>...</td>\n",
       "      <td>...</td>\n",
       "      <td>...</td>\n",
       "      <td>...</td>\n",
       "      <td>...</td>\n",
       "      <td>...</td>\n",
       "      <td>...</td>\n",
       "      <td>...</td>\n",
       "      <td>...</td>\n",
       "      <td>...</td>\n",
       "      <td>...</td>\n",
       "      <td>...</td>\n",
       "      <td>...</td>\n",
       "    </tr>\n",
       "    <tr>\n",
       "      <th>54426</th>\n",
       "      <td>538368</td>\n",
       "      <td>21677</td>\n",
       "      <td>1</td>\n",
       "      <td>2016-12-12 10:57:00</td>\n",
       "      <td>21182</td>\n",
       "      <td>Shop 0</td>\n",
       "      <td>False</td>\n",
       "      <td>1.64</td>\n",
       "      <td>1.64</td>\n",
       "      <td>2016-12-12</td>\n",
       "      <td>December</td>\n",
       "      <td>2016-12-12</td>\n",
       "      <td>2016-12-12</td>\n",
       "    </tr>\n",
       "    <tr>\n",
       "      <th>54427</th>\n",
       "      <td>538368</td>\n",
       "      <td>22419</td>\n",
       "      <td>1</td>\n",
       "      <td>2016-12-12 10:57:00</td>\n",
       "      <td>21182</td>\n",
       "      <td>Shop 0</td>\n",
       "      <td>False</td>\n",
       "      <td>0.84</td>\n",
       "      <td>0.84</td>\n",
       "      <td>2016-12-12</td>\n",
       "      <td>December</td>\n",
       "      <td>2016-12-12</td>\n",
       "      <td>2016-12-12</td>\n",
       "    </tr>\n",
       "    <tr>\n",
       "      <th>54428</th>\n",
       "      <td>543986</td>\n",
       "      <td>46000U</td>\n",
       "      <td>2</td>\n",
       "      <td>2017-02-15 09:46:00</td>\n",
       "      <td>22417</td>\n",
       "      <td>Shop 0</td>\n",
       "      <td>True</td>\n",
       "      <td>1.25</td>\n",
       "      <td>2.50</td>\n",
       "      <td>2017-02-15</td>\n",
       "      <td>February</td>\n",
       "      <td>2017-02-15</td>\n",
       "      <td>2017-02-15</td>\n",
       "    </tr>\n",
       "    <tr>\n",
       "      <th>54429</th>\n",
       "      <td>C536818</td>\n",
       "      <td>84947</td>\n",
       "      <td>2</td>\n",
       "      <td>2016-12-02 17:09:00</td>\n",
       "      <td>22674</td>\n",
       "      <td>Shop 0</td>\n",
       "      <td>True</td>\n",
       "      <td>1.16</td>\n",
       "      <td>2.32</td>\n",
       "      <td>2016-12-02</td>\n",
       "      <td>December</td>\n",
       "      <td>2016-12-02</td>\n",
       "      <td>2016-12-02</td>\n",
       "    </tr>\n",
       "    <tr>\n",
       "      <th>54430</th>\n",
       "      <td>541815</td>\n",
       "      <td>22329</td>\n",
       "      <td>1</td>\n",
       "      <td>2017-01-21 15:45:00</td>\n",
       "      <td>23716</td>\n",
       "      <td>Shop 0</td>\n",
       "      <td>True</td>\n",
       "      <td>1.55</td>\n",
       "      <td>1.55</td>\n",
       "      <td>2017-01-21</td>\n",
       "      <td>January</td>\n",
       "      <td>2017-01-21</td>\n",
       "      <td>2017-01-21</td>\n",
       "    </tr>\n",
       "  </tbody>\n",
       "</table>\n",
       "<p>54431 rows × 13 columns</p>\n",
       "</div>"
      ],
      "text/plain": [
       "      purchase_id item_id  quantity       purchase_date  customer_id shop_id  \\\n",
       "0         C543624       M       201 2017-02-10 15:33:00        18610  Shop 0   \n",
       "1          543994   22149       279 2017-02-15 10:41:00        18610  Shop 0   \n",
       "2          543994   22197       599 2017-02-15 10:41:00        18610  Shop 0   \n",
       "3          543994   22604       255 2017-02-15 10:41:00        18610  Shop 0   \n",
       "4          543994   21731       143 2017-02-15 10:41:00        18610  Shop 0   \n",
       "...           ...     ...       ...                 ...          ...     ...   \n",
       "54426      538368   21677         1 2016-12-12 10:57:00        21182  Shop 0   \n",
       "54427      538368   22419         1 2016-12-12 10:57:00        21182  Shop 0   \n",
       "54428      543986  46000U         2 2017-02-15 09:46:00        22417  Shop 0   \n",
       "54429     C536818   84947         2 2016-12-02 17:09:00        22674  Shop 0   \n",
       "54430      541815   22329         1 2017-01-21 15:45:00        23716  Shop 0   \n",
       "\n",
       "       loyalty_program  price_per_one      total        date     month  \\\n",
       "0                False         513.36  103185.36  2017-02-10  February   \n",
       "1                False           4.74    1322.46  2017-02-15  February   \n",
       "2                False           1.64     982.36  2017-02-15  February   \n",
       "3                False           2.55     650.25  2017-02-15  February   \n",
       "4                False           3.59     513.37  2017-02-15  February   \n",
       "...                ...            ...        ...         ...       ...   \n",
       "54426            False           1.64       1.64  2016-12-12  December   \n",
       "54427            False           0.84       0.84  2016-12-12  December   \n",
       "54428             True           1.25       2.50  2017-02-15  February   \n",
       "54429             True           1.16       2.32  2016-12-02  December   \n",
       "54430             True           1.55       1.55  2017-01-21   January   \n",
       "\n",
       "      first_purchase last_purchase  \n",
       "0         2016-12-17    2017-02-15  \n",
       "1         2016-12-17    2017-02-15  \n",
       "2         2016-12-17    2017-02-15  \n",
       "3         2016-12-17    2017-02-15  \n",
       "4         2016-12-17    2017-02-15  \n",
       "...              ...           ...  \n",
       "54426     2016-12-12    2016-12-12  \n",
       "54427     2016-12-12    2016-12-12  \n",
       "54428     2017-02-15    2017-02-15  \n",
       "54429     2016-12-02    2016-12-02  \n",
       "54430     2017-01-21    2017-01-21  \n",
       "\n",
       "[54431 rows x 13 columns]"
      ]
     },
     "execution_count": 323,
     "metadata": {},
     "output_type": "execute_result"
    }
   ],
   "source": [
    "#Добавим к таблице total_retail дату первой и последней покупки\n",
    "total_retail_1 = pd.merge(total_retail_LTV, first_date, on='customer_id')\n",
    "total_retail_1['first_purchase'] = pd.to_datetime(total_retail_1['first_purchase'])\n",
    "total_retail_new= pd.merge(total_retail_1, last_date, on='customer_id')\n",
    "total_retail_new['last_purchase'] = pd.to_datetime(total_retail_new['last_purchase'])\n",
    "total_retail_new"
   ]
  },
  {
   "cell_type": "code",
   "execution_count": 324,
   "id": "8f84dbf6",
   "metadata": {},
   "outputs": [
    {
     "data": {
      "text/html": [
       "<div>\n",
       "<style scoped>\n",
       "    .dataframe tbody tr th:only-of-type {\n",
       "        vertical-align: middle;\n",
       "    }\n",
       "\n",
       "    .dataframe tbody tr th {\n",
       "        vertical-align: top;\n",
       "    }\n",
       "\n",
       "    .dataframe thead th {\n",
       "        text-align: right;\n",
       "    }\n",
       "</style>\n",
       "<table border=\"1\" class=\"dataframe\">\n",
       "  <thead>\n",
       "    <tr style=\"text-align: right;\">\n",
       "      <th></th>\n",
       "      <th>customer_id</th>\n",
       "      <th>loyalty_program</th>\n",
       "      <th>first_purchase</th>\n",
       "      <th>last_purchase</th>\n",
       "      <th>quantity</th>\n",
       "      <th>total</th>\n",
       "      <th>count_purchase</th>\n",
       "      <th>lifetime_months</th>\n",
       "      <th>loyalty_purchase</th>\n",
       "      <th>total_purchase</th>\n",
       "      <th>ACV</th>\n",
       "    </tr>\n",
       "  </thead>\n",
       "  <tbody>\n",
       "    <tr>\n",
       "      <th>0</th>\n",
       "      <td>18026</td>\n",
       "      <td>False</td>\n",
       "      <td>2016-12-07</td>\n",
       "      <td>2017-01-26</td>\n",
       "      <td>574</td>\n",
       "      <td>2485.23</td>\n",
       "      <td>60</td>\n",
       "      <td>3</td>\n",
       "      <td>0</td>\n",
       "      <td>2485.23</td>\n",
       "      <td>828.41</td>\n",
       "    </tr>\n",
       "    <tr>\n",
       "      <th>1</th>\n",
       "      <td>18027</td>\n",
       "      <td>False</td>\n",
       "      <td>2016-12-16</td>\n",
       "      <td>2017-01-25</td>\n",
       "      <td>1832</td>\n",
       "      <td>2652.93</td>\n",
       "      <td>22</td>\n",
       "      <td>3</td>\n",
       "      <td>0</td>\n",
       "      <td>2652.93</td>\n",
       "      <td>884.31</td>\n",
       "    </tr>\n",
       "    <tr>\n",
       "      <th>2</th>\n",
       "      <td>18029</td>\n",
       "      <td>False</td>\n",
       "      <td>2017-02-02</td>\n",
       "      <td>2017-02-02</td>\n",
       "      <td>169</td>\n",
       "      <td>530.23</td>\n",
       "      <td>15</td>\n",
       "      <td>3</td>\n",
       "      <td>0</td>\n",
       "      <td>530.23</td>\n",
       "      <td>176.74</td>\n",
       "    </tr>\n",
       "    <tr>\n",
       "      <th>3</th>\n",
       "      <td>18031</td>\n",
       "      <td>False</td>\n",
       "      <td>2017-02-16</td>\n",
       "      <td>2017-02-16</td>\n",
       "      <td>83</td>\n",
       "      <td>520.49</td>\n",
       "      <td>15</td>\n",
       "      <td>3</td>\n",
       "      <td>0</td>\n",
       "      <td>520.49</td>\n",
       "      <td>173.50</td>\n",
       "    </tr>\n",
       "    <tr>\n",
       "      <th>4</th>\n",
       "      <td>18035</td>\n",
       "      <td>False</td>\n",
       "      <td>2017-01-18</td>\n",
       "      <td>2017-01-18</td>\n",
       "      <td>1180</td>\n",
       "      <td>5357.04</td>\n",
       "      <td>36</td>\n",
       "      <td>2</td>\n",
       "      <td>0</td>\n",
       "      <td>5357.04</td>\n",
       "      <td>2678.52</td>\n",
       "    </tr>\n",
       "    <tr>\n",
       "      <th>...</th>\n",
       "      <td>...</td>\n",
       "      <td>...</td>\n",
       "      <td>...</td>\n",
       "      <td>...</td>\n",
       "      <td>...</td>\n",
       "      <td>...</td>\n",
       "      <td>...</td>\n",
       "      <td>...</td>\n",
       "      <td>...</td>\n",
       "      <td>...</td>\n",
       "      <td>...</td>\n",
       "    </tr>\n",
       "    <tr>\n",
       "      <th>1733</th>\n",
       "      <td>23938</td>\n",
       "      <td>True</td>\n",
       "      <td>2016-12-08</td>\n",
       "      <td>2016-12-08</td>\n",
       "      <td>109</td>\n",
       "      <td>387.25</td>\n",
       "      <td>7</td>\n",
       "      <td>3</td>\n",
       "      <td>600</td>\n",
       "      <td>987.25</td>\n",
       "      <td>329.08</td>\n",
       "    </tr>\n",
       "    <tr>\n",
       "      <th>1734</th>\n",
       "      <td>23939</td>\n",
       "      <td>True</td>\n",
       "      <td>2016-12-16</td>\n",
       "      <td>2017-01-21</td>\n",
       "      <td>459</td>\n",
       "      <td>692.23</td>\n",
       "      <td>40</td>\n",
       "      <td>3</td>\n",
       "      <td>600</td>\n",
       "      <td>1292.23</td>\n",
       "      <td>430.74</td>\n",
       "    </tr>\n",
       "    <tr>\n",
       "      <th>1735</th>\n",
       "      <td>23948</td>\n",
       "      <td>True</td>\n",
       "      <td>2016-12-08</td>\n",
       "      <td>2016-12-16</td>\n",
       "      <td>76</td>\n",
       "      <td>177.67</td>\n",
       "      <td>8</td>\n",
       "      <td>3</td>\n",
       "      <td>600</td>\n",
       "      <td>777.67</td>\n",
       "      <td>259.22</td>\n",
       "    </tr>\n",
       "    <tr>\n",
       "      <th>1736</th>\n",
       "      <td>23956</td>\n",
       "      <td>True</td>\n",
       "      <td>2017-01-25</td>\n",
       "      <td>2017-01-25</td>\n",
       "      <td>2</td>\n",
       "      <td>24.28</td>\n",
       "      <td>1</td>\n",
       "      <td>2</td>\n",
       "      <td>400</td>\n",
       "      <td>424.28</td>\n",
       "      <td>212.14</td>\n",
       "    </tr>\n",
       "    <tr>\n",
       "      <th>1737</th>\n",
       "      <td>23962</td>\n",
       "      <td>True</td>\n",
       "      <td>2017-01-06</td>\n",
       "      <td>2017-02-28</td>\n",
       "      <td>55</td>\n",
       "      <td>70.52</td>\n",
       "      <td>22</td>\n",
       "      <td>2</td>\n",
       "      <td>400</td>\n",
       "      <td>470.52</td>\n",
       "      <td>235.26</td>\n",
       "    </tr>\n",
       "  </tbody>\n",
       "</table>\n",
       "<p>1738 rows × 11 columns</p>\n",
       "</div>"
      ],
      "text/plain": [
       "      customer_id  loyalty_program first_purchase last_purchase  quantity  \\\n",
       "0           18026            False     2016-12-07    2017-01-26       574   \n",
       "1           18027            False     2016-12-16    2017-01-25      1832   \n",
       "2           18029            False     2017-02-02    2017-02-02       169   \n",
       "3           18031            False     2017-02-16    2017-02-16        83   \n",
       "4           18035            False     2017-01-18    2017-01-18      1180   \n",
       "...           ...              ...            ...           ...       ...   \n",
       "1733        23938             True     2016-12-08    2016-12-08       109   \n",
       "1734        23939             True     2016-12-16    2017-01-21       459   \n",
       "1735        23948             True     2016-12-08    2016-12-16        76   \n",
       "1736        23956             True     2017-01-25    2017-01-25         2   \n",
       "1737        23962             True     2017-01-06    2017-02-28        55   \n",
       "\n",
       "        total  count_purchase  lifetime_months  loyalty_purchase  \\\n",
       "0     2485.23              60                3                 0   \n",
       "1     2652.93              22                3                 0   \n",
       "2      530.23              15                3                 0   \n",
       "3      520.49              15                3                 0   \n",
       "4     5357.04              36                2                 0   \n",
       "...       ...             ...              ...               ...   \n",
       "1733   387.25               7                3               600   \n",
       "1734   692.23              40                3               600   \n",
       "1735   177.67               8                3               600   \n",
       "1736    24.28               1                2               400   \n",
       "1737    70.52              22                2               400   \n",
       "\n",
       "      total_purchase      ACV  \n",
       "0            2485.23   828.41  \n",
       "1            2652.93   884.31  \n",
       "2             530.23   176.74  \n",
       "3             520.49   173.50  \n",
       "4            5357.04  2678.52  \n",
       "...              ...      ...  \n",
       "1733          987.25   329.08  \n",
       "1734         1292.23   430.74  \n",
       "1735          777.67   259.22  \n",
       "1736          424.28   212.14  \n",
       "1737          470.52   235.26  \n",
       "\n",
       "[1738 rows x 11 columns]"
      ]
     },
     "metadata": {},
     "output_type": "display_data"
    }
   ],
   "source": [
    "#Напишем функцию, которое возвращает целое число месяцев от первой покупки, если покупка совершена в декабре - вернет 3,\n",
    "#в январе - 2, в феврале - 1, поскольку наши данные ограничены 3-мя месяцами, значит максимальное значение здесь будет 3\n",
    "\n",
    "def get_month_value(date_str):\n",
    "    date_obj = datetime.strptime(date_str, '%Y-%m-%d') if isinstance(date_str, str) else date_str\n",
    "    if date_obj.month == 12:\n",
    "        return 3\n",
    "    elif date_obj.month == 1:\n",
    "        return 2\n",
    "    elif date_obj.month == 2:\n",
    "        return 3\n",
    "    else:\n",
    "        return None\n",
    "\n",
    "# применим функцию\n",
    "grouped_data['lifetime_months']  = grouped_data['first_purchase'] .apply(get_month_value)\n",
    "\n",
    "# Найдем доход от программы лояльности (200 рублей за каждый месяц)\n",
    "grouped_data ['loyalty_purchase'] = grouped_data.apply(lambda x: x['lifetime_months'] * 200 if x['loyalty_program'] else 0, axis=1)\n",
    "grouped_data['total_purchase'] = grouped_data['total']+grouped_data['loyalty_purchase']\n",
    "#Найдем среднемесячный ACV для каждого участника программы\n",
    "grouped_data['ACV'] = (grouped_data['total_purchase']/grouped_data['lifetime_months']).round(2)\n",
    "display(grouped_data)\n"
   ]
  },
  {
   "cell_type": "markdown",
   "id": "3e9f7730",
   "metadata": {},
   "source": [
    "**Вывод:**  Как можно заметить, исходя из рассчитанных значений, средний доход от покупателя за месяц (ACV  за месяц) в группе участников программы лояльности почти в 2 раза ниже, чем в группе покупателей, не участвующих в ней. Такая тенденция отмечается за весь анализируемый период. В декабре ACV участников программы 744 рубля, у остальных покупателей - 1406 рублей, в январе: у участников ACV равен 660 рублей, у тех кто не участвует - 1498 рублей, в феврале: у участников - 696 рублей, у остальных покупателей - 1440 рублей. Также мы рассчитали доход от каждого покупателя за месяц, с учетом времени жизни покупателя, этот расчет мы будем использовать в дальнейшем для проверки статистической гипотезы."
   ]
  },
  {
   "cell_type": "markdown",
   "id": "f5c6a179",
   "metadata": {},
   "source": [
    "###  Cколько всего покупателей участвуют в программе лояльности"
   ]
  },
  {
   "cell_type": "code",
   "execution_count": 325,
   "id": "5bac1238",
   "metadata": {},
   "outputs": [
    {
     "data": {
      "text/html": [
       "<div>\n",
       "<style scoped>\n",
       "    .dataframe tbody tr th:only-of-type {\n",
       "        vertical-align: middle;\n",
       "    }\n",
       "\n",
       "    .dataframe tbody tr th {\n",
       "        vertical-align: top;\n",
       "    }\n",
       "\n",
       "    .dataframe thead th {\n",
       "        text-align: right;\n",
       "    }\n",
       "</style>\n",
       "<table border=\"1\" class=\"dataframe\">\n",
       "  <thead>\n",
       "    <tr style=\"text-align: right;\">\n",
       "      <th></th>\n",
       "      <th>loyalty_program</th>\n",
       "      <th>customer_id</th>\n",
       "    </tr>\n",
       "  </thead>\n",
       "  <tbody>\n",
       "    <tr>\n",
       "      <th>0</th>\n",
       "      <td>False</td>\n",
       "      <td>1154</td>\n",
       "    </tr>\n",
       "    <tr>\n",
       "      <th>1</th>\n",
       "      <td>True</td>\n",
       "      <td>584</td>\n",
       "    </tr>\n",
       "  </tbody>\n",
       "</table>\n",
       "</div>"
      ],
      "text/plain": [
       "   loyalty_program  customer_id\n",
       "0            False         1154\n",
       "1             True          584"
      ]
     },
     "metadata": {},
     "output_type": "display_data"
    }
   ],
   "source": [
    "#Посмотрим сколько всего покупателей участвуют в программе лояльности.\n",
    "customer_in_loyalty_program = pd.pivot_table(total_retail_LTV, values='customer_id', index=['loyalty_program'], aggfunc=pd.Series.nunique)\n",
    "customer_in_loyalty_program = customer_in_loyalty_program.reset_index()[['loyalty_program','customer_id']]\n",
    "display(customer_in_loyalty_program)"
   ]
  },
  {
   "cell_type": "code",
   "execution_count": 326,
   "id": "bea7efc7",
   "metadata": {},
   "outputs": [
    {
     "data": {
      "application/vnd.plotly.v1+json": {
       "config": {
        "plotlyServerURL": "https://plot.ly"
       },
       "data": [
        {
         "labels": [
          false,
          true
         ],
         "pull": [
          0.1,
          0
         ],
         "type": "pie",
         "values": [
          1154,
          584
         ]
        }
       ],
       "layout": {
        "annotations": [
         {
          "showarrow": false,
          "text": "Участник программы лояльности",
          "x": 1.12,
          "y": 1.05
         }
        ],
        "height": 400,
        "template": {
         "data": {
          "bar": [
           {
            "error_x": {
             "color": "#2a3f5f"
            },
            "error_y": {
             "color": "#2a3f5f"
            },
            "marker": {
             "line": {
              "color": "#E5ECF6",
              "width": 0.5
             },
             "pattern": {
              "fillmode": "overlay",
              "size": 10,
              "solidity": 0.2
             }
            },
            "type": "bar"
           }
          ],
          "barpolar": [
           {
            "marker": {
             "line": {
              "color": "#E5ECF6",
              "width": 0.5
             },
             "pattern": {
              "fillmode": "overlay",
              "size": 10,
              "solidity": 0.2
             }
            },
            "type": "barpolar"
           }
          ],
          "carpet": [
           {
            "aaxis": {
             "endlinecolor": "#2a3f5f",
             "gridcolor": "white",
             "linecolor": "white",
             "minorgridcolor": "white",
             "startlinecolor": "#2a3f5f"
            },
            "baxis": {
             "endlinecolor": "#2a3f5f",
             "gridcolor": "white",
             "linecolor": "white",
             "minorgridcolor": "white",
             "startlinecolor": "#2a3f5f"
            },
            "type": "carpet"
           }
          ],
          "choropleth": [
           {
            "colorbar": {
             "outlinewidth": 0,
             "ticks": ""
            },
            "type": "choropleth"
           }
          ],
          "contour": [
           {
            "colorbar": {
             "outlinewidth": 0,
             "ticks": ""
            },
            "colorscale": [
             [
              0,
              "#0d0887"
             ],
             [
              0.1111111111111111,
              "#46039f"
             ],
             [
              0.2222222222222222,
              "#7201a8"
             ],
             [
              0.3333333333333333,
              "#9c179e"
             ],
             [
              0.4444444444444444,
              "#bd3786"
             ],
             [
              0.5555555555555556,
              "#d8576b"
             ],
             [
              0.6666666666666666,
              "#ed7953"
             ],
             [
              0.7777777777777778,
              "#fb9f3a"
             ],
             [
              0.8888888888888888,
              "#fdca26"
             ],
             [
              1,
              "#f0f921"
             ]
            ],
            "type": "contour"
           }
          ],
          "contourcarpet": [
           {
            "colorbar": {
             "outlinewidth": 0,
             "ticks": ""
            },
            "type": "contourcarpet"
           }
          ],
          "heatmap": [
           {
            "colorbar": {
             "outlinewidth": 0,
             "ticks": ""
            },
            "colorscale": [
             [
              0,
              "#0d0887"
             ],
             [
              0.1111111111111111,
              "#46039f"
             ],
             [
              0.2222222222222222,
              "#7201a8"
             ],
             [
              0.3333333333333333,
              "#9c179e"
             ],
             [
              0.4444444444444444,
              "#bd3786"
             ],
             [
              0.5555555555555556,
              "#d8576b"
             ],
             [
              0.6666666666666666,
              "#ed7953"
             ],
             [
              0.7777777777777778,
              "#fb9f3a"
             ],
             [
              0.8888888888888888,
              "#fdca26"
             ],
             [
              1,
              "#f0f921"
             ]
            ],
            "type": "heatmap"
           }
          ],
          "heatmapgl": [
           {
            "colorbar": {
             "outlinewidth": 0,
             "ticks": ""
            },
            "colorscale": [
             [
              0,
              "#0d0887"
             ],
             [
              0.1111111111111111,
              "#46039f"
             ],
             [
              0.2222222222222222,
              "#7201a8"
             ],
             [
              0.3333333333333333,
              "#9c179e"
             ],
             [
              0.4444444444444444,
              "#bd3786"
             ],
             [
              0.5555555555555556,
              "#d8576b"
             ],
             [
              0.6666666666666666,
              "#ed7953"
             ],
             [
              0.7777777777777778,
              "#fb9f3a"
             ],
             [
              0.8888888888888888,
              "#fdca26"
             ],
             [
              1,
              "#f0f921"
             ]
            ],
            "type": "heatmapgl"
           }
          ],
          "histogram": [
           {
            "marker": {
             "pattern": {
              "fillmode": "overlay",
              "size": 10,
              "solidity": 0.2
             }
            },
            "type": "histogram"
           }
          ],
          "histogram2d": [
           {
            "colorbar": {
             "outlinewidth": 0,
             "ticks": ""
            },
            "colorscale": [
             [
              0,
              "#0d0887"
             ],
             [
              0.1111111111111111,
              "#46039f"
             ],
             [
              0.2222222222222222,
              "#7201a8"
             ],
             [
              0.3333333333333333,
              "#9c179e"
             ],
             [
              0.4444444444444444,
              "#bd3786"
             ],
             [
              0.5555555555555556,
              "#d8576b"
             ],
             [
              0.6666666666666666,
              "#ed7953"
             ],
             [
              0.7777777777777778,
              "#fb9f3a"
             ],
             [
              0.8888888888888888,
              "#fdca26"
             ],
             [
              1,
              "#f0f921"
             ]
            ],
            "type": "histogram2d"
           }
          ],
          "histogram2dcontour": [
           {
            "colorbar": {
             "outlinewidth": 0,
             "ticks": ""
            },
            "colorscale": [
             [
              0,
              "#0d0887"
             ],
             [
              0.1111111111111111,
              "#46039f"
             ],
             [
              0.2222222222222222,
              "#7201a8"
             ],
             [
              0.3333333333333333,
              "#9c179e"
             ],
             [
              0.4444444444444444,
              "#bd3786"
             ],
             [
              0.5555555555555556,
              "#d8576b"
             ],
             [
              0.6666666666666666,
              "#ed7953"
             ],
             [
              0.7777777777777778,
              "#fb9f3a"
             ],
             [
              0.8888888888888888,
              "#fdca26"
             ],
             [
              1,
              "#f0f921"
             ]
            ],
            "type": "histogram2dcontour"
           }
          ],
          "mesh3d": [
           {
            "colorbar": {
             "outlinewidth": 0,
             "ticks": ""
            },
            "type": "mesh3d"
           }
          ],
          "parcoords": [
           {
            "line": {
             "colorbar": {
              "outlinewidth": 0,
              "ticks": ""
             }
            },
            "type": "parcoords"
           }
          ],
          "pie": [
           {
            "automargin": true,
            "type": "pie"
           }
          ],
          "scatter": [
           {
            "marker": {
             "colorbar": {
              "outlinewidth": 0,
              "ticks": ""
             }
            },
            "type": "scatter"
           }
          ],
          "scatter3d": [
           {
            "line": {
             "colorbar": {
              "outlinewidth": 0,
              "ticks": ""
             }
            },
            "marker": {
             "colorbar": {
              "outlinewidth": 0,
              "ticks": ""
             }
            },
            "type": "scatter3d"
           }
          ],
          "scattercarpet": [
           {
            "marker": {
             "colorbar": {
              "outlinewidth": 0,
              "ticks": ""
             }
            },
            "type": "scattercarpet"
           }
          ],
          "scattergeo": [
           {
            "marker": {
             "colorbar": {
              "outlinewidth": 0,
              "ticks": ""
             }
            },
            "type": "scattergeo"
           }
          ],
          "scattergl": [
           {
            "marker": {
             "colorbar": {
              "outlinewidth": 0,
              "ticks": ""
             }
            },
            "type": "scattergl"
           }
          ],
          "scattermapbox": [
           {
            "marker": {
             "colorbar": {
              "outlinewidth": 0,
              "ticks": ""
             }
            },
            "type": "scattermapbox"
           }
          ],
          "scatterpolar": [
           {
            "marker": {
             "colorbar": {
              "outlinewidth": 0,
              "ticks": ""
             }
            },
            "type": "scatterpolar"
           }
          ],
          "scatterpolargl": [
           {
            "marker": {
             "colorbar": {
              "outlinewidth": 0,
              "ticks": ""
             }
            },
            "type": "scatterpolargl"
           }
          ],
          "scatterternary": [
           {
            "marker": {
             "colorbar": {
              "outlinewidth": 0,
              "ticks": ""
             }
            },
            "type": "scatterternary"
           }
          ],
          "surface": [
           {
            "colorbar": {
             "outlinewidth": 0,
             "ticks": ""
            },
            "colorscale": [
             [
              0,
              "#0d0887"
             ],
             [
              0.1111111111111111,
              "#46039f"
             ],
             [
              0.2222222222222222,
              "#7201a8"
             ],
             [
              0.3333333333333333,
              "#9c179e"
             ],
             [
              0.4444444444444444,
              "#bd3786"
             ],
             [
              0.5555555555555556,
              "#d8576b"
             ],
             [
              0.6666666666666666,
              "#ed7953"
             ],
             [
              0.7777777777777778,
              "#fb9f3a"
             ],
             [
              0.8888888888888888,
              "#fdca26"
             ],
             [
              1,
              "#f0f921"
             ]
            ],
            "type": "surface"
           }
          ],
          "table": [
           {
            "cells": {
             "fill": {
              "color": "#EBF0F8"
             },
             "line": {
              "color": "white"
             }
            },
            "header": {
             "fill": {
              "color": "#C8D4E3"
             },
             "line": {
              "color": "white"
             }
            },
            "type": "table"
           }
          ]
         },
         "layout": {
          "annotationdefaults": {
           "arrowcolor": "#2a3f5f",
           "arrowhead": 0,
           "arrowwidth": 1
          },
          "autotypenumbers": "strict",
          "coloraxis": {
           "colorbar": {
            "outlinewidth": 0,
            "ticks": ""
           }
          },
          "colorscale": {
           "diverging": [
            [
             0,
             "#8e0152"
            ],
            [
             0.1,
             "#c51b7d"
            ],
            [
             0.2,
             "#de77ae"
            ],
            [
             0.3,
             "#f1b6da"
            ],
            [
             0.4,
             "#fde0ef"
            ],
            [
             0.5,
             "#f7f7f7"
            ],
            [
             0.6,
             "#e6f5d0"
            ],
            [
             0.7,
             "#b8e186"
            ],
            [
             0.8,
             "#7fbc41"
            ],
            [
             0.9,
             "#4d9221"
            ],
            [
             1,
             "#276419"
            ]
           ],
           "sequential": [
            [
             0,
             "#0d0887"
            ],
            [
             0.1111111111111111,
             "#46039f"
            ],
            [
             0.2222222222222222,
             "#7201a8"
            ],
            [
             0.3333333333333333,
             "#9c179e"
            ],
            [
             0.4444444444444444,
             "#bd3786"
            ],
            [
             0.5555555555555556,
             "#d8576b"
            ],
            [
             0.6666666666666666,
             "#ed7953"
            ],
            [
             0.7777777777777778,
             "#fb9f3a"
            ],
            [
             0.8888888888888888,
             "#fdca26"
            ],
            [
             1,
             "#f0f921"
            ]
           ],
           "sequentialminus": [
            [
             0,
             "#0d0887"
            ],
            [
             0.1111111111111111,
             "#46039f"
            ],
            [
             0.2222222222222222,
             "#7201a8"
            ],
            [
             0.3333333333333333,
             "#9c179e"
            ],
            [
             0.4444444444444444,
             "#bd3786"
            ],
            [
             0.5555555555555556,
             "#d8576b"
            ],
            [
             0.6666666666666666,
             "#ed7953"
            ],
            [
             0.7777777777777778,
             "#fb9f3a"
            ],
            [
             0.8888888888888888,
             "#fdca26"
            ],
            [
             1,
             "#f0f921"
            ]
           ]
          },
          "colorway": [
           "#636efa",
           "#EF553B",
           "#00cc96",
           "#ab63fa",
           "#FFA15A",
           "#19d3f3",
           "#FF6692",
           "#B6E880",
           "#FF97FF",
           "#FECB52"
          ],
          "font": {
           "color": "#2a3f5f"
          },
          "geo": {
           "bgcolor": "white",
           "lakecolor": "white",
           "landcolor": "#E5ECF6",
           "showlakes": true,
           "showland": true,
           "subunitcolor": "white"
          },
          "hoverlabel": {
           "align": "left"
          },
          "hovermode": "closest",
          "mapbox": {
           "style": "light"
          },
          "paper_bgcolor": "white",
          "plot_bgcolor": "#E5ECF6",
          "polar": {
           "angularaxis": {
            "gridcolor": "white",
            "linecolor": "white",
            "ticks": ""
           },
           "bgcolor": "#E5ECF6",
           "radialaxis": {
            "gridcolor": "white",
            "linecolor": "white",
            "ticks": ""
           }
          },
          "scene": {
           "xaxis": {
            "backgroundcolor": "#E5ECF6",
            "gridcolor": "white",
            "gridwidth": 2,
            "linecolor": "white",
            "showbackground": true,
            "ticks": "",
            "zerolinecolor": "white"
           },
           "yaxis": {
            "backgroundcolor": "#E5ECF6",
            "gridcolor": "white",
            "gridwidth": 2,
            "linecolor": "white",
            "showbackground": true,
            "ticks": "",
            "zerolinecolor": "white"
           },
           "zaxis": {
            "backgroundcolor": "#E5ECF6",
            "gridcolor": "white",
            "gridwidth": 2,
            "linecolor": "white",
            "showbackground": true,
            "ticks": "",
            "zerolinecolor": "white"
           }
          },
          "shapedefaults": {
           "line": {
            "color": "#2a3f5f"
           }
          },
          "ternary": {
           "aaxis": {
            "gridcolor": "white",
            "linecolor": "white",
            "ticks": ""
           },
           "baxis": {
            "gridcolor": "white",
            "linecolor": "white",
            "ticks": ""
           },
           "bgcolor": "#E5ECF6",
           "caxis": {
            "gridcolor": "white",
            "linecolor": "white",
            "ticks": ""
           }
          },
          "title": {
           "x": 0.05
          },
          "xaxis": {
           "automargin": true,
           "gridcolor": "white",
           "linecolor": "white",
           "ticks": "",
           "title": {
            "standoff": 15
           },
           "zerolinecolor": "white",
           "zerolinewidth": 2
          },
          "yaxis": {
           "automargin": true,
           "gridcolor": "white",
           "linecolor": "white",
           "ticks": "",
           "title": {
            "standoff": 15
           },
           "zerolinecolor": "white",
           "zerolinewidth": 2
          }
         }
        },
        "title": {
         "text": "Соотношение участников/неучастников программы лояльности"
        },
        "width": 600
       }
      },
      "text/html": [
       "<div>                            <div id=\"4de75223-720b-4fbe-a53a-0e84bf2d71fd\" class=\"plotly-graph-div\" style=\"height:400px; width:600px;\"></div>            <script type=\"text/javascript\">                require([\"plotly\"], function(Plotly) {                    window.PLOTLYENV=window.PLOTLYENV || {};                                    if (document.getElementById(\"4de75223-720b-4fbe-a53a-0e84bf2d71fd\")) {                    Plotly.newPlot(                        \"4de75223-720b-4fbe-a53a-0e84bf2d71fd\",                        [{\"labels\":[false,true],\"pull\":[0.1,0],\"values\":[1154,584],\"type\":\"pie\"}],                        {\"template\":{\"data\":{\"bar\":[{\"error_x\":{\"color\":\"#2a3f5f\"},\"error_y\":{\"color\":\"#2a3f5f\"},\"marker\":{\"line\":{\"color\":\"#E5ECF6\",\"width\":0.5},\"pattern\":{\"fillmode\":\"overlay\",\"size\":10,\"solidity\":0.2}},\"type\":\"bar\"}],\"barpolar\":[{\"marker\":{\"line\":{\"color\":\"#E5ECF6\",\"width\":0.5},\"pattern\":{\"fillmode\":\"overlay\",\"size\":10,\"solidity\":0.2}},\"type\":\"barpolar\"}],\"carpet\":[{\"aaxis\":{\"endlinecolor\":\"#2a3f5f\",\"gridcolor\":\"white\",\"linecolor\":\"white\",\"minorgridcolor\":\"white\",\"startlinecolor\":\"#2a3f5f\"},\"baxis\":{\"endlinecolor\":\"#2a3f5f\",\"gridcolor\":\"white\",\"linecolor\":\"white\",\"minorgridcolor\":\"white\",\"startlinecolor\":\"#2a3f5f\"},\"type\":\"carpet\"}],\"choropleth\":[{\"colorbar\":{\"outlinewidth\":0,\"ticks\":\"\"},\"type\":\"choropleth\"}],\"contour\":[{\"colorbar\":{\"outlinewidth\":0,\"ticks\":\"\"},\"colorscale\":[[0.0,\"#0d0887\"],[0.1111111111111111,\"#46039f\"],[0.2222222222222222,\"#7201a8\"],[0.3333333333333333,\"#9c179e\"],[0.4444444444444444,\"#bd3786\"],[0.5555555555555556,\"#d8576b\"],[0.6666666666666666,\"#ed7953\"],[0.7777777777777778,\"#fb9f3a\"],[0.8888888888888888,\"#fdca26\"],[1.0,\"#f0f921\"]],\"type\":\"contour\"}],\"contourcarpet\":[{\"colorbar\":{\"outlinewidth\":0,\"ticks\":\"\"},\"type\":\"contourcarpet\"}],\"heatmap\":[{\"colorbar\":{\"outlinewidth\":0,\"ticks\":\"\"},\"colorscale\":[[0.0,\"#0d0887\"],[0.1111111111111111,\"#46039f\"],[0.2222222222222222,\"#7201a8\"],[0.3333333333333333,\"#9c179e\"],[0.4444444444444444,\"#bd3786\"],[0.5555555555555556,\"#d8576b\"],[0.6666666666666666,\"#ed7953\"],[0.7777777777777778,\"#fb9f3a\"],[0.8888888888888888,\"#fdca26\"],[1.0,\"#f0f921\"]],\"type\":\"heatmap\"}],\"heatmapgl\":[{\"colorbar\":{\"outlinewidth\":0,\"ticks\":\"\"},\"colorscale\":[[0.0,\"#0d0887\"],[0.1111111111111111,\"#46039f\"],[0.2222222222222222,\"#7201a8\"],[0.3333333333333333,\"#9c179e\"],[0.4444444444444444,\"#bd3786\"],[0.5555555555555556,\"#d8576b\"],[0.6666666666666666,\"#ed7953\"],[0.7777777777777778,\"#fb9f3a\"],[0.8888888888888888,\"#fdca26\"],[1.0,\"#f0f921\"]],\"type\":\"heatmapgl\"}],\"histogram\":[{\"marker\":{\"pattern\":{\"fillmode\":\"overlay\",\"size\":10,\"solidity\":0.2}},\"type\":\"histogram\"}],\"histogram2d\":[{\"colorbar\":{\"outlinewidth\":0,\"ticks\":\"\"},\"colorscale\":[[0.0,\"#0d0887\"],[0.1111111111111111,\"#46039f\"],[0.2222222222222222,\"#7201a8\"],[0.3333333333333333,\"#9c179e\"],[0.4444444444444444,\"#bd3786\"],[0.5555555555555556,\"#d8576b\"],[0.6666666666666666,\"#ed7953\"],[0.7777777777777778,\"#fb9f3a\"],[0.8888888888888888,\"#fdca26\"],[1.0,\"#f0f921\"]],\"type\":\"histogram2d\"}],\"histogram2dcontour\":[{\"colorbar\":{\"outlinewidth\":0,\"ticks\":\"\"},\"colorscale\":[[0.0,\"#0d0887\"],[0.1111111111111111,\"#46039f\"],[0.2222222222222222,\"#7201a8\"],[0.3333333333333333,\"#9c179e\"],[0.4444444444444444,\"#bd3786\"],[0.5555555555555556,\"#d8576b\"],[0.6666666666666666,\"#ed7953\"],[0.7777777777777778,\"#fb9f3a\"],[0.8888888888888888,\"#fdca26\"],[1.0,\"#f0f921\"]],\"type\":\"histogram2dcontour\"}],\"mesh3d\":[{\"colorbar\":{\"outlinewidth\":0,\"ticks\":\"\"},\"type\":\"mesh3d\"}],\"parcoords\":[{\"line\":{\"colorbar\":{\"outlinewidth\":0,\"ticks\":\"\"}},\"type\":\"parcoords\"}],\"pie\":[{\"automargin\":true,\"type\":\"pie\"}],\"scatter\":[{\"marker\":{\"colorbar\":{\"outlinewidth\":0,\"ticks\":\"\"}},\"type\":\"scatter\"}],\"scatter3d\":[{\"line\":{\"colorbar\":{\"outlinewidth\":0,\"ticks\":\"\"}},\"marker\":{\"colorbar\":{\"outlinewidth\":0,\"ticks\":\"\"}},\"type\":\"scatter3d\"}],\"scattercarpet\":[{\"marker\":{\"colorbar\":{\"outlinewidth\":0,\"ticks\":\"\"}},\"type\":\"scattercarpet\"}],\"scattergeo\":[{\"marker\":{\"colorbar\":{\"outlinewidth\":0,\"ticks\":\"\"}},\"type\":\"scattergeo\"}],\"scattergl\":[{\"marker\":{\"colorbar\":{\"outlinewidth\":0,\"ticks\":\"\"}},\"type\":\"scattergl\"}],\"scattermapbox\":[{\"marker\":{\"colorbar\":{\"outlinewidth\":0,\"ticks\":\"\"}},\"type\":\"scattermapbox\"}],\"scatterpolar\":[{\"marker\":{\"colorbar\":{\"outlinewidth\":0,\"ticks\":\"\"}},\"type\":\"scatterpolar\"}],\"scatterpolargl\":[{\"marker\":{\"colorbar\":{\"outlinewidth\":0,\"ticks\":\"\"}},\"type\":\"scatterpolargl\"}],\"scatterternary\":[{\"marker\":{\"colorbar\":{\"outlinewidth\":0,\"ticks\":\"\"}},\"type\":\"scatterternary\"}],\"surface\":[{\"colorbar\":{\"outlinewidth\":0,\"ticks\":\"\"},\"colorscale\":[[0.0,\"#0d0887\"],[0.1111111111111111,\"#46039f\"],[0.2222222222222222,\"#7201a8\"],[0.3333333333333333,\"#9c179e\"],[0.4444444444444444,\"#bd3786\"],[0.5555555555555556,\"#d8576b\"],[0.6666666666666666,\"#ed7953\"],[0.7777777777777778,\"#fb9f3a\"],[0.8888888888888888,\"#fdca26\"],[1.0,\"#f0f921\"]],\"type\":\"surface\"}],\"table\":[{\"cells\":{\"fill\":{\"color\":\"#EBF0F8\"},\"line\":{\"color\":\"white\"}},\"header\":{\"fill\":{\"color\":\"#C8D4E3\"},\"line\":{\"color\":\"white\"}},\"type\":\"table\"}]},\"layout\":{\"annotationdefaults\":{\"arrowcolor\":\"#2a3f5f\",\"arrowhead\":0,\"arrowwidth\":1},\"autotypenumbers\":\"strict\",\"coloraxis\":{\"colorbar\":{\"outlinewidth\":0,\"ticks\":\"\"}},\"colorscale\":{\"diverging\":[[0,\"#8e0152\"],[0.1,\"#c51b7d\"],[0.2,\"#de77ae\"],[0.3,\"#f1b6da\"],[0.4,\"#fde0ef\"],[0.5,\"#f7f7f7\"],[0.6,\"#e6f5d0\"],[0.7,\"#b8e186\"],[0.8,\"#7fbc41\"],[0.9,\"#4d9221\"],[1,\"#276419\"]],\"sequential\":[[0.0,\"#0d0887\"],[0.1111111111111111,\"#46039f\"],[0.2222222222222222,\"#7201a8\"],[0.3333333333333333,\"#9c179e\"],[0.4444444444444444,\"#bd3786\"],[0.5555555555555556,\"#d8576b\"],[0.6666666666666666,\"#ed7953\"],[0.7777777777777778,\"#fb9f3a\"],[0.8888888888888888,\"#fdca26\"],[1.0,\"#f0f921\"]],\"sequentialminus\":[[0.0,\"#0d0887\"],[0.1111111111111111,\"#46039f\"],[0.2222222222222222,\"#7201a8\"],[0.3333333333333333,\"#9c179e\"],[0.4444444444444444,\"#bd3786\"],[0.5555555555555556,\"#d8576b\"],[0.6666666666666666,\"#ed7953\"],[0.7777777777777778,\"#fb9f3a\"],[0.8888888888888888,\"#fdca26\"],[1.0,\"#f0f921\"]]},\"colorway\":[\"#636efa\",\"#EF553B\",\"#00cc96\",\"#ab63fa\",\"#FFA15A\",\"#19d3f3\",\"#FF6692\",\"#B6E880\",\"#FF97FF\",\"#FECB52\"],\"font\":{\"color\":\"#2a3f5f\"},\"geo\":{\"bgcolor\":\"white\",\"lakecolor\":\"white\",\"landcolor\":\"#E5ECF6\",\"showlakes\":true,\"showland\":true,\"subunitcolor\":\"white\"},\"hoverlabel\":{\"align\":\"left\"},\"hovermode\":\"closest\",\"mapbox\":{\"style\":\"light\"},\"paper_bgcolor\":\"white\",\"plot_bgcolor\":\"#E5ECF6\",\"polar\":{\"angularaxis\":{\"gridcolor\":\"white\",\"linecolor\":\"white\",\"ticks\":\"\"},\"bgcolor\":\"#E5ECF6\",\"radialaxis\":{\"gridcolor\":\"white\",\"linecolor\":\"white\",\"ticks\":\"\"}},\"scene\":{\"xaxis\":{\"backgroundcolor\":\"#E5ECF6\",\"gridcolor\":\"white\",\"gridwidth\":2,\"linecolor\":\"white\",\"showbackground\":true,\"ticks\":\"\",\"zerolinecolor\":\"white\"},\"yaxis\":{\"backgroundcolor\":\"#E5ECF6\",\"gridcolor\":\"white\",\"gridwidth\":2,\"linecolor\":\"white\",\"showbackground\":true,\"ticks\":\"\",\"zerolinecolor\":\"white\"},\"zaxis\":{\"backgroundcolor\":\"#E5ECF6\",\"gridcolor\":\"white\",\"gridwidth\":2,\"linecolor\":\"white\",\"showbackground\":true,\"ticks\":\"\",\"zerolinecolor\":\"white\"}},\"shapedefaults\":{\"line\":{\"color\":\"#2a3f5f\"}},\"ternary\":{\"aaxis\":{\"gridcolor\":\"white\",\"linecolor\":\"white\",\"ticks\":\"\"},\"baxis\":{\"gridcolor\":\"white\",\"linecolor\":\"white\",\"ticks\":\"\"},\"bgcolor\":\"#E5ECF6\",\"caxis\":{\"gridcolor\":\"white\",\"linecolor\":\"white\",\"ticks\":\"\"}},\"title\":{\"x\":0.05},\"xaxis\":{\"automargin\":true,\"gridcolor\":\"white\",\"linecolor\":\"white\",\"ticks\":\"\",\"title\":{\"standoff\":15},\"zerolinecolor\":\"white\",\"zerolinewidth\":2},\"yaxis\":{\"automargin\":true,\"gridcolor\":\"white\",\"linecolor\":\"white\",\"ticks\":\"\",\"title\":{\"standoff\":15},\"zerolinecolor\":\"white\",\"zerolinewidth\":2}}},\"title\":{\"text\":\"\\u0421\\u043e\\u043e\\u0442\\u043d\\u043e\\u0448\\u0435\\u043d\\u0438\\u0435 \\u0443\\u0447\\u0430\\u0441\\u0442\\u043d\\u0438\\u043a\\u043e\\u0432/\\u043d\\u0435\\u0443\\u0447\\u0430\\u0441\\u0442\\u043d\\u0438\\u043a\\u043e\\u0432 \\u043f\\u0440\\u043e\\u0433\\u0440\\u0430\\u043c\\u043c\\u044b \\u043b\\u043e\\u044f\\u043b\\u044c\\u043d\\u043e\\u0441\\u0442\\u0438\"},\"width\":600,\"height\":400,\"annotations\":[{\"showarrow\":false,\"text\":\"\\u0423\\u0447\\u0430\\u0441\\u0442\\u043d\\u0438\\u043a \\u043f\\u0440\\u043e\\u0433\\u0440\\u0430\\u043c\\u043c\\u044b \\u043b\\u043e\\u044f\\u043b\\u044c\\u043d\\u043e\\u0441\\u0442\\u0438\",\"x\":1.12,\"y\":1.05}]},                        {\"responsive\": true}                    ).then(function(){\n",
       "                            \n",
       "var gd = document.getElementById('4de75223-720b-4fbe-a53a-0e84bf2d71fd');\n",
       "var x = new MutationObserver(function (mutations, observer) {{\n",
       "        var display = window.getComputedStyle(gd).display;\n",
       "        if (!display || display === 'none') {{\n",
       "            console.log([gd, 'removed!']);\n",
       "            Plotly.purge(gd);\n",
       "            observer.disconnect();\n",
       "        }}\n",
       "}});\n",
       "\n",
       "// Listen for the removal of the full notebook cells\n",
       "var notebookContainer = gd.closest('#notebook-container');\n",
       "if (notebookContainer) {{\n",
       "    x.observe(notebookContainer, {childList: true});\n",
       "}}\n",
       "\n",
       "// Listen for the clearing of the current output cell\n",
       "var outputEl = gd.closest('.output');\n",
       "if (outputEl) {{\n",
       "    x.observe(outputEl, {childList: true});\n",
       "}}\n",
       "\n",
       "                        })                };                });            </script>        </div>"
      ]
     },
     "metadata": {},
     "output_type": "display_data"
    }
   ],
   "source": [
    "#Визуализируем полученные данные с помощью круговой диаграммы\n",
    "fig_4 = go.Figure(data=[go.Pie(labels=customer_in_loyalty_program['loyalty_program'], # указываем значения, которые появятся на метках сегментов\n",
    "                             values=customer_in_loyalty_program['customer_id'], # указываем данные, которые отобразятся на графике\n",
    "                             pull = [0.1, 0])]) # добавляем аргумент, который выделит сегмент-лидер на графике\n",
    "fig_4.update_layout(title='Соотношение участников/неучастников программы лояльности', # указываем заголовок графика\n",
    "                  width=600, # указываем размеры графика\n",
    "                  height=400,\n",
    "                  annotations=[dict(x=1.12, # вручную настраиваем аннотацию легенды\n",
    "                                    y=1.05,\n",
    "                                    text='Участник программы лояльности',\n",
    "                                   showarrow=False)])\n",
    "fig_4.show() # выводим график"
   ]
  },
  {
   "cell_type": "markdown",
   "id": "d7743737",
   "metadata": {},
   "source": [
    "**Вывод:** В проанализированных данных 33,6% покупателей являются участниками программы лояльности, это связано с тем, что программа еще тестируется и эффективность ее применения проверяется."
   ]
  },
  {
   "cell_type": "markdown",
   "id": "1cd099cd",
   "metadata": {},
   "source": [
    "### Расчет коэффициентов удержания клиентов"
   ]
  },
  {
   "cell_type": "markdown",
   "id": "2696f8ec",
   "metadata": {},
   "source": [
    "Одна из основных задач программы лояльности - удержание клиентов. Рассчитаем коэффициент  удержания клиентов (Retention Rate) по когортам. Retention Rate показывает, сколько пользователей из когорты относительно их изначального числа вернулись, то есть воспользовались продуктом или услугой, в последующие периоды. Будем использовать группировку статусу участия в программе лояльности."
   ]
  },
  {
   "cell_type": "code",
   "execution_count": 327,
   "id": "fe2ad3e4",
   "metadata": {},
   "outputs": [
    {
     "data": {
      "text/html": [
       "<div>\n",
       "<style scoped>\n",
       "    .dataframe tbody tr th:only-of-type {\n",
       "        vertical-align: middle;\n",
       "    }\n",
       "\n",
       "    .dataframe tbody tr th {\n",
       "        vertical-align: top;\n",
       "    }\n",
       "\n",
       "    .dataframe thead th {\n",
       "        text-align: right;\n",
       "    }\n",
       "</style>\n",
       "<table border=\"1\" class=\"dataframe\">\n",
       "  <thead>\n",
       "    <tr style=\"text-align: right;\">\n",
       "      <th></th>\n",
       "      <th>purchase_id</th>\n",
       "      <th>item_id</th>\n",
       "      <th>quantity</th>\n",
       "      <th>purchase_date</th>\n",
       "      <th>customer_id</th>\n",
       "      <th>shop_id</th>\n",
       "      <th>loyalty_program</th>\n",
       "      <th>price_per_one</th>\n",
       "      <th>total</th>\n",
       "      <th>date</th>\n",
       "      <th>month</th>\n",
       "      <th>first_purchase</th>\n",
       "      <th>last_purchase</th>\n",
       "      <th>lifetime</th>\n",
       "    </tr>\n",
       "  </thead>\n",
       "  <tbody>\n",
       "    <tr>\n",
       "      <th>0</th>\n",
       "      <td>C543624</td>\n",
       "      <td>M</td>\n",
       "      <td>201</td>\n",
       "      <td>2017-02-10 15:33:00</td>\n",
       "      <td>18610</td>\n",
       "      <td>Shop 0</td>\n",
       "      <td>False</td>\n",
       "      <td>513.36</td>\n",
       "      <td>103185.36</td>\n",
       "      <td>2017-02-10</td>\n",
       "      <td>February</td>\n",
       "      <td>2016-12-17</td>\n",
       "      <td>2017-02-15</td>\n",
       "      <td>55</td>\n",
       "    </tr>\n",
       "    <tr>\n",
       "      <th>1</th>\n",
       "      <td>543994</td>\n",
       "      <td>22149</td>\n",
       "      <td>279</td>\n",
       "      <td>2017-02-15 10:41:00</td>\n",
       "      <td>18610</td>\n",
       "      <td>Shop 0</td>\n",
       "      <td>False</td>\n",
       "      <td>4.74</td>\n",
       "      <td>1322.46</td>\n",
       "      <td>2017-02-15</td>\n",
       "      <td>February</td>\n",
       "      <td>2016-12-17</td>\n",
       "      <td>2017-02-15</td>\n",
       "      <td>60</td>\n",
       "    </tr>\n",
       "    <tr>\n",
       "      <th>2</th>\n",
       "      <td>543994</td>\n",
       "      <td>22197</td>\n",
       "      <td>599</td>\n",
       "      <td>2017-02-15 10:41:00</td>\n",
       "      <td>18610</td>\n",
       "      <td>Shop 0</td>\n",
       "      <td>False</td>\n",
       "      <td>1.64</td>\n",
       "      <td>982.36</td>\n",
       "      <td>2017-02-15</td>\n",
       "      <td>February</td>\n",
       "      <td>2016-12-17</td>\n",
       "      <td>2017-02-15</td>\n",
       "      <td>60</td>\n",
       "    </tr>\n",
       "    <tr>\n",
       "      <th>3</th>\n",
       "      <td>543994</td>\n",
       "      <td>22604</td>\n",
       "      <td>255</td>\n",
       "      <td>2017-02-15 10:41:00</td>\n",
       "      <td>18610</td>\n",
       "      <td>Shop 0</td>\n",
       "      <td>False</td>\n",
       "      <td>2.55</td>\n",
       "      <td>650.25</td>\n",
       "      <td>2017-02-15</td>\n",
       "      <td>February</td>\n",
       "      <td>2016-12-17</td>\n",
       "      <td>2017-02-15</td>\n",
       "      <td>60</td>\n",
       "    </tr>\n",
       "    <tr>\n",
       "      <th>4</th>\n",
       "      <td>543994</td>\n",
       "      <td>21731</td>\n",
       "      <td>143</td>\n",
       "      <td>2017-02-15 10:41:00</td>\n",
       "      <td>18610</td>\n",
       "      <td>Shop 0</td>\n",
       "      <td>False</td>\n",
       "      <td>3.59</td>\n",
       "      <td>513.37</td>\n",
       "      <td>2017-02-15</td>\n",
       "      <td>February</td>\n",
       "      <td>2016-12-17</td>\n",
       "      <td>2017-02-15</td>\n",
       "      <td>60</td>\n",
       "    </tr>\n",
       "  </tbody>\n",
       "</table>\n",
       "</div>"
      ],
      "text/plain": [
       "  purchase_id item_id  quantity       purchase_date  customer_id shop_id  \\\n",
       "0     C543624       M       201 2017-02-10 15:33:00        18610  Shop 0   \n",
       "1      543994   22149       279 2017-02-15 10:41:00        18610  Shop 0   \n",
       "2      543994   22197       599 2017-02-15 10:41:00        18610  Shop 0   \n",
       "3      543994   22604       255 2017-02-15 10:41:00        18610  Shop 0   \n",
       "4      543994   21731       143 2017-02-15 10:41:00        18610  Shop 0   \n",
       "\n",
       "   loyalty_program  price_per_one      total        date     month  \\\n",
       "0            False         513.36  103185.36  2017-02-10  February   \n",
       "1            False           4.74    1322.46  2017-02-15  February   \n",
       "2            False           1.64     982.36  2017-02-15  February   \n",
       "3            False           2.55     650.25  2017-02-15  February   \n",
       "4            False           3.59     513.37  2017-02-15  February   \n",
       "\n",
       "  first_purchase last_purchase  lifetime  \n",
       "0     2016-12-17    2017-02-15        55  \n",
       "1     2016-12-17    2017-02-15        60  \n",
       "2     2016-12-17    2017-02-15        60  \n",
       "3     2016-12-17    2017-02-15        60  \n",
       "4     2016-12-17    2017-02-15        60  "
      ]
     },
     "execution_count": 327,
     "metadata": {},
     "output_type": "execute_result"
    }
   ],
   "source": [
    "# вычисляем лайфтайм для каждой покупки в днях\n",
    "total_retail_new['lifetime'] = (total_retail_new['purchase_date'] - total_retail_new['first_purchase']).dt.days\n",
    "total_retail_new.head(5)"
   ]
  },
  {
   "cell_type": "code",
   "execution_count": 328,
   "id": "ab309c3d",
   "metadata": {},
   "outputs": [],
   "source": [
    "# задаём момент и горизонт анализа данных\n",
    "observation_date = datetime(2017, 3, 1).date()\n",
    "horizon_days = 28\n",
    "\n",
    "# создаём опцию «игнорировать горизонт»\n",
    "ignore_horizon = False"
   ]
  },
  {
   "cell_type": "code",
   "execution_count": 329,
   "id": "968177df",
   "metadata": {},
   "outputs": [
    {
     "data": {
      "text/html": [
       "<div>\n",
       "<style scoped>\n",
       "    .dataframe tbody tr th:only-of-type {\n",
       "        vertical-align: middle;\n",
       "    }\n",
       "\n",
       "    .dataframe tbody tr th {\n",
       "        vertical-align: top;\n",
       "    }\n",
       "\n",
       "    .dataframe thead th {\n",
       "        text-align: right;\n",
       "    }\n",
       "</style>\n",
       "<table border=\"1\" class=\"dataframe\">\n",
       "  <thead>\n",
       "    <tr style=\"text-align: right;\">\n",
       "      <th></th>\n",
       "      <th>purchase_id</th>\n",
       "      <th>item_id</th>\n",
       "      <th>quantity</th>\n",
       "      <th>purchase_date</th>\n",
       "      <th>customer_id</th>\n",
       "      <th>shop_id</th>\n",
       "      <th>loyalty_program</th>\n",
       "      <th>price_per_one</th>\n",
       "      <th>total</th>\n",
       "      <th>date</th>\n",
       "      <th>month</th>\n",
       "      <th>first_purchase</th>\n",
       "      <th>last_purchase</th>\n",
       "      <th>lifetime</th>\n",
       "    </tr>\n",
       "  </thead>\n",
       "  <tbody>\n",
       "    <tr>\n",
       "      <th>5</th>\n",
       "      <td>539332</td>\n",
       "      <td>22197</td>\n",
       "      <td>199</td>\n",
       "      <td>2016-12-17 09:45:00</td>\n",
       "      <td>18610</td>\n",
       "      <td>Shop 0</td>\n",
       "      <td>False</td>\n",
       "      <td>1.64</td>\n",
       "      <td>326.36</td>\n",
       "      <td>2016-12-17</td>\n",
       "      <td>December</td>\n",
       "      <td>2016-12-17</td>\n",
       "      <td>2017-02-15</td>\n",
       "      <td>0</td>\n",
       "    </tr>\n",
       "    <tr>\n",
       "      <th>6</th>\n",
       "      <td>539460</td>\n",
       "      <td>21731</td>\n",
       "      <td>19</td>\n",
       "      <td>2016-12-17 18:07:00</td>\n",
       "      <td>18610</td>\n",
       "      <td>Shop 0</td>\n",
       "      <td>False</td>\n",
       "      <td>3.59</td>\n",
       "      <td>68.21</td>\n",
       "      <td>2016-12-17</td>\n",
       "      <td>December</td>\n",
       "      <td>2016-12-17</td>\n",
       "      <td>2017-02-15</td>\n",
       "      <td>0</td>\n",
       "    </tr>\n",
       "    <tr>\n",
       "      <th>53</th>\n",
       "      <td>540815</td>\n",
       "      <td>85123A</td>\n",
       "      <td>1929</td>\n",
       "      <td>2017-01-11 12:55:00</td>\n",
       "      <td>21428</td>\n",
       "      <td>Shop 0</td>\n",
       "      <td>False</td>\n",
       "      <td>5.85</td>\n",
       "      <td>11284.65</td>\n",
       "      <td>2017-01-11</td>\n",
       "      <td>January</td>\n",
       "      <td>2017-01-11</td>\n",
       "      <td>2017-01-11</td>\n",
       "      <td>0</td>\n",
       "    </tr>\n",
       "    <tr>\n",
       "      <th>54</th>\n",
       "      <td>540818</td>\n",
       "      <td>48185</td>\n",
       "      <td>669</td>\n",
       "      <td>2017-01-11 12:57:00</td>\n",
       "      <td>21428</td>\n",
       "      <td>Shop 0</td>\n",
       "      <td>False</td>\n",
       "      <td>15.53</td>\n",
       "      <td>10389.57</td>\n",
       "      <td>2017-01-11</td>\n",
       "      <td>January</td>\n",
       "      <td>2017-01-11</td>\n",
       "      <td>2017-01-11</td>\n",
       "      <td>0</td>\n",
       "    </tr>\n",
       "    <tr>\n",
       "      <th>55</th>\n",
       "      <td>540815</td>\n",
       "      <td>21175</td>\n",
       "      <td>1999</td>\n",
       "      <td>2017-01-11 12:55:00</td>\n",
       "      <td>21428</td>\n",
       "      <td>Shop 0</td>\n",
       "      <td>False</td>\n",
       "      <td>3.96</td>\n",
       "      <td>7916.04</td>\n",
       "      <td>2017-01-11</td>\n",
       "      <td>January</td>\n",
       "      <td>2017-01-11</td>\n",
       "      <td>2017-01-11</td>\n",
       "      <td>0</td>\n",
       "    </tr>\n",
       "    <tr>\n",
       "      <th>...</th>\n",
       "      <td>...</td>\n",
       "      <td>...</td>\n",
       "      <td>...</td>\n",
       "      <td>...</td>\n",
       "      <td>...</td>\n",
       "      <td>...</td>\n",
       "      <td>...</td>\n",
       "      <td>...</td>\n",
       "      <td>...</td>\n",
       "      <td>...</td>\n",
       "      <td>...</td>\n",
       "      <td>...</td>\n",
       "      <td>...</td>\n",
       "      <td>...</td>\n",
       "    </tr>\n",
       "    <tr>\n",
       "      <th>54425</th>\n",
       "      <td>538368</td>\n",
       "      <td>21944</td>\n",
       "      <td>1</td>\n",
       "      <td>2016-12-12 10:57:00</td>\n",
       "      <td>21182</td>\n",
       "      <td>Shop 0</td>\n",
       "      <td>False</td>\n",
       "      <td>1.66</td>\n",
       "      <td>1.66</td>\n",
       "      <td>2016-12-12</td>\n",
       "      <td>December</td>\n",
       "      <td>2016-12-12</td>\n",
       "      <td>2016-12-12</td>\n",
       "      <td>0</td>\n",
       "    </tr>\n",
       "    <tr>\n",
       "      <th>54426</th>\n",
       "      <td>538368</td>\n",
       "      <td>21677</td>\n",
       "      <td>1</td>\n",
       "      <td>2016-12-12 10:57:00</td>\n",
       "      <td>21182</td>\n",
       "      <td>Shop 0</td>\n",
       "      <td>False</td>\n",
       "      <td>1.64</td>\n",
       "      <td>1.64</td>\n",
       "      <td>2016-12-12</td>\n",
       "      <td>December</td>\n",
       "      <td>2016-12-12</td>\n",
       "      <td>2016-12-12</td>\n",
       "      <td>0</td>\n",
       "    </tr>\n",
       "    <tr>\n",
       "      <th>54427</th>\n",
       "      <td>538368</td>\n",
       "      <td>22419</td>\n",
       "      <td>1</td>\n",
       "      <td>2016-12-12 10:57:00</td>\n",
       "      <td>21182</td>\n",
       "      <td>Shop 0</td>\n",
       "      <td>False</td>\n",
       "      <td>0.84</td>\n",
       "      <td>0.84</td>\n",
       "      <td>2016-12-12</td>\n",
       "      <td>December</td>\n",
       "      <td>2016-12-12</td>\n",
       "      <td>2016-12-12</td>\n",
       "      <td>0</td>\n",
       "    </tr>\n",
       "    <tr>\n",
       "      <th>54429</th>\n",
       "      <td>C536818</td>\n",
       "      <td>84947</td>\n",
       "      <td>2</td>\n",
       "      <td>2016-12-02 17:09:00</td>\n",
       "      <td>22674</td>\n",
       "      <td>Shop 0</td>\n",
       "      <td>True</td>\n",
       "      <td>1.16</td>\n",
       "      <td>2.32</td>\n",
       "      <td>2016-12-02</td>\n",
       "      <td>December</td>\n",
       "      <td>2016-12-02</td>\n",
       "      <td>2016-12-02</td>\n",
       "      <td>0</td>\n",
       "    </tr>\n",
       "    <tr>\n",
       "      <th>54430</th>\n",
       "      <td>541815</td>\n",
       "      <td>22329</td>\n",
       "      <td>1</td>\n",
       "      <td>2017-01-21 15:45:00</td>\n",
       "      <td>23716</td>\n",
       "      <td>Shop 0</td>\n",
       "      <td>True</td>\n",
       "      <td>1.55</td>\n",
       "      <td>1.55</td>\n",
       "      <td>2017-01-21</td>\n",
       "      <td>January</td>\n",
       "      <td>2017-01-21</td>\n",
       "      <td>2017-01-21</td>\n",
       "      <td>0</td>\n",
       "    </tr>\n",
       "  </tbody>\n",
       "</table>\n",
       "<p>38947 rows × 14 columns</p>\n",
       "</div>"
      ],
      "text/plain": [
       "      purchase_id item_id  quantity       purchase_date  customer_id shop_id  \\\n",
       "5          539332   22197       199 2016-12-17 09:45:00        18610  Shop 0   \n",
       "6          539460   21731        19 2016-12-17 18:07:00        18610  Shop 0   \n",
       "53         540815  85123A      1929 2017-01-11 12:55:00        21428  Shop 0   \n",
       "54         540818   48185       669 2017-01-11 12:57:00        21428  Shop 0   \n",
       "55         540815   21175      1999 2017-01-11 12:55:00        21428  Shop 0   \n",
       "...           ...     ...       ...                 ...          ...     ...   \n",
       "54425      538368   21944         1 2016-12-12 10:57:00        21182  Shop 0   \n",
       "54426      538368   21677         1 2016-12-12 10:57:00        21182  Shop 0   \n",
       "54427      538368   22419         1 2016-12-12 10:57:00        21182  Shop 0   \n",
       "54429     C536818   84947         2 2016-12-02 17:09:00        22674  Shop 0   \n",
       "54430      541815   22329         1 2017-01-21 15:45:00        23716  Shop 0   \n",
       "\n",
       "       loyalty_program  price_per_one     total        date     month  \\\n",
       "5                False           1.64    326.36  2016-12-17  December   \n",
       "6                False           3.59     68.21  2016-12-17  December   \n",
       "53               False           5.85  11284.65  2017-01-11   January   \n",
       "54               False          15.53  10389.57  2017-01-11   January   \n",
       "55               False           3.96   7916.04  2017-01-11   January   \n",
       "...                ...            ...       ...         ...       ...   \n",
       "54425            False           1.66      1.66  2016-12-12  December   \n",
       "54426            False           1.64      1.64  2016-12-12  December   \n",
       "54427            False           0.84      0.84  2016-12-12  December   \n",
       "54429             True           1.16      2.32  2016-12-02  December   \n",
       "54430             True           1.55      1.55  2017-01-21   January   \n",
       "\n",
       "      first_purchase last_purchase  lifetime  \n",
       "5         2016-12-17    2017-02-15         0  \n",
       "6         2016-12-17    2017-02-15         0  \n",
       "53        2017-01-11    2017-01-11         0  \n",
       "54        2017-01-11    2017-01-11         0  \n",
       "55        2017-01-11    2017-01-11         0  \n",
       "...              ...           ...       ...  \n",
       "54425     2016-12-12    2016-12-12         0  \n",
       "54426     2016-12-12    2016-12-12         0  \n",
       "54427     2016-12-12    2016-12-12         0  \n",
       "54429     2016-12-02    2016-12-02         0  \n",
       "54430     2017-01-21    2017-01-21         0  \n",
       "\n",
       "[38947 rows x 14 columns]"
      ]
     },
     "execution_count": 329,
     "metadata": {},
     "output_type": "execute_result"
    }
   ],
   "source": [
    "# рассчитываем максимально возможную дату привлечения\n",
    "last_suitable_acquisition_date = observation_date\n",
    "if not ignore_horizon:\n",
    "    last_suitable_acquisition_date = observation_date - timedelta(\n",
    "        days=horizon_days - 1\n",
    "    )\n",
    "\n",
    "# исключаем пользователей, пришедших после максимальной даты привлечения\n",
    "result_raw = total_retail_new.query('purchase_date <= @last_suitable_acquisition_date')\n",
    "\n",
    "result_raw"
   ]
  },
  {
   "cell_type": "code",
   "execution_count": 330,
   "id": "a700b77c",
   "metadata": {},
   "outputs": [
    {
     "data": {
      "text/html": [
       "<div>\n",
       "<style scoped>\n",
       "    .dataframe tbody tr th:only-of-type {\n",
       "        vertical-align: middle;\n",
       "    }\n",
       "\n",
       "    .dataframe tbody tr th {\n",
       "        vertical-align: top;\n",
       "    }\n",
       "\n",
       "    .dataframe thead th {\n",
       "        text-align: right;\n",
       "    }\n",
       "</style>\n",
       "<table border=\"1\" class=\"dataframe\">\n",
       "  <thead>\n",
       "    <tr style=\"text-align: right;\">\n",
       "      <th></th>\n",
       "      <th>cohort_size</th>\n",
       "      <th>0</th>\n",
       "      <th>1</th>\n",
       "      <th>2</th>\n",
       "      <th>3</th>\n",
       "      <th>4</th>\n",
       "      <th>5</th>\n",
       "      <th>6</th>\n",
       "      <th>7</th>\n",
       "      <th>8</th>\n",
       "      <th>...</th>\n",
       "      <th>18</th>\n",
       "      <th>19</th>\n",
       "      <th>20</th>\n",
       "      <th>21</th>\n",
       "      <th>22</th>\n",
       "      <th>23</th>\n",
       "      <th>24</th>\n",
       "      <th>25</th>\n",
       "      <th>26</th>\n",
       "      <th>27</th>\n",
       "    </tr>\n",
       "    <tr>\n",
       "      <th>loyalty_program</th>\n",
       "      <th></th>\n",
       "      <th></th>\n",
       "      <th></th>\n",
       "      <th></th>\n",
       "      <th></th>\n",
       "      <th></th>\n",
       "      <th></th>\n",
       "      <th></th>\n",
       "      <th></th>\n",
       "      <th></th>\n",
       "      <th></th>\n",
       "      <th></th>\n",
       "      <th></th>\n",
       "      <th></th>\n",
       "      <th></th>\n",
       "      <th></th>\n",
       "      <th></th>\n",
       "      <th></th>\n",
       "      <th></th>\n",
       "      <th></th>\n",
       "      <th></th>\n",
       "    </tr>\n",
       "  </thead>\n",
       "  <tbody>\n",
       "    <tr>\n",
       "      <th>False</th>\n",
       "      <td>915</td>\n",
       "      <td>1.0</td>\n",
       "      <td>0.030601</td>\n",
       "      <td>0.018579</td>\n",
       "      <td>0.016393</td>\n",
       "      <td>0.022951</td>\n",
       "      <td>0.018579</td>\n",
       "      <td>0.027322</td>\n",
       "      <td>0.042623</td>\n",
       "      <td>0.038251</td>\n",
       "      <td>...</td>\n",
       "      <td>0.005464</td>\n",
       "      <td>0.012022</td>\n",
       "      <td>0.010929</td>\n",
       "      <td>0.009836</td>\n",
       "      <td>0.010929</td>\n",
       "      <td>0.005464</td>\n",
       "      <td>0.004372</td>\n",
       "      <td>0.004372</td>\n",
       "      <td>0.003279</td>\n",
       "      <td>0.008743</td>\n",
       "    </tr>\n",
       "    <tr>\n",
       "      <th>True</th>\n",
       "      <td>477</td>\n",
       "      <td>1.0</td>\n",
       "      <td>0.014675</td>\n",
       "      <td>0.023061</td>\n",
       "      <td>0.018868</td>\n",
       "      <td>0.027254</td>\n",
       "      <td>0.031447</td>\n",
       "      <td>0.031447</td>\n",
       "      <td>0.037736</td>\n",
       "      <td>0.041929</td>\n",
       "      <td>...</td>\n",
       "      <td>0.004193</td>\n",
       "      <td>0.012579</td>\n",
       "      <td>0.002096</td>\n",
       "      <td>0.008386</td>\n",
       "      <td>0.004193</td>\n",
       "      <td>0.006289</td>\n",
       "      <td>0.002096</td>\n",
       "      <td>0.002096</td>\n",
       "      <td>0.002096</td>\n",
       "      <td>0.012579</td>\n",
       "    </tr>\n",
       "  </tbody>\n",
       "</table>\n",
       "<p>2 rows × 29 columns</p>\n",
       "</div>"
      ],
      "text/plain": [
       "                 cohort_size    0         1         2         3         4  \\\n",
       "loyalty_program                                                             \n",
       "False                    915  1.0  0.030601  0.018579  0.016393  0.022951   \n",
       "True                     477  1.0  0.014675  0.023061  0.018868  0.027254   \n",
       "\n",
       "                        5         6         7         8  ...        18  \\\n",
       "loyalty_program                                          ...             \n",
       "False            0.018579  0.027322  0.042623  0.038251  ...  0.005464   \n",
       "True             0.031447  0.031447  0.037736  0.041929  ...  0.004193   \n",
       "\n",
       "                       19        20        21        22        23        24  \\\n",
       "loyalty_program                                                               \n",
       "False            0.012022  0.010929  0.009836  0.010929  0.005464  0.004372   \n",
       "True             0.012579  0.002096  0.008386  0.004193  0.006289  0.002096   \n",
       "\n",
       "                       25        26        27  \n",
       "loyalty_program                                \n",
       "False            0.004372  0.003279  0.008743  \n",
       "True             0.002096  0.002096  0.012579  \n",
       "\n",
       "[2 rows x 29 columns]"
      ]
     },
     "execution_count": 330,
     "metadata": {},
     "output_type": "execute_result"
    }
   ],
   "source": [
    "# рассчитываем коэффициент удержания\n",
    "\n",
    "result_grouped = result_raw.pivot_table(\n",
    "    index=['loyalty_program'], columns='lifetime', values='customer_id', aggfunc='nunique'\n",
    ")  # строим таблицу удержания\n",
    "\n",
    "cohort_sizes = (\n",
    "    result_raw.groupby('loyalty_program')\n",
    "    .agg({'customer_id': 'nunique'})\n",
    "    .rename(columns={'customer_id': 'cohort_size'})\n",
    ")  # вычисляем размеры когорт\n",
    "\n",
    "result_grouped = cohort_sizes.merge(\n",
    "    result_grouped, on='loyalty_program', how='left'\n",
    ").fillna(0)  # объединяем размеры когорт и таблицу удержания\n",
    "\n",
    "# делим данные таблицы удержания на размеры когорт\n",
    "result_grouped = result_grouped.div(result_grouped['cohort_size'], axis=0)\n",
    "\n",
    "# исключаем из результата все лайфтаймы, превышающие горизонт анализа\n",
    "result_grouped = result_grouped[['cohort_size'] + list(range(horizon_days))]\n",
    "\n",
    "# во время деления все значения cohort_size превратились в единицу\n",
    "\n",
    "result_grouped['cohort_size'] = cohort_sizes\n",
    "\n",
    "result_grouped"
   ]
  },
  {
   "cell_type": "code",
   "execution_count": 331,
   "id": "def1cae5",
   "metadata": {},
   "outputs": [
    {
     "data": {
      "image/png": "[encoded data removed]",
      "text/plain": [
       "<Figure size 1500x600 with 1 Axes>"
      ]
     },
     "metadata": {},
     "output_type": "display_data"
    }
   ],
   "source": [
    "# строим кривые удержания\n",
    "\n",
    "report =result_grouped.drop(columns = ['cohort_size', 0])\n",
    "\n",
    "# преобразуем значения DataFrame в проценты\n",
    "report = report.apply(lambda x: x * 100)\n",
    "report.T.plot(\n",
    "    grid=False,  # добавляем сетку\n",
    "    xticks=list(report.columns.values),  # отметки на оси X — названия колонок\n",
    "    figsize=(15, 6)   # размер графика\n",
    ")\n",
    "plt.xlabel('Лайфтайм')  # название оси X\n",
    "plt.title('Кривые удержания в зависимости отучастия в программе лояльности (коэф-т удержания,%)')  # название графика\n",
    "plt.show()"
   ]
  },
  {
   "cell_type": "markdown",
   "id": "835ffa49",
   "metadata": {},
   "source": [
    "**Вывод:** На графике мы видим, что начиная со второго по шестой день жизни лучше удерживаются клиенты которые участвуют в программе лояльности, начиная с 10 - го дня жизни выше коэффициент удержания у тех, кто не участвует в программе лояльности. В целом, коэффициенты удержания у покупателей довольно низкие (3-4 %). Скорее всего это связано с отраслевой особенностью бизнеса. Поскольку не так часто покупатели не так часто приобретают строительные материалы."
   ]
  },
  {
   "cell_type": "markdown",
   "id": "c8f196b1",
   "metadata": {},
   "source": [
    "### Упущенная выгода при применении программы лояльности "
   ]
  },
  {
   "cell_type": "markdown",
   "id": "be6ee2f1",
   "metadata": {},
   "source": [
    "Считаем целесообразным посчитать упущенную выгоду от применения программы лояльности. Сделаем расчет, чтобы понять какую выручку мы бы могли получить, если бы реализовывали товары участникам программы лояльности без скидок. Таким образом,  упущенную выгоду мы посчитаем разницу между возможной выручкой (которая была бы у нас, если бы товары были проданы без дисконта) и реальной выручкой (выручка от продажи товаров + выручка от ежемесячной оплаты за участие в программе лояльности)"
   ]
  },
  {
   "cell_type": "code",
   "execution_count": 332,
   "id": "44643dc8",
   "metadata": {},
   "outputs": [
    {
     "data": {
      "text/html": [
       "<div>\n",
       "<style scoped>\n",
       "    .dataframe tbody tr th:only-of-type {\n",
       "        vertical-align: middle;\n",
       "    }\n",
       "\n",
       "    .dataframe tbody tr th {\n",
       "        vertical-align: top;\n",
       "    }\n",
       "\n",
       "    .dataframe thead th {\n",
       "        text-align: right;\n",
       "    }\n",
       "</style>\n",
       "<table border=\"1\" class=\"dataframe\">\n",
       "  <thead>\n",
       "    <tr style=\"text-align: right;\">\n",
       "      <th></th>\n",
       "      <th>item_id</th>\n",
       "      <th>price_per_one</th>\n",
       "    </tr>\n",
       "  </thead>\n",
       "  <tbody>\n",
       "    <tr>\n",
       "      <th>0</th>\n",
       "      <td>10002</td>\n",
       "      <td>1.66</td>\n",
       "    </tr>\n",
       "    <tr>\n",
       "      <th>7</th>\n",
       "      <td>10125</td>\n",
       "      <td>1.25</td>\n",
       "    </tr>\n",
       "    <tr>\n",
       "      <th>9</th>\n",
       "      <td>10133</td>\n",
       "      <td>1.38</td>\n",
       "    </tr>\n",
       "    <tr>\n",
       "      <th>11</th>\n",
       "      <td>10135</td>\n",
       "      <td>2.08</td>\n",
       "    </tr>\n",
       "    <tr>\n",
       "      <th>13</th>\n",
       "      <td>11001</td>\n",
       "      <td>3.36</td>\n",
       "    </tr>\n",
       "    <tr>\n",
       "      <th>...</th>\n",
       "      <td>...</td>\n",
       "      <td>...</td>\n",
       "    </tr>\n",
       "    <tr>\n",
       "      <th>5508</th>\n",
       "      <td>M</td>\n",
       "      <td>513.36</td>\n",
       "    </tr>\n",
       "    <tr>\n",
       "      <th>5510</th>\n",
       "      <td>POST</td>\n",
       "      <td>28.65</td>\n",
       "    </tr>\n",
       "    <tr>\n",
       "      <th>5512</th>\n",
       "      <td>S</td>\n",
       "      <td>53.75</td>\n",
       "    </tr>\n",
       "    <tr>\n",
       "      <th>5514</th>\n",
       "      <td>gift_0001_20</td>\n",
       "      <td>17.02</td>\n",
       "    </tr>\n",
       "    <tr>\n",
       "      <th>5516</th>\n",
       "      <td>gift_0001_30</td>\n",
       "      <td>25.53</td>\n",
       "    </tr>\n",
       "  </tbody>\n",
       "</table>\n",
       "<p>2419 rows × 2 columns</p>\n",
       "</div>"
      ],
      "text/plain": [
       "           item_id  price_per_one\n",
       "0            10002           1.66\n",
       "7            10125           1.25\n",
       "9            10133           1.38\n",
       "11           10135           2.08\n",
       "13           11001           3.36\n",
       "...            ...            ...\n",
       "5508             M         513.36\n",
       "5510          POST          28.65\n",
       "5512             S          53.75\n",
       "5514  gift_0001_20          17.02\n",
       "5516  gift_0001_30          25.53\n",
       "\n",
       "[2419 rows x 2 columns]"
      ]
     },
     "metadata": {},
     "output_type": "display_data"
    }
   ],
   "source": [
    "#Мы выберем стоимость одной единиы товара для тех, кто не участвует в программе лояльности\n",
    "price_per_one_new_analyse = price_per_one_new.query ('loyalty_program == False')\n",
    "price_per_one_new_analyse = price_per_one_new_analyse [['item_id','price_per_one']]\n",
    "display(price_per_one_new_analyse)"
   ]
  },
  {
   "cell_type": "code",
   "execution_count": 333,
   "id": "2f828888",
   "metadata": {},
   "outputs": [
    {
     "data": {
      "text/html": [
       "<div>\n",
       "<style scoped>\n",
       "    .dataframe tbody tr th:only-of-type {\n",
       "        vertical-align: middle;\n",
       "    }\n",
       "\n",
       "    .dataframe tbody tr th {\n",
       "        vertical-align: top;\n",
       "    }\n",
       "\n",
       "    .dataframe thead th {\n",
       "        text-align: right;\n",
       "    }\n",
       "</style>\n",
       "<table border=\"1\" class=\"dataframe\">\n",
       "  <thead>\n",
       "    <tr style=\"text-align: right;\">\n",
       "      <th></th>\n",
       "      <th>customer_id</th>\n",
       "      <th>loyalty_program</th>\n",
       "      <th>first_purchase</th>\n",
       "      <th>last_purchase</th>\n",
       "      <th>quantity</th>\n",
       "      <th>total</th>\n",
       "      <th>count_purchase</th>\n",
       "      <th>lifetime_months</th>\n",
       "      <th>loyalty_purchase</th>\n",
       "      <th>total_purchase</th>\n",
       "      <th>ACV</th>\n",
       "    </tr>\n",
       "  </thead>\n",
       "  <tbody>\n",
       "    <tr>\n",
       "      <th>0</th>\n",
       "      <td>18026</td>\n",
       "      <td>False</td>\n",
       "      <td>2016-12-07</td>\n",
       "      <td>2017-01-26</td>\n",
       "      <td>574</td>\n",
       "      <td>2485.23</td>\n",
       "      <td>60</td>\n",
       "      <td>3</td>\n",
       "      <td>0</td>\n",
       "      <td>2485.23</td>\n",
       "      <td>828.41</td>\n",
       "    </tr>\n",
       "    <tr>\n",
       "      <th>1</th>\n",
       "      <td>18027</td>\n",
       "      <td>False</td>\n",
       "      <td>2016-12-16</td>\n",
       "      <td>2017-01-25</td>\n",
       "      <td>1832</td>\n",
       "      <td>2652.93</td>\n",
       "      <td>22</td>\n",
       "      <td>3</td>\n",
       "      <td>0</td>\n",
       "      <td>2652.93</td>\n",
       "      <td>884.31</td>\n",
       "    </tr>\n",
       "    <tr>\n",
       "      <th>2</th>\n",
       "      <td>18029</td>\n",
       "      <td>False</td>\n",
       "      <td>2017-02-02</td>\n",
       "      <td>2017-02-02</td>\n",
       "      <td>169</td>\n",
       "      <td>530.23</td>\n",
       "      <td>15</td>\n",
       "      <td>3</td>\n",
       "      <td>0</td>\n",
       "      <td>530.23</td>\n",
       "      <td>176.74</td>\n",
       "    </tr>\n",
       "    <tr>\n",
       "      <th>3</th>\n",
       "      <td>18031</td>\n",
       "      <td>False</td>\n",
       "      <td>2017-02-16</td>\n",
       "      <td>2017-02-16</td>\n",
       "      <td>83</td>\n",
       "      <td>520.49</td>\n",
       "      <td>15</td>\n",
       "      <td>3</td>\n",
       "      <td>0</td>\n",
       "      <td>520.49</td>\n",
       "      <td>173.50</td>\n",
       "    </tr>\n",
       "    <tr>\n",
       "      <th>4</th>\n",
       "      <td>18035</td>\n",
       "      <td>False</td>\n",
       "      <td>2017-01-18</td>\n",
       "      <td>2017-01-18</td>\n",
       "      <td>1180</td>\n",
       "      <td>5357.04</td>\n",
       "      <td>36</td>\n",
       "      <td>2</td>\n",
       "      <td>0</td>\n",
       "      <td>5357.04</td>\n",
       "      <td>2678.52</td>\n",
       "    </tr>\n",
       "    <tr>\n",
       "      <th>...</th>\n",
       "      <td>...</td>\n",
       "      <td>...</td>\n",
       "      <td>...</td>\n",
       "      <td>...</td>\n",
       "      <td>...</td>\n",
       "      <td>...</td>\n",
       "      <td>...</td>\n",
       "      <td>...</td>\n",
       "      <td>...</td>\n",
       "      <td>...</td>\n",
       "      <td>...</td>\n",
       "    </tr>\n",
       "    <tr>\n",
       "      <th>1733</th>\n",
       "      <td>23938</td>\n",
       "      <td>True</td>\n",
       "      <td>2016-12-08</td>\n",
       "      <td>2016-12-08</td>\n",
       "      <td>109</td>\n",
       "      <td>387.25</td>\n",
       "      <td>7</td>\n",
       "      <td>3</td>\n",
       "      <td>600</td>\n",
       "      <td>987.25</td>\n",
       "      <td>329.08</td>\n",
       "    </tr>\n",
       "    <tr>\n",
       "      <th>1734</th>\n",
       "      <td>23939</td>\n",
       "      <td>True</td>\n",
       "      <td>2016-12-16</td>\n",
       "      <td>2017-01-21</td>\n",
       "      <td>459</td>\n",
       "      <td>692.23</td>\n",
       "      <td>40</td>\n",
       "      <td>3</td>\n",
       "      <td>600</td>\n",
       "      <td>1292.23</td>\n",
       "      <td>430.74</td>\n",
       "    </tr>\n",
       "    <tr>\n",
       "      <th>1735</th>\n",
       "      <td>23948</td>\n",
       "      <td>True</td>\n",
       "      <td>2016-12-08</td>\n",
       "      <td>2016-12-16</td>\n",
       "      <td>76</td>\n",
       "      <td>177.67</td>\n",
       "      <td>8</td>\n",
       "      <td>3</td>\n",
       "      <td>600</td>\n",
       "      <td>777.67</td>\n",
       "      <td>259.22</td>\n",
       "    </tr>\n",
       "    <tr>\n",
       "      <th>1736</th>\n",
       "      <td>23956</td>\n",
       "      <td>True</td>\n",
       "      <td>2017-01-25</td>\n",
       "      <td>2017-01-25</td>\n",
       "      <td>2</td>\n",
       "      <td>24.28</td>\n",
       "      <td>1</td>\n",
       "      <td>2</td>\n",
       "      <td>400</td>\n",
       "      <td>424.28</td>\n",
       "      <td>212.14</td>\n",
       "    </tr>\n",
       "    <tr>\n",
       "      <th>1737</th>\n",
       "      <td>23962</td>\n",
       "      <td>True</td>\n",
       "      <td>2017-01-06</td>\n",
       "      <td>2017-02-28</td>\n",
       "      <td>55</td>\n",
       "      <td>70.52</td>\n",
       "      <td>22</td>\n",
       "      <td>2</td>\n",
       "      <td>400</td>\n",
       "      <td>470.52</td>\n",
       "      <td>235.26</td>\n",
       "    </tr>\n",
       "  </tbody>\n",
       "</table>\n",
       "<p>1738 rows × 11 columns</p>\n",
       "</div>"
      ],
      "text/plain": [
       "      customer_id  loyalty_program first_purchase last_purchase  quantity  \\\n",
       "0           18026            False     2016-12-07    2017-01-26       574   \n",
       "1           18027            False     2016-12-16    2017-01-25      1832   \n",
       "2           18029            False     2017-02-02    2017-02-02       169   \n",
       "3           18031            False     2017-02-16    2017-02-16        83   \n",
       "4           18035            False     2017-01-18    2017-01-18      1180   \n",
       "...           ...              ...            ...           ...       ...   \n",
       "1733        23938             True     2016-12-08    2016-12-08       109   \n",
       "1734        23939             True     2016-12-16    2017-01-21       459   \n",
       "1735        23948             True     2016-12-08    2016-12-16        76   \n",
       "1736        23956             True     2017-01-25    2017-01-25         2   \n",
       "1737        23962             True     2017-01-06    2017-02-28        55   \n",
       "\n",
       "        total  count_purchase  lifetime_months  loyalty_purchase  \\\n",
       "0     2485.23              60                3                 0   \n",
       "1     2652.93              22                3                 0   \n",
       "2      530.23              15                3                 0   \n",
       "3      520.49              15                3                 0   \n",
       "4     5357.04              36                2                 0   \n",
       "...       ...             ...              ...               ...   \n",
       "1733   387.25               7                3               600   \n",
       "1734   692.23              40                3               600   \n",
       "1735   177.67               8                3               600   \n",
       "1736    24.28               1                2               400   \n",
       "1737    70.52              22                2               400   \n",
       "\n",
       "      total_purchase      ACV  \n",
       "0            2485.23   828.41  \n",
       "1            2652.93   884.31  \n",
       "2             530.23   176.74  \n",
       "3             520.49   173.50  \n",
       "4            5357.04  2678.52  \n",
       "...              ...      ...  \n",
       "1733          987.25   329.08  \n",
       "1734         1292.23   430.74  \n",
       "1735          777.67   259.22  \n",
       "1736          424.28   212.14  \n",
       "1737          470.52   235.26  \n",
       "\n",
       "[1738 rows x 11 columns]"
      ]
     },
     "execution_count": 333,
     "metadata": {},
     "output_type": "execute_result"
    }
   ],
   "source": [
    "grouped_data"
   ]
  },
  {
   "cell_type": "code",
   "execution_count": 334,
   "id": "9f2fb155",
   "metadata": {},
   "outputs": [
    {
     "name": "stdout",
     "output_type": "stream",
     "text": [
      "Выручка от покупок уч.программы лояльности по стоимости за ед. товара, для остальных покупателей за весь период, 999084.0\n",
      "Реальная выручка от уч.программы лояльности , 754635.0\n",
      "Упущенная выгода , 244449.0\n"
     ]
    }
   ],
   "source": [
    "#Из таблицы с покупками отберем покупки, совершенные с использованием программы лояльности\n",
    "retail_analyse = retail_new.query ('loyalty_program == True')\n",
    "#теперь добавим к таблице стоимость 1 единицы товары для не участников программы лояльности\n",
    "data_pretail_analyse = pd.merge(retail_analyse,price_per_one_new_analyse, on='item_id', how='left')\n",
    "data_pretail_analyse ['total'] = data_pretail_analyse ['price_per_one']*data_pretail_analyse ['quantity']\n",
    "\n",
    "revenue_lp_1 = data_pretail_analyse ['total'].sum().round(0)\n",
    "print (\n",
    "    'Выручка от покупок уч.программы лояльности по стоимости за ед. товара, для остальных покупателей за весь период,',revenue_lp_1)\n",
    "\n",
    "grouped_data_alalyse = grouped_data.query ('loyalty_program == True')\n",
    "revenue_lp_2 = grouped_data_alalyse ['total_purchase'].sum().round(0)\n",
    "\n",
    "print (\n",
    "    'Реальная выручка от уч.программы лояльности ,',revenue_lp_2 )\n",
    "print (\n",
    "    'Упущенная выгода ,',revenue_lp_1-revenue_lp_2 )"
   ]
  },
  {
   "cell_type": "markdown",
   "id": "f4fce4e2",
   "metadata": {},
   "source": [
    "**Вывод:** Мы сочли целесообразным посчитать упущенную выгоду от применения программы лояльности. Сделали расчет, чтобы понять какую выручку мы бы могли получить, если бы реализовывали товары участникам программы лояльности без скидок. Получили сумму 999 084 рублей. Далее мы посчитали реальную выручку (выручка от продажи товаров + выручка от ежемесячной оплаты за участие в программе лояльности), она составила 754 635, таким образом мы посчитали, что упущенная выгода  равна 244 449 рублей."
   ]
  },
  {
   "cell_type": "markdown",
   "id": "818ca1d1",
   "metadata": {},
   "source": [
    "### Найдем топ 10 покупателей, которые сделали покупки на наибольшую общую сумму за все анализируемое время"
   ]
  },
  {
   "cell_type": "code",
   "execution_count": 335,
   "id": "2c505859",
   "metadata": {},
   "outputs": [
    {
     "data": {
      "text/html": [
       "<div>\n",
       "<style scoped>\n",
       "    .dataframe tbody tr th:only-of-type {\n",
       "        vertical-align: middle;\n",
       "    }\n",
       "\n",
       "    .dataframe tbody tr th {\n",
       "        vertical-align: top;\n",
       "    }\n",
       "\n",
       "    .dataframe thead th {\n",
       "        text-align: right;\n",
       "    }\n",
       "</style>\n",
       "<table border=\"1\" class=\"dataframe\">\n",
       "  <thead>\n",
       "    <tr style=\"text-align: right;\">\n",
       "      <th></th>\n",
       "      <th>customer_id</th>\n",
       "      <th>loyalty_program</th>\n",
       "      <th>total</th>\n",
       "    </tr>\n",
       "  </thead>\n",
       "  <tbody>\n",
       "    <tr>\n",
       "      <th>0</th>\n",
       "      <td>20325</td>\n",
       "      <td>False</td>\n",
       "      <td>149182.0</td>\n",
       "    </tr>\n",
       "    <tr>\n",
       "      <th>1</th>\n",
       "      <td>18610</td>\n",
       "      <td>False</td>\n",
       "      <td>107048.0</td>\n",
       "    </tr>\n",
       "    <tr>\n",
       "      <th>2</th>\n",
       "      <td>19835</td>\n",
       "      <td>False</td>\n",
       "      <td>62042.0</td>\n",
       "    </tr>\n",
       "    <tr>\n",
       "      <th>3</th>\n",
       "      <td>20740</td>\n",
       "      <td>False</td>\n",
       "      <td>53072.0</td>\n",
       "    </tr>\n",
       "    <tr>\n",
       "      <th>4</th>\n",
       "      <td>18094</td>\n",
       "      <td>False</td>\n",
       "      <td>51485.0</td>\n",
       "    </tr>\n",
       "    <tr>\n",
       "      <th>5</th>\n",
       "      <td>23781</td>\n",
       "      <td>True</td>\n",
       "      <td>46293.0</td>\n",
       "    </tr>\n",
       "    <tr>\n",
       "      <th>6</th>\n",
       "      <td>19977</td>\n",
       "      <td>False</td>\n",
       "      <td>45845.0</td>\n",
       "    </tr>\n",
       "    <tr>\n",
       "      <th>7</th>\n",
       "      <td>21708</td>\n",
       "      <td>False</td>\n",
       "      <td>40942.0</td>\n",
       "    </tr>\n",
       "    <tr>\n",
       "      <th>8</th>\n",
       "      <td>19373</td>\n",
       "      <td>False</td>\n",
       "      <td>35134.0</td>\n",
       "    </tr>\n",
       "    <tr>\n",
       "      <th>9</th>\n",
       "      <td>18768</td>\n",
       "      <td>False</td>\n",
       "      <td>33525.0</td>\n",
       "    </tr>\n",
       "  </tbody>\n",
       "</table>\n",
       "</div>"
      ],
      "text/plain": [
       "   customer_id  loyalty_program     total\n",
       "0        20325            False  149182.0\n",
       "1        18610            False  107048.0\n",
       "2        19835            False   62042.0\n",
       "3        20740            False   53072.0\n",
       "4        18094            False   51485.0\n",
       "5        23781             True   46293.0\n",
       "6        19977            False   45845.0\n",
       "7        21708            False   40942.0\n",
       "8        19373            False   35134.0\n",
       "9        18768            False   33525.0"
      ]
     },
     "metadata": {},
     "output_type": "display_data"
    }
   ],
   "source": [
    "#Сгруппируем данные по customer_id и посчитаем общую стоимость и количество покупок\n",
    "grouped_data_top = total_retail_new.groupby(\n",
    "    [ 'customer_id', 'loyalty_program', 'first_purchase']).agg({'quantity': 'sum','total': 'sum','purchase_id':'count' }).reset_index()\n",
    "grouped_data_top = grouped_data.rename(columns={'purchase_id':'count_purchase'})\n",
    "top_10 = grouped_data_top.sort_values('total', ascending = False).iloc[0:10].reset_index()\n",
    "top_10 = top_10 [['customer_id', 'loyalty_program', 'total']].round(0)\n",
    "display(top_10 )"
   ]
  },
  {
   "cell_type": "markdown",
   "id": "78464b20",
   "metadata": {},
   "source": [
    "**Вывод:** Мы составили топ 10 покупателей, которые сделали покупки на наибольшую сумму  за все анализируемое время и определили, что покупатель с customer_id = 20325 купил на общую сумму 149 182 рублей, при этом он не является участником программы лояльности. Можно отметить тот факт, что из составленного  топ 10 покупателей, которые сделали покупки на наибольшую сумму за все анализируемое время лишь 1 покупатель является участником программы лояльности, он находится на 6-м месте по сумме всех покупок и она составляет 46 293 рублей."
   ]
  },
  {
   "cell_type": "markdown",
   "id": "b3e5aeaa",
   "metadata": {},
   "source": [
    "### Найдем топ 10 покупателей,с наибольшим количеством покупок за все анализируемое время"
   ]
  },
  {
   "cell_type": "code",
   "execution_count": 336,
   "id": "3f53a8ae",
   "metadata": {
    "scrolled": true
   },
   "outputs": [
    {
     "data": {
      "text/html": [
       "<div>\n",
       "<style scoped>\n",
       "    .dataframe tbody tr th:only-of-type {\n",
       "        vertical-align: middle;\n",
       "    }\n",
       "\n",
       "    .dataframe tbody tr th {\n",
       "        vertical-align: top;\n",
       "    }\n",
       "\n",
       "    .dataframe thead th {\n",
       "        text-align: right;\n",
       "    }\n",
       "</style>\n",
       "<table border=\"1\" class=\"dataframe\">\n",
       "  <thead>\n",
       "    <tr style=\"text-align: right;\">\n",
       "      <th></th>\n",
       "      <th>customer_id</th>\n",
       "      <th>loyalty_program</th>\n",
       "      <th>count_purchase</th>\n",
       "      <th>total</th>\n",
       "    </tr>\n",
       "  </thead>\n",
       "  <tbody>\n",
       "    <tr>\n",
       "      <th>0</th>\n",
       "      <td>20990</td>\n",
       "      <td>False</td>\n",
       "      <td>517</td>\n",
       "      <td>27579.0</td>\n",
       "    </tr>\n",
       "    <tr>\n",
       "      <th>1</th>\n",
       "      <td>20590</td>\n",
       "      <td>False</td>\n",
       "      <td>512</td>\n",
       "      <td>29043.0</td>\n",
       "    </tr>\n",
       "    <tr>\n",
       "      <th>2</th>\n",
       "      <td>20325</td>\n",
       "      <td>False</td>\n",
       "      <td>462</td>\n",
       "      <td>149182.0</td>\n",
       "    </tr>\n",
       "    <tr>\n",
       "      <th>3</th>\n",
       "      <td>18768</td>\n",
       "      <td>False</td>\n",
       "      <td>432</td>\n",
       "      <td>33525.0</td>\n",
       "    </tr>\n",
       "    <tr>\n",
       "      <th>4</th>\n",
       "      <td>19977</td>\n",
       "      <td>False</td>\n",
       "      <td>350</td>\n",
       "      <td>45845.0</td>\n",
       "    </tr>\n",
       "    <tr>\n",
       "      <th>5</th>\n",
       "      <td>23520</td>\n",
       "      <td>True</td>\n",
       "      <td>322</td>\n",
       "      <td>3362.0</td>\n",
       "    </tr>\n",
       "    <tr>\n",
       "      <th>6</th>\n",
       "      <td>18760</td>\n",
       "      <td>False</td>\n",
       "      <td>321</td>\n",
       "      <td>15268.0</td>\n",
       "    </tr>\n",
       "    <tr>\n",
       "      <th>7</th>\n",
       "      <td>18427</td>\n",
       "      <td>False</td>\n",
       "      <td>317</td>\n",
       "      <td>19927.0</td>\n",
       "    </tr>\n",
       "    <tr>\n",
       "      <th>8</th>\n",
       "      <td>23529</td>\n",
       "      <td>True</td>\n",
       "      <td>308</td>\n",
       "      <td>4929.0</td>\n",
       "    </tr>\n",
       "    <tr>\n",
       "      <th>9</th>\n",
       "      <td>19835</td>\n",
       "      <td>False</td>\n",
       "      <td>297</td>\n",
       "      <td>62042.0</td>\n",
       "    </tr>\n",
       "  </tbody>\n",
       "</table>\n",
       "</div>"
      ],
      "text/plain": [
       "   customer_id  loyalty_program  count_purchase     total\n",
       "0        20990            False             517   27579.0\n",
       "1        20590            False             512   29043.0\n",
       "2        20325            False             462  149182.0\n",
       "3        18768            False             432   33525.0\n",
       "4        19977            False             350   45845.0\n",
       "5        23520             True             322    3362.0\n",
       "6        18760            False             321   15268.0\n",
       "7        18427            False             317   19927.0\n",
       "8        23529             True             308    4929.0\n",
       "9        19835            False             297   62042.0"
      ]
     },
     "metadata": {},
     "output_type": "display_data"
    }
   ],
   "source": [
    "# Теперь найдем топ-10 по количеству покупок, и посмотри являются ли покупатели, которые чаще всего \n",
    "#совершают покупки участникамми они участниками программы лояльности Сгруппируем данные по customer_id и посчитаем сумму\n",
    "#количество покупок\n",
    "grouped_data_10_2 = total_retail_new.groupby(\n",
    "    [ 'customer_id', 'loyalty_program', 'first_purchase']).agg({'quantity': 'sum','total': 'sum','purchase_id':'count' }).reset_index()\n",
    "grouped_data_10_2 = grouped_data_10_2.rename(columns={'purchase_id':'count_purchase'})\n",
    "top_10_2 = grouped_data_10_2.sort_values('count_purchase', ascending = False).iloc[0:10].reset_index()\n",
    "top_10_2 = top_10_2 [['customer_id', 'loyalty_program', 'count_purchase','total']].round(0)\n",
    "display(top_10_2)"
   ]
  },
  {
   "cell_type": "markdown",
   "id": "b2e5554e",
   "metadata": {},
   "source": [
    "**Вывод:** Мы составили топ 10 покупателей, которые чаще всех совершают покупки за все анализируемое время и определили, что чаще всего совершает покупки покупатель с customer_id = 20990, за весь рассматриваемый период - 517 покупок на общую сумму 27 579\tрублей, при этом он не является участником программы лояльности. Можно отметить тот факт, что из составленного  топ 10 покупателей,  которые чаще всех совершают покупки за все анализируемое время лишь 2 покупателя являются участниками программы лояльности, они занимают 6-е и 9-е  места в рейтинге."
   ]
  },
  {
   "cell_type": "markdown",
   "id": "9eb9698e",
   "metadata": {},
   "source": [
    "### Средний чек в зависимости от участия в программе лояльности"
   ]
  },
  {
   "cell_type": "code",
   "execution_count": 337,
   "id": "87a378b0",
   "metadata": {},
   "outputs": [
    {
     "data": {
      "text/html": [
       "<div>\n",
       "<style scoped>\n",
       "    .dataframe tbody tr th:only-of-type {\n",
       "        vertical-align: middle;\n",
       "    }\n",
       "\n",
       "    .dataframe tbody tr th {\n",
       "        vertical-align: top;\n",
       "    }\n",
       "\n",
       "    .dataframe thead th {\n",
       "        text-align: right;\n",
       "    }\n",
       "</style>\n",
       "<table border=\"1\" class=\"dataframe\">\n",
       "  <thead>\n",
       "    <tr style=\"text-align: right;\">\n",
       "      <th></th>\n",
       "      <th>loyalty_program</th>\n",
       "      <th>total</th>\n",
       "    </tr>\n",
       "  </thead>\n",
       "  <tbody>\n",
       "    <tr>\n",
       "      <th>0</th>\n",
       "      <td>False</td>\n",
       "      <td>383.0</td>\n",
       "    </tr>\n",
       "    <tr>\n",
       "      <th>1</th>\n",
       "      <td>True</td>\n",
       "      <td>162.0</td>\n",
       "    </tr>\n",
       "  </tbody>\n",
       "</table>\n",
       "</div>"
      ],
      "text/plain": [
       "   loyalty_program  total\n",
       "0            False  383.0\n",
       "1             True  162.0"
      ]
     },
     "metadata": {},
     "output_type": "display_data"
    }
   ],
   "source": [
    "# Посчитаем средний чек в зависимости от участия в программе лояльности. Сделаем расчет по медиане\n",
    "av_bill_loyalty_program =  pd.pivot_table(data_purchase_id, values='total', index=['loyalty_program'], aggfunc=np.median)\n",
    "av_bill_loyalty_program = av_bill_loyalty_program.reset_index()[['loyalty_program','total']]\n",
    "av_bill_loyalty_program ['total'] = av_bill_loyalty_program['total'].round(0) # округлим значения\n",
    "display(av_bill_loyalty_program)"
   ]
  },
  {
   "cell_type": "markdown",
   "id": "66fafa0e",
   "metadata": {},
   "source": [
    "**Вывод:** Медианный средний чек выше у тех, что не участвует в программе лояльности. У участников программы он составляет 162 рубля, у не участников программы 383 рублей. "
   ]
  },
  {
   "cell_type": "markdown",
   "id": "4a37285f",
   "metadata": {},
   "source": [
    "### Среднее количество покупок в месяц,  в зависимости от участия в программе лояльности"
   ]
  },
  {
   "cell_type": "code",
   "execution_count": 338,
   "id": "97b25cb6",
   "metadata": {},
   "outputs": [
    {
     "data": {
      "text/html": [
       "<div>\n",
       "<style scoped>\n",
       "    .dataframe tbody tr th:only-of-type {\n",
       "        vertical-align: middle;\n",
       "    }\n",
       "\n",
       "    .dataframe tbody tr th {\n",
       "        vertical-align: top;\n",
       "    }\n",
       "\n",
       "    .dataframe thead th {\n",
       "        text-align: right;\n",
       "    }\n",
       "</style>\n",
       "<table border=\"1\" class=\"dataframe\">\n",
       "  <thead>\n",
       "    <tr style=\"text-align: right;\">\n",
       "      <th></th>\n",
       "      <th>month</th>\n",
       "      <th>loyalty_program</th>\n",
       "      <th>customer_id</th>\n",
       "      <th>purchase_id</th>\n",
       "      <th>purchase_avg</th>\n",
       "    </tr>\n",
       "  </thead>\n",
       "  <tbody>\n",
       "    <tr>\n",
       "      <th>0</th>\n",
       "      <td>December</td>\n",
       "      <td>False</td>\n",
       "      <td>601</td>\n",
       "      <td>1071</td>\n",
       "      <td>1.78</td>\n",
       "    </tr>\n",
       "    <tr>\n",
       "      <th>1</th>\n",
       "      <td>December</td>\n",
       "      <td>True</td>\n",
       "      <td>343</td>\n",
       "      <td>603</td>\n",
       "      <td>1.76</td>\n",
       "    </tr>\n",
       "    <tr>\n",
       "      <th>2</th>\n",
       "      <td>February</td>\n",
       "      <td>False</td>\n",
       "      <td>523</td>\n",
       "      <td>790</td>\n",
       "      <td>1.51</td>\n",
       "    </tr>\n",
       "    <tr>\n",
       "      <th>3</th>\n",
       "      <td>February</td>\n",
       "      <td>True</td>\n",
       "      <td>268</td>\n",
       "      <td>388</td>\n",
       "      <td>1.45</td>\n",
       "    </tr>\n",
       "    <tr>\n",
       "      <th>4</th>\n",
       "      <td>January</td>\n",
       "      <td>False</td>\n",
       "      <td>540</td>\n",
       "      <td>868</td>\n",
       "      <td>1.61</td>\n",
       "    </tr>\n",
       "    <tr>\n",
       "      <th>5</th>\n",
       "      <td>January</td>\n",
       "      <td>True</td>\n",
       "      <td>238</td>\n",
       "      <td>339</td>\n",
       "      <td>1.42</td>\n",
       "    </tr>\n",
       "  </tbody>\n",
       "</table>\n",
       "</div>"
      ],
      "text/plain": [
       "      month  loyalty_program  customer_id  purchase_id  purchase_avg\n",
       "0  December            False          601         1071          1.78\n",
       "1  December             True          343          603          1.76\n",
       "2  February            False          523          790          1.51\n",
       "3  February             True          268          388          1.45\n",
       "4   January            False          540          868          1.61\n",
       "5   January             True          238          339          1.42"
      ]
     },
     "metadata": {},
     "output_type": "display_data"
    }
   ],
   "source": [
    "#Рассмотрим сколько покупок в среднем в месяц совершают покупатели в зависимости от их принадлежности к программе лояльности.\n",
    "purchase_lp = total_retail.query('customer_id !=0')\n",
    "purchase_lp_total = pd.pivot_table(purchase_lp, values=['purchase_id', 'customer_id'],  index=['month','loyalty_program'], aggfunc={'purchase_id': 'nunique', 'customer_id': 'nunique'})\n",
    "purchase_lp_total = purchase_lp_total.reset_index()[['month','loyalty_program','customer_id','purchase_id']]\n",
    "purchase_lp_total ['purchase_avg'] = (purchase_lp_total ['purchase_id']/purchase_lp_total ['customer_id']).round(2)\n",
    "display(purchase_lp_total)"
   ]
  },
  {
   "cell_type": "code",
   "execution_count": 339,
   "id": "6623ed9e",
   "metadata": {},
   "outputs": [
    {
     "data": {
      "text/html": [
       "<div>\n",
       "<style scoped>\n",
       "    .dataframe tbody tr th:only-of-type {\n",
       "        vertical-align: middle;\n",
       "    }\n",
       "\n",
       "    .dataframe tbody tr th {\n",
       "        vertical-align: top;\n",
       "    }\n",
       "\n",
       "    .dataframe thead th {\n",
       "        text-align: right;\n",
       "    }\n",
       "</style>\n",
       "<table border=\"1\" class=\"dataframe\">\n",
       "  <thead>\n",
       "    <tr style=\"text-align: right;\">\n",
       "      <th></th>\n",
       "      <th>loyalty_program</th>\n",
       "      <th>purchase_avg</th>\n",
       "    </tr>\n",
       "  </thead>\n",
       "  <tbody>\n",
       "    <tr>\n",
       "      <th>0</th>\n",
       "      <td>False</td>\n",
       "      <td>1.63</td>\n",
       "    </tr>\n",
       "    <tr>\n",
       "      <th>1</th>\n",
       "      <td>True</td>\n",
       "      <td>1.54</td>\n",
       "    </tr>\n",
       "  </tbody>\n",
       "</table>\n",
       "</div>"
      ],
      "text/plain": [
       "   loyalty_program  purchase_avg\n",
       "0            False          1.63\n",
       "1             True          1.54"
      ]
     },
     "metadata": {},
     "output_type": "display_data"
    }
   ],
   "source": [
    "#Найдем среднее количество покупок в месяц для участников/не участников программы лояльности. \n",
    "purchase_avg_1 = pd.pivot_table(\n",
    "    purchase_lp_total, values=['purchase_avg'],  index=['loyalty_program'], aggfunc={'purchase_avg': 'mean'})\n",
    "purchase_avg_1 = purchase_avg_1.reset_index()[['loyalty_program','purchase_avg']].round(2)\n",
    "display (purchase_avg_1)"
   ]
  },
  {
   "cell_type": "code",
   "execution_count": 340,
   "id": "b7af0142",
   "metadata": {},
   "outputs": [
    {
     "data": {
      "application/vnd.plotly.v1+json": {
       "config": {
        "plotlyServerURL": "https://plot.ly"
       },
       "data": [
        {
         "alignmentgroup": "True",
         "hovertemplate": "loyalty_program=False<br>month=%{x}<br>purchase_avg=%{text}<extra></extra>",
         "legendgroup": "False",
         "marker": {
          "color": "#636efa",
          "pattern": {
           "shape": ""
          }
         },
         "name": "False",
         "offsetgroup": "False",
         "orientation": "v",
         "showlegend": true,
         "text": [
          1.78,
          1.51,
          1.61
         ],
         "textposition": "auto",
         "type": "bar",
         "x": [
          "December",
          "February",
          "January"
         ],
         "xaxis": "x",
         "y": [
          1.78,
          1.51,
          1.61
         ],
         "yaxis": "y"
        },
        {
         "alignmentgroup": "True",
         "hovertemplate": "loyalty_program=True<br>month=%{x}<br>purchase_avg=%{text}<extra></extra>",
         "legendgroup": "True",
         "marker": {
          "color": "#EF553B",
          "pattern": {
           "shape": ""
          }
         },
         "name": "True",
         "offsetgroup": "True",
         "orientation": "v",
         "showlegend": true,
         "text": [
          1.76,
          1.45,
          1.42
         ],
         "textposition": "auto",
         "type": "bar",
         "x": [
          "December",
          "February",
          "January"
         ],
         "xaxis": "x",
         "y": [
          1.76,
          1.45,
          1.42
         ],
         "yaxis": "y"
        }
       ],
       "layout": {
        "barmode": "group",
        "height": 300,
        "legend": {
         "title": {
          "text": "loyalty_program"
         },
         "tracegroupgap": 0
        },
        "margin": {
         "t": 60
        },
        "plot_bgcolor": "white",
        "template": {
         "data": {
          "bar": [
           {
            "error_x": {
             "color": "#2a3f5f"
            },
            "error_y": {
             "color": "#2a3f5f"
            },
            "marker": {
             "line": {
              "color": "#E5ECF6",
              "width": 0.5
             },
             "pattern": {
              "fillmode": "overlay",
              "size": 10,
              "solidity": 0.2
             }
            },
            "type": "bar"
           }
          ],
          "barpolar": [
           {
            "marker": {
             "line": {
              "color": "#E5ECF6",
              "width": 0.5
             },
             "pattern": {
              "fillmode": "overlay",
              "size": 10,
              "solidity": 0.2
             }
            },
            "type": "barpolar"
           }
          ],
          "carpet": [
           {
            "aaxis": {
             "endlinecolor": "#2a3f5f",
             "gridcolor": "white",
             "linecolor": "white",
             "minorgridcolor": "white",
             "startlinecolor": "#2a3f5f"
            },
            "baxis": {
             "endlinecolor": "#2a3f5f",
             "gridcolor": "white",
             "linecolor": "white",
             "minorgridcolor": "white",
             "startlinecolor": "#2a3f5f"
            },
            "type": "carpet"
           }
          ],
          "choropleth": [
           {
            "colorbar": {
             "outlinewidth": 0,
             "ticks": ""
            },
            "type": "choropleth"
           }
          ],
          "contour": [
           {
            "colorbar": {
             "outlinewidth": 0,
             "ticks": ""
            },
            "colorscale": [
             [
              0,
              "#0d0887"
             ],
             [
              0.1111111111111111,
              "#46039f"
             ],
             [
              0.2222222222222222,
              "#7201a8"
             ],
             [
              0.3333333333333333,
              "#9c179e"
             ],
             [
              0.4444444444444444,
              "#bd3786"
             ],
             [
              0.5555555555555556,
              "#d8576b"
             ],
             [
              0.6666666666666666,
              "#ed7953"
             ],
             [
              0.7777777777777778,
              "#fb9f3a"
             ],
             [
              0.8888888888888888,
              "#fdca26"
             ],
             [
              1,
              "#f0f921"
             ]
            ],
            "type": "contour"
           }
          ],
          "contourcarpet": [
           {
            "colorbar": {
             "outlinewidth": 0,
             "ticks": ""
            },
            "type": "contourcarpet"
           }
          ],
          "heatmap": [
           {
            "colorbar": {
             "outlinewidth": 0,
             "ticks": ""
            },
            "colorscale": [
             [
              0,
              "#0d0887"
             ],
             [
              0.1111111111111111,
              "#46039f"
             ],
             [
              0.2222222222222222,
              "#7201a8"
             ],
             [
              0.3333333333333333,
              "#9c179e"
             ],
             [
              0.4444444444444444,
              "#bd3786"
             ],
             [
              0.5555555555555556,
              "#d8576b"
             ],
             [
              0.6666666666666666,
              "#ed7953"
             ],
             [
              0.7777777777777778,
              "#fb9f3a"
             ],
             [
              0.8888888888888888,
              "#fdca26"
             ],
             [
              1,
              "#f0f921"
             ]
            ],
            "type": "heatmap"
           }
          ],
          "heatmapgl": [
           {
            "colorbar": {
             "outlinewidth": 0,
             "ticks": ""
            },
            "colorscale": [
             [
              0,
              "#0d0887"
             ],
             [
              0.1111111111111111,
              "#46039f"
             ],
             [
              0.2222222222222222,
              "#7201a8"
             ],
             [
              0.3333333333333333,
              "#9c179e"
             ],
             [
              0.4444444444444444,
              "#bd3786"
             ],
             [
              0.5555555555555556,
              "#d8576b"
             ],
             [
              0.6666666666666666,
              "#ed7953"
             ],
             [
              0.7777777777777778,
              "#fb9f3a"
             ],
             [
              0.8888888888888888,
              "#fdca26"
             ],
             [
              1,
              "#f0f921"
             ]
            ],
            "type": "heatmapgl"
           }
          ],
          "histogram": [
           {
            "marker": {
             "pattern": {
              "fillmode": "overlay",
              "size": 10,
              "solidity": 0.2
             }
            },
            "type": "histogram"
           }
          ],
          "histogram2d": [
           {
            "colorbar": {
             "outlinewidth": 0,
             "ticks": ""
            },
            "colorscale": [
             [
              0,
              "#0d0887"
             ],
             [
              0.1111111111111111,
              "#46039f"
             ],
             [
              0.2222222222222222,
              "#7201a8"
             ],
             [
              0.3333333333333333,
              "#9c179e"
             ],
             [
              0.4444444444444444,
              "#bd3786"
             ],
             [
              0.5555555555555556,
              "#d8576b"
             ],
             [
              0.6666666666666666,
              "#ed7953"
             ],
             [
              0.7777777777777778,
              "#fb9f3a"
             ],
             [
              0.8888888888888888,
              "#fdca26"
             ],
             [
              1,
              "#f0f921"
             ]
            ],
            "type": "histogram2d"
           }
          ],
          "histogram2dcontour": [
           {
            "colorbar": {
             "outlinewidth": 0,
             "ticks": ""
            },
            "colorscale": [
             [
              0,
              "#0d0887"
             ],
             [
              0.1111111111111111,
              "#46039f"
             ],
             [
              0.2222222222222222,
              "#7201a8"
             ],
             [
              0.3333333333333333,
              "#9c179e"
             ],
             [
              0.4444444444444444,
              "#bd3786"
             ],
             [
              0.5555555555555556,
              "#d8576b"
             ],
             [
              0.6666666666666666,
              "#ed7953"
             ],
             [
              0.7777777777777778,
              "#fb9f3a"
             ],
             [
              0.8888888888888888,
              "#fdca26"
             ],
             [
              1,
              "#f0f921"
             ]
            ],
            "type": "histogram2dcontour"
           }
          ],
          "mesh3d": [
           {
            "colorbar": {
             "outlinewidth": 0,
             "ticks": ""
            },
            "type": "mesh3d"
           }
          ],
          "parcoords": [
           {
            "line": {
             "colorbar": {
              "outlinewidth": 0,
              "ticks": ""
             }
            },
            "type": "parcoords"
           }
          ],
          "pie": [
           {
            "automargin": true,
            "type": "pie"
           }
          ],
          "scatter": [
           {
            "marker": {
             "colorbar": {
              "outlinewidth": 0,
              "ticks": ""
             }
            },
            "type": "scatter"
           }
          ],
          "scatter3d": [
           {
            "line": {
             "colorbar": {
              "outlinewidth": 0,
              "ticks": ""
             }
            },
            "marker": {
             "colorbar": {
              "outlinewidth": 0,
              "ticks": ""
             }
            },
            "type": "scatter3d"
           }
          ],
          "scattercarpet": [
           {
            "marker": {
             "colorbar": {
              "outlinewidth": 0,
              "ticks": ""
             }
            },
            "type": "scattercarpet"
           }
          ],
          "scattergeo": [
           {
            "marker": {
             "colorbar": {
              "outlinewidth": 0,
              "ticks": ""
             }
            },
            "type": "scattergeo"
           }
          ],
          "scattergl": [
           {
            "marker": {
             "colorbar": {
              "outlinewidth": 0,
              "ticks": ""
             }
            },
            "type": "scattergl"
           }
          ],
          "scattermapbox": [
           {
            "marker": {
             "colorbar": {
              "outlinewidth": 0,
              "ticks": ""
             }
            },
            "type": "scattermapbox"
           }
          ],
          "scatterpolar": [
           {
            "marker": {
             "colorbar": {
              "outlinewidth": 0,
              "ticks": ""
             }
            },
            "type": "scatterpolar"
           }
          ],
          "scatterpolargl": [
           {
            "marker": {
             "colorbar": {
              "outlinewidth": 0,
              "ticks": ""
             }
            },
            "type": "scatterpolargl"
           }
          ],
          "scatterternary": [
           {
            "marker": {
             "colorbar": {
              "outlinewidth": 0,
              "ticks": ""
             }
            },
            "type": "scatterternary"
           }
          ],
          "surface": [
           {
            "colorbar": {
             "outlinewidth": 0,
             "ticks": ""
            },
            "colorscale": [
             [
              0,
              "#0d0887"
             ],
             [
              0.1111111111111111,
              "#46039f"
             ],
             [
              0.2222222222222222,
              "#7201a8"
             ],
             [
              0.3333333333333333,
              "#9c179e"
             ],
             [
              0.4444444444444444,
              "#bd3786"
             ],
             [
              0.5555555555555556,
              "#d8576b"
             ],
             [
              0.6666666666666666,
              "#ed7953"
             ],
             [
              0.7777777777777778,
              "#fb9f3a"
             ],
             [
              0.8888888888888888,
              "#fdca26"
             ],
             [
              1,
              "#f0f921"
             ]
            ],
            "type": "surface"
           }
          ],
          "table": [
           {
            "cells": {
             "fill": {
              "color": "#EBF0F8"
             },
             "line": {
              "color": "white"
             }
            },
            "header": {
             "fill": {
              "color": "#C8D4E3"
             },
             "line": {
              "color": "white"
             }
            },
            "type": "table"
           }
          ]
         },
         "layout": {
          "annotationdefaults": {
           "arrowcolor": "#2a3f5f",
           "arrowhead": 0,
           "arrowwidth": 1
          },
          "autotypenumbers": "strict",
          "coloraxis": {
           "colorbar": {
            "outlinewidth": 0,
            "ticks": ""
           }
          },
          "colorscale": {
           "diverging": [
            [
             0,
             "#8e0152"
            ],
            [
             0.1,
             "#c51b7d"
            ],
            [
             0.2,
             "#de77ae"
            ],
            [
             0.3,
             "#f1b6da"
            ],
            [
             0.4,
             "#fde0ef"
            ],
            [
             0.5,
             "#f7f7f7"
            ],
            [
             0.6,
             "#e6f5d0"
            ],
            [
             0.7,
             "#b8e186"
            ],
            [
             0.8,
             "#7fbc41"
            ],
            [
             0.9,
             "#4d9221"
            ],
            [
             1,
             "#276419"
            ]
           ],
           "sequential": [
            [
             0,
             "#0d0887"
            ],
            [
             0.1111111111111111,
             "#46039f"
            ],
            [
             0.2222222222222222,
             "#7201a8"
            ],
            [
             0.3333333333333333,
             "#9c179e"
            ],
            [
             0.4444444444444444,
             "#bd3786"
            ],
            [
             0.5555555555555556,
             "#d8576b"
            ],
            [
             0.6666666666666666,
             "#ed7953"
            ],
            [
             0.7777777777777778,
             "#fb9f3a"
            ],
            [
             0.8888888888888888,
             "#fdca26"
            ],
            [
             1,
             "#f0f921"
            ]
           ],
           "sequentialminus": [
            [
             0,
             "#0d0887"
            ],
            [
             0.1111111111111111,
             "#46039f"
            ],
            [
             0.2222222222222222,
             "#7201a8"
            ],
            [
             0.3333333333333333,
             "#9c179e"
            ],
            [
             0.4444444444444444,
             "#bd3786"
            ],
            [
             0.5555555555555556,
             "#d8576b"
            ],
            [
             0.6666666666666666,
             "#ed7953"
            ],
            [
             0.7777777777777778,
             "#fb9f3a"
            ],
            [
             0.8888888888888888,
             "#fdca26"
            ],
            [
             1,
             "#f0f921"
            ]
           ]
          },
          "colorway": [
           "#636efa",
           "#EF553B",
           "#00cc96",
           "#ab63fa",
           "#FFA15A",
           "#19d3f3",
           "#FF6692",
           "#B6E880",
           "#FF97FF",
           "#FECB52"
          ],
          "font": {
           "color": "#2a3f5f"
          },
          "geo": {
           "bgcolor": "white",
           "lakecolor": "white",
           "landcolor": "#E5ECF6",
           "showlakes": true,
           "showland": true,
           "subunitcolor": "white"
          },
          "hoverlabel": {
           "align": "left"
          },
          "hovermode": "closest",
          "mapbox": {
           "style": "light"
          },
          "paper_bgcolor": "white",
          "plot_bgcolor": "#E5ECF6",
          "polar": {
           "angularaxis": {
            "gridcolor": "white",
            "linecolor": "white",
            "ticks": ""
           },
           "bgcolor": "#E5ECF6",
           "radialaxis": {
            "gridcolor": "white",
            "linecolor": "white",
            "ticks": ""
           }
          },
          "scene": {
           "xaxis": {
            "backgroundcolor": "#E5ECF6",
            "gridcolor": "white",
            "gridwidth": 2,
            "linecolor": "white",
            "showbackground": true,
            "ticks": "",
            "zerolinecolor": "white"
           },
           "yaxis": {
            "backgroundcolor": "#E5ECF6",
            "gridcolor": "white",
            "gridwidth": 2,
            "linecolor": "white",
            "showbackground": true,
            "ticks": "",
            "zerolinecolor": "white"
           },
           "zaxis": {
            "backgroundcolor": "#E5ECF6",
            "gridcolor": "white",
            "gridwidth": 2,
            "linecolor": "white",
            "showbackground": true,
            "ticks": "",
            "zerolinecolor": "white"
           }
          },
          "shapedefaults": {
           "line": {
            "color": "#2a3f5f"
           }
          },
          "ternary": {
           "aaxis": {
            "gridcolor": "white",
            "linecolor": "white",
            "ticks": ""
           },
           "baxis": {
            "gridcolor": "white",
            "linecolor": "white",
            "ticks": ""
           },
           "bgcolor": "#E5ECF6",
           "caxis": {
            "gridcolor": "white",
            "linecolor": "white",
            "ticks": ""
           }
          },
          "title": {
           "x": 0.05
          },
          "xaxis": {
           "automargin": true,
           "gridcolor": "white",
           "linecolor": "white",
           "ticks": "",
           "title": {
            "standoff": 15
           },
           "zerolinecolor": "white",
           "zerolinewidth": 2
          },
          "yaxis": {
           "automargin": true,
           "gridcolor": "white",
           "linecolor": "white",
           "ticks": "",
           "title": {
            "standoff": 15
           },
           "zerolinecolor": "white",
           "zerolinewidth": 2
          }
         }
        },
        "title": {
         "text": "Среднее количество покупок в месяц"
        },
        "width": 500,
        "xaxis": {
         "anchor": "y",
         "categoryarray": [
          "December",
          "December",
          "January",
          "February",
          "February",
          "January"
         ],
         "categoryorder": "array",
         "domain": [
          0,
          1
         ],
         "title": {
          "text": "Месяц"
         }
        },
        "yaxis": {
         "anchor": "x",
         "domain": [
          0,
          1
         ],
         "title": {
          "text": "Кол-во покупок"
         }
        }
       }
      },
      "text/html": [
       "<div>                            <div id=\"a39943c7-552d-4887-ba64-9aac40cb8241\" class=\"plotly-graph-div\" style=\"height:300px; width:500px;\"></div>            <script type=\"text/javascript\">                require([\"plotly\"], function(Plotly) {                    window.PLOTLYENV=window.PLOTLYENV || {};                                    if (document.getElementById(\"a39943c7-552d-4887-ba64-9aac40cb8241\")) {                    Plotly.newPlot(                        \"a39943c7-552d-4887-ba64-9aac40cb8241\",                        [{\"alignmentgroup\":\"True\",\"hovertemplate\":\"loyalty_program=False<br>month=%{x}<br>purchase_avg=%{text}<extra></extra>\",\"legendgroup\":\"False\",\"marker\":{\"color\":\"#636efa\",\"pattern\":{\"shape\":\"\"}},\"name\":\"False\",\"offsetgroup\":\"False\",\"orientation\":\"v\",\"showlegend\":true,\"text\":[1.78,1.51,1.61],\"textposition\":\"auto\",\"x\":[\"December\",\"February\",\"January\"],\"xaxis\":\"x\",\"y\":[1.78,1.51,1.61],\"yaxis\":\"y\",\"type\":\"bar\"},{\"alignmentgroup\":\"True\",\"hovertemplate\":\"loyalty_program=True<br>month=%{x}<br>purchase_avg=%{text}<extra></extra>\",\"legendgroup\":\"True\",\"marker\":{\"color\":\"#EF553B\",\"pattern\":{\"shape\":\"\"}},\"name\":\"True\",\"offsetgroup\":\"True\",\"orientation\":\"v\",\"showlegend\":true,\"text\":[1.76,1.45,1.42],\"textposition\":\"auto\",\"x\":[\"December\",\"February\",\"January\"],\"xaxis\":\"x\",\"y\":[1.76,1.45,1.42],\"yaxis\":\"y\",\"type\":\"bar\"}],                        {\"template\":{\"data\":{\"bar\":[{\"error_x\":{\"color\":\"#2a3f5f\"},\"error_y\":{\"color\":\"#2a3f5f\"},\"marker\":{\"line\":{\"color\":\"#E5ECF6\",\"width\":0.5},\"pattern\":{\"fillmode\":\"overlay\",\"size\":10,\"solidity\":0.2}},\"type\":\"bar\"}],\"barpolar\":[{\"marker\":{\"line\":{\"color\":\"#E5ECF6\",\"width\":0.5},\"pattern\":{\"fillmode\":\"overlay\",\"size\":10,\"solidity\":0.2}},\"type\":\"barpolar\"}],\"carpet\":[{\"aaxis\":{\"endlinecolor\":\"#2a3f5f\",\"gridcolor\":\"white\",\"linecolor\":\"white\",\"minorgridcolor\":\"white\",\"startlinecolor\":\"#2a3f5f\"},\"baxis\":{\"endlinecolor\":\"#2a3f5f\",\"gridcolor\":\"white\",\"linecolor\":\"white\",\"minorgridcolor\":\"white\",\"startlinecolor\":\"#2a3f5f\"},\"type\":\"carpet\"}],\"choropleth\":[{\"colorbar\":{\"outlinewidth\":0,\"ticks\":\"\"},\"type\":\"choropleth\"}],\"contour\":[{\"colorbar\":{\"outlinewidth\":0,\"ticks\":\"\"},\"colorscale\":[[0.0,\"#0d0887\"],[0.1111111111111111,\"#46039f\"],[0.2222222222222222,\"#7201a8\"],[0.3333333333333333,\"#9c179e\"],[0.4444444444444444,\"#bd3786\"],[0.5555555555555556,\"#d8576b\"],[0.6666666666666666,\"#ed7953\"],[0.7777777777777778,\"#fb9f3a\"],[0.8888888888888888,\"#fdca26\"],[1.0,\"#f0f921\"]],\"type\":\"contour\"}],\"contourcarpet\":[{\"colorbar\":{\"outlinewidth\":0,\"ticks\":\"\"},\"type\":\"contourcarpet\"}],\"heatmap\":[{\"colorbar\":{\"outlinewidth\":0,\"ticks\":\"\"},\"colorscale\":[[0.0,\"#0d0887\"],[0.1111111111111111,\"#46039f\"],[0.2222222222222222,\"#7201a8\"],[0.3333333333333333,\"#9c179e\"],[0.4444444444444444,\"#bd3786\"],[0.5555555555555556,\"#d8576b\"],[0.6666666666666666,\"#ed7953\"],[0.7777777777777778,\"#fb9f3a\"],[0.8888888888888888,\"#fdca26\"],[1.0,\"#f0f921\"]],\"type\":\"heatmap\"}],\"heatmapgl\":[{\"colorbar\":{\"outlinewidth\":0,\"ticks\":\"\"},\"colorscale\":[[0.0,\"#0d0887\"],[0.1111111111111111,\"#46039f\"],[0.2222222222222222,\"#7201a8\"],[0.3333333333333333,\"#9c179e\"],[0.4444444444444444,\"#bd3786\"],[0.5555555555555556,\"#d8576b\"],[0.6666666666666666,\"#ed7953\"],[0.7777777777777778,\"#fb9f3a\"],[0.8888888888888888,\"#fdca26\"],[1.0,\"#f0f921\"]],\"type\":\"heatmapgl\"}],\"histogram\":[{\"marker\":{\"pattern\":{\"fillmode\":\"overlay\",\"size\":10,\"solidity\":0.2}},\"type\":\"histogram\"}],\"histogram2d\":[{\"colorbar\":{\"outlinewidth\":0,\"ticks\":\"\"},\"colorscale\":[[0.0,\"#0d0887\"],[0.1111111111111111,\"#46039f\"],[0.2222222222222222,\"#7201a8\"],[0.3333333333333333,\"#9c179e\"],[0.4444444444444444,\"#bd3786\"],[0.5555555555555556,\"#d8576b\"],[0.6666666666666666,\"#ed7953\"],[0.7777777777777778,\"#fb9f3a\"],[0.8888888888888888,\"#fdca26\"],[1.0,\"#f0f921\"]],\"type\":\"histogram2d\"}],\"histogram2dcontour\":[{\"colorbar\":{\"outlinewidth\":0,\"ticks\":\"\"},\"colorscale\":[[0.0,\"#0d0887\"],[0.1111111111111111,\"#46039f\"],[0.2222222222222222,\"#7201a8\"],[0.3333333333333333,\"#9c179e\"],[0.4444444444444444,\"#bd3786\"],[0.5555555555555556,\"#d8576b\"],[0.6666666666666666,\"#ed7953\"],[0.7777777777777778,\"#fb9f3a\"],[0.8888888888888888,\"#fdca26\"],[1.0,\"#f0f921\"]],\"type\":\"histogram2dcontour\"}],\"mesh3d\":[{\"colorbar\":{\"outlinewidth\":0,\"ticks\":\"\"},\"type\":\"mesh3d\"}],\"parcoords\":[{\"line\":{\"colorbar\":{\"outlinewidth\":0,\"ticks\":\"\"}},\"type\":\"parcoords\"}],\"pie\":[{\"automargin\":true,\"type\":\"pie\"}],\"scatter\":[{\"marker\":{\"colorbar\":{\"outlinewidth\":0,\"ticks\":\"\"}},\"type\":\"scatter\"}],\"scatter3d\":[{\"line\":{\"colorbar\":{\"outlinewidth\":0,\"ticks\":\"\"}},\"marker\":{\"colorbar\":{\"outlinewidth\":0,\"ticks\":\"\"}},\"type\":\"scatter3d\"}],\"scattercarpet\":[{\"marker\":{\"colorbar\":{\"outlinewidth\":0,\"ticks\":\"\"}},\"type\":\"scattercarpet\"}],\"scattergeo\":[{\"marker\":{\"colorbar\":{\"outlinewidth\":0,\"ticks\":\"\"}},\"type\":\"scattergeo\"}],\"scattergl\":[{\"marker\":{\"colorbar\":{\"outlinewidth\":0,\"ticks\":\"\"}},\"type\":\"scattergl\"}],\"scattermapbox\":[{\"marker\":{\"colorbar\":{\"outlinewidth\":0,\"ticks\":\"\"}},\"type\":\"scattermapbox\"}],\"scatterpolar\":[{\"marker\":{\"colorbar\":{\"outlinewidth\":0,\"ticks\":\"\"}},\"type\":\"scatterpolar\"}],\"scatterpolargl\":[{\"marker\":{\"colorbar\":{\"outlinewidth\":0,\"ticks\":\"\"}},\"type\":\"scatterpolargl\"}],\"scatterternary\":[{\"marker\":{\"colorbar\":{\"outlinewidth\":0,\"ticks\":\"\"}},\"type\":\"scatterternary\"}],\"surface\":[{\"colorbar\":{\"outlinewidth\":0,\"ticks\":\"\"},\"colorscale\":[[0.0,\"#0d0887\"],[0.1111111111111111,\"#46039f\"],[0.2222222222222222,\"#7201a8\"],[0.3333333333333333,\"#9c179e\"],[0.4444444444444444,\"#bd3786\"],[0.5555555555555556,\"#d8576b\"],[0.6666666666666666,\"#ed7953\"],[0.7777777777777778,\"#fb9f3a\"],[0.8888888888888888,\"#fdca26\"],[1.0,\"#f0f921\"]],\"type\":\"surface\"}],\"table\":[{\"cells\":{\"fill\":{\"color\":\"#EBF0F8\"},\"line\":{\"color\":\"white\"}},\"header\":{\"fill\":{\"color\":\"#C8D4E3\"},\"line\":{\"color\":\"white\"}},\"type\":\"table\"}]},\"layout\":{\"annotationdefaults\":{\"arrowcolor\":\"#2a3f5f\",\"arrowhead\":0,\"arrowwidth\":1},\"autotypenumbers\":\"strict\",\"coloraxis\":{\"colorbar\":{\"outlinewidth\":0,\"ticks\":\"\"}},\"colorscale\":{\"diverging\":[[0,\"#8e0152\"],[0.1,\"#c51b7d\"],[0.2,\"#de77ae\"],[0.3,\"#f1b6da\"],[0.4,\"#fde0ef\"],[0.5,\"#f7f7f7\"],[0.6,\"#e6f5d0\"],[0.7,\"#b8e186\"],[0.8,\"#7fbc41\"],[0.9,\"#4d9221\"],[1,\"#276419\"]],\"sequential\":[[0.0,\"#0d0887\"],[0.1111111111111111,\"#46039f\"],[0.2222222222222222,\"#7201a8\"],[0.3333333333333333,\"#9c179e\"],[0.4444444444444444,\"#bd3786\"],[0.5555555555555556,\"#d8576b\"],[0.6666666666666666,\"#ed7953\"],[0.7777777777777778,\"#fb9f3a\"],[0.8888888888888888,\"#fdca26\"],[1.0,\"#f0f921\"]],\"sequentialminus\":[[0.0,\"#0d0887\"],[0.1111111111111111,\"#46039f\"],[0.2222222222222222,\"#7201a8\"],[0.3333333333333333,\"#9c179e\"],[0.4444444444444444,\"#bd3786\"],[0.5555555555555556,\"#d8576b\"],[0.6666666666666666,\"#ed7953\"],[0.7777777777777778,\"#fb9f3a\"],[0.8888888888888888,\"#fdca26\"],[1.0,\"#f0f921\"]]},\"colorway\":[\"#636efa\",\"#EF553B\",\"#00cc96\",\"#ab63fa\",\"#FFA15A\",\"#19d3f3\",\"#FF6692\",\"#B6E880\",\"#FF97FF\",\"#FECB52\"],\"font\":{\"color\":\"#2a3f5f\"},\"geo\":{\"bgcolor\":\"white\",\"lakecolor\":\"white\",\"landcolor\":\"#E5ECF6\",\"showlakes\":true,\"showland\":true,\"subunitcolor\":\"white\"},\"hoverlabel\":{\"align\":\"left\"},\"hovermode\":\"closest\",\"mapbox\":{\"style\":\"light\"},\"paper_bgcolor\":\"white\",\"plot_bgcolor\":\"#E5ECF6\",\"polar\":{\"angularaxis\":{\"gridcolor\":\"white\",\"linecolor\":\"white\",\"ticks\":\"\"},\"bgcolor\":\"#E5ECF6\",\"radialaxis\":{\"gridcolor\":\"white\",\"linecolor\":\"white\",\"ticks\":\"\"}},\"scene\":{\"xaxis\":{\"backgroundcolor\":\"#E5ECF6\",\"gridcolor\":\"white\",\"gridwidth\":2,\"linecolor\":\"white\",\"showbackground\":true,\"ticks\":\"\",\"zerolinecolor\":\"white\"},\"yaxis\":{\"backgroundcolor\":\"#E5ECF6\",\"gridcolor\":\"white\",\"gridwidth\":2,\"linecolor\":\"white\",\"showbackground\":true,\"ticks\":\"\",\"zerolinecolor\":\"white\"},\"zaxis\":{\"backgroundcolor\":\"#E5ECF6\",\"gridcolor\":\"white\",\"gridwidth\":2,\"linecolor\":\"white\",\"showbackground\":true,\"ticks\":\"\",\"zerolinecolor\":\"white\"}},\"shapedefaults\":{\"line\":{\"color\":\"#2a3f5f\"}},\"ternary\":{\"aaxis\":{\"gridcolor\":\"white\",\"linecolor\":\"white\",\"ticks\":\"\"},\"baxis\":{\"gridcolor\":\"white\",\"linecolor\":\"white\",\"ticks\":\"\"},\"bgcolor\":\"#E5ECF6\",\"caxis\":{\"gridcolor\":\"white\",\"linecolor\":\"white\",\"ticks\":\"\"}},\"title\":{\"x\":0.05},\"xaxis\":{\"automargin\":true,\"gridcolor\":\"white\",\"linecolor\":\"white\",\"ticks\":\"\",\"title\":{\"standoff\":15},\"zerolinecolor\":\"white\",\"zerolinewidth\":2},\"yaxis\":{\"automargin\":true,\"gridcolor\":\"white\",\"linecolor\":\"white\",\"ticks\":\"\",\"title\":{\"standoff\":15},\"zerolinecolor\":\"white\",\"zerolinewidth\":2}}},\"xaxis\":{\"anchor\":\"y\",\"domain\":[0.0,1.0],\"title\":{\"text\":\"\\u041c\\u0435\\u0441\\u044f\\u0446\"},\"categoryorder\":\"array\",\"categoryarray\":[\"December\",\"December\",\"January\",\"February\",\"February\",\"January\"]},\"yaxis\":{\"anchor\":\"x\",\"domain\":[0.0,1.0],\"title\":{\"text\":\"\\u041a\\u043e\\u043b-\\u0432\\u043e \\u043f\\u043e\\u043a\\u0443\\u043f\\u043e\\u043a\"}},\"legend\":{\"title\":{\"text\":\"loyalty_program\"},\"tracegroupgap\":0},\"margin\":{\"t\":60},\"barmode\":\"group\",\"title\":{\"text\":\"\\u0421\\u0440\\u0435\\u0434\\u043d\\u0435\\u0435 \\u043a\\u043e\\u043b\\u0438\\u0447\\u0435\\u0441\\u0442\\u0432\\u043e \\u043f\\u043e\\u043a\\u0443\\u043f\\u043e\\u043a \\u0432 \\u043c\\u0435\\u0441\\u044f\\u0446\"},\"width\":500,\"height\":300,\"plot_bgcolor\":\"white\"},                        {\"responsive\": true}                    ).then(function(){\n",
       "                            \n",
       "var gd = document.getElementById('a39943c7-552d-4887-ba64-9aac40cb8241');\n",
       "var x = new MutationObserver(function (mutations, observer) {{\n",
       "        var display = window.getComputedStyle(gd).display;\n",
       "        if (!display || display === 'none') {{\n",
       "            console.log([gd, 'removed!']);\n",
       "            Plotly.purge(gd);\n",
       "            observer.disconnect();\n",
       "        }}\n",
       "}});\n",
       "\n",
       "// Listen for the removal of the full notebook cells\n",
       "var notebookContainer = gd.closest('#notebook-container');\n",
       "if (notebookContainer) {{\n",
       "    x.observe(notebookContainer, {childList: true});\n",
       "}}\n",
       "\n",
       "// Listen for the clearing of the current output cell\n",
       "var outputEl = gd.closest('.output');\n",
       "if (outputEl) {{\n",
       "    x.observe(outputEl, {childList: true});\n",
       "}}\n",
       "\n",
       "                        })                };                });            </script>        </div>"
      ]
     },
     "metadata": {},
     "output_type": "display_data"
    }
   ],
   "source": [
    "# Визуализируем полученные данные, построим столбчатую диаграмму \n",
    "fig_5 = px.bar(purchase_lp_total, y='purchase_avg', x='month', color=\"loyalty_program\", text='purchase_avg', barmode='group')\n",
    "\n",
    "# запишем датафрейм, выберем столбец, по которому будем проводитть сортировку нашего графика\n",
    "total_fig_5 = purchase_lp_total.groupby('month')['purchase_avg'].sum().reset_index()\n",
    "\n",
    "# отсортируем\n",
    "sorted_total_fig_5 =  purchase_lp_total.sort_values('purchase_avg', ascending=False)['month'].values\n",
    "    \n",
    "# оформляем график\n",
    "fig_5.update_layout(title='Среднее количество покупок в месяц',xaxis_title='Месяц',yaxis_title='Кол-во покупок', width=500, height=300,plot_bgcolor='white')                   \n",
    "\n",
    "#меняем порядок сортировки\n",
    "fig_5.update_xaxes(categoryorder='array', categoryarray=sorted_total_fig_5)\n",
    "fig_5.show() # выводим график"
   ]
  },
  {
   "cell_type": "markdown",
   "id": "f3d4530d",
   "metadata": {},
   "source": [
    "**Вывод:** Покупатели, которые не участвуют в программе лояльности, совершают покупки чаще, хотя различие по этому признаку не так существенно, например в декабре участники программы лояльности совершили 1.76 покупок, остальные - 1.78, в январе различие заметнее: участники - 1.42, остальные покупатели - 1.61, в феврале: участники 1.45, остальные - 1.51."
   ]
  },
  {
   "cell_type": "markdown",
   "id": "c2e0c441",
   "metadata": {},
   "source": [
    "### Среднее количество товаров в чеке, в зависимости от участия в программе лояльности"
   ]
  },
  {
   "cell_type": "markdown",
   "id": "21f86823",
   "metadata": {},
   "source": [
    "Здесь мы будем рассматривать товары в чеке, узнаем сколько товаров в среднем у участников программы и у обычных покупателей."
   ]
  },
  {
   "cell_type": "code",
   "execution_count": 341,
   "id": "f056cde7",
   "metadata": {},
   "outputs": [
    {
     "data": {
      "text/html": [
       "<div>\n",
       "<style scoped>\n",
       "    .dataframe tbody tr th:only-of-type {\n",
       "        vertical-align: middle;\n",
       "    }\n",
       "\n",
       "    .dataframe tbody tr th {\n",
       "        vertical-align: top;\n",
       "    }\n",
       "\n",
       "    .dataframe thead th {\n",
       "        text-align: right;\n",
       "    }\n",
       "</style>\n",
       "<table border=\"1\" class=\"dataframe\">\n",
       "  <thead>\n",
       "    <tr style=\"text-align: right;\">\n",
       "      <th></th>\n",
       "      <th>loyalty_program</th>\n",
       "      <th>quantity</th>\n",
       "    </tr>\n",
       "  </thead>\n",
       "  <tbody>\n",
       "    <tr>\n",
       "      <th>0</th>\n",
       "      <td>False</td>\n",
       "      <td>193.0</td>\n",
       "    </tr>\n",
       "    <tr>\n",
       "      <th>1</th>\n",
       "      <td>True</td>\n",
       "      <td>172.0</td>\n",
       "    </tr>\n",
       "  </tbody>\n",
       "</table>\n",
       "</div>"
      ],
      "text/plain": [
       "   loyalty_program  quantity\n",
       "0            False     193.0\n",
       "1             True     172.0"
      ]
     },
     "metadata": {},
     "output_type": "display_data"
    }
   ],
   "source": [
    "av_quantaty_loyalty_program =  pd.pivot_table(data_purchase_id, values='quantity', index=['loyalty_program'], aggfunc=np.mean)\n",
    "av_quantaty_loyalty_program = av_quantaty_loyalty_program .reset_index()[['loyalty_program','quantity']]\n",
    "av_quantaty_loyalty_program ['quantity']=av_quantaty_loyalty_program ['quantity'].round(0) # округлим значения\n",
    "display(av_quantaty_loyalty_program)"
   ]
  },
  {
   "cell_type": "markdown",
   "id": "a3cdfb61",
   "metadata": {},
   "source": [
    "**Вывод:** Мы рассчитали LTV (Lifetime Value) — пожизненную ценность клиента, за 60 дней. LTV для участника программы лояльности 1028 рубля, для остальных покупателей - 1821 рублей. Мы рассчитали средний доход от покупателя за месяц (ACV  за месяц) в группе участников программы лояльности он почти в 2 раза ниже, чем в группе покупателей, не участвующих в ней. Такая тенденция отмечается за весь анализируемый период. . Мы определили, что в проанализированных данных 33,6% покупателей являются участниками программы лояльности.  Мы составили топ 10 покупателей, которые совершили покупку на наибольшую сумму за все анализируемое время и определили, что покупатель с customer_id = 20325 совершил покупок на общую сумму 149 182 рублей, при этом он не является участником программы лояльности. Из составленного топ 10 покупателей, которые совершили покупку на наибольшую сумму за все анализируемое время только 1 покупатель является участником программы лояльности, он находится на 6-м месте по сумме всех покупок и она составляет 46 293 рублей. Мы составили также топ 10 покупателей, которые чаще всех совершают покупки за все анализируемое время и определили, что чаще всего совершает покупки покупатель с customer_id = 20990, за весь рассматриваемый период - 517 покупок на общую сумму 27 579\tрублей, при этом он не является участником программы лояльности. Отметили, что из составленного  топ 10 покупателей,  которые чаще всех совершают покупки за все анализируемое время только  2 покупателя являются участниками программы лояльности, они занимают 6-е и 9-е  места в рейтинге. Рассчитали медианный средний чек и определили, что он выше у тех, кто не участвует в программе лояльности. У участников программы он составляет 162 рубля, у не участников программы 383 рублей. Мы определили, что покупатели, которые не участвуют в программе лояльности, совершают покупки чаще, хотя различие по этому признаку не так существенно, например в декабре участники программы лояльности совершили 1.76 покупок, остальные - 1.78, в январе различие заметнее: участники - 1.42, остальные покупатели - 1.61, в феврале: участники 1.45, остальные - 1.51. Мы посчитали среднее количество товаров в чеке,  у участников программы лояльности - 172, у тех, кто в ней не участвует - 193."
   ]
  },
  {
   "cell_type": "markdown",
   "id": "2045dbae",
   "metadata": {},
   "source": [
    "<a id=\"step5\"></a> \n",
    "## Проверка статистических гипотез"
   ]
  },
  {
   "cell_type": "markdown",
   "id": "f43abcdf",
   "metadata": {},
   "source": [
    "### Проверить гипотезу: средний чек участников программы лояльности выше, чем у остальных покупателей."
   ]
  },
  {
   "cell_type": "markdown",
   "id": "74a80af4",
   "metadata": {},
   "source": [
    "Проверим гипотезу: средний чек участников программы лояльности выше, чем у остальных покупателей.  \n",
    "\n",
    "**Н0** - средний чек участников программы (рассчитанный по медиане) равен среднему чеку  остальных покупателей    \n",
    "**Н1** - средний чек участников программы (рассчитанный по медиане) лояльности не равен, среднему чеку остальных покупателей"
   ]
  },
  {
   "cell_type": "markdown",
   "id": "c9890279",
   "metadata": {},
   "source": [
    "Выбор теста для проверки статистической гипотезы зависит от типа данных и условий задачи.\n",
    "Если данные в выборке распределены нормально и удовлетворяют условию гомоскедастичности (равенства дисперсий), то можно использовать t-тест. Если же данные не распределены нормально или не удовлетворяют условию гомоскедастичности, то можно использовать непараметрические тесты, такие как Манна-Уитни. Как мы будем проверять:\n",
    "- Первым шагом мы используем тест Шапиро-Уилка для проверки каждой группы на нормальность. \n",
    "- Затем мы используем тест Бартлетта для проверки гомоскедастичности между группами. \n",
    "- Выбираем тест для проверки статистической гипотезы. Если обе группы прошли тест на нормальность и тест на гомоскедастичность, мы выбираем тест Стьюдента для проверки равенства средних. Если хотя бы один тест не прошел, мы выбираем тест Манна-Уитни."
   ]
  },
  {
   "cell_type": "code",
   "execution_count": 342,
   "id": "bdae1746",
   "metadata": {},
   "outputs": [
    {
     "data": {
      "text/html": [
       "<div>\n",
       "<style scoped>\n",
       "    .dataframe tbody tr th:only-of-type {\n",
       "        vertical-align: middle;\n",
       "    }\n",
       "\n",
       "    .dataframe tbody tr th {\n",
       "        vertical-align: top;\n",
       "    }\n",
       "\n",
       "    .dataframe thead th {\n",
       "        text-align: right;\n",
       "    }\n",
       "</style>\n",
       "<table border=\"1\" class=\"dataframe\">\n",
       "  <thead>\n",
       "    <tr style=\"text-align: right;\">\n",
       "      <th></th>\n",
       "      <th>purchase_id</th>\n",
       "      <th>loyalty_program</th>\n",
       "      <th>purchase_date</th>\n",
       "      <th>shop_id</th>\n",
       "      <th>quantity</th>\n",
       "      <th>total</th>\n",
       "      <th>date</th>\n",
       "      <th>weekday</th>\n",
       "    </tr>\n",
       "  </thead>\n",
       "  <tbody>\n",
       "    <tr>\n",
       "      <th>0</th>\n",
       "      <td>536365</td>\n",
       "      <td>True</td>\n",
       "      <td>2016-12-01 08:26:00</td>\n",
       "      <td>Shop 0</td>\n",
       "      <td>33</td>\n",
       "      <td>133.15</td>\n",
       "      <td>2016-12-01</td>\n",
       "      <td>Thursday</td>\n",
       "    </tr>\n",
       "    <tr>\n",
       "      <th>1</th>\n",
       "      <td>536366</td>\n",
       "      <td>True</td>\n",
       "      <td>2016-12-01 08:28:00</td>\n",
       "      <td>Shop 0</td>\n",
       "      <td>10</td>\n",
       "      <td>19.80</td>\n",
       "      <td>2016-12-01</td>\n",
       "      <td>Thursday</td>\n",
       "    </tr>\n",
       "    <tr>\n",
       "      <th>2</th>\n",
       "      <td>536367</td>\n",
       "      <td>False</td>\n",
       "      <td>2016-12-01 08:34:00</td>\n",
       "      <td>Shop 0</td>\n",
       "      <td>68</td>\n",
       "      <td>387.35</td>\n",
       "      <td>2016-12-01</td>\n",
       "      <td>Thursday</td>\n",
       "    </tr>\n",
       "  </tbody>\n",
       "</table>\n",
       "</div>"
      ],
      "text/plain": [
       "  purchase_id  loyalty_program       purchase_date shop_id  quantity   total  \\\n",
       "0      536365             True 2016-12-01 08:26:00  Shop 0        33  133.15   \n",
       "1      536366             True 2016-12-01 08:28:00  Shop 0        10   19.80   \n",
       "2      536367            False 2016-12-01 08:34:00  Shop 0        68  387.35   \n",
       "\n",
       "         date   weekday  \n",
       "0  2016-12-01  Thursday  \n",
       "1  2016-12-01  Thursday  \n",
       "2  2016-12-01  Thursday  "
      ]
     },
     "metadata": {},
     "output_type": "display_data"
    }
   ],
   "source": [
    "#Таблица data_purchase_id представляет собой данные по совершенным покупкам, в ней данные объединены по чекам. \n",
    "display(data_purchase_id.head(3))"
   ]
  },
  {
   "cell_type": "code",
   "execution_count": 343,
   "id": "898f3127",
   "metadata": {},
   "outputs": [
    {
     "name": "stdout",
     "output_type": "stream",
     "text": [
      "Данные не распределены нормально или не удовлетворяют условию гомоскедастичности, рекомендуется использовать тест Манна-Уитни\n"
     ]
    }
   ],
   "source": [
    "# установим уровень альфа\n",
    "alpha = 0.05\n",
    "#Разделим данные на две группы в зависимости от принадлежности покупателя к программе лояльности\n",
    "loyalty_program_bill = data_purchase_id [data_purchase_id ['loyalty_program']==True]['total']\n",
    "other_customers_bill = data_purchase_id [data_purchase_id ['loyalty_program']==False]['total']\n",
    "\n",
    "# проверяем нормальность\n",
    "_, p1 = shapiro(loyalty_program_bill)\n",
    "_, p2 = shapiro(other_customers_bill)\n",
    "# проверяем гомоскедастичность (тест Бартлетта для проверки гомоскедастичности)\n",
    "_, p_bp = bartlett(loyalty_program_bill , other_customers_bill)\n",
    "\n",
    "# выводим рекомендацию\n",
    "if p1 > alpha and p2 > alpha  and p_bp > alpha:\n",
    "    print('Данные распределены нормально и удовлетворяют условию гомоскедастичности, можно использовать t-test')\n",
    "else:\n",
    "    print('Данные не распределены нормально или не удовлетворяют условию гомоскедастичности, рекомендуется использовать тест Манна-Уитни')"
   ]
  },
  {
   "cell_type": "markdown",
   "id": "cddad28e",
   "metadata": {},
   "source": [
    "Тест Манна-Уитни используется для проверки гипотезы о равенстве медиан двух независимых выборок."
   ]
  },
  {
   "cell_type": "code",
   "execution_count": 344,
   "id": "c4c4f841",
   "metadata": {},
   "outputs": [
    {
     "name": "stdout",
     "output_type": "stream",
     "text": [
      "Существует статистически значимая разница между медианами двух выборок\n"
     ]
    }
   ],
   "source": [
    "# Применяем тест Манна-Уитни\n",
    "stat, p = mannwhitneyu(loyalty_program_bill, other_customers_bill, alternative='two-sided')\n",
    "\n",
    "# Выводим результаты\n",
    "if p < alpha:\n",
    "    print('Существует статистически значимая разница между медианами двух выборок')\n",
    "else:\n",
    "    print('Между медианами двух выборок нет статистически значимой разницы')"
   ]
  },
  {
   "cell_type": "markdown",
   "id": "0ff058ab",
   "metadata": {},
   "source": [
    "**Вывод:** Мы проверяли гипотезу о том, что средний чек участников программы  равен среднему чеку остальных покупателей. Сначала мы сформулировали нулевую и альтернативные гипотезы.**Н0** - средний чек участников программы (рассчитанный по медиане) равен среднему чеку  остальных покупателей. **Н1** - средний чек участников программы (рассчитанный по медиане) лояльности не равен, среднему чеку остальных покупателей. Далее мы определили какой тест будем использовать для проверки гипотезы. Поскольку данные не распределены нормально или не удовлетворяют условию гомоскедастичности, то мы будем использовать тест Манна-Уитни.\n",
    "Мы выполнили тест Манна-Уитни и сделали вывод о том, что медианы двух выборок статистически значимо различаются, и можно отклонить нулевую гипотезу о равенстве медиан. Соответственно мы принимаем гипотезу **Н1** - средний чек участников программы (рассчитанный по медиане) лояльности не равен, среднему чеку остальных покупателей."
   ]
  },
  {
   "cell_type": "markdown",
   "id": "f62b2739",
   "metadata": {},
   "source": [
    "### Проверить гипотезу: ACV за месяц участников программы лояльности равен ACV остальных покупателей. "
   ]
  },
  {
   "cell_type": "markdown",
   "id": "fb534deb",
   "metadata": {},
   "source": [
    "Проверим гипотезу: ACV (Average Сustomer Value) за месяц участников программы лояльности выше, чем у остальных покупателей.      \n",
    "**Н0** - ACV за месяц участников программы лояльности равена ACV остальных покупателей.   \n",
    "**Н1** - ACV  за месяц участников программы лояльности не равена ACV остальных покупателей."
   ]
  },
  {
   "cell_type": "code",
   "execution_count": 345,
   "id": "3a6b76c8",
   "metadata": {},
   "outputs": [
    {
     "name": "stdout",
     "output_type": "stream",
     "text": [
      "Данные не распределены нормально или не удовлетворяют условию гомоскедастичности, рекомендуется использовать тест Манна-Уитни\n"
     ]
    }
   ],
   "source": [
    "# установим уровень альфа\n",
    "alpha = 0.05\n",
    "\n",
    "#Разделим данные на две группы в зависимости от принадлежности покупателя к программе лояльности\n",
    "loyalty_program_ACV = grouped_data [grouped_data ['loyalty_program']==True]['total']\n",
    "other_customers_ACV = grouped_data[grouped_data['loyalty_program']==False]['total']\n",
    "# проверяем нормальность\n",
    "_, p3 = shapiro(loyalty_program_ACV)\n",
    "_, p4 = shapiro(other_customers_ACV)\n",
    "# проверяем гомоскедастичность (тест Бартлетта для проверки гомоскедастичности)\n",
    "_, p_bp = bartlett(loyalty_program_ACV,other_customers_ACV)\n",
    "\n",
    "# выводим рекомендацию\n",
    "if p3 > alpha and p4 > alpha  and p_bp > alpha:\n",
    "    print('Данные распределены нормально и удовлетворяют условию гомоскедастичности, можно использовать t-test')\n",
    "else:\n",
    "    print('Данные не распределены нормально или не удовлетворяют условию гомоскедастичности, рекомендуется использовать тест Манна-Уитни')"
   ]
  },
  {
   "cell_type": "code",
   "execution_count": 346,
   "id": "19f9b246",
   "metadata": {},
   "outputs": [
    {
     "name": "stdout",
     "output_type": "stream",
     "text": [
      "Существует статистически значимая разница между медианами двух выборок\n"
     ]
    }
   ],
   "source": [
    "# Применяем тест Манна-Уитни\n",
    "stat, p = mannwhitneyu(loyalty_program_ACV, other_customers_ACV, alternative='two-sided')\n",
    "\n",
    "# Выводим результаты\n",
    "if p < alpha :\n",
    "    print('Существует статистически значимая разница между медианами двух выборок')\n",
    "else:\n",
    "    print('Между медианами двух выборок нет статистически значимой разницы')"
   ]
  },
  {
   "cell_type": "markdown",
   "id": "907b49fe",
   "metadata": {},
   "source": [
    "**Вывод:** Мы проверяли гипотезу о том, ACV (Average Сustomer Value) за месяц участников программы лояльности равно ACV  остальных покупателей. Сначала мы сформулировали нулевую и альтернативные гипотезы. Н0 - ACV за месяц участников программы лояльности равен ACV остальных покупателей. Н1 - ACV за месяц участников программы лояльности не равен ACV остальных покупателей. Далее мы определили какой тест будем использовать для проверки гипотезы. Поскольку данные не распределены нормально или не удовлетворяют условию гомоскедастичности, то мы будем использовать тест Манна-Уитни.\n",
    "Мы выполнили тест Манна-Уитни и сделали вывод о том, что медианы двух выборок статистически значимо различаются, и можно отклонить нулевую гипотезу. Соответственно мы принимаем гипотезу Н1 - ACV за месяц участников программы лояльности не равен ACV  остальных покупателей."
   ]
  },
  {
   "cell_type": "markdown",
   "id": "d6dea211",
   "metadata": {},
   "source": [
    "<a id=\"step6\"></a> \n",
    "## Выводы и рекомендации для заказчика по результатам проведенного исследования\n",
    "**Общие выводы и рекомендации по результатам проведенного исследования:** \n",
    "- В ходе проведения исследовательского анализа, мы обратили внимание на то, что для одной и той же единицы товара указаны разные цены. И предположили, что в таблице со стоимостью единицы товара не хватает информации о том, является ли данная цена стоимостью единицы товара для участников программы лояльности или нет. Мы раздели стоимости единицы товара на 2 группы : для участника (ниже медианы) и для остальных покупателей (выше медианы), для каждого товара посчитали среднее значение в каждой группе, эти стоимости мы использовали в дальнейших расчетах.\n",
    "- Мы рассчитали средний чек по всем покупкам равен 774 рублей, медианный чек равен 285 рублей\n",
    "- Мы проанализировали количество чеков по дням, за весь период. Больше всего покупок приходится на месяц декабрь, а именно до 23 декабря. С 23 декабря по 4 января покупок нет вообще, далее покупательская активность ниже, чем в первых 2-х декадах декабря\n",
    "- Мы рассчитали, что в среднем покупатели приобретают 187 товаров за одну покупку\n",
    "- Мы пришли к выводу, что реже всего в данной сети магазинов покупки совершают в понедельник, чаще всего в пятницу. В воскресенье нет покупок, видимо, в этот день магазин закрыт\n",
    "- Анализ показал, что большинство покупок совершено в магазине, который в анализируемой базе носит название Shop 0\n",
    "\n",
    "**Выводы и рекомендации по применяемой программе лояльности:**\n",
    "- За основную метрику мы выбрали LTV (Lifetime Value) — пожизненную ценность клиента, мы рассчитали эту метрику за 60 дней для каждого клиента. Далее рассчитали среднее в зависимости от участия в программе лояльности. Среднее LTV для участника программы лояльности (рассчитанное по среднему значению) 1028 рубля, для остальных покупателей - 1821 рублей, среднее LTV для участника программы лояльности (рассчитанное по медиане) 694 рубля, для остальных покупателей - 676 рублей.\n",
    "- Мы рассчитали упущенную выгоду от применения программы лояльности. Сделали расчет, чтобы понять какую выручку мы бы могли получить, если бы реализовывали товары участникам программы лояльности без скидок. Получили сумму 999 084 рублей. Далее  мы посчитали реальную выручку (выручка от продажи товаров + выручка от ежемесячной оплаты за участие в программе лояльности), она составила 754 635, таким образом мы посчитали, что упущенная выгода равна 244 449 рублей.\n",
    "- В проанализированных данных 33,6% покупателей являются участниками программы лояльности.\n",
    "- Мы рассчитали ACV (Average Сustomer Value) за месяц - средний доход, от каждого покупателя за месяц. Рассчитав и проанализировав данную метрику, мы пришли к выводу, что средний доход от покупателя за месяц (ACV  за месяц) в группе участников программы лояльности почти в 2 раза ниже, чем в группе покупателей, не участвующих в ней. Такая тенденция отмечается за весь анализируемый период. В декабре ACV участников программы 744 рубля, у остальных покупателей - 1406 рублей, в январе: у участников ACV равен 660 рублей, у тех кто не участвует - 1498 рублей, в феврале: у участников - 696 рублей, у остальных покупателей - 1440 рублей. \n",
    "- В ходе  проведенного анализа мы пришли к заключению о том, что участники программы лояльности не совершают покупки чаще, чем остальные покупатели, даже наоборот, например в декабре участники программы лояльности совершили в среднем 1.76 покупок, остальные - 1.78, в январе различие заметнее: участники - 1.42, остальные покупатели - 1.61, в феврале: участники 1.45, остальные - 1.51.\n",
    "- Исходя из проведенного анализа установлено, что участие в программе лояльности не стимулирует потребителя совершать покупки  на большую сумму. Нами было установлено, что средний чек участников программы лояльности не выше, чем у остальных покупателей. Как раз наоборот, медианный средний чек выше у тех, что не участвует в программе лояльности. У участников программы он составляет 162 рубля, у не участников программы 383 рублей\n",
    "- Среднее количество товаров в чеке у участников программы лояльности 172, у тех, кто в ней не участвует - 193.\n",
    "- Мы составили топ 10 покупателей, с наибольшим числом покупок за все анализируемое время и определили, что больше всего покупок сделал покупатель с customer_id = 20990, за весь рассматриваемый период - 517 покупок на общую сумму 27 579 рублей, при этом он не является участником программы лояльности. Можно отметить тот факт, что из составленного топ 10 покупателей, которые больше всех совершают покупки за все анализируемое время только 2 покупателя являются участниками программы лояльности, они занимают 6-е и 9-е места в рейтинге.\n",
    "- Мы составили топ 10 покупателей, с наибольшей суммой покупок за все анализируемое время и определили, что покупатель с customer_id = 20325 совершил покупок на общую сумму 149 182 рублей, при этом он не является участником программы лояльности. Можно отметить тот факт, что из составленного топ 10 покупателей, которые совершили покупку на наибольшую сумму за все анализируемое время только 1 покупатель является участником программы лояльности, он находится на 6-м месте по сумме всех покупок и она составляет 46 293 рублей.\n",
    "- Мы построили кривые удержания по участию в программе лояльности. На графике мы отметили, что начиная со второго по шестой день жизни лучше удерживаются клиенты которые участвуют в программе лояльности, начиная с 10 - го дня жизни выше коэффициент удержания у тех, кто не участвует в программе лояльности. В целом, коэффициенты удержания у покупателей довольно низкие (3-4 %). Скорее всего это связано с отраслевой особенностью бизнеса. Поскольку не так часто покупатели не так часто приобретают строительные материалы.\n",
    "-  Мы проверяли гипотезу о том, что средний чек участников программы равен среднему чеку остальных покупателей. Сначала мы сформулировали нулевую и альтернативные гипотезы.Н0 - средний чек участников программы (рассчитанный по медиане) равен среднему чеку остальных покупателей. Н1 - средний чек участников программы (рассчитанный по медиане) лояльности не равен, среднему чеку остальных покупателей. Далее мы определили какой тест будем использовать для проверки гипотезы. Поскольку данные не распределены нормально или не удовлетворяют условию гомоскедастичности, то мы будем использовать тест Манна-Уитни. Мы выполнили тест Манна-Уитни и сделали вывод о том, что медианы двух выборок статистически значимо различаются, и можно отклонить нулевую гипотезу о равенстве медиан. Соответственно мы принимаем гипотезу Н1 - средний чек участников программы (рассчитанный по медиане) лояльности не равен, среднему чеку остальных покупателей.\n",
    "- Мы проверяли гипотезу о том, ACV (Average Сustomer Value) за месяц участников программы лояльности равно ACV остальных покупателей. Сначала мы сформулировали нулевую и альтернативные гипотезы. Н0 - ACV за месяц участников программы лояльности равен ACV остальных покупателей. Н1 - ACV за месяц участников программы лояльности не равен ACV остальных покупателей. Далее мы определили какой тест будем использовать для проверки гипотезы. Поскольку данные не распределены нормально или не удовлетворяют условию гомоскедастичности, то мы будем использовать тест Манна-Уитни. Мы выполнили тест Манна-Уитни и сделали вывод о том, что медианы двух выборок статистически значимо различаются, и можно отклонить нулевую гипотезу. Соответственно мы принимаем гипотезу Н1 - ACV за месяц участников программы лояльности не равен ACV остальных покупателей.\n",
    "\n",
    "**Рекомендации по модернизации программы лояльности:**  \n",
    "Программы  лояльности клиентов являются маркетинговыми инструментами, используемыми компаниями для мотивации постоянных клиентов. Их грамотное использование, несомненно должно стимулировать спрос на товар. Однако неправильно подобранная программа лояльности может нанести финансовый ущерб компании. Таким образом, при проработке программы лояльности следует найти оптимальный баланс между поощрением клиентов и реализацией основной цели существования коммерческой организации - извлечения прибыли. Мы полагаем, что следует пересмотреть применяемую программ лояльности. Таким образом, мы считаем, что целесообразно для участников программы лояльности применять накопительную скидку, размер которой растет в зависимости от накопленной суммы. Мы считаем, что для разработки  новой программы лояльности следует проанализировать данные за более длительный период времен. Необходимо учесть фактор сезонности бизнеса. \n",
    "\n",
    "\n",
    "**Рекомендации в случае дальнейшего сбора информации для анализа:**  \n",
    "- Мы полагаем, что если какая-то единица товара в рамках проводимой акции дается в подарок, то такой \"бесплатный товар\" следует маркировать как подарок.\n",
    "- В реестре стоимостей товаров следует делать отметку о том, что эта стоимость с дисконтом - для участника программы лояльности или стоимость для обычного покупателя.\n",
    " \n",
    "Выполнение данных рекомендаций позволят получить более достоверные и полные данные для дальнейшего анализа\n",
    "\n"
   ]
  }
 ],
 "metadata": {
  "ExecuteTimeLog": [
   {
    "duration": 102,
    "start_time": "2023-05-10T06:09:18.183Z"
   },
   {
    "duration": 1800,
    "start_time": "2023-05-10T06:10:23.120Z"
   },
   {
    "duration": 337,
    "start_time": "2023-05-10T06:10:24.922Z"
   },
   {
    "duration": 24,
    "start_time": "2023-05-10T06:10:25.261Z"
   },
   {
    "duration": 46,
    "start_time": "2023-05-10T06:10:25.287Z"
   },
   {
    "duration": 73,
    "start_time": "2023-05-10T06:10:25.335Z"
   },
   {
    "duration": 644,
    "start_time": "2023-05-10T06:10:25.410Z"
   },
   {
    "duration": 16,
    "start_time": "2023-05-10T06:10:26.057Z"
   },
   {
    "duration": 19,
    "start_time": "2023-05-10T06:10:26.076Z"
   },
   {
    "duration": 35,
    "start_time": "2023-05-10T06:10:26.097Z"
   },
   {
    "duration": 19,
    "start_time": "2023-05-10T06:10:26.142Z"
   },
   {
    "duration": 40,
    "start_time": "2023-05-10T06:10:26.162Z"
   },
   {
    "duration": 118,
    "start_time": "2023-05-10T06:10:26.203Z"
   },
   {
    "duration": 6,
    "start_time": "2023-05-10T06:10:26.324Z"
   },
   {
    "duration": 61,
    "start_time": "2023-05-10T06:10:26.332Z"
   },
   {
    "duration": 140,
    "start_time": "2023-05-10T06:10:26.395Z"
   },
   {
    "duration": 27,
    "start_time": "2023-05-10T06:10:26.540Z"
   },
   {
    "duration": 32,
    "start_time": "2023-05-10T06:10:26.569Z"
   },
   {
    "duration": 62,
    "start_time": "2023-05-10T06:10:26.603Z"
   },
   {
    "duration": 165,
    "start_time": "2023-05-10T06:10:26.668Z"
   },
   {
    "duration": 8,
    "start_time": "2023-05-10T06:10:26.836Z"
   },
   {
    "duration": 52,
    "start_time": "2023-05-10T06:10:26.846Z"
   },
   {
    "duration": 106,
    "start_time": "2023-05-10T06:10:26.901Z"
   },
   {
    "duration": 212,
    "start_time": "2023-05-10T06:10:27.009Z"
   },
   {
    "duration": 26,
    "start_time": "2023-05-10T06:10:27.224Z"
   },
   {
    "duration": 33,
    "start_time": "2023-05-10T06:10:27.253Z"
   },
   {
    "duration": 19,
    "start_time": "2023-05-10T06:10:27.288Z"
   },
   {
    "duration": 119,
    "start_time": "2023-05-10T06:10:27.309Z"
   },
   {
    "duration": 30,
    "start_time": "2023-05-10T06:10:27.433Z"
   },
   {
    "duration": 45,
    "start_time": "2023-05-10T06:10:27.465Z"
   },
   {
    "duration": 65,
    "start_time": "2023-05-10T06:10:27.512Z"
   },
   {
    "duration": 62,
    "start_time": "2023-05-10T06:10:27.579Z"
   },
   {
    "duration": 7,
    "start_time": "2023-05-10T06:10:27.644Z"
   },
   {
    "duration": 29,
    "start_time": "2023-05-10T06:10:27.652Z"
   },
   {
    "duration": 973,
    "start_time": "2023-05-10T06:10:27.683Z"
   },
   {
    "duration": 4,
    "start_time": "2023-05-10T06:10:28.658Z"
   },
   {
    "duration": 84,
    "start_time": "2023-05-10T06:10:28.664Z"
   },
   {
    "duration": 55,
    "start_time": "2023-05-10T06:10:28.751Z"
   },
   {
    "duration": 41,
    "start_time": "2023-05-10T06:10:28.807Z"
   },
   {
    "duration": 63,
    "start_time": "2023-05-10T06:10:28.849Z"
   },
   {
    "duration": 299,
    "start_time": "2023-05-10T06:10:28.914Z"
   },
   {
    "duration": 32,
    "start_time": "2023-05-10T06:10:29.215Z"
   },
   {
    "duration": 42,
    "start_time": "2023-05-10T06:10:29.249Z"
   },
   {
    "duration": 87,
    "start_time": "2023-05-10T06:10:29.293Z"
   },
   {
    "duration": 22,
    "start_time": "2023-05-10T06:10:29.382Z"
   },
   {
    "duration": 85,
    "start_time": "2023-05-10T06:10:29.406Z"
   },
   {
    "duration": 185,
    "start_time": "2023-05-10T06:10:29.493Z"
   },
   {
    "duration": 65,
    "start_time": "2023-05-10T06:10:29.680Z"
   },
   {
    "duration": 42,
    "start_time": "2023-05-10T06:10:29.747Z"
   },
   {
    "duration": 66,
    "start_time": "2023-05-10T06:10:29.791Z"
   },
   {
    "duration": 23,
    "start_time": "2023-05-10T06:10:29.858Z"
   },
   {
    "duration": 13,
    "start_time": "2023-05-10T06:10:29.883Z"
   },
   {
    "duration": 23,
    "start_time": "2023-05-10T06:10:29.898Z"
   },
   {
    "duration": 4,
    "start_time": "2023-05-10T06:10:29.943Z"
   },
   {
    "duration": 63,
    "start_time": "2023-05-10T06:10:29.949Z"
   },
   {
    "duration": 52,
    "start_time": "2023-05-10T06:10:30.014Z"
   },
   {
    "duration": 324,
    "start_time": "2023-05-10T06:10:30.068Z"
   },
   {
    "duration": 17,
    "start_time": "2023-05-10T06:10:30.394Z"
   },
   {
    "duration": 93,
    "start_time": "2023-05-10T06:10:30.413Z"
   },
   {
    "duration": 115,
    "start_time": "2023-05-10T06:10:30.507Z"
   },
   {
    "duration": 66,
    "start_time": "2023-05-10T06:10:30.624Z"
   },
   {
    "duration": 52,
    "start_time": "2023-05-10T06:10:30.692Z"
   },
   {
    "duration": 73,
    "start_time": "2023-05-10T06:10:30.746Z"
   },
   {
    "duration": 130,
    "start_time": "2023-05-10T06:10:30.821Z"
   },
   {
    "duration": 67,
    "start_time": "2023-05-10T06:10:30.953Z"
   },
   {
    "duration": 117,
    "start_time": "2023-05-10T06:10:31.022Z"
   },
   {
    "duration": 99,
    "start_time": "2023-05-10T06:10:31.141Z"
   },
   {
    "duration": 43,
    "start_time": "2023-05-10T06:10:31.242Z"
   },
   {
    "duration": 56,
    "start_time": "2023-05-10T06:10:31.287Z"
   },
   {
    "duration": 97,
    "start_time": "2023-05-10T06:10:31.345Z"
   },
   {
    "duration": 42,
    "start_time": "2023-05-10T06:10:31.444Z"
   },
   {
    "duration": 33,
    "start_time": "2023-05-10T06:10:31.489Z"
   }
  ],
  "kernelspec": {
   "display_name": "Python 3 (ipykernel)",
   "language": "python",
   "name": "python3"
  },
  "language_info": {
   "codemirror_mode": {
    "name": "ipython",
    "version": 3
   },
   "file_extension": ".py",
   "mimetype": "text/x-python",
   "name": "python",
   "nbconvert_exporter": "python",
   "pygments_lexer": "ipython3",
   "version": "3.9.13"
  },
  "toc": {
   "base_numbering": 1,
   "nav_menu": {},
   "number_sections": true,
   "sideBar": true,
   "skip_h1_title": true,
   "title_cell": "Table of Contents",
   "title_sidebar": "Contents",
   "toc_cell": true,
   "toc_position": {},
   "toc_section_display": true,
   "toc_window_display": false
  }
 },
 "nbformat": 4,
 "nbformat_minor": 5
}
